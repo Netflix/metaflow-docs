{
 "cells": [
  {
   "cell_type": "markdown",
   "id": "eb7388b6",
   "metadata": {},
   "source": [
    "# FlowSpec - Constructing flows"
   ]
  },
  {
   "cell_type": "markdown",
   "id": "576777f8",
   "metadata": {},
   "source": [
    "Metaflow [flows are defined](/metaflow/basics) by inhering from the `FlowSpec` class:\n",
    "```python\n",
    "from metaflow import FlowSpec, step\n",
    "\n",
    "class MyFlow(FlowSpec):\n",
    "\n",
    "    @step\n",
    "    def start(self):\n",
    "        self.next(self.end)\n",
    "       \n",
    "    @step\n",
    "    def end(self):\n",
    "        pass\n",
    "\n",
    "if __name__ == '__main__':\n",
    "    MyFlow()\n",
    "```\n",
    "\n",
    "This class has no other uses. It can't be instantiated directly.\n",
    "\n",
    "`FlowSpec` exposes a few methods and attributes that you can use to construct a flow, which are listed below. You can add more functionality in your flows through [step-level decorators](step-decorators) and [flow-level decorators](flow-decorators).\n",
    "\n",
    "You can parametrize flows through the [`Parameter`](#parameters) object that are defined as class variables inside a flow. You can also include files as parameters through the [`IncludeFile`](#includefile) object.\n",
    "\n",
    "To query and manipulate the currently executing run inside your flow, see the [`current`](current) object. To access results produced by a flow, see the [Client API](client)."
   ]
  },
  {
   "cell_type": "code",
   "execution_count": 1,
   "id": "a5ef9454",
   "metadata": {
    "execution": {
     "iopub.execute_input": "2024-11-05T04:49:39.993012Z",
     "iopub.status.busy": "2024-11-05T04:49:39.992831Z",
     "iopub.status.idle": "2024-11-05T04:49:40.297574Z",
     "shell.execute_reply": "2024-11-05T04:49:40.297246Z"
    }
   },
   "outputs": [
    {
     "data": {
      "text/plain": [
       "'0.0.82'"
      ]
     },
     "execution_count": 1,
     "metadata": {},
     "output_type": "execute_result"
    }
   ],
   "source": [
    "#meta:tag=hide\n",
    "from functools import partial\n",
    "from nbdoc.showdoc import ShowDoc\n",
    "ShowDoc = partial(ShowDoc, module_nm='metaflow')\n",
    "from metaflow import FlowSpec, Parameter, IncludeFile\n",
    "import nbdoc\n",
    "nbdoc.__version__"
   ]
  },
  {
   "cell_type": "markdown",
   "id": "5eb37ad8",
   "metadata": {},
   "source": [
    "## Defining a workflow"
   ]
  },
  {
   "cell_type": "markdown",
   "id": "6437a330",
   "metadata": {},
   "source": [
    "Annotate methods that are a part of your Metaflow workflow with [the `@step` decorator](/api/step-decorators/step). Use `FlowSpec.next` to define transitions between steps:"
   ]
  },
  {
   "cell_type": "code",
   "execution_count": 2,
   "id": "5ff62112",
   "metadata": {
    "execution": {
     "iopub.execute_input": "2024-11-05T04:49:40.300873Z",
     "iopub.status.busy": "2024-11-05T04:49:40.300661Z",
     "iopub.status.idle": "2024-11-05T04:49:40.306595Z",
     "shell.execute_reply": "2024-11-05T04:49:40.306262Z"
    }
   },
   "outputs": [
    {
     "data": {
      "text/html": [
       "<HTMLRemove>\n",
       "<h4> <code>method</code> <span style=\"color:Brown\">FlowSpec.next</span> <em>*dsts, foreach=None</em><a href=\"https://github.com/Netflix/metaflow/tree/master/metaflow/flowspec.py#L556\" style=\"float:right\">[source]</a></h4><p><blockquote>Indicates&nbsp;the&nbsp;next&nbsp;step&nbsp;to&nbsp;execute&nbsp;after&nbsp;this&nbsp;step&nbsp;has&nbsp;completed.<br><br>This&nbsp;statement&nbsp;should&nbsp;appear&nbsp;as&nbsp;the&nbsp;last&nbsp;statement&nbsp;of&nbsp;each&nbsp;step,&nbsp;except<br>the&nbsp;end&nbsp;step.<br><br>There&nbsp;are&nbsp;several&nbsp;valid&nbsp;formats&nbsp;to&nbsp;specify&nbsp;the&nbsp;next&nbsp;step:<br><br>-&nbsp;Straight-line&nbsp;connection:&nbsp;`self.next(self.next_step)`&nbsp;where&nbsp;`next_step`&nbsp;is&nbsp;a&nbsp;method&nbsp;in<br>&nbsp;&nbsp;the&nbsp;current&nbsp;class&nbsp;decorated&nbsp;with&nbsp;the&nbsp;`@step`&nbsp;decorator.<br><br>-&nbsp;Static&nbsp;fan-out&nbsp;connection:&nbsp;`self.next(self.step1,&nbsp;self.step2,&nbsp;...)`&nbsp;where&nbsp;`stepX`&nbsp;are<br>&nbsp;&nbsp;methods&nbsp;in&nbsp;the&nbsp;current&nbsp;class&nbsp;decorated&nbsp;with&nbsp;the&nbsp;`@step`&nbsp;decorator.<br><br>-&nbsp;Foreach&nbsp;branch:<br>&nbsp;&nbsp;```<br>&nbsp;&nbsp;self.next(self.foreach_step,&nbsp;foreach='foreach_iterator')<br>&nbsp;&nbsp;```<br>&nbsp;&nbsp;In&nbsp;this&nbsp;situation,&nbsp;`foreach_step`&nbsp;is&nbsp;a&nbsp;method&nbsp;in&nbsp;the&nbsp;current&nbsp;class&nbsp;decorated&nbsp;with&nbsp;the<br>&nbsp;&nbsp;`@step`&nbsp;decorator&nbsp;and&nbsp;`foreach_iterator`&nbsp;is&nbsp;a&nbsp;variable&nbsp;name&nbsp;in&nbsp;the&nbsp;current&nbsp;class&nbsp;that<br>&nbsp;&nbsp;evaluates&nbsp;to&nbsp;an&nbsp;iterator.&nbsp;A&nbsp;task&nbsp;will&nbsp;be&nbsp;launched&nbsp;for&nbsp;each&nbsp;value&nbsp;in&nbsp;the&nbsp;iterator&nbsp;and<br>&nbsp;&nbsp;each&nbsp;task&nbsp;will&nbsp;execute&nbsp;the&nbsp;code&nbsp;specified&nbsp;by&nbsp;the&nbsp;step&nbsp;`foreach_step`.<br><br>Parameters<br>----------<br>dsts&nbsp;:&nbsp;Callable[...,&nbsp;None]<br>&nbsp;&nbsp;&nbsp;&nbsp;One&nbsp;or&nbsp;more&nbsp;methods&nbsp;annotated&nbsp;with&nbsp;`@step`.<br><br>Raises<br>------<br>InvalidNextException<br>&nbsp;&nbsp;&nbsp;&nbsp;Raised&nbsp;if&nbsp;the&nbsp;format&nbsp;of&nbsp;the&nbsp;arguments&nbsp;does&nbsp;not&nbsp;match&nbsp;one&nbsp;of&nbsp;the&nbsp;ones&nbsp;given&nbsp;above.</blockquote></p>\n",
       "</HTMLRemove>\n",
       "<DocSection type=\"method\" name=\"FlowSpec.next\" module=\"metaflow\" show_import=\"False\" heading_level=\"4\" link=\"https://github.com/Netflix/metaflow/tree/master/metaflow/flowspec.py#L556\">\n",
       "<SigArgSection>\n",
       "<SigArg name=\"*dsts, foreach=None\" />\n",
       "</SigArgSection>\n",
       "<Description summary=\"Indicates the next step to execute after this step has completed.\" extended_summary=\"This statement should appear as the last statement of each step, except\\nthe end step.\\n\\nThere are several valid formats to specify the next step:\\n\\n- Straight-line connection: `self.next(self.next_step)` where `next_step` is a method in\\n  the current class decorated with the `@step` decorator.\\n\\n- Static fan-out connection: `self.next(self.step1, self.step2, ...)` where `stepX` are\\n  methods in the current class decorated with the `@step` decorator.\\n\\n- Foreach branch:\\n  ```\\n  self.next(self.foreach_step, foreach='foreach_iterator')\\n  ```\\n  In this situation, `foreach_step` is a method in the current class decorated with the\\n  `@step` decorator and `foreach_iterator` is a variable name in the current class that\\n  evaluates to an iterator. A task will be launched for each value in the iterator and\\n  each task will execute the code specified by the step `foreach_step`.\" />\n",
       "<ParamSection name=\"Parameters\">\n",
       "\t<Parameter name=\"dsts\" type=\"Callable[..., None]\" desc=\"One or more methods annotated with `@step`.\" />\n",
       "</ParamSection>\n",
       "<ParamSection name=\"Raises\">\n",
       "\t<Parameter type=\"InvalidNextException\" desc=\"Raised if the format of the arguments does not match one of the ones given above.\" />\n",
       "</ParamSection>\n",
       "</DocSection>"
      ],
      "text/plain": [
       "<nbdoc.showdoc.ShowDoc at 0x106302980>"
      ]
     },
     "execution_count": 2,
     "metadata": {},
     "output_type": "execute_result"
    }
   ],
   "source": [
    "ShowDoc(FlowSpec.next, spoofstr=('*dsts, foreach=None'))"
   ]
  },
  {
   "cell_type": "markdown",
   "id": "0a58fbeb",
   "metadata": {},
   "source": [
    "## Working with foreaches\n",
    "\n",
    "Use the operations below, `FlowSpec.input`, `FlowSpec.index`, and `FlowSpec.foreach_stack` to query the status of the currently executing foreach branch. Use `FlowSpec.merge_artifacts()` to handle incoming artifacts in a join step."
   ]
  },
  {
   "cell_type": "code",
   "execution_count": 3,
   "id": "64fcbf33",
   "metadata": {
    "execution": {
     "iopub.execute_input": "2024-11-05T04:49:40.309426Z",
     "iopub.status.busy": "2024-11-05T04:49:40.309284Z",
     "iopub.status.idle": "2024-11-05T04:49:40.311666Z",
     "shell.execute_reply": "2024-11-05T04:49:40.311362Z"
    }
   },
   "outputs": [
    {
     "data": {
      "text/html": [
       "<HTMLRemove>\n",
       "<h4> <code>property</code> <span style=\"color:Brown\">FlowSpec.input</span> <em></em><a href=\"https://github.com/Netflix/metaflow/tree/master/\" style=\"float:right\">[source]</a></h4><p><blockquote>The&nbsp;value&nbsp;of&nbsp;the&nbsp;foreach&nbsp;artifact&nbsp;in&nbsp;this&nbsp;foreach&nbsp;branch.<br><br>In&nbsp;a&nbsp;foreach&nbsp;step,&nbsp;multiple&nbsp;instances&nbsp;of&nbsp;this&nbsp;step&nbsp;(tasks)&nbsp;will&nbsp;be&nbsp;executed,<br>one&nbsp;for&nbsp;each&nbsp;element&nbsp;in&nbsp;the&nbsp;foreach.&nbsp;This&nbsp;property&nbsp;returns&nbsp;the&nbsp;element&nbsp;passed<br>to&nbsp;the&nbsp;current&nbsp;task.&nbsp;If&nbsp;this&nbsp;is&nbsp;not&nbsp;a&nbsp;foreach&nbsp;step,&nbsp;this&nbsp;returns&nbsp;None.<br><br>If&nbsp;you&nbsp;need&nbsp;to&nbsp;know&nbsp;the&nbsp;values&nbsp;of&nbsp;the&nbsp;parent&nbsp;tasks&nbsp;in&nbsp;a&nbsp;nested&nbsp;foreach,&nbsp;use<br>`FlowSpec.foreach_stack`.<br><br>Returns<br>-------<br>object,&nbsp;optional<br>&nbsp;&nbsp;&nbsp;&nbsp;Input&nbsp;passed&nbsp;to&nbsp;the&nbsp;foreach&nbsp;task.</blockquote></p>\n",
       "</HTMLRemove>\n",
       "<DocSection type=\"property\" name=\"FlowSpec.input\" module=\"metaflow.flowspec\" show_import=\"False\" heading_level=\"4\" link=\"https://github.com/Netflix/metaflow/tree/master/\">\n",
       "\n",
       "<Description summary=\"The value of the foreach artifact in this foreach branch.\\n\\nIn a foreach step, multiple instances of this step (tasks) will be executed,\\none for each element in the foreach. This property returns the element passed\\nto the current task. If this is not a foreach step, this returns None.\\n\\nIf you need to know the values of the parent tasks in a nested foreach, use\\n`FlowSpec.foreach_stack`.\\n\" />\n",
       "<ParamSection name=\"Returns\">\n",
       "<Parameter type=\"object, optional\" desc=\"Input passed to the foreach task.\" />\n",
       "</ParamSection>\n",
       "</DocSection>"
      ],
      "text/plain": [
       "<nbdoc.showdoc.ShowDoc at 0x106302c50>"
      ]
     },
     "execution_count": 3,
     "metadata": {},
     "output_type": "execute_result"
    }
   ],
   "source": [
    "ShowDoc(FlowSpec.input)"
   ]
  },
  {
   "cell_type": "code",
   "execution_count": 4,
   "id": "13dacb8d",
   "metadata": {
    "execution": {
     "iopub.execute_input": "2024-11-05T04:49:40.316437Z",
     "iopub.status.busy": "2024-11-05T04:49:40.316303Z",
     "iopub.status.idle": "2024-11-05T04:49:40.318852Z",
     "shell.execute_reply": "2024-11-05T04:49:40.318499Z"
    }
   },
   "outputs": [
    {
     "data": {
      "text/html": [
       "<HTMLRemove>\n",
       "<h4> <code>property</code> <span style=\"color:Brown\">FlowSpec.index</span> <em></em><a href=\"https://github.com/Netflix/metaflow/tree/master/\" style=\"float:right\">[source]</a></h4><p><blockquote>The&nbsp;index&nbsp;of&nbsp;this&nbsp;foreach&nbsp;branch.<br><br>In&nbsp;a&nbsp;foreach&nbsp;step,&nbsp;multiple&nbsp;instances&nbsp;of&nbsp;this&nbsp;step&nbsp;(tasks)&nbsp;will&nbsp;be&nbsp;executed,<br>one&nbsp;for&nbsp;each&nbsp;element&nbsp;in&nbsp;the&nbsp;foreach.&nbsp;This&nbsp;property&nbsp;returns&nbsp;the&nbsp;zero&nbsp;based&nbsp;index<br>of&nbsp;the&nbsp;current&nbsp;task.&nbsp;If&nbsp;this&nbsp;is&nbsp;not&nbsp;a&nbsp;foreach&nbsp;step,&nbsp;this&nbsp;returns&nbsp;None.<br><br>If&nbsp;you&nbsp;need&nbsp;to&nbsp;know&nbsp;the&nbsp;indices&nbsp;of&nbsp;the&nbsp;parent&nbsp;tasks&nbsp;in&nbsp;a&nbsp;nested&nbsp;foreach,&nbsp;use<br>`FlowSpec.foreach_stack`.<br><br>Returns<br>-------<br>int,&nbsp;optional<br>&nbsp;&nbsp;&nbsp;&nbsp;Index&nbsp;of&nbsp;the&nbsp;task&nbsp;in&nbsp;a&nbsp;foreach&nbsp;step.</blockquote></p>\n",
       "</HTMLRemove>\n",
       "<DocSection type=\"property\" name=\"FlowSpec.index\" module=\"metaflow.flowspec\" show_import=\"False\" heading_level=\"4\" link=\"https://github.com/Netflix/metaflow/tree/master/\">\n",
       "\n",
       "<Description summary=\"The index of this foreach branch.\\n\\nIn a foreach step, multiple instances of this step (tasks) will be executed,\\none for each element in the foreach. This property returns the zero based index\\nof the current task. If this is not a foreach step, this returns None.\\n\\nIf you need to know the indices of the parent tasks in a nested foreach, use\\n`FlowSpec.foreach_stack`.\\n\" />\n",
       "<ParamSection name=\"Returns\">\n",
       "<Parameter type=\"int, optional\" desc=\"Index of the task in a foreach step.\" />\n",
       "</ParamSection>\n",
       "</DocSection>"
      ],
      "text/plain": [
       "<nbdoc.showdoc.ShowDoc at 0x106302a70>"
      ]
     },
     "execution_count": 4,
     "metadata": {},
     "output_type": "execute_result"
    }
   ],
   "source": [
    "ShowDoc(FlowSpec.index)"
   ]
  },
  {
   "cell_type": "code",
   "execution_count": 5,
   "id": "684b4601",
   "metadata": {
    "execution": {
     "iopub.execute_input": "2024-11-05T04:49:40.322027Z",
     "iopub.status.busy": "2024-11-05T04:49:40.321826Z",
     "iopub.status.idle": "2024-11-05T04:49:40.325179Z",
     "shell.execute_reply": "2024-11-05T04:49:40.324893Z"
    }
   },
   "outputs": [
    {
     "data": {
      "text/html": [
       "<HTMLRemove>\n",
       "<h4> <code>method</code> <span style=\"color:Brown\">FlowSpec.foreach_stack</span> <em>(self) -> Optional[List[Tuple[int, int, Any]]]</em><a href=\"https://github.com/Netflix/metaflow/tree/master/metaflow/flowspec.py#L301\" style=\"float:right\">[source]</a></h4><p><blockquote>Returns&nbsp;the&nbsp;current&nbsp;stack&nbsp;of&nbsp;foreach&nbsp;indexes&nbsp;and&nbsp;values&nbsp;for&nbsp;the&nbsp;current&nbsp;step.<br><br>Use&nbsp;this&nbsp;information&nbsp;to&nbsp;understand&nbsp;what&nbsp;data&nbsp;is&nbsp;being&nbsp;processed&nbsp;in&nbsp;the&nbsp;current<br>foreach&nbsp;branch.&nbsp;For&nbsp;example,&nbsp;considering&nbsp;the&nbsp;following&nbsp;code:<br>```<br>@step<br>def&nbsp;root(self):<br>&nbsp;&nbsp;&nbsp;&nbsp;self.split_1&nbsp;=&nbsp;['a',&nbsp;'b',&nbsp;'c']<br>&nbsp;&nbsp;&nbsp;&nbsp;self.next(self.nest_1,&nbsp;foreach='split_1')<br><br>@step<br>def&nbsp;nest_1(self):<br>&nbsp;&nbsp;&nbsp;&nbsp;self.split_2&nbsp;=&nbsp;['d',&nbsp;'e',&nbsp;'f',&nbsp;'g']<br>&nbsp;&nbsp;&nbsp;&nbsp;self.next(self.nest_2,&nbsp;foreach='split_2'):<br><br>@step<br>def&nbsp;nest_2(self):<br>&nbsp;&nbsp;&nbsp;&nbsp;foo&nbsp;=&nbsp;self.foreach_stack()<br>```<br><br>`foo`&nbsp;will&nbsp;take&nbsp;the&nbsp;following&nbsp;values&nbsp;in&nbsp;the&nbsp;various&nbsp;tasks&nbsp;for&nbsp;nest_2:<br>```<br>&nbsp;&nbsp;&nbsp;&nbsp;[(0,&nbsp;3,&nbsp;'a'),&nbsp;(0,&nbsp;4,&nbsp;'d')]<br>&nbsp;&nbsp;&nbsp;&nbsp;[(0,&nbsp;3,&nbsp;'a'),&nbsp;(1,&nbsp;4,&nbsp;'e')]<br>&nbsp;&nbsp;&nbsp;&nbsp;...<br>&nbsp;&nbsp;&nbsp;&nbsp;[(0,&nbsp;3,&nbsp;'a'),&nbsp;(3,&nbsp;4,&nbsp;'g')]<br>&nbsp;&nbsp;&nbsp;&nbsp;[(1,&nbsp;3,&nbsp;'b'),&nbsp;(0,&nbsp;4,&nbsp;'d')]<br>&nbsp;&nbsp;&nbsp;&nbsp;...<br>```<br>where&nbsp;each&nbsp;tuple&nbsp;corresponds&nbsp;to:<br><br>-&nbsp;The&nbsp;index&nbsp;of&nbsp;the&nbsp;task&nbsp;for&nbsp;that&nbsp;level&nbsp;of&nbsp;the&nbsp;loop.<br>-&nbsp;The&nbsp;number&nbsp;of&nbsp;splits&nbsp;for&nbsp;that&nbsp;level&nbsp;of&nbsp;the&nbsp;loop.<br>-&nbsp;The&nbsp;value&nbsp;for&nbsp;that&nbsp;level&nbsp;of&nbsp;the&nbsp;loop.<br><br>Note&nbsp;that&nbsp;the&nbsp;last&nbsp;tuple&nbsp;returned&nbsp;in&nbsp;a&nbsp;task&nbsp;corresponds&nbsp;to:<br><br>-&nbsp;1st&nbsp;element:&nbsp;value&nbsp;returned&nbsp;by&nbsp;`self.index`.<br>-&nbsp;3rd&nbsp;element:&nbsp;value&nbsp;returned&nbsp;by&nbsp;`self.input`.<br><br>Returns<br>-------<br>List[Tuple[int,&nbsp;int,&nbsp;Any]]<br>&nbsp;&nbsp;&nbsp;&nbsp;An&nbsp;array&nbsp;describing&nbsp;the&nbsp;current&nbsp;stack&nbsp;of&nbsp;foreach&nbsp;steps.</blockquote></p>\n",
       "</HTMLRemove>\n",
       "<DocSection type=\"method\" name=\"FlowSpec.foreach_stack\" module=\"metaflow\" show_import=\"False\" heading_level=\"4\" link=\"https://github.com/Netflix/metaflow/tree/master/metaflow/flowspec.py#L301\">\n",
       "<SigArgSection>\n",
       "<SigArg name=\"self\" />\n",
       "</SigArgSection>\n",
       "<Description summary=\"Returns the current stack of foreach indexes and values for the current step.\" extended_summary=\"Use this information to understand what data is being processed in the current\\nforeach branch. For example, considering the following code:\\n```\\n@step\\ndef root(self):\\n    self.split_1 = ['a', 'b', 'c']\\n    self.next(self.nest_1, foreach='split_1')\\n\\n@step\\ndef nest_1(self):\\n    self.split_2 = ['d', 'e', 'f', 'g']\\n    self.next(self.nest_2, foreach='split_2'):\\n\\n@step\\ndef nest_2(self):\\n    foo = self.foreach_stack()\\n```\\n\\n`foo` will take the following values in the various tasks for nest_2:\\n```\\n    [(0, 3, 'a'), (0, 4, 'd')]\\n    [(0, 3, 'a'), (1, 4, 'e')]\\n    ...\\n    [(0, 3, 'a'), (3, 4, 'g')]\\n    [(1, 3, 'b'), (0, 4, 'd')]\\n    ...\\n```\\nwhere each tuple corresponds to:\\n\\n- The index of the task for that level of the loop.\\n- The number of splits for that level of the loop.\\n- The value for that level of the loop.\\n\\nNote that the last tuple returned in a task corresponds to:\\n\\n- 1st element: value returned by `self.index`.\\n- 3rd element: value returned by `self.input`.\" />\n",
       "<ParamSection name=\"Returns\">\n",
       "\t<Parameter type=\"List[Tuple[int, int, Any]]\" desc=\"An array describing the current stack of foreach steps.\" />\n",
       "</ParamSection>\n",
       "</DocSection>"
      ],
      "text/plain": [
       "<nbdoc.showdoc.ShowDoc at 0x106302c20>"
      ]
     },
     "execution_count": 5,
     "metadata": {},
     "output_type": "execute_result"
    }
   ],
   "source": [
    "ShowDoc(FlowSpec.foreach_stack)"
   ]
  },
  {
   "cell_type": "code",
   "execution_count": 6,
   "id": "e45999eb",
   "metadata": {
    "execution": {
     "iopub.execute_input": "2024-11-05T04:49:40.327905Z",
     "iopub.status.busy": "2024-11-05T04:49:40.327808Z",
     "iopub.status.idle": "2024-11-05T04:49:40.331552Z",
     "shell.execute_reply": "2024-11-05T04:49:40.331158Z"
    }
   },
   "outputs": [
    {
     "data": {
      "text/html": [
       "<HTMLRemove>\n",
       "<h4> <code>method</code> <span style=\"color:Brown\">FlowSpec.merge_artifacts</span> <em>(self, inputs: metaflow.datastore.inputs.Inputs, exclude: Optional[List[str]] = None, include: Optional[List[str]] = None) -> None</em><a href=\"https://github.com/Netflix/metaflow/tree/master/metaflow/flowspec.py#L385\" style=\"float:right\">[source]</a></h4><p><blockquote>Helper&nbsp;function&nbsp;for&nbsp;merging&nbsp;artifacts&nbsp;in&nbsp;a&nbsp;join&nbsp;step.<br><br>This&nbsp;function&nbsp;takes&nbsp;all&nbsp;the&nbsp;artifacts&nbsp;coming&nbsp;from&nbsp;the&nbsp;branches&nbsp;of&nbsp;a<br>join&nbsp;point&nbsp;and&nbsp;assigns&nbsp;them&nbsp;to&nbsp;self&nbsp;in&nbsp;the&nbsp;calling&nbsp;step.&nbsp;Only&nbsp;artifacts<br>not&nbsp;set&nbsp;in&nbsp;the&nbsp;current&nbsp;step&nbsp;are&nbsp;considered.&nbsp;If,&nbsp;for&nbsp;a&nbsp;given&nbsp;artifact,&nbsp;different<br>values&nbsp;are&nbsp;present&nbsp;on&nbsp;the&nbsp;incoming&nbsp;edges,&nbsp;an&nbsp;error&nbsp;will&nbsp;be&nbsp;thrown&nbsp;and&nbsp;the&nbsp;artifacts<br>that&nbsp;conflict&nbsp;will&nbsp;be&nbsp;reported.<br><br>As&nbsp;a&nbsp;few&nbsp;examples,&nbsp;in&nbsp;the&nbsp;simple&nbsp;graph:&nbsp;A&nbsp;splitting&nbsp;into&nbsp;B&nbsp;and&nbsp;C&nbsp;and&nbsp;joining&nbsp;in&nbsp;D:<br>```<br>A:<br>&nbsp;&nbsp;self.x&nbsp;=&nbsp;5<br>&nbsp;&nbsp;self.y&nbsp;=&nbsp;6<br>B:<br>&nbsp;&nbsp;self.b_var&nbsp;=&nbsp;1<br>&nbsp;&nbsp;self.x&nbsp;=&nbsp;from_b<br>C:<br>&nbsp;&nbsp;self.x&nbsp;=&nbsp;from_c<br><br>D:<br>&nbsp;&nbsp;merge_artifacts(inputs)<br>```<br>In&nbsp;D,&nbsp;the&nbsp;following&nbsp;artifacts&nbsp;are&nbsp;set:<br>&nbsp;&nbsp;-&nbsp;`y`&nbsp;(value:&nbsp;6),&nbsp;`b_var`&nbsp;(value:&nbsp;1)<br>&nbsp;&nbsp;-&nbsp;if&nbsp;`from_b`&nbsp;and&nbsp;`from_c`&nbsp;are&nbsp;the&nbsp;same,&nbsp;`x`&nbsp;will&nbsp;be&nbsp;accessible&nbsp;and&nbsp;have&nbsp;value&nbsp;`from_b`<br>&nbsp;&nbsp;-&nbsp;if&nbsp;`from_b`&nbsp;and&nbsp;`from_c`&nbsp;are&nbsp;different,&nbsp;an&nbsp;error&nbsp;will&nbsp;be&nbsp;thrown.&nbsp;To&nbsp;prevent&nbsp;this&nbsp;error,<br>&nbsp;&nbsp;&nbsp;&nbsp;you&nbsp;need&nbsp;to&nbsp;manually&nbsp;set&nbsp;`self.x`&nbsp;in&nbsp;D&nbsp;to&nbsp;a&nbsp;merged&nbsp;value&nbsp;(for&nbsp;example&nbsp;the&nbsp;max)&nbsp;prior&nbsp;to<br>&nbsp;&nbsp;&nbsp;&nbsp;calling&nbsp;`merge_artifacts`.<br><br>Parameters<br>----------<br>inputs&nbsp;:&nbsp;Inputs<br>&nbsp;&nbsp;&nbsp;&nbsp;Incoming&nbsp;steps&nbsp;to&nbsp;the&nbsp;join&nbsp;point.<br>exclude&nbsp;:&nbsp;List[str],&nbsp;optional,&nbsp;default&nbsp;None<br>&nbsp;&nbsp;&nbsp;&nbsp;If&nbsp;specified,&nbsp;do&nbsp;not&nbsp;consider&nbsp;merging&nbsp;artifacts&nbsp;with&nbsp;a&nbsp;name&nbsp;in&nbsp;`exclude`.<br>&nbsp;&nbsp;&nbsp;&nbsp;Cannot&nbsp;specify&nbsp;if&nbsp;`include`&nbsp;is&nbsp;also&nbsp;specified.<br>include&nbsp;:&nbsp;List[str],&nbsp;optional,&nbsp;default&nbsp;None<br>&nbsp;&nbsp;&nbsp;&nbsp;If&nbsp;specified,&nbsp;only&nbsp;merge&nbsp;artifacts&nbsp;specified.&nbsp;Cannot&nbsp;specify&nbsp;if&nbsp;`exclude`&nbsp;is<br>&nbsp;&nbsp;&nbsp;&nbsp;also&nbsp;specified.<br><br>Raises<br>------<br>MetaflowException<br>&nbsp;&nbsp;&nbsp;&nbsp;This&nbsp;exception&nbsp;is&nbsp;thrown&nbsp;if&nbsp;this&nbsp;is&nbsp;not&nbsp;called&nbsp;in&nbsp;a&nbsp;join&nbsp;step.<br>UnhandledInMergeArtifactsException<br>&nbsp;&nbsp;&nbsp;&nbsp;This&nbsp;exception&nbsp;is&nbsp;thrown&nbsp;in&nbsp;case&nbsp;of&nbsp;unresolved&nbsp;conflicts.<br>MissingInMergeArtifactsException<br>&nbsp;&nbsp;&nbsp;&nbsp;This&nbsp;exception&nbsp;is&nbsp;thrown&nbsp;in&nbsp;case&nbsp;an&nbsp;artifact&nbsp;specified&nbsp;in&nbsp;`include`&nbsp;cannot<br>&nbsp;&nbsp;&nbsp;&nbsp;be&nbsp;found.</blockquote></p>\n",
       "</HTMLRemove>\n",
       "<DocSection type=\"method\" name=\"FlowSpec.merge_artifacts\" module=\"metaflow\" show_import=\"False\" heading_level=\"4\" link=\"https://github.com/Netflix/metaflow/tree/master/metaflow/flowspec.py#L385\">\n",
       "<SigArgSection>\n",
       "<SigArg name=\"self\" /><SigArg name=\"inputs\" type=\"Inputs\" /><SigArg name=\"exclude\" type=\"Optional\" default=\"None\" /><SigArg name=\"include\" type=\"Optional\" default=\"None\" />\n",
       "</SigArgSection>\n",
       "<Description summary=\"Helper function for merging artifacts in a join step.\" extended_summary=\"This function takes all the artifacts coming from the branches of a\\njoin point and assigns them to self in the calling step. Only artifacts\\nnot set in the current step are considered. If, for a given artifact, different\\nvalues are present on the incoming edges, an error will be thrown and the artifacts\\nthat conflict will be reported.\\n\\nAs a few examples, in the simple graph: A splitting into B and C and joining in D:\\n```\\nA:\\n  self.x = 5\\n  self.y = 6\\nB:\\n  self.b_var = 1\\n  self.x = from_b\\nC:\\n  self.x = from_c\\n\\nD:\\n  merge_artifacts(inputs)\\n```\\nIn D, the following artifacts are set:\\n  - `y` (value: 6), `b_var` (value: 1)\\n  - if `from_b` and `from_c` are the same, `x` will be accessible and have value `from_b`\\n  - if `from_b` and `from_c` are different, an error will be thrown. To prevent this error,\\n    you need to manually set `self.x` in D to a merged value (for example the max) prior to\\n    calling `merge_artifacts`.\" />\n",
       "<ParamSection name=\"Parameters\">\n",
       "\t<Parameter name=\"inputs\" type=\"Inputs\" desc=\"Incoming steps to the join point.\" />\n",
       "\t<Parameter name=\"exclude\" type=\"List[str], optional, default None\" desc=\"If specified, do not consider merging artifacts with a name in `exclude`.\\nCannot specify if `include` is also specified.\" />\n",
       "\t<Parameter name=\"include\" type=\"List[str], optional, default None\" desc=\"If specified, only merge artifacts specified. Cannot specify if `exclude` is\\nalso specified.\" />\n",
       "</ParamSection>\n",
       "<ParamSection name=\"Raises\">\n",
       "\t<Parameter type=\"MetaflowException\" desc=\"This exception is thrown if this is not called in a join step.\" />\n",
       "\t<Parameter type=\"UnhandledInMergeArtifactsException\" desc=\"This exception is thrown in case of unresolved conflicts.\" />\n",
       "\t<Parameter type=\"MissingInMergeArtifactsException\" desc=\"This exception is thrown in case an artifact specified in `include` cannot\\nbe found.\" />\n",
       "</ParamSection>\n",
       "</DocSection>"
      ],
      "text/plain": [
       "<nbdoc.showdoc.ShowDoc at 0x106302e60>"
      ]
     },
     "execution_count": 6,
     "metadata": {},
     "output_type": "execute_result"
    }
   ],
   "source": [
    "ShowDoc(FlowSpec.merge_artifacts)"
   ]
  },
  {
   "cell_type": "markdown",
   "id": "9ee50b8f",
   "metadata": {},
   "source": [
    "## Parameters\n",
    "\n",
    "The `Parameter` class is used to define parameters for a flow.\n",
    "\n",
    "The `Parameter` objects must be defined as class variables inside a flow. The parameter values are available as read-only artifacts in all steps of the flow. For instructions, see [How to define parameters for flows](/metaflow/basics#how-to-define-parameters-for-flows)."
   ]
  },
  {
   "cell_type": "code",
   "execution_count": 7,
   "id": "bd1c2814",
   "metadata": {
    "execution": {
     "iopub.execute_input": "2024-11-05T04:49:40.335039Z",
     "iopub.status.busy": "2024-11-05T04:49:40.334903Z",
     "iopub.status.idle": "2024-11-05T04:49:40.341889Z",
     "shell.execute_reply": "2024-11-05T04:49:40.341510Z"
    },
    "scrolled": true
   },
   "outputs": [
    {
     "data": {
      "text/html": [
       "<HTMLRemove>\n",
       "<h3> <code>class</code> <span style=\"color:Brown\">Parameter</span> <em>(name: str, default: Union[str, float, int, bool, Dict[str, Any], Callable[[], Union[str, float, int, bool, Dict[str, Any]]], NoneType] = None, type: Union[Type[str], Type[float], Type[int], Type[bool], metaflow.parameters.JSONTypeClass, NoneType] = None, help: Optional[str] = None, required: bool = False, show_default: bool = True, **kwargs: Dict[str, Any])</em><a href=\"https://github.com/Netflix/metaflow/tree/master/metaflow/parameters.py#L249\" style=\"float:right\">[source]</a></h3><p><blockquote>Defines&nbsp;a&nbsp;parameter&nbsp;for&nbsp;a&nbsp;flow.<br><br>Parameters&nbsp;must&nbsp;be&nbsp;instantiated&nbsp;as&nbsp;class&nbsp;variables&nbsp;in&nbsp;flow&nbsp;classes,&nbsp;e.g.<br>```<br>class&nbsp;MyFlow(FlowSpec):<br>&nbsp;&nbsp;&nbsp;&nbsp;param&nbsp;=&nbsp;Parameter('myparam')<br>```<br>in&nbsp;this&nbsp;case,&nbsp;the&nbsp;parameter&nbsp;is&nbsp;specified&nbsp;on&nbsp;the&nbsp;command&nbsp;line&nbsp;as<br>```<br>python&nbsp;myflow.py&nbsp;run&nbsp;--myparam=5<br>```<br>and&nbsp;its&nbsp;value&nbsp;is&nbsp;accessible&nbsp;through&nbsp;a&nbsp;read-only&nbsp;artifact&nbsp;like&nbsp;this:<br>```<br>print(self.param&nbsp;==&nbsp;5)<br>```<br>Note&nbsp;that&nbsp;the&nbsp;user-visible&nbsp;parameter&nbsp;name,&nbsp;`myparam`&nbsp;above,&nbsp;can&nbsp;be<br>different&nbsp;from&nbsp;the&nbsp;artifact&nbsp;name,&nbsp;`param`&nbsp;above.<br><br>The&nbsp;parameter&nbsp;value&nbsp;is&nbsp;converted&nbsp;to&nbsp;a&nbsp;Python&nbsp;type&nbsp;based&nbsp;on&nbsp;the&nbsp;`type`<br>argument&nbsp;or&nbsp;to&nbsp;match&nbsp;the&nbsp;type&nbsp;of&nbsp;`default`,&nbsp;if&nbsp;it&nbsp;is&nbsp;set.<br><br>Parameters<br>----------<br>name&nbsp;:&nbsp;str<br>&nbsp;&nbsp;&nbsp;&nbsp;User-visible&nbsp;parameter&nbsp;name.<br>default&nbsp;:&nbsp;str&nbsp;or&nbsp;float&nbsp;or&nbsp;int&nbsp;or&nbsp;bool&nbsp;or&nbsp;`JSONType`&nbsp;or&nbsp;a&nbsp;function.<br>&nbsp;&nbsp;&nbsp;&nbsp;Default&nbsp;value&nbsp;for&nbsp;the&nbsp;parameter.&nbsp;Use&nbsp;a&nbsp;special&nbsp;`JSONType`&nbsp;class&nbsp;to<br>&nbsp;&nbsp;&nbsp;&nbsp;indicate&nbsp;that&nbsp;the&nbsp;value&nbsp;must&nbsp;be&nbsp;a&nbsp;valid&nbsp;JSON&nbsp;object.&nbsp;A&nbsp;function<br>&nbsp;&nbsp;&nbsp;&nbsp;implies&nbsp;that&nbsp;the&nbsp;parameter&nbsp;corresponds&nbsp;to&nbsp;a&nbsp;*deploy-time&nbsp;parameter*.<br>&nbsp;&nbsp;&nbsp;&nbsp;The&nbsp;type&nbsp;of&nbsp;the&nbsp;default&nbsp;value&nbsp;is&nbsp;used&nbsp;as&nbsp;the&nbsp;parameter&nbsp;`type`.<br>type&nbsp;:&nbsp;Type,&nbsp;default&nbsp;None<br>&nbsp;&nbsp;&nbsp;&nbsp;If&nbsp;`default`&nbsp;is&nbsp;not&nbsp;specified,&nbsp;define&nbsp;the&nbsp;parameter&nbsp;type.&nbsp;Specify<br>&nbsp;&nbsp;&nbsp;&nbsp;one&nbsp;of&nbsp;`str`,&nbsp;`float`,&nbsp;`int`,&nbsp;`bool`,&nbsp;or&nbsp;`JSONType`.&nbsp;If&nbsp;None,&nbsp;defaults<br>&nbsp;&nbsp;&nbsp;&nbsp;to&nbsp;the&nbsp;type&nbsp;of&nbsp;`default`&nbsp;or&nbsp;`str`&nbsp;if&nbsp;none&nbsp;specified.<br>help&nbsp;:&nbsp;str,&nbsp;optional<br>&nbsp;&nbsp;&nbsp;&nbsp;Help&nbsp;text&nbsp;to&nbsp;show&nbsp;in&nbsp;`run&nbsp;--help`.<br>required&nbsp;:&nbsp;bool,&nbsp;default&nbsp;False<br>&nbsp;&nbsp;&nbsp;&nbsp;Require&nbsp;that&nbsp;the&nbsp;user&nbsp;specified&nbsp;a&nbsp;value&nbsp;for&nbsp;the&nbsp;parameter.<br>&nbsp;&nbsp;&nbsp;&nbsp;`required=True`&nbsp;implies&nbsp;that&nbsp;the&nbsp;`default`&nbsp;is&nbsp;not&nbsp;used.<br>show_default&nbsp;:&nbsp;bool,&nbsp;default&nbsp;True<br>&nbsp;&nbsp;&nbsp;&nbsp;If&nbsp;True,&nbsp;show&nbsp;the&nbsp;default&nbsp;value&nbsp;in&nbsp;the&nbsp;help&nbsp;text.</blockquote></p>\n",
       "</HTMLRemove>\n",
       "<DocSection type=\"class\" name=\"Parameter\" module=\"metaflow\" show_import=\"False\" heading_level=\"3\" link=\"https://github.com/Netflix/metaflow/tree/master/metaflow/parameters.py#L249\">\n",
       "<SigArgSection>\n",
       "<SigArg name=\"name\" type=\"str\" /><SigArg name=\"default\" type=\"Union\" default=\"None\" /><SigArg name=\"type\" type=\"Union\" default=\"None\" /><SigArg name=\"help\" type=\"Optional\" default=\"None\" /><SigArg name=\"required\" type=\"bool\" default=\"False\" /><SigArg name=\"show_default\" type=\"bool\" default=\"True\" /><SigArg name=\"**kwargs: Dict[str, Any]\" type=\"Dict\" />\n",
       "</SigArgSection>\n",
       "<Description summary=\"Defines a parameter for a flow.\" extended_summary=\"Parameters must be instantiated as class variables in flow classes, e.g.\\n```\\nclass MyFlow(FlowSpec):\\n    param = Parameter('myparam')\\n```\\nin this case, the parameter is specified on the command line as\\n```\\npython myflow.py run --myparam=5\\n```\\nand its value is accessible through a read-only artifact like this:\\n```\\nprint(self.param == 5)\\n```\\nNote that the user-visible parameter name, `myparam` above, can be\\ndifferent from the artifact name, `param` above.\\n\\nThe parameter value is converted to a Python type based on the `type`\\nargument or to match the type of `default`, if it is set.\" />\n",
       "<ParamSection name=\"Parameters\">\n",
       "\t<Parameter name=\"name\" type=\"str\" desc=\"User-visible parameter name.\" />\n",
       "\t<Parameter name=\"default\" type=\"str or float or int or bool or `JSONType` or a function.\" desc=\"Default value for the parameter. Use a special `JSONType` class to\\nindicate that the value must be a valid JSON object. A function\\nimplies that the parameter corresponds to a *deploy-time parameter*.\\nThe type of the default value is used as the parameter `type`.\" />\n",
       "\t<Parameter name=\"type\" type=\"Type, default None\" desc=\"If `default` is not specified, define the parameter type. Specify\\none of `str`, `float`, `int`, `bool`, or `JSONType`. If None, defaults\\nto the type of `default` or `str` if none specified.\" />\n",
       "\t<Parameter name=\"help\" type=\"str, optional\" desc=\"Help text to show in `run --help`.\" />\n",
       "\t<Parameter name=\"required\" type=\"bool, default False\" desc=\"Require that the user specified a value for the parameter.\\n`required=True` implies that the `default` is not used.\" />\n",
       "\t<Parameter name=\"show_default\" type=\"bool, default True\" desc=\"If True, show the default value in the help text.\" />\n",
       "</ParamSection>\n",
       "</DocSection>"
      ],
      "text/plain": [
       "<nbdoc.showdoc.ShowDoc at 0x106303010>"
      ]
     },
     "execution_count": 7,
     "metadata": {},
     "output_type": "execute_result"
    }
   ],
   "source": [
    "ShowDoc(Parameter, skip_sections='Attributes')"
   ]
  },
  {
   "cell_type": "code",
   "execution_count": 8,
   "id": "46b05162",
   "metadata": {
    "execution": {
     "iopub.execute_input": "2024-11-05T04:49:40.344369Z",
     "iopub.status.busy": "2024-11-05T04:49:40.344228Z",
     "iopub.status.idle": "2024-11-05T04:49:40.346236Z",
     "shell.execute_reply": "2024-11-05T04:49:40.345912Z"
    }
   },
   "outputs": [],
   "source": [
    "#meta:tag=hide\n",
    "class ParameterContext:\n",
    "    \"\"\"\n",
    "    Information about the parameter being evaluated.\n",
    "    \n",
    "    Attributes\n",
    "    ----------\n",
    "    \n",
    "    flow_name : str\n",
    "        Flow name\n",
    "    user_name : str\n",
    "        User name\n",
    "    parameter_name : str\n",
    "        Parameter name\n",
    "    \"\"\""
   ]
  },
  {
   "cell_type": "markdown",
   "id": "ad185f10",
   "metadata": {},
   "source": [
    "### Deploy-time parameters\n",
    "\n",
    "It is possible to define the `default` value programmatically before a run or a deployment is executed through a user-defined function. For more information, see [documentation for Deploy Time Parameters](/production/scheduling-metaflow-flows/scheduling-with-aws-step-functions#deploy-time-parameters).\n",
    "\n",
    "For instance, the following deploy-time parameter, `time`, uses the current time as its default value:\n",
    "```python\n",
    "def time_now(context):\n",
    "    return int(time.time())\n",
    "\n",
    "class MyFlow(FlowSpec):\n",
    "    myparam = Parameter(\"time\", type=int, default=time_now)\n",
    "```\n",
    "Note that if the function returns a non-string value, you must specify the parameter `type` when using deploy-time parameters, as the type of `default` can't be inferred automatically.\n",
    "\n",
    "The function called gets a parameter `context` that contains attributes about the current parameter which you can use to customize the value returned:"
   ]
  },
  {
   "cell_type": "code",
   "execution_count": 9,
   "id": "0b2d482c",
   "metadata": {
    "execution": {
     "iopub.execute_input": "2024-11-05T04:49:40.349463Z",
     "iopub.status.busy": "2024-11-05T04:49:40.349307Z",
     "iopub.status.idle": "2024-11-05T04:49:40.352041Z",
     "shell.execute_reply": "2024-11-05T04:49:40.351672Z"
    }
   },
   "outputs": [
    {
     "data": {
      "text/html": [
       "<HTMLRemove>\n",
       "<h3> <code>class</code> <span style=\"color:Brown\">ParameterContext</span> <em>()</em><a href=\"https://github.com/Netflix/metaflow/tree/master/\" style=\"float:right\">[source]</a></h3><p><blockquote>Information&nbsp;about&nbsp;the&nbsp;parameter&nbsp;being&nbsp;evaluated.<br><br>Attributes<br>----------<br><br>flow_name&nbsp;:&nbsp;str<br>&nbsp;&nbsp;&nbsp;&nbsp;Flow&nbsp;name<br>user_name&nbsp;:&nbsp;str<br>&nbsp;&nbsp;&nbsp;&nbsp;User&nbsp;name<br>parameter_name&nbsp;:&nbsp;str<br>&nbsp;&nbsp;&nbsp;&nbsp;Parameter&nbsp;name</blockquote></p>\n",
       "</HTMLRemove>\n",
       "<DocSection type=\"class\" name=\"ParameterContext\" module=\"metaflow\" show_import=\"False\" heading_level=\"3\" link=\"https://github.com/Netflix/metaflow/tree/master/\">\n",
       "<SigArgSection>\n",
       "\n",
       "</SigArgSection>\n",
       "<Description summary=\"Information about the parameter being evaluated.\" />\n",
       "<ParamSection name=\"Attributes\">\n",
       "\t<Parameter name=\"flow_name\" type=\"str\" desc=\"Flow name\" />\n",
       "\t<Parameter name=\"user_name\" type=\"str\" desc=\"User name\" />\n",
       "\t<Parameter name=\"parameter_name\" type=\"str\" desc=\"Parameter name\" />\n",
       "</ParamSection>\n",
       "</DocSection>"
      ],
      "text/plain": [
       "<nbdoc.showdoc.ShowDoc at 0x106367880>"
      ]
     },
     "execution_count": 9,
     "metadata": {},
     "output_type": "execute_result"
    }
   ],
   "source": [
    "ShowDoc(ParameterContext)"
   ]
  },
  {
   "cell_type": "markdown",
   "id": "6a08d5ba",
   "metadata": {},
   "source": [
    "## IncludeFile\n",
    "\n",
    "The `IncludeFile` object is a special `Parameter` that reads its value from a local file. For an example, see [Data in Local Files](/scaling/data#data-in-local-files)."
   ]
  },
  {
   "cell_type": "code",
   "execution_count": 10,
   "id": "3b674cdb",
   "metadata": {
    "execution": {
     "iopub.execute_input": "2024-11-05T04:49:40.355221Z",
     "iopub.status.busy": "2024-11-05T04:49:40.355082Z",
     "iopub.status.idle": "2024-11-05T04:49:40.361420Z",
     "shell.execute_reply": "2024-11-05T04:49:40.361130Z"
    }
   },
   "outputs": [
    {
     "data": {
      "text/html": [
       "<HTMLRemove>\n",
       "<h3> <code>class</code> <span style=\"color:Brown\">IncludeFile</span> <em>name, **kwargs</em><a href=\"https://github.com/Netflix/metaflow/tree/master/metaflow/includefile.py#L231\" style=\"float:right\">[source]</a></h3><p><blockquote>Includes&nbsp;a&nbsp;local&nbsp;file&nbsp;as&nbsp;a&nbsp;parameter&nbsp;for&nbsp;the&nbsp;flow.<br><br>`IncludeFile`&nbsp;behaves&nbsp;like&nbsp;`Parameter`&nbsp;except&nbsp;that&nbsp;it&nbsp;reads&nbsp;its&nbsp;value&nbsp;from&nbsp;a&nbsp;file&nbsp;instead&nbsp;of<br>the&nbsp;command&nbsp;line.&nbsp;The&nbsp;user&nbsp;provides&nbsp;a&nbsp;path&nbsp;to&nbsp;a&nbsp;file&nbsp;on&nbsp;the&nbsp;command&nbsp;line.&nbsp;The&nbsp;file&nbsp;contents<br>are&nbsp;saved&nbsp;as&nbsp;a&nbsp;read-only&nbsp;artifact&nbsp;which&nbsp;is&nbsp;available&nbsp;in&nbsp;all&nbsp;steps&nbsp;of&nbsp;the&nbsp;flow.<br><br>Parameters<br>----------<br>name&nbsp;:&nbsp;str<br>&nbsp;&nbsp;&nbsp;&nbsp;User-visible&nbsp;parameter&nbsp;name.<br>default&nbsp;:&nbsp;Union[str,&nbsp;Callable[ParameterContext,&nbsp;str]]<br>&nbsp;&nbsp;&nbsp;&nbsp;Default&nbsp;path&nbsp;to&nbsp;a&nbsp;local&nbsp;file.&nbsp;A&nbsp;function<br>&nbsp;&nbsp;&nbsp;&nbsp;implies&nbsp;that&nbsp;the&nbsp;parameter&nbsp;corresponds&nbsp;to&nbsp;a&nbsp;*deploy-time&nbsp;parameter*.<br>is_text&nbsp;:&nbsp;bool,&nbsp;default&nbsp;True<br>&nbsp;&nbsp;&nbsp;&nbsp;Convert&nbsp;the&nbsp;file&nbsp;contents&nbsp;to&nbsp;a&nbsp;string&nbsp;using&nbsp;the&nbsp;provided&nbsp;`encoding`.<br>&nbsp;&nbsp;&nbsp;&nbsp;If&nbsp;False,&nbsp;the&nbsp;artifact&nbsp;is&nbsp;stored&nbsp;in&nbsp;`bytes`.<br>encoding&nbsp;:&nbsp;str,&nbsp;optional,&nbsp;default&nbsp;'utf-8'<br>&nbsp;&nbsp;&nbsp;&nbsp;Use&nbsp;this&nbsp;encoding&nbsp;to&nbsp;decode&nbsp;the&nbsp;file&nbsp;contexts&nbsp;if&nbsp;`is_text=True`.<br>required&nbsp;:&nbsp;bool,&nbsp;default&nbsp;False<br>&nbsp;&nbsp;&nbsp;&nbsp;Require&nbsp;that&nbsp;the&nbsp;user&nbsp;specified&nbsp;a&nbsp;value&nbsp;for&nbsp;the&nbsp;parameter.<br>&nbsp;&nbsp;&nbsp;&nbsp;`required=True`&nbsp;implies&nbsp;that&nbsp;the&nbsp;`default`&nbsp;is&nbsp;not&nbsp;used.<br>help&nbsp;:&nbsp;str,&nbsp;optional<br>&nbsp;&nbsp;&nbsp;&nbsp;Help&nbsp;text&nbsp;to&nbsp;show&nbsp;in&nbsp;`run&nbsp;--help`.<br>show_default&nbsp;:&nbsp;bool,&nbsp;default&nbsp;True<br>&nbsp;&nbsp;&nbsp;&nbsp;If&nbsp;True,&nbsp;show&nbsp;the&nbsp;default&nbsp;value&nbsp;in&nbsp;the&nbsp;help&nbsp;text.</blockquote></p>\n",
       "</HTMLRemove>\n",
       "<DocSection type=\"class\" name=\"IncludeFile\" module=\"metaflow\" show_import=\"False\" heading_level=\"3\" link=\"https://github.com/Netflix/metaflow/tree/master/metaflow/includefile.py#L231\">\n",
       "<SigArgSection>\n",
       "<SigArg name=\"name, **kwargs\" />\n",
       "</SigArgSection>\n",
       "<Description summary=\"Includes a local file as a parameter for the flow.\" extended_summary=\"`IncludeFile` behaves like `Parameter` except that it reads its value from a file instead of\\nthe command line. The user provides a path to a file on the command line. The file contents\\nare saved as a read-only artifact which is available in all steps of the flow.\" />\n",
       "<ParamSection name=\"Parameters\">\n",
       "\t<Parameter name=\"name\" type=\"str\" desc=\"User-visible parameter name.\" />\n",
       "\t<Parameter name=\"default\" type=\"Union[str, Callable[ParameterContext, str]]\" desc=\"Default path to a local file. A function\\nimplies that the parameter corresponds to a *deploy-time parameter*.\" />\n",
       "\t<Parameter name=\"is_text\" type=\"bool, default True\" desc=\"Convert the file contents to a string using the provided `encoding`.\\nIf False, the artifact is stored in `bytes`.\" />\n",
       "\t<Parameter name=\"encoding\" type=\"str, optional, default 'utf-8'\" desc=\"Use this encoding to decode the file contexts if `is_text=True`.\" />\n",
       "\t<Parameter name=\"required\" type=\"bool, default False\" desc=\"Require that the user specified a value for the parameter.\\n`required=True` implies that the `default` is not used.\" />\n",
       "\t<Parameter name=\"help\" type=\"str, optional\" desc=\"Help text to show in `run --help`.\" />\n",
       "\t<Parameter name=\"show_default\" type=\"bool, default True\" desc=\"If True, show the default value in the help text.\" />\n",
       "</ParamSection>\n",
       "</DocSection>"
      ],
      "text/plain": [
       "<nbdoc.showdoc.ShowDoc at 0x106367550>"
      ]
     },
     "execution_count": 10,
     "metadata": {},
     "output_type": "execute_result"
    }
   ],
   "source": [
    "ShowDoc(IncludeFile, spoofstr=\"name, **kwargs\", skip_sections='Attributes')"
   ]
  },
  {
   "cell_type": "code",
   "execution_count": null,
   "id": "d144b4cd",
   "metadata": {},
   "outputs": [],
   "source": []
  }
 ],
 "metadata": {
  "kernelspec": {
   "display_name": "Python 3",
   "language": "python",
   "name": "python3"
  },
  "language_info": {
   "codemirror_mode": {
    "name": "ipython",
    "version": 3
   },
   "file_extension": ".py",
   "mimetype": "text/x-python",
   "name": "python",
   "nbconvert_exporter": "python",
   "pygments_lexer": "ipython3",
   "version": "3.10.13"
  }
 },
 "nbformat": 4,
 "nbformat_minor": 5
}
