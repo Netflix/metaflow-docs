{
 "cells": [
  {
   "cell_type": "markdown",
   "id": "eb7388b6",
   "metadata": {},
   "source": [
    "# S3 - Accessing data in S3 quickly\n",
    "\n",
    "The `S3` client is a wrapper over the standard AWS Python library, `boto`. It contains enhancements that are relevant for data-intensive applications:\n",
    "\n",
    " - Supports accessing large amounts of data quickly through parallel operations (functions with the `_many` suffix). You can download up to 20Gbps on a large EC2 instance.\n",
    " - Improved error handling.\n",
    " - Supports versioned data through `S3(run=self)` and `S3(run=Run)`.\n",
    " - User-friendly API with minimal boilerplate.\n",
    " - Convenient API for advanced featured such as range requests (downloading partial files) and object headers.\n",
    " \n",
    "For instructions how to use the class, see [Loading and Storing Data](/scaling/data)."
   ]
  },
  {
   "cell_type": "code",
   "execution_count": 1,
   "id": "267ce6f4",
   "metadata": {
    "execution": {
     "iopub.execute_input": "2022-07-29T10:16:42.241979Z",
     "iopub.status.busy": "2022-07-29T10:16:42.239084Z",
     "iopub.status.idle": "2022-07-29T10:16:47.043095Z",
     "shell.execute_reply": "2022-07-29T10:16:47.045891Z"
    }
   },
   "outputs": [],
   "source": [
    "#meta:tag=hide\n",
    "from functools import partial\n",
    "from nbdoc.showdoc import ShowDoc as SD\n",
    "ShowDoc = partial(SD, module_nm='metaflow')\n",
    "\n",
    "from metaflow import S3\n",
    "from metaflow.datatools.s3 import S3Object"
   ]
  },
  {
   "cell_type": "markdown",
   "id": "33ecc60a",
   "metadata": {},
   "source": [
    "## The `S3` client"
   ]
  },
  {
   "cell_type": "code",
   "execution_count": 2,
   "id": "be77093e",
   "metadata": {
    "execution": {
     "iopub.execute_input": "2022-07-29T10:16:47.058360Z",
     "iopub.status.busy": "2022-07-29T10:16:47.055335Z",
     "iopub.status.idle": "2022-07-29T10:16:47.203937Z",
     "shell.execute_reply": "2022-07-29T10:16:47.205590Z"
    }
   },
   "outputs": [
    {
     "data": {
      "text/html": [
       "<HTMLRemove>\n",
       "<h3> <code>class</code> <span style=\"color:Brown\">S3</span> <em>tmproot='.', bucket=None, prefix=None, run=None, s3root=None</em><a href=\"https://github.com/Netflix/metaflow/tree/master/scaling/datatools/s3.py#L392\" style=\"float:right\">[source]</a></h3><strong>metaflow</strong><p><blockquote>The&nbsp;Metaflow&nbsp;S3&nbsp;client.<br><br>This&nbsp;object&nbsp;manages&nbsp;the&nbsp;connection&nbsp;to&nbsp;S3&nbsp;and&nbsp;a&nbsp;temporary&nbsp;diretory&nbsp;that&nbsp;is&nbsp;used<br>to&nbsp;download&nbsp;objects.&nbsp;Note&nbsp;that&nbsp;in&nbsp;most&nbsp;cases&nbsp;when&nbsp;the&nbsp;data&nbsp;fits&nbsp;in&nbsp;memory,&nbsp;no&nbsp;local<br>disk&nbsp;IO&nbsp;is&nbsp;needed&nbsp;as&nbsp;operations&nbsp;are&nbsp;cached&nbsp;by&nbsp;the&nbsp;operating&nbsp;system,&nbsp;which&nbsp;makes<br>operations&nbsp;fast&nbsp;as&nbsp;long&nbsp;as&nbsp;there&nbsp;is&nbsp;enough&nbsp;memory&nbsp;available.<br><br>The&nbsp;easiest&nbsp;way&nbsp;is&nbsp;to&nbsp;use&nbsp;this&nbsp;object&nbsp;as&nbsp;a&nbsp;context&nbsp;manager:<br>```<br>with&nbsp;S3()&nbsp;as&nbsp;s3:<br>&nbsp;&nbsp;&nbsp;&nbsp;data&nbsp;=&nbsp;[obj.blob&nbsp;for&nbsp;obj&nbsp;in&nbsp;s3.get_many(urls)]<br>print(data)<br>```<br>The&nbsp;context&nbsp;manager&nbsp;takes&nbsp;care&nbsp;of&nbsp;creating&nbsp;and&nbsp;deleting&nbsp;a&nbsp;temporary&nbsp;directory<br>automatically.&nbsp;Without&nbsp;a&nbsp;context&nbsp;manager,&nbsp;you&nbsp;must&nbsp;call&nbsp;`.close()`&nbsp;to&nbsp;delete<br>the&nbsp;directory&nbsp;explicitly:<br>```<br>s3&nbsp;=&nbsp;S3()<br>data&nbsp;=&nbsp;[obj.blob&nbsp;for&nbsp;obj&nbsp;in&nbsp;s3.get_many(urls)]<br>s3.close()<br>```<br>You&nbsp;can&nbsp;customize&nbsp;the&nbsp;location&nbsp;of&nbsp;the&nbsp;temporary&nbsp;directory&nbsp;with&nbsp;`tmproot`.&nbsp;It<br>defaults&nbsp;to&nbsp;the&nbsp;current&nbsp;working&nbsp;directory.<br><br>To&nbsp;make&nbsp;it&nbsp;easier&nbsp;to&nbsp;deal&nbsp;with&nbsp;object&nbsp;locations,&nbsp;the&nbsp;client&nbsp;can&nbsp;be&nbsp;initialized<br>with&nbsp;an&nbsp;S3&nbsp;path&nbsp;prefix.&nbsp;There&nbsp;are&nbsp;three&nbsp;ways&nbsp;to&nbsp;handle&nbsp;locations:<br><br>1.&nbsp;Use&nbsp;a&nbsp;`metaflow.Run`&nbsp;object&nbsp;or&nbsp;`self`,&nbsp;e.g.&nbsp;`S3(run=self)`&nbsp;which<br>&nbsp;&nbsp;&nbsp;initializes&nbsp;the&nbsp;prefix&nbsp;with&nbsp;the&nbsp;global&nbsp;`DATATOOLS_S3ROOT`&nbsp;path,&nbsp;combined<br>&nbsp;&nbsp;&nbsp;with&nbsp;the&nbsp;current&nbsp;run&nbsp;ID.&nbsp;This&nbsp;mode&nbsp;makes&nbsp;it&nbsp;easy&nbsp;to&nbsp;version&nbsp;data&nbsp;based<br>&nbsp;&nbsp;&nbsp;on&nbsp;the&nbsp;run&nbsp;ID&nbsp;consistently.&nbsp;You&nbsp;can&nbsp;use&nbsp;the&nbsp;`bucket`&nbsp;and&nbsp;`prefix`&nbsp;to<br>&nbsp;&nbsp;&nbsp;override&nbsp;parts&nbsp;of&nbsp;`DATATOOLS_S3ROOT`.<br><br>2.&nbsp;Specify&nbsp;an&nbsp;S3&nbsp;prefix&nbsp;explicitly&nbsp;with&nbsp;`s3root`,<br>&nbsp;&nbsp;&nbsp;e.g.&nbsp;`S3(s3root='s3://mybucket/some/path')`.<br><br>3.&nbsp;Specify&nbsp;nothing,&nbsp;i.e.&nbsp;`S3()`,&nbsp;in&nbsp;which&nbsp;case&nbsp;all&nbsp;operations&nbsp;require<br>&nbsp;&nbsp;&nbsp;a&nbsp;full&nbsp;S3&nbsp;url&nbsp;prefixed&nbsp;with&nbsp;`s3://`.<br><br>Parameters<br>----------<br>tmproot&nbsp;:&nbsp;str<br>&nbsp;&nbsp;&nbsp;&nbsp;Where&nbsp;to&nbsp;store&nbsp;the&nbsp;temporary&nbsp;directory&nbsp;(default:&nbsp;'.').<br>bucket&nbsp;:&nbsp;str<br>&nbsp;&nbsp;&nbsp;&nbsp;Override&nbsp;the&nbsp;bucket&nbsp;from&nbsp;`DATATOOLS_S3ROOT`&nbsp;when&nbsp;`run`&nbsp;is&nbsp;specified.<br>prefix&nbsp;:&nbsp;str<br>&nbsp;&nbsp;&nbsp;&nbsp;Override&nbsp;the&nbsp;path&nbsp;from&nbsp;`DATATOOLS_S3ROOT`&nbsp;when&nbsp;`run`&nbsp;is&nbsp;specified.<br>run&nbsp;:&nbsp;FlowSpec&nbsp;or&nbsp;Run<br>&nbsp;&nbsp;&nbsp;&nbsp;Derive&nbsp;path&nbsp;prefix&nbsp;from&nbsp;the&nbsp;current&nbsp;or&nbsp;a&nbsp;past&nbsp;run&nbsp;ID,&nbsp;e.g.&nbsp;S3(run=self).<br>s3root&nbsp;:&nbsp;str<br>&nbsp;&nbsp;&nbsp;&nbsp;If&nbsp;`run`&nbsp;is&nbsp;not&nbsp;specified,&nbsp;use&nbsp;this&nbsp;as&nbsp;the&nbsp;S3&nbsp;prefix.</blockquote></p>\n",
       "</HTMLRemove>\n",
       "<DocSection type=\"class\" name=\"S3\" module=\"metaflow\" show_import=\"True\" heading_level=\"3\" link=\"https://github.com/Netflix/metaflow/tree/master/scaling/datatools/s3.py#L392\">\n",
       "<SigArgSection>\n",
       "<SigArg name=\"tmproot='.', bucket=None, prefix=None, run=None, s3root=None\" />\n",
       "</SigArgSection>\n",
       "<Description summary=\"The Metaflow S3 client.\" extended_summary=\"This object manages the connection to S3 and a temporary diretory that is used\\nto download objects. Note that in most cases when the data fits in memory, no local\\ndisk IO is needed as operations are cached by the operating system, which makes\\noperations fast as long as there is enough memory available.\\n\\nThe easiest way is to use this object as a context manager:\\n```\\nwith S3() as s3:\\n    data = [obj.blob for obj in s3.get_many(urls)]\\nprint(data)\\n```\\nThe context manager takes care of creating and deleting a temporary directory\\nautomatically. Without a context manager, you must call `.close()` to delete\\nthe directory explicitly:\\n```\\ns3 = S3()\\ndata = [obj.blob for obj in s3.get_many(urls)]\\ns3.close()\\n```\\nYou can customize the location of the temporary directory with `tmproot`. It\\ndefaults to the current working directory.\\n\\nTo make it easier to deal with object locations, the client can be initialized\\nwith an S3 path prefix. There are three ways to handle locations:\\n\\n1. Use a `metaflow.Run` object or `self`, e.g. `S3(run=self)` which\\n   initializes the prefix with the global `DATATOOLS_S3ROOT` path, combined\\n   with the current run ID. This mode makes it easy to version data based\\n   on the run ID consistently. You can use the `bucket` and `prefix` to\\n   override parts of `DATATOOLS_S3ROOT`.\\n\\n2. Specify an S3 prefix explicitly with `s3root`,\\n   e.g. `S3(s3root='s3://mybucket/some/path')`.\\n\\n3. Specify nothing, i.e. `S3()`, in which case all operations require\\n   a full S3 url prefixed with `s3://`.\" />\n",
       "<ParamSection name=\"Parameters\">\n",
       "\t<Parameter name=\"tmproot\" type=\"str\" desc=\"Where to store the temporary directory (default: '.').\" />\n",
       "\t<Parameter name=\"bucket\" type=\"str\" desc=\"Override the bucket from `DATATOOLS_S3ROOT` when `run` is specified.\" />\n",
       "\t<Parameter name=\"prefix\" type=\"str\" desc=\"Override the path from `DATATOOLS_S3ROOT` when `run` is specified.\" />\n",
       "\t<Parameter name=\"run\" type=\"FlowSpec or Run\" desc=\"Derive path prefix from the current or a past run ID, e.g. S3(run=self).\" />\n",
       "\t<Parameter name=\"s3root\" type=\"str\" desc=\"If `run` is not specified, use this as the S3 prefix.\" />\n",
       "</ParamSection>\n",
       "</DocSection>"
      ],
      "text/plain": [
       "<nbdoc.showdoc.ShowDoc at 0x7fc2eadab9a0>"
      ]
     },
     "execution_count": 2,
     "metadata": {},
     "output_type": "execute_result"
    }
   ],
   "source": [
    "ShowDoc(S3, spoofstr=\"tmproot='.', bucket=None, prefix=None, run=None, s3root=None\", show_import=True)"
   ]
  },
  {
   "cell_type": "code",
   "execution_count": 3,
   "id": "a0e04313",
   "metadata": {
    "execution": {
     "iopub.execute_input": "2022-07-29T10:16:47.216831Z",
     "iopub.status.busy": "2022-07-29T10:16:47.214340Z",
     "iopub.status.idle": "2022-07-29T10:16:47.224572Z",
     "shell.execute_reply": "2022-07-29T10:16:47.227034Z"
    }
   },
   "outputs": [
    {
     "data": {
      "text/html": [
       "<HTMLRemove>\n",
       "<h4> <code>method</code> <span style=\"color:Brown\">S3.close</span> <em>(self)</em><a href=\"https://github.com/Netflix/metaflow/tree/master/scaling/datatools/s3.py#L509\" style=\"float:right\">[source]</a></h4><p><blockquote>Delete&nbsp;all&nbsp;temporary&nbsp;files&nbsp;downloaded&nbsp;in&nbsp;this&nbsp;context.</blockquote></p>\n",
       "</HTMLRemove>\n",
       "<DocSection type=\"method\" name=\"S3.close\" module=\"metaflow\" show_import=\"False\" heading_level=\"4\" link=\"https://github.com/Netflix/metaflow/tree/master/scaling/datatools/s3.py#L509\">\n",
       "<SigArgSection>\n",
       "<SigArg name=\"self\" />\n",
       "</SigArgSection>\n",
       "<Description summary=\"Delete all temporary files downloaded in this context.\" />\n",
       "\n",
       "</DocSection>"
      ],
      "text/plain": [
       "<nbdoc.showdoc.ShowDoc at 0x7fc2eadabf40>"
      ]
     },
     "execution_count": 3,
     "metadata": {},
     "output_type": "execute_result"
    }
   ],
   "source": [
    "ShowDoc(S3.close)"
   ]
  },
  {
   "cell_type": "markdown",
   "id": "6a652ab3",
   "metadata": {},
   "source": [
    "## Downloading data"
   ]
  },
  {
   "cell_type": "code",
   "execution_count": 4,
   "id": "30c3afdf",
   "metadata": {
    "execution": {
     "iopub.execute_input": "2022-07-29T10:16:47.242378Z",
     "iopub.status.busy": "2022-07-29T10:16:47.238985Z",
     "iopub.status.idle": "2022-07-29T10:16:47.269294Z",
     "shell.execute_reply": "2022-07-29T10:16:47.271446Z"
    }
   },
   "outputs": [
    {
     "data": {
      "text/html": [
       "<HTMLRemove>\n",
       "<h4> <code>method</code> <span style=\"color:Brown\">S3.get</span> <em>(self, key=None, return_missing=False, return_info=True)</em><a href=\"https://github.com/Netflix/metaflow/tree/master/scaling/datatools/s3.py#L780\" style=\"float:right\">[source]</a></h4><p><blockquote>Get&nbsp;a&nbsp;single&nbsp;object&nbsp;from&nbsp;S3.<br><br>Parameters<br>----------<br>key&nbsp;:&nbsp;str&nbsp;or&nbsp;`S3GetObject`<br>&nbsp;&nbsp;&nbsp;&nbsp;Object&nbsp;to&nbsp;download.&nbsp;It&nbsp;can&nbsp;be&nbsp;an&nbsp;S3&nbsp;url,&nbsp;a&nbsp;path&nbsp;suffix,&nbsp;or<br>&nbsp;&nbsp;&nbsp;&nbsp;an&nbsp;`S3GetObject`&nbsp;that&nbsp;defines&nbsp;a&nbsp;range&nbsp;of&nbsp;data&nbsp;to&nbsp;download.<br>return_missing&nbsp;:&nbsp;bool<br>&nbsp;&nbsp;&nbsp;&nbsp;If&nbsp;set&nbsp;to&nbsp;True,&nbsp;do&nbsp;not&nbsp;raise&nbsp;an&nbsp;exception&nbsp;for&nbsp;a&nbsp;missing&nbsp;key&nbsp;but<br>&nbsp;&nbsp;&nbsp;&nbsp;return&nbsp;it&nbsp;as&nbsp;an&nbsp;`S3Object`&nbsp;with&nbsp;`.exists&nbsp;==&nbsp;False`&nbsp;(default:&nbsp;False).<br>return_info&nbsp;:&nbsp;bool<br>&nbsp;&nbsp;&nbsp;&nbsp;If&nbsp;set&nbsp;to&nbsp;True,&nbsp;fetch&nbsp;the&nbsp;content-type&nbsp;and&nbsp;user&nbsp;metadata&nbsp;associated<br>&nbsp;&nbsp;&nbsp;&nbsp;with&nbsp;the&nbsp;object&nbsp;at&nbsp;no&nbsp;extra&nbsp;cost,&nbsp;included&nbsp;for&nbsp;symmetry&nbsp;with&nbsp;`get_many`<br>&nbsp;&nbsp;&nbsp;&nbsp;(default:&nbsp;True).<br><br>Returns<br>-------<br>`S3Object`<br>&nbsp;&nbsp;&nbsp;&nbsp;An&nbsp;S3Object&nbsp;corresponding&nbsp;to&nbsp;the&nbsp;object&nbsp;requested.</blockquote></p>\n",
       "</HTMLRemove>\n",
       "<DocSection type=\"method\" name=\"S3.get\" module=\"metaflow\" show_import=\"False\" heading_level=\"4\" link=\"https://github.com/Netflix/metaflow/tree/master/scaling/datatools/s3.py#L780\">\n",
       "<SigArgSection>\n",
       "<SigArg name=\"self\" /><SigArg name=\"key\" default=\"None\" /><SigArg name=\"return_missing\" default=\"False\" /><SigArg name=\"return_info\" default=\"True\" />\n",
       "</SigArgSection>\n",
       "<Description summary=\"Get a single object from S3.\" />\n",
       "<ParamSection name=\"Parameters\">\n",
       "\t<Parameter name=\"key\" type=\"str or `S3GetObject`\" desc=\"Object to download. It can be an S3 url, a path suffix, or\\nan `S3GetObject` that defines a range of data to download.\" />\n",
       "\t<Parameter name=\"return_missing\" type=\"bool\" desc=\"If set to True, do not raise an exception for a missing key but\\nreturn it as an `S3Object` with `.exists == False` (default: False).\" />\n",
       "\t<Parameter name=\"return_info\" type=\"bool\" desc=\"If set to True, fetch the content-type and user metadata associated\\nwith the object at no extra cost, included for symmetry with `get_many`\\n(default: True).\" />\n",
       "</ParamSection>\n",
       "<ParamSection name=\"Returns\">\n",
       "\t<Parameter type=\"`S3Object`\" desc=\"An S3Object corresponding to the object requested.\" />\n",
       "</ParamSection>\n",
       "</DocSection>"
      ],
      "text/plain": [
       "<nbdoc.showdoc.ShowDoc at 0x7fc2ecbe5280>"
      ]
     },
     "execution_count": 4,
     "metadata": {},
     "output_type": "execute_result"
    }
   ],
   "source": [
    "ShowDoc(S3.get)"
   ]
  },
  {
   "cell_type": "code",
   "execution_count": 5,
   "id": "2bbb1e36",
   "metadata": {
    "execution": {
     "iopub.execute_input": "2022-07-29T10:16:47.282072Z",
     "iopub.status.busy": "2022-07-29T10:16:47.278007Z",
     "iopub.status.idle": "2022-07-29T10:16:47.295637Z",
     "shell.execute_reply": "2022-07-29T10:16:47.298116Z"
    }
   },
   "outputs": [
    {
     "data": {
      "text/html": [
       "<HTMLRemove>\n",
       "<h4> <code>method</code> <span style=\"color:Brown\">S3.get_many</span> <em>(self, keys, return_missing=False, return_info=True)</em><a href=\"https://github.com/Netflix/metaflow/tree/master/scaling/datatools/s3.py#L868\" style=\"float:right\">[source]</a></h4><p><blockquote>Get&nbsp;many&nbsp;objects&nbsp;from&nbsp;S3&nbsp;in&nbsp;parallel.<br><br>Parameters<br>----------<br>keys&nbsp;:&nbsp;List[str&nbsp;or&nbsp;`S3GetObject`]<br>&nbsp;&nbsp;&nbsp;&nbsp;Objects&nbsp;to&nbsp;download.&nbsp;Each&nbsp;object&nbsp;can&nbsp;be&nbsp;an&nbsp;S3&nbsp;url,&nbsp;a&nbsp;path&nbsp;suffix,&nbsp;or<br>&nbsp;&nbsp;&nbsp;&nbsp;an&nbsp;`S3GetObject`&nbsp;that&nbsp;defines&nbsp;a&nbsp;range&nbsp;of&nbsp;data&nbsp;to&nbsp;download.<br>return_missing&nbsp;:&nbsp;bool<br>&nbsp;&nbsp;&nbsp;&nbsp;If&nbsp;set&nbsp;to&nbsp;True,&nbsp;do&nbsp;not&nbsp;raise&nbsp;an&nbsp;exception&nbsp;for&nbsp;a&nbsp;missing&nbsp;key&nbsp;but<br>&nbsp;&nbsp;&nbsp;&nbsp;return&nbsp;it&nbsp;as&nbsp;an&nbsp;`S3Object`&nbsp;with&nbsp;`.exists&nbsp;==&nbsp;False`&nbsp;(default:&nbsp;False).<br>return_info&nbsp;:&nbsp;bool<br>&nbsp;&nbsp;&nbsp;&nbsp;If&nbsp;set&nbsp;to&nbsp;True,&nbsp;fetch&nbsp;the&nbsp;content-type&nbsp;and&nbsp;user&nbsp;metadata&nbsp;associated<br>&nbsp;&nbsp;&nbsp;&nbsp;with&nbsp;the&nbsp;object&nbsp;at&nbsp;no&nbsp;extra&nbsp;cost,&nbsp;included&nbsp;for&nbsp;symmetry&nbsp;with&nbsp;`get_many`<br>&nbsp;&nbsp;&nbsp;&nbsp;(default:&nbsp;True).<br><br>Returns<br>-------<br>List[`S3Object`]<br>&nbsp;&nbsp;&nbsp;&nbsp;S3Objects&nbsp;corresponding&nbsp;to&nbsp;the&nbsp;objects&nbsp;requested.</blockquote></p>\n",
       "</HTMLRemove>\n",
       "<DocSection type=\"method\" name=\"S3.get_many\" module=\"metaflow\" show_import=\"False\" heading_level=\"4\" link=\"https://github.com/Netflix/metaflow/tree/master/scaling/datatools/s3.py#L868\">\n",
       "<SigArgSection>\n",
       "<SigArg name=\"self\" /><SigArg name=\"keys\" /><SigArg name=\"return_missing\" default=\"False\" /><SigArg name=\"return_info\" default=\"True\" />\n",
       "</SigArgSection>\n",
       "<Description summary=\"Get many objects from S3 in parallel.\" />\n",
       "<ParamSection name=\"Parameters\">\n",
       "\t<Parameter name=\"keys\" type=\"List[str or `S3GetObject`]\" desc=\"Objects to download. Each object can be an S3 url, a path suffix, or\\nan `S3GetObject` that defines a range of data to download.\" />\n",
       "\t<Parameter name=\"return_missing\" type=\"bool\" desc=\"If set to True, do not raise an exception for a missing key but\\nreturn it as an `S3Object` with `.exists == False` (default: False).\" />\n",
       "\t<Parameter name=\"return_info\" type=\"bool\" desc=\"If set to True, fetch the content-type and user metadata associated\\nwith the object at no extra cost, included for symmetry with `get_many`\\n(default: True).\" />\n",
       "</ParamSection>\n",
       "<ParamSection name=\"Returns\">\n",
       "\t<Parameter type=\"List[`S3Object`]\" desc=\"S3Objects corresponding to the objects requested.\" />\n",
       "</ParamSection>\n",
       "</DocSection>"
      ],
      "text/plain": [
       "<nbdoc.showdoc.ShowDoc at 0x7fc2eae6ba30>"
      ]
     },
     "execution_count": 5,
     "metadata": {},
     "output_type": "execute_result"
    }
   ],
   "source": [
    "ShowDoc(S3.get_many)"
   ]
  },
  {
   "cell_type": "code",
   "execution_count": 6,
   "id": "64a74dcf",
   "metadata": {
    "execution": {
     "iopub.execute_input": "2022-07-29T10:16:47.310126Z",
     "iopub.status.busy": "2022-07-29T10:16:47.307674Z",
     "iopub.status.idle": "2022-07-29T10:16:47.323216Z",
     "shell.execute_reply": "2022-07-29T10:16:47.326871Z"
    }
   },
   "outputs": [
    {
     "data": {
      "text/html": [
       "<HTMLRemove>\n",
       "<h4> <code>method</code> <span style=\"color:Brown\">S3.get_recursive</span> <em>(self, keys, return_info=False)</em><a href=\"https://github.com/Netflix/metaflow/tree/master/scaling/datatools/s3.py#L937\" style=\"float:right\">[source]</a></h4><p><blockquote>Get&nbsp;many&nbsp;objects&nbsp;from&nbsp;S3&nbsp;recursively&nbsp;in&nbsp;parallel.<br><br>Parameters<br>----------<br>keys&nbsp;:&nbsp;List[str]<br>&nbsp;&nbsp;&nbsp;&nbsp;Prefixes&nbsp;to&nbsp;download&nbsp;recursively.&nbsp;Each&nbsp;prefix&nbsp;can&nbsp;be&nbsp;an&nbsp;S3&nbsp;url&nbsp;or&nbsp;a&nbsp;path&nbsp;suffix<br>&nbsp;&nbsp;&nbsp;&nbsp;which&nbsp;define&nbsp;the&nbsp;root&nbsp;prefix&nbsp;under&nbsp;which&nbsp;all&nbsp;objects&nbsp;are&nbsp;downloaded.<br>return_info&nbsp;:&nbsp;bool<br>&nbsp;&nbsp;&nbsp;&nbsp;If&nbsp;set&nbsp;to&nbsp;True,&nbsp;fetch&nbsp;the&nbsp;content-type&nbsp;and&nbsp;user&nbsp;metadata&nbsp;associated<br>&nbsp;&nbsp;&nbsp;&nbsp;with&nbsp;the&nbsp;object&nbsp;(default:&nbsp;False).<br><br>Returns<br>-------<br>List[`S3Object`]<br>&nbsp;&nbsp;&nbsp;&nbsp;S3Objects&nbsp;stored&nbsp;under&nbsp;the&nbsp;given&nbsp;prefixes.</blockquote></p>\n",
       "</HTMLRemove>\n",
       "<DocSection type=\"method\" name=\"S3.get_recursive\" module=\"metaflow\" show_import=\"False\" heading_level=\"4\" link=\"https://github.com/Netflix/metaflow/tree/master/scaling/datatools/s3.py#L937\">\n",
       "<SigArgSection>\n",
       "<SigArg name=\"self\" /><SigArg name=\"keys\" /><SigArg name=\"return_info\" default=\"False\" />\n",
       "</SigArgSection>\n",
       "<Description summary=\"Get many objects from S3 recursively in parallel.\" />\n",
       "<ParamSection name=\"Parameters\">\n",
       "\t<Parameter name=\"keys\" type=\"List[str]\" desc=\"Prefixes to download recursively. Each prefix can be an S3 url or a path suffix\\nwhich define the root prefix under which all objects are downloaded.\" />\n",
       "\t<Parameter name=\"return_info\" type=\"bool\" desc=\"If set to True, fetch the content-type and user metadata associated\\nwith the object (default: False).\" />\n",
       "</ParamSection>\n",
       "<ParamSection name=\"Returns\">\n",
       "\t<Parameter type=\"List[`S3Object`]\" desc=\"S3Objects stored under the given prefixes.\" />\n",
       "</ParamSection>\n",
       "</DocSection>"
      ],
      "text/plain": [
       "<nbdoc.showdoc.ShowDoc at 0x7fc2ecbe5250>"
      ]
     },
     "execution_count": 6,
     "metadata": {},
     "output_type": "execute_result"
    }
   ],
   "source": [
    "ShowDoc(S3.get_recursive)"
   ]
  },
  {
   "cell_type": "code",
   "execution_count": 7,
   "id": "62b5aa5c",
   "metadata": {
    "execution": {
     "iopub.execute_input": "2022-07-29T10:16:47.341884Z",
     "iopub.status.busy": "2022-07-29T10:16:47.338512Z",
     "iopub.status.idle": "2022-07-29T10:16:47.353201Z",
     "shell.execute_reply": "2022-07-29T10:16:47.355772Z"
    }
   },
   "outputs": [
    {
     "data": {
      "text/html": [
       "<HTMLRemove>\n",
       "<h4> <code>method</code> <span style=\"color:Brown\">S3.get_all</span> <em>(self, return_info=False)</em><a href=\"https://github.com/Netflix/metaflow/tree/master/scaling/datatools/s3.py#L989\" style=\"float:right\">[source]</a></h4><p><blockquote>Get&nbsp;all&nbsp;objects&nbsp;under&nbsp;the&nbsp;prefix&nbsp;set&nbsp;in&nbsp;the&nbsp;`S3`&nbsp;constructor.<br><br>This&nbsp;method&nbsp;requires&nbsp;that&nbsp;the&nbsp;`S3`&nbsp;object&nbsp;is&nbsp;initialized&nbsp;either&nbsp;with&nbsp;`run`&nbsp;or<br>`s3root`.<br><br>Parameters<br>----------<br>return_info&nbsp;:&nbsp;bool<br>&nbsp;&nbsp;&nbsp;&nbsp;If&nbsp;set&nbsp;to&nbsp;True,&nbsp;fetch&nbsp;the&nbsp;content-type&nbsp;and&nbsp;user&nbsp;metadata&nbsp;associated<br>&nbsp;&nbsp;&nbsp;&nbsp;with&nbsp;the&nbsp;object&nbsp;(default:&nbsp;False).<br><br>Returns<br>-------<br>List[`S3Object`]<br>&nbsp;&nbsp;&nbsp;&nbsp;S3Objects&nbsp;stored&nbsp;under&nbsp;the&nbsp;main&nbsp;prefix.</blockquote></p>\n",
       "</HTMLRemove>\n",
       "<DocSection type=\"method\" name=\"S3.get_all\" module=\"metaflow\" show_import=\"False\" heading_level=\"4\" link=\"https://github.com/Netflix/metaflow/tree/master/scaling/datatools/s3.py#L989\">\n",
       "<SigArgSection>\n",
       "<SigArg name=\"self\" /><SigArg name=\"return_info\" default=\"False\" />\n",
       "</SigArgSection>\n",
       "<Description summary=\"Get all objects under the prefix set in the `S3` constructor.\" extended_summary=\"This method requires that the `S3` object is initialized either with `run` or\\n`s3root`.\" />\n",
       "<ParamSection name=\"Parameters\">\n",
       "\t<Parameter name=\"return_info\" type=\"bool\" desc=\"If set to True, fetch the content-type and user metadata associated\\nwith the object (default: False).\" />\n",
       "</ParamSection>\n",
       "<ParamSection name=\"Returns\">\n",
       "\t<Parameter type=\"List[`S3Object`]\" desc=\"S3Objects stored under the main prefix.\" />\n",
       "</ParamSection>\n",
       "</DocSection>"
      ],
      "text/plain": [
       "<nbdoc.showdoc.ShowDoc at 0x7fc2ecbe5fa0>"
      ]
     },
     "execution_count": 7,
     "metadata": {},
     "output_type": "execute_result"
    }
   ],
   "source": [
    "ShowDoc(S3.get_all)"
   ]
  },
  {
   "cell_type": "markdown",
   "id": "8e025d12",
   "metadata": {},
   "source": [
    "## Listing objects"
   ]
  },
  {
   "cell_type": "code",
   "execution_count": 8,
   "id": "b00c7e64",
   "metadata": {
    "execution": {
     "iopub.execute_input": "2022-07-29T10:16:47.372469Z",
     "iopub.status.busy": "2022-07-29T10:16:47.369624Z",
     "iopub.status.idle": "2022-07-29T10:16:47.392343Z",
     "shell.execute_reply": "2022-07-29T10:16:47.394561Z"
    },
    "scrolled": true
   },
   "outputs": [
    {
     "data": {
      "text/html": [
       "<HTMLRemove>\n",
       "<h4> <code>method</code> <span style=\"color:Brown\">S3.list_paths</span> <em>(self, keys=None)</em><a href=\"https://github.com/Netflix/metaflow/tree/master/scaling/datatools/s3.py#L574\" style=\"float:right\">[source]</a></h4><p><blockquote>List&nbsp;the&nbsp;next&nbsp;level&nbsp;of&nbsp;paths&nbsp;in&nbsp;S3.<br><br>If&nbsp;multiple&nbsp;keys&nbsp;are&nbsp;specified,&nbsp;listings&nbsp;are&nbsp;done&nbsp;in&nbsp;parallel.&nbsp;The&nbsp;returned<br>S3Objects&nbsp;have&nbsp;`.exists&nbsp;==&nbsp;False`&nbsp;if&nbsp;the&nbsp;path&nbsp;refers&nbsp;to&nbsp;a&nbsp;prefix,&nbsp;not&nbsp;an<br>existing&nbsp;S3&nbsp;object.<br><br>For&nbsp;instance,&nbsp;if&nbsp;the&nbsp;directory&nbsp;hierarchy&nbsp;is<br>```<br>a/0.txt<br>a/b/1.txt<br>a/c/2.txt<br>a/d/e/3.txt<br>f/4.txt<br>```<br>The&nbsp;`list_paths(['a',&nbsp;'f'])`&nbsp;call&nbsp;returns<br>```<br>a/0.txt&nbsp;(exists&nbsp;==&nbsp;True)<br>a/b/&nbsp;(exists&nbsp;==&nbsp;False)<br>a/c/&nbsp;(exists&nbsp;==&nbsp;False)<br>a/d/&nbsp;(exists&nbsp;==&nbsp;False)<br>f/4.txt&nbsp;(exists&nbsp;==&nbsp;True)<br>```<br><br>Parameters<br>----------<br>keys&nbsp;:&nbsp;List(str)<br>&nbsp;&nbsp;&nbsp;&nbsp;List&nbsp;of&nbsp;paths.<br><br>Returns<br>-------<br>List[`S3Object`]<br>&nbsp;&nbsp;&nbsp;&nbsp;S3Objects&nbsp;under&nbsp;the&nbsp;given&nbsp;paths,&nbsp;including&nbsp;prefixes&nbsp;(directories)&nbsp;that<br>&nbsp;&nbsp;&nbsp;&nbsp;do&nbsp;not&nbsp;corresponding&nbsp;to&nbsp;leaf&nbsp;objects.</blockquote></p>\n",
       "</HTMLRemove>\n",
       "<DocSection type=\"method\" name=\"S3.list_paths\" module=\"metaflow\" show_import=\"False\" heading_level=\"4\" link=\"https://github.com/Netflix/metaflow/tree/master/scaling/datatools/s3.py#L574\">\n",
       "<SigArgSection>\n",
       "<SigArg name=\"self\" /><SigArg name=\"keys\" default=\"None\" />\n",
       "</SigArgSection>\n",
       "<Description summary=\"List the next level of paths in S3.\" extended_summary=\"If multiple keys are specified, listings are done in parallel. The returned\\nS3Objects have `.exists == False` if the path refers to a prefix, not an\\nexisting S3 object.\\n\\nFor instance, if the directory hierarchy is\\n```\\na/0.txt\\na/b/1.txt\\na/c/2.txt\\na/d/e/3.txt\\nf/4.txt\\n```\\nThe `list_paths(['a', 'f'])` call returns\\n```\\na/0.txt (exists == True)\\na/b/ (exists == False)\\na/c/ (exists == False)\\na/d/ (exists == False)\\nf/4.txt (exists == True)\\n```\" />\n",
       "<ParamSection name=\"Parameters\">\n",
       "\t<Parameter name=\"keys\" type=\"List(str)\" desc=\"List of paths.\" />\n",
       "</ParamSection>\n",
       "<ParamSection name=\"Returns\">\n",
       "\t<Parameter type=\"List[`S3Object`]\" desc=\"S3Objects under the given paths, including prefixes (directories) that\\ndo not corresponding to leaf objects.\" />\n",
       "</ParamSection>\n",
       "</DocSection>"
      ],
      "text/plain": [
       "<nbdoc.showdoc.ShowDoc at 0x7fc2ecbe5340>"
      ]
     },
     "execution_count": 8,
     "metadata": {},
     "output_type": "execute_result"
    }
   ],
   "source": [
    "ShowDoc(S3.list_paths)"
   ]
  },
  {
   "cell_type": "code",
   "execution_count": 9,
   "id": "9b39aa1f",
   "metadata": {
    "execution": {
     "iopub.execute_input": "2022-07-29T10:16:47.408354Z",
     "iopub.status.busy": "2022-07-29T10:16:47.404978Z",
     "iopub.status.idle": "2022-07-29T10:16:47.415730Z",
     "shell.execute_reply": "2022-07-29T10:16:47.417703Z"
    },
    "scrolled": true
   },
   "outputs": [
    {
     "data": {
      "text/html": [
       "<HTMLRemove>\n",
       "<h4> <code>method</code> <span style=\"color:Brown\">S3.list_recursive</span> <em>(self, keys=None)</em><a href=\"https://github.com/Netflix/metaflow/tree/master/scaling/datatools/s3.py#L624\" style=\"float:right\">[source]</a></h4><p><blockquote>List&nbsp;all&nbsp;objects&nbsp;recursives&nbsp;under&nbsp;the&nbsp;given&nbsp;prefixes.<br><br>If&nbsp;multiple&nbsp;keys&nbsp;are&nbsp;specified,&nbsp;listings&nbsp;are&nbsp;done&nbsp;in&nbsp;parallel.&nbsp;All&nbsp;objects<br>returned&nbsp;have&nbsp;`.exists&nbsp;==&nbsp;True`&nbsp;as&nbsp;this&nbsp;call&nbsp;always&nbsp;returns&nbsp;leaf&nbsp;objects.<br><br>For&nbsp;instance,&nbsp;if&nbsp;the&nbsp;directory&nbsp;hierarchy&nbsp;is<br>```<br>a/0.txt<br>a/b/1.txt<br>a/c/2.txt<br>a/d/e/3.txt<br>f/4.txt<br>```<br>The&nbsp;`list_paths(['a',&nbsp;'f'])`&nbsp;call&nbsp;returns<br>```<br>a/0.txt&nbsp;(exists&nbsp;==&nbsp;True)<br>a/b/1.txt&nbsp;(exists&nbsp;==&nbsp;True)<br>a/c/2.txt&nbsp;(exists&nbsp;==&nbsp;True)<br>a/d/e/3.txt&nbsp;(exists&nbsp;==&nbsp;True)<br>f/4.txt&nbsp;(exists&nbsp;==&nbsp;True)<br>```<br><br>Parameters<br>----------<br>keys&nbsp;:&nbsp;List(str)<br>&nbsp;&nbsp;&nbsp;&nbsp;List&nbsp;of&nbsp;paths.<br><br>Returns<br>-------<br>List[`S3Object`]<br>&nbsp;&nbsp;&nbsp;&nbsp;S3Objects&nbsp;under&nbsp;the&nbsp;given&nbsp;paths.</blockquote></p>\n",
       "</HTMLRemove>\n",
       "<DocSection type=\"method\" name=\"S3.list_recursive\" module=\"metaflow\" show_import=\"False\" heading_level=\"4\" link=\"https://github.com/Netflix/metaflow/tree/master/scaling/datatools/s3.py#L624\">\n",
       "<SigArgSection>\n",
       "<SigArg name=\"self\" /><SigArg name=\"keys\" default=\"None\" />\n",
       "</SigArgSection>\n",
       "<Description summary=\"List all objects recursives under the given prefixes.\" extended_summary=\"If multiple keys are specified, listings are done in parallel. All objects\\nreturned have `.exists == True` as this call always returns leaf objects.\\n\\nFor instance, if the directory hierarchy is\\n```\\na/0.txt\\na/b/1.txt\\na/c/2.txt\\na/d/e/3.txt\\nf/4.txt\\n```\\nThe `list_paths(['a', 'f'])` call returns\\n```\\na/0.txt (exists == True)\\na/b/1.txt (exists == True)\\na/c/2.txt (exists == True)\\na/d/e/3.txt (exists == True)\\nf/4.txt (exists == True)\\n```\" />\n",
       "<ParamSection name=\"Parameters\">\n",
       "\t<Parameter name=\"keys\" type=\"List(str)\" desc=\"List of paths.\" />\n",
       "</ParamSection>\n",
       "<ParamSection name=\"Returns\">\n",
       "\t<Parameter type=\"List[`S3Object`]\" desc=\"S3Objects under the given paths.\" />\n",
       "</ParamSection>\n",
       "</DocSection>"
      ],
      "text/plain": [
       "<nbdoc.showdoc.ShowDoc at 0x7fc2ecbe5190>"
      ]
     },
     "execution_count": 9,
     "metadata": {},
     "output_type": "execute_result"
    }
   ],
   "source": [
    "ShowDoc(S3.list_recursive)"
   ]
  },
  {
   "cell_type": "markdown",
   "id": "4bbb628d",
   "metadata": {},
   "source": [
    "## Uploading data"
   ]
  },
  {
   "cell_type": "code",
   "execution_count": 10,
   "id": "8e76d108",
   "metadata": {
    "execution": {
     "iopub.execute_input": "2022-07-29T10:16:47.434625Z",
     "iopub.status.busy": "2022-07-29T10:16:47.431798Z",
     "iopub.status.idle": "2022-07-29T10:16:47.442690Z",
     "shell.execute_reply": "2022-07-29T10:16:47.444793Z"
    },
    "scrolled": true
   },
   "outputs": [
    {
     "data": {
      "text/html": [
       "<HTMLRemove>\n",
       "<h4> <code>method</code> <span style=\"color:Brown\">S3.put</span> <em>(self, key, obj, overwrite=True, content_type=None, metadata=None)</em><a href=\"https://github.com/Netflix/metaflow/tree/master/scaling/datatools/s3.py#L1015\" style=\"float:right\">[source]</a></h4><p><blockquote>Upload&nbsp;a&nbsp;single&nbsp;object&nbsp;to&nbsp;S3.<br><br>Parameters<br>----------<br>key&nbsp;:&nbsp;str&nbsp;or&nbsp;`S3PutObject`<br>&nbsp;&nbsp;&nbsp;&nbsp;Object&nbsp;path.&nbsp;It&nbsp;can&nbsp;be&nbsp;an&nbsp;S3&nbsp;url&nbsp;or&nbsp;a&nbsp;path&nbsp;suffix.<br>obj&nbsp;:&nbsp;bytes&nbsp;or&nbsp;str<br>&nbsp;&nbsp;&nbsp;&nbsp;An&nbsp;object&nbsp;to&nbsp;store&nbsp;in&nbsp;S3.&nbsp;Strings&nbsp;are&nbsp;converted&nbsp;to&nbsp;UTF-8&nbsp;encoding.<br>overwrite&nbsp;:&nbsp;bool<br>&nbsp;&nbsp;&nbsp;&nbsp;Overwrite&nbsp;the&nbsp;object&nbsp;if&nbsp;it&nbsp;exists.&nbsp;If&nbsp;set&nbsp;to&nbsp;False,&nbsp;the&nbsp;operation<br>&nbsp;&nbsp;&nbsp;&nbsp;succeeds&nbsp;without&nbsp;uploading&nbsp;anything&nbsp;if&nbsp;the&nbsp;key&nbsp;already&nbsp;exists<br>&nbsp;&nbsp;&nbsp;&nbsp;(default:&nbsp;True).<br>content_type&nbsp;:&nbsp;str<br>&nbsp;&nbsp;&nbsp;&nbsp;Optional&nbsp;MIME&nbsp;type&nbsp;for&nbsp;the&nbsp;object.<br>metadata&nbsp;:&nbsp;Dict<br>&nbsp;&nbsp;&nbsp;&nbsp;A&nbsp;JSON-encodable&nbsp;dictionary&nbsp;of&nbsp;additional&nbsp;headers&nbsp;to&nbsp;be&nbsp;stored<br>&nbsp;&nbsp;&nbsp;&nbsp;as&nbsp;metadata&nbsp;with&nbsp;the&nbsp;object.<br><br>Returns<br>-------<br>str<br>&nbsp;&nbsp;&nbsp;&nbsp;URL&nbsp;of&nbsp;the&nbsp;object&nbsp;stored.</blockquote></p>\n",
       "</HTMLRemove>\n",
       "<DocSection type=\"method\" name=\"S3.put\" module=\"metaflow\" show_import=\"False\" heading_level=\"4\" link=\"https://github.com/Netflix/metaflow/tree/master/scaling/datatools/s3.py#L1015\">\n",
       "<SigArgSection>\n",
       "<SigArg name=\"self\" /><SigArg name=\"key\" /><SigArg name=\"obj\" /><SigArg name=\"overwrite\" default=\"True\" /><SigArg name=\"content_type\" default=\"None\" /><SigArg name=\"metadata\" default=\"None\" />\n",
       "</SigArgSection>\n",
       "<Description summary=\"Upload a single object to S3.\" />\n",
       "<ParamSection name=\"Parameters\">\n",
       "\t<Parameter name=\"key\" type=\"str or `S3PutObject`\" desc=\"Object path. It can be an S3 url or a path suffix.\" />\n",
       "\t<Parameter name=\"obj\" type=\"bytes or str\" desc=\"An object to store in S3. Strings are converted to UTF-8 encoding.\" />\n",
       "\t<Parameter name=\"overwrite\" type=\"bool\" desc=\"Overwrite the object if it exists. If set to False, the operation\\nsucceeds without uploading anything if the key already exists\\n(default: True).\" />\n",
       "\t<Parameter name=\"content_type\" type=\"str\" desc=\"Optional MIME type for the object.\" />\n",
       "\t<Parameter name=\"metadata\" type=\"Dict\" desc=\"A JSON-encodable dictionary of additional headers to be stored\\nas metadata with the object.\" />\n",
       "</ParamSection>\n",
       "<ParamSection name=\"Returns\">\n",
       "\t<Parameter type=\"str\" desc=\"URL of the object stored.\" />\n",
       "</ParamSection>\n",
       "</DocSection>"
      ],
      "text/plain": [
       "<nbdoc.showdoc.ShowDoc at 0x7fc2ecbe5ac0>"
      ]
     },
     "execution_count": 10,
     "metadata": {},
     "output_type": "execute_result"
    }
   ],
   "source": [
    "ShowDoc(S3.put)"
   ]
  },
  {
   "cell_type": "code",
   "execution_count": 11,
   "id": "ae5c6247",
   "metadata": {
    "execution": {
     "iopub.execute_input": "2022-07-29T10:16:47.457903Z",
     "iopub.status.busy": "2022-07-29T10:16:47.454771Z",
     "iopub.status.idle": "2022-07-29T10:16:47.471628Z",
     "shell.execute_reply": "2022-07-29T10:16:47.473803Z"
    }
   },
   "outputs": [
    {
     "data": {
      "text/html": [
       "<HTMLRemove>\n",
       "<h4> <code>method</code> <span style=\"color:Brown\">S3.put_many</span> <em>(self, key_objs, overwrite=True)</em><a href=\"https://github.com/Netflix/metaflow/tree/master/scaling/datatools/s3.py#L1097\" style=\"float:right\">[source]</a></h4><p><blockquote>Upload&nbsp;many&nbsp;objects&nbsp;to&nbsp;S3.<br><br>Each&nbsp;object&nbsp;to&nbsp;be&nbsp;uploaded&nbsp;can&nbsp;be&nbsp;specified&nbsp;in&nbsp;two&nbsp;ways:<br><br>1.&nbsp;As&nbsp;a&nbsp;a&nbsp;`(key,&nbsp;obj)`&nbsp;tuple&nbsp;where&nbsp;`key`&nbsp;is&nbsp;a&nbsp;string&nbsp;specifying<br>&nbsp;&nbsp;&nbsp;the&nbsp;path&nbsp;and&nbsp;`obj`&nbsp;is&nbsp;a&nbsp;string&nbsp;or&nbsp;a&nbsp;bytes&nbsp;object.<br><br>2.&nbsp;As&nbsp;a&nbsp;`S3PutObject`&nbsp;which&nbsp;contains&nbsp;additional&nbsp;metadata&nbsp;to&nbsp;be<br>&nbsp;&nbsp;&nbsp;stored&nbsp;with&nbsp;the&nbsp;object.<br><br>Parameters<br>----------<br>key_objs&nbsp;:&nbsp;List[(str,&nbsp;str)&nbsp;or&nbsp;`S3PutObject`]<br>&nbsp;&nbsp;&nbsp;&nbsp;List&nbsp;of&nbsp;key-object&nbsp;pairs&nbsp;to&nbsp;upload.<br>overwrite&nbsp;:&nbsp;bool<br>&nbsp;&nbsp;&nbsp;&nbsp;Overwrite&nbsp;the&nbsp;object&nbsp;if&nbsp;it&nbsp;exists.&nbsp;If&nbsp;set&nbsp;to&nbsp;False,&nbsp;the&nbsp;operation<br>&nbsp;&nbsp;&nbsp;&nbsp;succeeds&nbsp;without&nbsp;uploading&nbsp;anything&nbsp;if&nbsp;the&nbsp;key&nbsp;already&nbsp;exists<br>&nbsp;&nbsp;&nbsp;&nbsp;(default:&nbsp;True).<br><br>Returns<br>-------<br>List[(str,&nbsp;str)]<br>&nbsp;&nbsp;&nbsp;&nbsp;List&nbsp;of&nbsp;`(key,&nbsp;url)`&nbsp;pairs&nbsp;corresponding&nbsp;to&nbsp;the&nbsp;objects&nbsp;uploaded.</blockquote></p>\n",
       "</HTMLRemove>\n",
       "<DocSection type=\"method\" name=\"S3.put_many\" module=\"metaflow\" show_import=\"False\" heading_level=\"4\" link=\"https://github.com/Netflix/metaflow/tree/master/scaling/datatools/s3.py#L1097\">\n",
       "<SigArgSection>\n",
       "<SigArg name=\"self\" /><SigArg name=\"key_objs\" /><SigArg name=\"overwrite\" default=\"True\" />\n",
       "</SigArgSection>\n",
       "<Description summary=\"Upload many objects to S3.\" extended_summary=\"Each object to be uploaded can be specified in two ways:\\n\\n1. As a a `(key, obj)` tuple where `key` is a string specifying\\n   the path and `obj` is a string or a bytes object.\\n\\n2. As a `S3PutObject` which contains additional metadata to be\\n   stored with the object.\" />\n",
       "<ParamSection name=\"Parameters\">\n",
       "\t<Parameter name=\"key_objs\" type=\"List[(str, str) or `S3PutObject`]\" desc=\"List of key-object pairs to upload.\" />\n",
       "\t<Parameter name=\"overwrite\" type=\"bool\" desc=\"Overwrite the object if it exists. If set to False, the operation\\nsucceeds without uploading anything if the key already exists\\n(default: True).\" />\n",
       "</ParamSection>\n",
       "<ParamSection name=\"Returns\">\n",
       "\t<Parameter type=\"List[(str, str)]\" desc=\"List of `(key, url)` pairs corresponding to the objects uploaded.\" />\n",
       "</ParamSection>\n",
       "</DocSection>"
      ],
      "text/plain": [
       "<nbdoc.showdoc.ShowDoc at 0x7fc2ecbe5e80>"
      ]
     },
     "execution_count": 11,
     "metadata": {},
     "output_type": "execute_result"
    }
   ],
   "source": [
    "ShowDoc(S3.put_many)"
   ]
  },
  {
   "cell_type": "code",
   "execution_count": 12,
   "id": "d9c3ea39",
   "metadata": {
    "execution": {
     "iopub.execute_input": "2022-07-29T10:16:47.512903Z",
     "iopub.status.busy": "2022-07-29T10:16:47.508647Z",
     "iopub.status.idle": "2022-07-29T10:16:47.552116Z",
     "shell.execute_reply": "2022-07-29T10:16:47.555449Z"
    }
   },
   "outputs": [
    {
     "data": {
      "text/html": [
       "<HTMLRemove>\n",
       "<h4> <code>method</code> <span style=\"color:Brown\">S3.put_files</span> <em>(self, key_paths, overwrite=True)</em><a href=\"https://github.com/Netflix/metaflow/tree/master/scaling/datatools/s3.py#L1166\" style=\"float:right\">[source]</a></h4><p><blockquote>Upload&nbsp;many&nbsp;local&nbsp;files&nbsp;to&nbsp;S3.<br><br>Each&nbsp;file&nbsp;to&nbsp;be&nbsp;uploaded&nbsp;can&nbsp;be&nbsp;specified&nbsp;in&nbsp;two&nbsp;ways:<br><br>1.&nbsp;As&nbsp;a&nbsp;a&nbsp;`(key,&nbsp;path)`&nbsp;tuple&nbsp;where&nbsp;`key`&nbsp;is&nbsp;a&nbsp;string&nbsp;specifying<br>&nbsp;&nbsp;&nbsp;the&nbsp;S3&nbsp;path&nbsp;and&nbsp;`path`&nbsp;is&nbsp;the&nbsp;path&nbsp;to&nbsp;a&nbsp;local&nbsp;file.<br><br>2.&nbsp;As&nbsp;a&nbsp;`S3PutObject`&nbsp;which&nbsp;contains&nbsp;additional&nbsp;metadata&nbsp;to&nbsp;be<br>&nbsp;&nbsp;&nbsp;stored&nbsp;with&nbsp;the&nbsp;file.<br><br>Parameters<br>----------<br>key_paths&nbsp;:&nbsp;List[(str,&nbsp;str)&nbsp;or&nbsp;`S3PutObject`]<br>&nbsp;&nbsp;&nbsp;&nbsp;List&nbsp;of&nbsp;files&nbsp;to&nbsp;upload.<br>overwrite&nbsp;:&nbsp;bool<br>&nbsp;&nbsp;&nbsp;&nbsp;Overwrite&nbsp;the&nbsp;object&nbsp;if&nbsp;it&nbsp;exists.&nbsp;If&nbsp;set&nbsp;to&nbsp;False,&nbsp;the&nbsp;operation<br>&nbsp;&nbsp;&nbsp;&nbsp;succeeds&nbsp;without&nbsp;uploading&nbsp;anything&nbsp;if&nbsp;the&nbsp;key&nbsp;already&nbsp;exists<br>&nbsp;&nbsp;&nbsp;&nbsp;(default:&nbsp;True).<br><br>Returns<br>-------<br>List[(str,&nbsp;str)]<br>&nbsp;&nbsp;&nbsp;&nbsp;List&nbsp;of&nbsp;`(key,&nbsp;url)`&nbsp;pairs&nbsp;corresponding&nbsp;to&nbsp;the&nbsp;files&nbsp;uploaded.</blockquote></p>\n",
       "</HTMLRemove>\n",
       "<DocSection type=\"method\" name=\"S3.put_files\" module=\"metaflow\" show_import=\"False\" heading_level=\"4\" link=\"https://github.com/Netflix/metaflow/tree/master/scaling/datatools/s3.py#L1166\">\n",
       "<SigArgSection>\n",
       "<SigArg name=\"self\" /><SigArg name=\"key_paths\" /><SigArg name=\"overwrite\" default=\"True\" />\n",
       "</SigArgSection>\n",
       "<Description summary=\"Upload many local files to S3.\" extended_summary=\"Each file to be uploaded can be specified in two ways:\\n\\n1. As a a `(key, path)` tuple where `key` is a string specifying\\n   the S3 path and `path` is the path to a local file.\\n\\n2. As a `S3PutObject` which contains additional metadata to be\\n   stored with the file.\" />\n",
       "<ParamSection name=\"Parameters\">\n",
       "\t<Parameter name=\"key_paths\" type=\"List[(str, str) or `S3PutObject`]\" desc=\"List of files to upload.\" />\n",
       "\t<Parameter name=\"overwrite\" type=\"bool\" desc=\"Overwrite the object if it exists. If set to False, the operation\\nsucceeds without uploading anything if the key already exists\\n(default: True).\" />\n",
       "</ParamSection>\n",
       "<ParamSection name=\"Returns\">\n",
       "\t<Parameter type=\"List[(str, str)]\" desc=\"List of `(key, url)` pairs corresponding to the files uploaded.\" />\n",
       "</ParamSection>\n",
       "</DocSection>"
      ],
      "text/plain": [
       "<nbdoc.showdoc.ShowDoc at 0x7fc2ecbe52e0>"
      ]
     },
     "execution_count": 12,
     "metadata": {},
     "output_type": "execute_result"
    }
   ],
   "source": [
    "ShowDoc(S3.put_files)"
   ]
  },
  {
   "cell_type": "markdown",
   "id": "e451c9e4",
   "metadata": {},
   "source": [
    "## Querying metadata"
   ]
  },
  {
   "cell_type": "code",
   "execution_count": 13,
   "id": "c7055621",
   "metadata": {
    "execution": {
     "iopub.execute_input": "2022-07-29T10:16:47.571861Z",
     "iopub.status.busy": "2022-07-29T10:16:47.568750Z",
     "iopub.status.idle": "2022-07-29T10:16:47.578928Z",
     "shell.execute_reply": "2022-07-29T10:16:47.581041Z"
    }
   },
   "outputs": [
    {
     "data": {
      "text/html": [
       "<HTMLRemove>\n",
       "<h4> <code>method</code> <span style=\"color:Brown\">S3.info</span> <em>(self, key=None, return_missing=False)</em><a href=\"https://github.com/Netflix/metaflow/tree/master/scaling/datatools/s3.py#L670\" style=\"float:right\">[source]</a></h4><p><blockquote>Get&nbsp;metadata&nbsp;about&nbsp;a&nbsp;single&nbsp;object&nbsp;in&nbsp;S3.<br><br>This&nbsp;call&nbsp;makes&nbsp;a&nbsp;single&nbsp;`HEAD`&nbsp;request&nbsp;to&nbsp;S3&nbsp;which&nbsp;can&nbsp;be<br>much&nbsp;faster&nbsp;than&nbsp;downloading&nbsp;all&nbsp;data&nbsp;with&nbsp;`get`.<br><br>Parameters<br>----------<br>key&nbsp;:&nbsp;str<br>&nbsp;&nbsp;&nbsp;&nbsp;Object&nbsp;to&nbsp;query.&nbsp;It&nbsp;can&nbsp;be&nbsp;an&nbsp;S3&nbsp;url&nbsp;or&nbsp;a&nbsp;path&nbsp;suffix.<br>return_missing&nbsp;:&nbsp;bool<br>&nbsp;&nbsp;&nbsp;&nbsp;If&nbsp;set&nbsp;to&nbsp;True,&nbsp;do&nbsp;not&nbsp;raise&nbsp;an&nbsp;exception&nbsp;for&nbsp;a&nbsp;missing&nbsp;key&nbsp;but<br>&nbsp;&nbsp;&nbsp;&nbsp;return&nbsp;it&nbsp;as&nbsp;an&nbsp;`S3Object`&nbsp;with&nbsp;`.exists&nbsp;==&nbsp;False`&nbsp;(default:&nbsp;False).<br><br>Returns<br>-------<br>`S3Object`<br>&nbsp;&nbsp;&nbsp;&nbsp;An&nbsp;S3Object&nbsp;corresponding&nbsp;to&nbsp;the&nbsp;object&nbsp;requested.&nbsp;The&nbsp;object<br>&nbsp;&nbsp;&nbsp;&nbsp;will&nbsp;have&nbsp;`.downloaded&nbsp;==&nbsp;False`.</blockquote></p>\n",
       "</HTMLRemove>\n",
       "<DocSection type=\"method\" name=\"S3.info\" module=\"metaflow\" show_import=\"False\" heading_level=\"4\" link=\"https://github.com/Netflix/metaflow/tree/master/scaling/datatools/s3.py#L670\">\n",
       "<SigArgSection>\n",
       "<SigArg name=\"self\" /><SigArg name=\"key\" default=\"None\" /><SigArg name=\"return_missing\" default=\"False\" />\n",
       "</SigArgSection>\n",
       "<Description summary=\"Get metadata about a single object in S3.\" extended_summary=\"This call makes a single `HEAD` request to S3 which can be\\nmuch faster than downloading all data with `get`.\" />\n",
       "<ParamSection name=\"Parameters\">\n",
       "\t<Parameter name=\"key\" type=\"str\" desc=\"Object to query. It can be an S3 url or a path suffix.\" />\n",
       "\t<Parameter name=\"return_missing\" type=\"bool\" desc=\"If set to True, do not raise an exception for a missing key but\\nreturn it as an `S3Object` with `.exists == False` (default: False).\" />\n",
       "</ParamSection>\n",
       "<ParamSection name=\"Returns\">\n",
       "\t<Parameter type=\"`S3Object`\" desc=\"An S3Object corresponding to the object requested. The object\\nwill have `.downloaded == False`.\" />\n",
       "</ParamSection>\n",
       "</DocSection>"
      ],
      "text/plain": [
       "<nbdoc.showdoc.ShowDoc at 0x7fc2ecbe5eb0>"
      ]
     },
     "execution_count": 13,
     "metadata": {},
     "output_type": "execute_result"
    }
   ],
   "source": [
    "ShowDoc(S3.info)"
   ]
  },
  {
   "cell_type": "code",
   "execution_count": 14,
   "id": "ba5e0f9b",
   "metadata": {
    "execution": {
     "iopub.execute_input": "2022-07-29T10:16:47.597522Z",
     "iopub.status.busy": "2022-07-29T10:16:47.594976Z",
     "iopub.status.idle": "2022-07-29T10:16:47.604089Z",
     "shell.execute_reply": "2022-07-29T10:16:47.606280Z"
    }
   },
   "outputs": [
    {
     "data": {
      "text/html": [
       "<HTMLRemove>\n",
       "<h4> <code>method</code> <span style=\"color:Brown\">S3.info_many</span> <em>(self, keys, return_missing=False)</em><a href=\"https://github.com/Netflix/metaflow/tree/master/scaling/datatools/s3.py#L724\" style=\"float:right\">[source]</a></h4><p><blockquote>Get&nbsp;metadata&nbsp;about&nbsp;many&nbsp;objects&nbsp;in&nbsp;S3&nbsp;in&nbsp;parallel.<br><br>This&nbsp;call&nbsp;makes&nbsp;a&nbsp;single&nbsp;`HEAD`&nbsp;request&nbsp;to&nbsp;S3&nbsp;which&nbsp;can&nbsp;be<br>much&nbsp;faster&nbsp;than&nbsp;downloading&nbsp;all&nbsp;data&nbsp;with&nbsp;`get`.<br><br>Parameters<br>----------<br>keys&nbsp;:&nbsp;List[str]<br>&nbsp;&nbsp;&nbsp;&nbsp;Objects&nbsp;to&nbsp;query.&nbsp;Each&nbsp;key&nbsp;can&nbsp;be&nbsp;an&nbsp;S3&nbsp;url&nbsp;or&nbsp;a&nbsp;path&nbsp;suffix.<br>return_missing&nbsp;:&nbsp;bool<br>&nbsp;&nbsp;&nbsp;&nbsp;If&nbsp;set&nbsp;to&nbsp;True,&nbsp;do&nbsp;not&nbsp;raise&nbsp;an&nbsp;exception&nbsp;for&nbsp;a&nbsp;missing&nbsp;key&nbsp;but<br>&nbsp;&nbsp;&nbsp;&nbsp;return&nbsp;it&nbsp;as&nbsp;an&nbsp;`S3Object`&nbsp;with&nbsp;`.exists&nbsp;==&nbsp;False`&nbsp;(default:&nbsp;False).<br><br>Returns<br>-------<br>List[`S3Object`]<br>&nbsp;&nbsp;&nbsp;&nbsp;A&nbsp;list&nbsp;of&nbsp;`S3Object`s&nbsp;corresponding&nbsp;to&nbsp;the&nbsp;paths&nbsp;requested.&nbsp;The<br>&nbsp;&nbsp;&nbsp;&nbsp;objects&nbsp;will&nbsp;have&nbsp;`.downloaded&nbsp;==&nbsp;False`.</blockquote></p>\n",
       "</HTMLRemove>\n",
       "<DocSection type=\"method\" name=\"S3.info_many\" module=\"metaflow\" show_import=\"False\" heading_level=\"4\" link=\"https://github.com/Netflix/metaflow/tree/master/scaling/datatools/s3.py#L724\">\n",
       "<SigArgSection>\n",
       "<SigArg name=\"self\" /><SigArg name=\"keys\" /><SigArg name=\"return_missing\" default=\"False\" />\n",
       "</SigArgSection>\n",
       "<Description summary=\"Get metadata about many objects in S3 in parallel.\" extended_summary=\"This call makes a single `HEAD` request to S3 which can be\\nmuch faster than downloading all data with `get`.\" />\n",
       "<ParamSection name=\"Parameters\">\n",
       "\t<Parameter name=\"keys\" type=\"List[str]\" desc=\"Objects to query. Each key can be an S3 url or a path suffix.\" />\n",
       "\t<Parameter name=\"return_missing\" type=\"bool\" desc=\"If set to True, do not raise an exception for a missing key but\\nreturn it as an `S3Object` with `.exists == False` (default: False).\" />\n",
       "</ParamSection>\n",
       "<ParamSection name=\"Returns\">\n",
       "\t<Parameter type=\"List[`S3Object`]\" desc=\"A list of `S3Object`s corresponding to the paths requested. The\\nobjects will have `.downloaded == False`.\" />\n",
       "</ParamSection>\n",
       "</DocSection>"
      ],
      "text/plain": [
       "<nbdoc.showdoc.ShowDoc at 0x7fc2ecbe59d0>"
      ]
     },
     "execution_count": 14,
     "metadata": {},
     "output_type": "execute_result"
    }
   ],
   "source": [
    "ShowDoc(S3.info_many)"
   ]
  },
  {
   "cell_type": "markdown",
   "id": "bd6f3246",
   "metadata": {},
   "source": [
    "## Handling results with `S3Object`\n",
    "\n",
    "Most operations above return `S3Object`s that encapsulate information about S3 paths and objects.\n",
    "\n",
    "Note that the data itself is not kept in these objects but it is stored in a temporary directory which is accessible through the properties of this object."
   ]
  },
  {
   "cell_type": "code",
   "execution_count": 15,
   "id": "788746a9",
   "metadata": {
    "execution": {
     "iopub.execute_input": "2022-07-29T10:16:47.639060Z",
     "iopub.status.busy": "2022-07-29T10:16:47.633929Z",
     "iopub.status.idle": "2022-07-29T10:16:47.673038Z",
     "shell.execute_reply": "2022-07-29T10:16:47.676883Z"
    },
    "scrolled": true
   },
   "outputs": [
    {
     "data": {
      "text/html": [
       "<HTMLRemove>\n",
       "<h3> <code>class</code> <span style=\"color:Brown\">S3Object</span> <em></em><a href=\"https://github.com/Netflix/metaflow/tree/master/scaling/datatools/s3.py#L94\" style=\"float:right\">[source]</a></h3><p><blockquote>This&nbsp;object&nbsp;represents&nbsp;a&nbsp;path&nbsp;or&nbsp;an&nbsp;object&nbsp;in&nbsp;S3,<br>with&nbsp;an&nbsp;optional&nbsp;local&nbsp;copy.<br><br>`S3Object`s&nbsp;are&nbsp;not&nbsp;instantiated&nbsp;directly&nbsp;but&nbsp;they&nbsp;are&nbsp;returned<br>by&nbsp;many&nbsp;methods&nbsp;of&nbsp;the&nbsp;`S3`&nbsp;client.</blockquote></p>\n",
       "</HTMLRemove>\n",
       "<DocSection type=\"class\" name=\"S3Object\" module=\"metaflow\" show_import=\"False\" heading_level=\"3\" link=\"https://github.com/Netflix/metaflow/tree/master/scaling/datatools/s3.py#L94\">\n",
       "<SigArgSection>\n",
       "<SigArg name=\"\" />\n",
       "</SigArgSection>\n",
       "<Description summary=\"This object represents a path or an object in S3,\\nwith an optional local copy.\" extended_summary=\"`S3Object`s are not instantiated directly but they are returned\\nby many methods of the `S3` client.\" />\n",
       "\n",
       "</DocSection>"
      ],
      "text/plain": [
       "<nbdoc.showdoc.ShowDoc at 0x7fc2ecbe5a00>"
      ]
     },
     "execution_count": 15,
     "metadata": {},
     "output_type": "execute_result"
    }
   ],
   "source": [
    "ShowDoc(S3Object, spoofstr='', skip_sections='Attributes')"
   ]
  },
  {
   "cell_type": "code",
   "execution_count": 16,
   "id": "d9e06053",
   "metadata": {
    "execution": {
     "iopub.execute_input": "2022-07-29T10:16:47.690079Z",
     "iopub.status.busy": "2022-07-29T10:16:47.686602Z",
     "iopub.status.idle": "2022-07-29T10:16:47.700893Z",
     "shell.execute_reply": "2022-07-29T10:16:47.703168Z"
    },
    "scrolled": false
   },
   "outputs": [
    {
     "data": {
      "text/html": [
       "<HTMLRemove>\n",
       "<h4> <code>property</code> <span style=\"color:Brown\">S3Object.exists</span> <em></em><a href=\"https://github.com/Netflix/metaflow/tree/master/\" style=\"float:right\">[source]</a></h4><p><blockquote>Does&nbsp;this&nbsp;key&nbsp;correspond&nbsp;to&nbsp;an&nbsp;object&nbsp;in&nbsp;S3?<br><br>Returns<br>-------<br>bool<br>&nbsp;&nbsp;&nbsp;&nbsp;True&nbsp;if&nbsp;this&nbsp;object&nbsp;points&nbsp;at&nbsp;an&nbsp;existing&nbsp;object&nbsp;(file)&nbsp;in&nbsp;S3.</blockquote></p>\n",
       "</HTMLRemove>\n",
       "<DocSection type=\"property\" name=\"S3Object.exists\" module=\"metaflow.datatools.s3\" show_import=\"False\" heading_level=\"4\" link=\"https://github.com/Netflix/metaflow/tree/master/\">\n",
       "\n",
       "<Description summary=\"Does this key correspond to an object in S3?\\n\" />\n",
       "<ParamSection name=\"Returns\">\n",
       "<Parameter type=\"bool\" desc=\"True if this object points at an existing object (file) in S3.\" />\n",
       "</ParamSection>\n",
       "</DocSection>"
      ],
      "text/plain": [
       "<nbdoc.showdoc.ShowDoc at 0x7fc2ecbe53d0>"
      ]
     },
     "execution_count": 16,
     "metadata": {},
     "output_type": "execute_result"
    }
   ],
   "source": [
    "ShowDoc(S3Object.exists)"
   ]
  },
  {
   "cell_type": "code",
   "execution_count": 17,
   "id": "a6b91a6f",
   "metadata": {
    "execution": {
     "iopub.execute_input": "2022-07-29T10:16:47.719490Z",
     "iopub.status.busy": "2022-07-29T10:16:47.715710Z",
     "iopub.status.idle": "2022-07-29T10:16:47.730841Z",
     "shell.execute_reply": "2022-07-29T10:16:47.733111Z"
    },
    "scrolled": false
   },
   "outputs": [
    {
     "data": {
      "text/html": [
       "<HTMLRemove>\n",
       "<h4> <code>property</code> <span style=\"color:Brown\">S3Object.downloaded</span> <em></em><a href=\"https://github.com/Netflix/metaflow/tree/master/\" style=\"float:right\">[source]</a></h4><p><blockquote>Has&nbsp;this&nbsp;object&nbsp;been&nbsp;downloaded?<br><br>If&nbsp;True,&nbsp;the&nbsp;contents&nbsp;can&nbsp;be&nbsp;accessed&nbsp;through&nbsp;`path`,&nbsp;`blob`,<br>and&nbsp;`text`&nbsp;properties.<br><br>Returns<br>-------<br>bool<br>&nbsp;&nbsp;&nbsp;&nbsp;True&nbsp;if&nbsp;the&nbsp;contents&nbsp;of&nbsp;this&nbsp;object&nbsp;have&nbsp;been&nbsp;downloaded.</blockquote></p>\n",
       "</HTMLRemove>\n",
       "<DocSection type=\"property\" name=\"S3Object.downloaded\" module=\"metaflow.datatools.s3\" show_import=\"False\" heading_level=\"4\" link=\"https://github.com/Netflix/metaflow/tree/master/\">\n",
       "\n",
       "<Description summary=\"Has this object been downloaded?\\n\\nIf True, the contents can be accessed through `path`, `blob`,\\nand `text` properties.\\n\" />\n",
       "<ParamSection name=\"Returns\">\n",
       "<Parameter type=\"bool\" desc=\"True if the contents of this object have been downloaded.\" />\n",
       "</ParamSection>\n",
       "</DocSection>"
      ],
      "text/plain": [
       "<nbdoc.showdoc.ShowDoc at 0x7fc2ecbe5940>"
      ]
     },
     "execution_count": 17,
     "metadata": {},
     "output_type": "execute_result"
    }
   ],
   "source": [
    "ShowDoc(S3Object.downloaded)"
   ]
  },
  {
   "cell_type": "code",
   "execution_count": 18,
   "id": "7c4203ec",
   "metadata": {
    "execution": {
     "iopub.execute_input": "2022-07-29T10:16:47.747504Z",
     "iopub.status.busy": "2022-07-29T10:16:47.743133Z",
     "iopub.status.idle": "2022-07-29T10:16:47.756758Z",
     "shell.execute_reply": "2022-07-29T10:16:47.758780Z"
    },
    "scrolled": false
   },
   "outputs": [
    {
     "data": {
      "text/html": [
       "<HTMLRemove>\n",
       "<h4> <code>property</code> <span style=\"color:Brown\">S3Object.url</span> <em></em><a href=\"https://github.com/Netflix/metaflow/tree/master/\" style=\"float:right\">[source]</a></h4><p><blockquote>S3&nbsp;location&nbsp;of&nbsp;the&nbsp;object<br><br>Returns<br>-------<br>str<br>&nbsp;&nbsp;&nbsp;&nbsp;The&nbsp;S3&nbsp;location&nbsp;of&nbsp;this&nbsp;object.</blockquote></p>\n",
       "</HTMLRemove>\n",
       "<DocSection type=\"property\" name=\"S3Object.url\" module=\"metaflow.datatools.s3\" show_import=\"False\" heading_level=\"4\" link=\"https://github.com/Netflix/metaflow/tree/master/\">\n",
       "\n",
       "<Description summary=\"S3 location of the object\\n\" />\n",
       "<ParamSection name=\"Returns\">\n",
       "<Parameter type=\"str\" desc=\"The S3 location of this object.\" />\n",
       "</ParamSection>\n",
       "</DocSection>"
      ],
      "text/plain": [
       "<nbdoc.showdoc.ShowDoc at 0x7fc2ecbe56a0>"
      ]
     },
     "execution_count": 18,
     "metadata": {},
     "output_type": "execute_result"
    }
   ],
   "source": [
    "ShowDoc(S3Object.url)"
   ]
  },
  {
   "cell_type": "code",
   "execution_count": 19,
   "id": "e84a384d",
   "metadata": {
    "execution": {
     "iopub.execute_input": "2022-07-29T10:16:47.774536Z",
     "iopub.status.busy": "2022-07-29T10:16:47.771489Z",
     "iopub.status.idle": "2022-07-29T10:16:47.781473Z",
     "shell.execute_reply": "2022-07-29T10:16:47.783680Z"
    },
    "scrolled": false
   },
   "outputs": [
    {
     "data": {
      "text/html": [
       "<HTMLRemove>\n",
       "<h4> <code>property</code> <span style=\"color:Brown\">S3Object.prefix</span> <em></em><a href=\"https://github.com/Netflix/metaflow/tree/master/\" style=\"float:right\">[source]</a></h4><p><blockquote>Prefix&nbsp;requested&nbsp;that&nbsp;matches&nbsp;this&nbsp;object.<br><br>Returns<br>-------<br>str<br>&nbsp;&nbsp;&nbsp;&nbsp;Requested&nbsp;prefix</blockquote></p>\n",
       "</HTMLRemove>\n",
       "<DocSection type=\"property\" name=\"S3Object.prefix\" module=\"metaflow.datatools.s3\" show_import=\"False\" heading_level=\"4\" link=\"https://github.com/Netflix/metaflow/tree/master/\">\n",
       "\n",
       "<Description summary=\"Prefix requested that matches this object.\\n\" />\n",
       "<ParamSection name=\"Returns\">\n",
       "<Parameter type=\"str\" desc=\"Requested prefix\" />\n",
       "</ParamSection>\n",
       "</DocSection>"
      ],
      "text/plain": [
       "<nbdoc.showdoc.ShowDoc at 0x7fc2ecbe5910>"
      ]
     },
     "execution_count": 19,
     "metadata": {},
     "output_type": "execute_result"
    }
   ],
   "source": [
    "ShowDoc(S3Object.prefix)"
   ]
  },
  {
   "cell_type": "code",
   "execution_count": 20,
   "id": "eeb28c6b",
   "metadata": {
    "execution": {
     "iopub.execute_input": "2022-07-29T10:16:47.798880Z",
     "iopub.status.busy": "2022-07-29T10:16:47.794897Z",
     "iopub.status.idle": "2022-07-29T10:16:47.810842Z",
     "shell.execute_reply": "2022-07-29T10:16:47.807976Z"
    },
    "scrolled": false
   },
   "outputs": [
    {
     "data": {
      "text/html": [
       "<HTMLRemove>\n",
       "<h4> <code>property</code> <span style=\"color:Brown\">S3Object.key</span> <em></em><a href=\"https://github.com/Netflix/metaflow/tree/master/\" style=\"float:right\">[source]</a></h4><p><blockquote>Key&nbsp;corresponds&nbsp;to&nbsp;the&nbsp;key&nbsp;given&nbsp;to&nbsp;the&nbsp;get&nbsp;call&nbsp;that&nbsp;produced<br>this&nbsp;object.<br><br>This&nbsp;may&nbsp;be&nbsp;a&nbsp;full&nbsp;S3&nbsp;URL&nbsp;or&nbsp;a&nbsp;suffix&nbsp;based&nbsp;on&nbsp;what<br>was&nbsp;requested.<br><br>Returns<br>-------<br>str<br>&nbsp;&nbsp;&nbsp;&nbsp;Key&nbsp;requested.</blockquote></p>\n",
       "</HTMLRemove>\n",
       "<DocSection type=\"property\" name=\"S3Object.key\" module=\"metaflow.datatools.s3\" show_import=\"False\" heading_level=\"4\" link=\"https://github.com/Netflix/metaflow/tree/master/\">\n",
       "\n",
       "<Description summary=\"Key corresponds to the key given to the get call that produced\\nthis object.\\n\\nThis may be a full S3 URL or a suffix based on what\\nwas requested.\\n\" />\n",
       "<ParamSection name=\"Returns\">\n",
       "<Parameter type=\"str\" desc=\"Key requested.\" />\n",
       "</ParamSection>\n",
       "</DocSection>"
      ],
      "text/plain": [
       "<nbdoc.showdoc.ShowDoc at 0x7fc2ecbe5640>"
      ]
     },
     "execution_count": 20,
     "metadata": {},
     "output_type": "execute_result"
    }
   ],
   "source": [
    "ShowDoc(S3Object.key)"
   ]
  },
  {
   "cell_type": "code",
   "execution_count": 21,
   "id": "71ae77e4",
   "metadata": {
    "execution": {
     "iopub.execute_input": "2022-07-29T10:16:47.823477Z",
     "iopub.status.busy": "2022-07-29T10:16:47.820349Z",
     "iopub.status.idle": "2022-07-29T10:16:47.832037Z",
     "shell.execute_reply": "2022-07-29T10:16:47.835004Z"
    },
    "scrolled": true
   },
   "outputs": [
    {
     "data": {
      "text/html": [
       "<HTMLRemove>\n",
       "<h4> <code>property</code> <span style=\"color:Brown\">S3Object.path</span> <em></em><a href=\"https://github.com/Netflix/metaflow/tree/master/\" style=\"float:right\">[source]</a></h4><p><blockquote>Path&nbsp;to&nbsp;a&nbsp;local&nbsp;temporary&nbsp;file&nbsp;corresponding&nbsp;to&nbsp;the&nbsp;object&nbsp;downloaded.<br><br>This&nbsp;file&nbsp;gets&nbsp;deleted&nbsp;automatically&nbsp;when&nbsp;a&nbsp;S3&nbsp;scope&nbsp;exits.<br>Returns&nbsp;None&nbsp;if&nbsp;this&nbsp;S3Object&nbsp;has&nbsp;not&nbsp;been&nbsp;downloaded.<br><br>Returns<br>-------<br>str<br>&nbsp;&nbsp;&nbsp;&nbsp;Local&nbsp;path,&nbsp;if&nbsp;the&nbsp;object&nbsp;has&nbsp;been&nbsp;downloaded.</blockquote></p>\n",
       "</HTMLRemove>\n",
       "<DocSection type=\"property\" name=\"S3Object.path\" module=\"metaflow.datatools.s3\" show_import=\"False\" heading_level=\"4\" link=\"https://github.com/Netflix/metaflow/tree/master/\">\n",
       "\n",
       "<Description summary=\"Path to a local temporary file corresponding to the object downloaded.\\n\\nThis file gets deleted automatically when a S3 scope exits.\\nReturns None if this S3Object has not been downloaded.\\n\" />\n",
       "<ParamSection name=\"Returns\">\n",
       "<Parameter type=\"str\" desc=\"Local path, if the object has been downloaded.\" />\n",
       "</ParamSection>\n",
       "</DocSection>"
      ],
      "text/plain": [
       "<nbdoc.showdoc.ShowDoc at 0x7fc2ecbe59a0>"
      ]
     },
     "execution_count": 21,
     "metadata": {},
     "output_type": "execute_result"
    }
   ],
   "source": [
    "ShowDoc(S3Object.path)"
   ]
  },
  {
   "cell_type": "code",
   "execution_count": 22,
   "id": "2be25e64",
   "metadata": {
    "execution": {
     "iopub.execute_input": "2022-07-29T10:16:47.848202Z",
     "iopub.status.busy": "2022-07-29T10:16:47.844985Z",
     "iopub.status.idle": "2022-07-29T10:16:47.861385Z",
     "shell.execute_reply": "2022-07-29T10:16:47.857912Z"
    },
    "scrolled": true
   },
   "outputs": [
    {
     "data": {
      "text/html": [
       "<HTMLRemove>\n",
       "<h4> <code>property</code> <span style=\"color:Brown\">S3Object.blob</span> <em></em><a href=\"https://github.com/Netflix/metaflow/tree/master/\" style=\"float:right\">[source]</a></h4><p><blockquote>Contents&nbsp;of&nbsp;the&nbsp;object&nbsp;as&nbsp;a&nbsp;byte&nbsp;string&nbsp;or&nbsp;None&nbsp;if&nbsp;the<br>object&nbsp;hasn't&nbsp;been&nbsp;downloaded.<br><br>Returns<br>-------<br>bytes<br>&nbsp;&nbsp;&nbsp;&nbsp;Contents&nbsp;of&nbsp;the&nbsp;object&nbsp;as&nbsp;bytes.</blockquote></p>\n",
       "</HTMLRemove>\n",
       "<DocSection type=\"property\" name=\"S3Object.blob\" module=\"metaflow.datatools.s3\" show_import=\"False\" heading_level=\"4\" link=\"https://github.com/Netflix/metaflow/tree/master/\">\n",
       "\n",
       "<Description summary=\"Contents of the object as a byte string or None if the\\nobject hasn't been downloaded.\\n\" />\n",
       "<ParamSection name=\"Returns\">\n",
       "<Parameter type=\"bytes\" desc=\"Contents of the object as bytes.\" />\n",
       "</ParamSection>\n",
       "</DocSection>"
      ],
      "text/plain": [
       "<nbdoc.showdoc.ShowDoc at 0x7fc2ecbe51c0>"
      ]
     },
     "execution_count": 22,
     "metadata": {},
     "output_type": "execute_result"
    }
   ],
   "source": [
    "ShowDoc(S3Object.blob)"
   ]
  },
  {
   "cell_type": "code",
   "execution_count": 23,
   "id": "4f20cd6a",
   "metadata": {
    "execution": {
     "iopub.execute_input": "2022-07-29T10:16:47.877770Z",
     "iopub.status.busy": "2022-07-29T10:16:47.871207Z",
     "iopub.status.idle": "2022-07-29T10:16:47.888250Z",
     "shell.execute_reply": "2022-07-29T10:16:47.885497Z"
    },
    "scrolled": false
   },
   "outputs": [
    {
     "data": {
      "text/html": [
       "<HTMLRemove>\n",
       "<h4> <code>property</code> <span style=\"color:Brown\">S3Object.text</span> <em></em><a href=\"https://github.com/Netflix/metaflow/tree/master/\" style=\"float:right\">[source]</a></h4><p><blockquote>Contents&nbsp;of&nbsp;the&nbsp;object&nbsp;as&nbsp;a&nbsp;string&nbsp;or&nbsp;None&nbsp;if&nbsp;the<br>object&nbsp;hasn't&nbsp;been&nbsp;downloaded.<br><br>The&nbsp;object&nbsp;is&nbsp;assumed&nbsp;to&nbsp;contain&nbsp;UTF-8&nbsp;encoded&nbsp;data.<br><br>Returns<br>-------<br>str<br>&nbsp;&nbsp;&nbsp;&nbsp;Contents&nbsp;of&nbsp;the&nbsp;object&nbsp;as&nbsp;text.</blockquote></p>\n",
       "</HTMLRemove>\n",
       "<DocSection type=\"property\" name=\"S3Object.text\" module=\"metaflow.datatools.s3\" show_import=\"False\" heading_level=\"4\" link=\"https://github.com/Netflix/metaflow/tree/master/\">\n",
       "\n",
       "<Description summary=\"Contents of the object as a string or None if the\\nobject hasn't been downloaded.\\n\\nThe object is assumed to contain UTF-8 encoded data.\\n\" />\n",
       "<ParamSection name=\"Returns\">\n",
       "<Parameter type=\"str\" desc=\"Contents of the object as text.\" />\n",
       "</ParamSection>\n",
       "</DocSection>"
      ],
      "text/plain": [
       "<nbdoc.showdoc.ShowDoc at 0x7fc2ecbe5a90>"
      ]
     },
     "execution_count": 23,
     "metadata": {},
     "output_type": "execute_result"
    }
   ],
   "source": [
    "ShowDoc(S3Object.text)"
   ]
  },
  {
   "cell_type": "code",
   "execution_count": 24,
   "id": "86be736c",
   "metadata": {
    "execution": {
     "iopub.execute_input": "2022-07-29T10:16:47.901055Z",
     "iopub.status.busy": "2022-07-29T10:16:47.897036Z",
     "iopub.status.idle": "2022-07-29T10:16:47.909577Z",
     "shell.execute_reply": "2022-07-29T10:16:47.906860Z"
    },
    "scrolled": true
   },
   "outputs": [
    {
     "data": {
      "text/html": [
       "<HTMLRemove>\n",
       "<h4> <code>property</code> <span style=\"color:Brown\">S3Object.size</span> <em></em><a href=\"https://github.com/Netflix/metaflow/tree/master/\" style=\"float:right\">[source]</a></h4><p><blockquote>Size&nbsp;of&nbsp;the&nbsp;object&nbsp;in&nbsp;bytes.<br><br>Returns&nbsp;None&nbsp;if&nbsp;the&nbsp;key&nbsp;does&nbsp;not&nbsp;correspond&nbsp;to&nbsp;an&nbsp;object&nbsp;in&nbsp;S3.<br><br>Returns<br>-------<br>int<br>&nbsp;&nbsp;&nbsp;&nbsp;Size&nbsp;of&nbsp;the&nbsp;object&nbsp;in&nbsp;bytes,&nbsp;if&nbsp;the&nbsp;object&nbsp;exists.</blockquote></p>\n",
       "</HTMLRemove>\n",
       "<DocSection type=\"property\" name=\"S3Object.size\" module=\"metaflow.datatools.s3\" show_import=\"False\" heading_level=\"4\" link=\"https://github.com/Netflix/metaflow/tree/master/\">\n",
       "\n",
       "<Description summary=\"Size of the object in bytes.\\n\\nReturns None if the key does not correspond to an object in S3.\\n\" />\n",
       "<ParamSection name=\"Returns\">\n",
       "<Parameter type=\"int\" desc=\"Size of the object in bytes, if the object exists.\" />\n",
       "</ParamSection>\n",
       "</DocSection>"
      ],
      "text/plain": [
       "<nbdoc.showdoc.ShowDoc at 0x7fc2ecbe5dc0>"
      ]
     },
     "execution_count": 24,
     "metadata": {},
     "output_type": "execute_result"
    }
   ],
   "source": [
    "ShowDoc(S3Object.size)"
   ]
  },
  {
   "cell_type": "code",
   "execution_count": 25,
   "id": "ac57517e",
   "metadata": {
    "execution": {
     "iopub.execute_input": "2022-07-29T10:16:47.921066Z",
     "iopub.status.busy": "2022-07-29T10:16:47.918099Z",
     "iopub.status.idle": "2022-07-29T10:16:47.932703Z",
     "shell.execute_reply": "2022-07-29T10:16:47.930302Z"
    },
    "scrolled": false
   },
   "outputs": [
    {
     "data": {
      "text/html": [
       "<HTMLRemove>\n",
       "<h4> <code>property</code> <span style=\"color:Brown\">S3Object.has_info</span> <em></em><a href=\"https://github.com/Netflix/metaflow/tree/master/\" style=\"float:right\">[source]</a></h4><p><blockquote>Returns&nbsp;true&nbsp;if&nbsp;this&nbsp;`S3Object`&nbsp;contains&nbsp;the&nbsp;content-type&nbsp;MIME&nbsp;header&nbsp;or<br>user-defined&nbsp;metadata.<br><br>If&nbsp;False,&nbsp;this&nbsp;means&nbsp;that&nbsp;`content_type`,&nbsp;`metadata`,&nbsp;`range_info`&nbsp;and<br>`last_modified`will&nbsp;retuern&nbsp;None.<br><br>Returns<br>-------<br>bool<br>&nbsp;&nbsp;&nbsp;&nbsp;True&nbsp;if&nbsp;additional&nbsp;metadata&nbsp;is&nbsp;available.</blockquote></p>\n",
       "</HTMLRemove>\n",
       "<DocSection type=\"property\" name=\"S3Object.has_info\" module=\"metaflow.datatools.s3\" show_import=\"False\" heading_level=\"4\" link=\"https://github.com/Netflix/metaflow/tree/master/\">\n",
       "\n",
       "<Description summary=\"Returns true if this `S3Object` contains the content-type MIME header or\\nuser-defined metadata.\\n\\nIf False, this means that `content_type`, `metadata`, `range_info` and\\n`last_modified`will retuern None.\\n\" />\n",
       "<ParamSection name=\"Returns\">\n",
       "<Parameter type=\"bool\" desc=\"True if additional metadata is available.\" />\n",
       "</ParamSection>\n",
       "</DocSection>"
      ],
      "text/plain": [
       "<nbdoc.showdoc.ShowDoc at 0x7fc2ecbe5e50>"
      ]
     },
     "execution_count": 25,
     "metadata": {},
     "output_type": "execute_result"
    }
   ],
   "source": [
    "ShowDoc(S3Object.has_info)"
   ]
  },
  {
   "cell_type": "code",
   "execution_count": 26,
   "id": "c73642bb",
   "metadata": {
    "execution": {
     "iopub.execute_input": "2022-07-29T10:16:47.944583Z",
     "iopub.status.busy": "2022-07-29T10:16:47.942329Z",
     "iopub.status.idle": "2022-07-29T10:16:47.952300Z",
     "shell.execute_reply": "2022-07-29T10:16:47.954192Z"
    },
    "scrolled": true
   },
   "outputs": [
    {
     "data": {
      "text/html": [
       "<HTMLRemove>\n",
       "<h4> <code>property</code> <span style=\"color:Brown\">S3Object.metadata</span> <em></em><a href=\"https://github.com/Netflix/metaflow/tree/master/\" style=\"float:right\">[source]</a></h4><p><blockquote>Returns&nbsp;a&nbsp;dictionary&nbsp;of&nbsp;user-defined&nbsp;metadata,&nbsp;or&nbsp;None&nbsp;if&nbsp;no&nbsp;metadata<br>is&nbsp;defined.<br><br>Returns<br>-------<br>Dict<br>&nbsp;&nbsp;&nbsp;&nbsp;User-defined&nbsp;metadata.</blockquote></p>\n",
       "</HTMLRemove>\n",
       "<DocSection type=\"property\" name=\"S3Object.metadata\" module=\"metaflow.datatools.s3\" show_import=\"False\" heading_level=\"4\" link=\"https://github.com/Netflix/metaflow/tree/master/\">\n",
       "\n",
       "<Description summary=\"Returns a dictionary of user-defined metadata, or None if no metadata\\nis defined.\\n\" />\n",
       "<ParamSection name=\"Returns\">\n",
       "<Parameter type=\"Dict\" desc=\"User-defined metadata.\" />\n",
       "</ParamSection>\n",
       "</DocSection>"
      ],
      "text/plain": [
       "<nbdoc.showdoc.ShowDoc at 0x7fc2ecbe5b20>"
      ]
     },
     "execution_count": 26,
     "metadata": {},
     "output_type": "execute_result"
    }
   ],
   "source": [
    "ShowDoc(S3Object.metadata)"
   ]
  },
  {
   "cell_type": "code",
   "execution_count": 27,
   "id": "82f36246",
   "metadata": {
    "execution": {
     "iopub.execute_input": "2022-07-29T10:16:47.967814Z",
     "iopub.status.busy": "2022-07-29T10:16:47.963882Z",
     "iopub.status.idle": "2022-07-29T10:16:47.976482Z",
     "shell.execute_reply": "2022-07-29T10:16:47.974329Z"
    },
    "scrolled": true
   },
   "outputs": [
    {
     "data": {
      "text/html": [
       "<HTMLRemove>\n",
       "<h4> <code>property</code> <span style=\"color:Brown\">S3Object.content_type</span> <em></em><a href=\"https://github.com/Netflix/metaflow/tree/master/\" style=\"float:right\">[source]</a></h4><p><blockquote>Returns&nbsp;the&nbsp;content-type&nbsp;of&nbsp;the&nbsp;S3&nbsp;object&nbsp;or&nbsp;None&nbsp;if&nbsp;it&nbsp;is&nbsp;not&nbsp;defined.<br><br>Returns<br>-------<br>str<br>&nbsp;&nbsp;&nbsp;&nbsp;Content&nbsp;type&nbsp;or&nbsp;None&nbsp;if&nbsp;the&nbsp;content&nbsp;type&nbsp;is&nbsp;undefined.</blockquote></p>\n",
       "</HTMLRemove>\n",
       "<DocSection type=\"property\" name=\"S3Object.content_type\" module=\"metaflow.datatools.s3\" show_import=\"False\" heading_level=\"4\" link=\"https://github.com/Netflix/metaflow/tree/master/\">\n",
       "\n",
       "<Description summary=\"Returns the content-type of the S3 object or None if it is not defined.\\n\" />\n",
       "<ParamSection name=\"Returns\">\n",
       "<Parameter type=\"str\" desc=\"Content type or None if the content type is undefined.\" />\n",
       "</ParamSection>\n",
       "</DocSection>"
      ],
      "text/plain": [
       "<nbdoc.showdoc.ShowDoc at 0x7fc2ecbe5820>"
      ]
     },
     "execution_count": 27,
     "metadata": {},
     "output_type": "execute_result"
    }
   ],
   "source": [
    "ShowDoc(S3Object.content_type)"
   ]
  },
  {
   "cell_type": "code",
   "execution_count": 28,
   "id": "1c06cf68",
   "metadata": {
    "execution": {
     "iopub.execute_input": "2022-07-29T10:16:47.989400Z",
     "iopub.status.busy": "2022-07-29T10:16:47.986024Z",
     "iopub.status.idle": "2022-07-29T10:16:47.997742Z",
     "shell.execute_reply": "2022-07-29T10:16:47.995576Z"
    },
    "scrolled": false
   },
   "outputs": [
    {
     "data": {
      "text/html": [
       "<HTMLRemove>\n",
       "<h4> <code>property</code> <span style=\"color:Brown\">S3Object.range_info</span> <em></em><a href=\"https://github.com/Netflix/metaflow/tree/master/\" style=\"float:right\">[source]</a></h4><p><blockquote>If&nbsp;the&nbsp;object&nbsp;corresponds&nbsp;to&nbsp;a&nbsp;partially&nbsp;downloaded&nbsp;object,&nbsp;return<br>information&nbsp;of&nbsp;what&nbsp;was&nbsp;downloaded.<br><br>The&nbsp;returned&nbsp;object&nbsp;has&nbsp;the&nbsp;follwing&nbsp;fields:<br>-&nbsp;`total_size`:&nbsp;Size&nbsp;of&nbsp;the&nbsp;object&nbsp;in&nbsp;S3.<br>-&nbsp;`request_offset`:&nbsp;The&nbsp;starting&nbsp;offset.<br>-&nbsp;`request_length`:&nbsp;The&nbsp;number&nbsp;of&nbsp;bytes&nbsp;downloaded.<br><br>Returns<br>-------<br>namedtuple<br>&nbsp;&nbsp;&nbsp;&nbsp;An&nbsp;object&nbsp;containing&nbsp;information&nbsp;about&nbsp;the&nbsp;partial&nbsp;download.&nbsp;If<br>&nbsp;&nbsp;&nbsp;&nbsp;the&nbsp;`S3Object`&nbsp;doesn't&nbsp;correspond&nbsp;to&nbsp;a&nbsp;partially&nbsp;downloaded&nbsp;file,<br>&nbsp;&nbsp;&nbsp;&nbsp;returns&nbsp;None.</blockquote></p>\n",
       "</HTMLRemove>\n",
       "<DocSection type=\"property\" name=\"S3Object.range_info\" module=\"metaflow.datatools.s3\" show_import=\"False\" heading_level=\"4\" link=\"https://github.com/Netflix/metaflow/tree/master/\">\n",
       "\n",
       "<Description summary=\"If the object corresponds to a partially downloaded object, return\\ninformation of what was downloaded.\\n\\nThe returned object has the follwing fields:\\n- `total_size`: Size of the object in S3.\\n- `request_offset`: The starting offset.\\n- `request_length`: The number of bytes downloaded.\\n\" />\n",
       "</DocSection>"
      ],
      "text/plain": [
       "<nbdoc.showdoc.ShowDoc at 0x7fc2ecbe5760>"
      ]
     },
     "execution_count": 28,
     "metadata": {},
     "output_type": "execute_result"
    }
   ],
   "source": [
    "ShowDoc(S3Object.range_info)"
   ]
  },
  {
   "cell_type": "code",
   "execution_count": 29,
   "id": "22068e78",
   "metadata": {
    "execution": {
     "iopub.execute_input": "2022-07-29T10:16:48.010453Z",
     "iopub.status.busy": "2022-07-29T10:16:48.006076Z",
     "iopub.status.idle": "2022-07-29T10:16:48.018693Z",
     "shell.execute_reply": "2022-07-29T10:16:48.016428Z"
    },
    "scrolled": true
   },
   "outputs": [
    {
     "data": {
      "text/html": [
       "<HTMLRemove>\n",
       "<h4> <code>property</code> <span style=\"color:Brown\">S3Object.last_modified</span> <em></em><a href=\"https://github.com/Netflix/metaflow/tree/master/\" style=\"float:right\">[source]</a></h4><p><blockquote>Returns&nbsp;the&nbsp;last&nbsp;modified&nbsp;unix&nbsp;timestamp&nbsp;of&nbsp;the&nbsp;object.<br><br>Returns<br>-------<br>int<br>&nbsp;&nbsp;&nbsp;&nbsp;Unix&nbsp;timestamp&nbsp;corresponding&nbsp;to&nbsp;the&nbsp;last&nbsp;modified&nbsp;time.</blockquote></p>\n",
       "</HTMLRemove>\n",
       "<DocSection type=\"property\" name=\"S3Object.last_modified\" module=\"metaflow.datatools.s3\" show_import=\"False\" heading_level=\"4\" link=\"https://github.com/Netflix/metaflow/tree/master/\">\n",
       "\n",
       "<Description summary=\"Returns the last modified unix timestamp of the object.\\n\" />\n",
       "<ParamSection name=\"Returns\">\n",
       "<Parameter type=\"int\" desc=\"Unix timestamp corresponding to the last modified time.\" />\n",
       "</ParamSection>\n",
       "</DocSection>"
      ],
      "text/plain": [
       "<nbdoc.showdoc.ShowDoc at 0x7fc2ecbe57f0>"
      ]
     },
     "execution_count": 29,
     "metadata": {},
     "output_type": "execute_result"
    }
   ],
   "source": [
    "ShowDoc(S3Object.last_modified)"
   ]
  },
  {
   "cell_type": "markdown",
   "id": "7d8cad11",
   "metadata": {},
   "source": [
    "## Helper Objects\n",
    "\n",
    "These objects are simple containers that are used to pass information to `get_many`, `put_many`, and `put_files`. You may use your own objects instead of them, as long as they provide the same set of attributes."
   ]
  },
  {
   "cell_type": "code",
   "execution_count": 30,
   "id": "92683b71",
   "metadata": {
    "execution": {
     "iopub.execute_input": "2022-07-29T10:16:48.033338Z",
     "iopub.status.busy": "2022-07-29T10:16:48.030214Z",
     "iopub.status.idle": "2022-07-29T10:16:48.036381Z",
     "shell.execute_reply": "2022-07-29T10:16:48.038921Z"
    }
   },
   "outputs": [],
   "source": [
    "#meta:tag=hide\n",
    "\n",
    "# TODO: Document these are proper docstrings in the source code in S3.py\n",
    "\n",
    "class S3GetObject():\n",
    "    \"\"\"\n",
    "    Represents a chunk of an S3 object. A range query is performed to download only a subset of data,\n",
    "    `object[key][offset:offset + length]`, from S3.\n",
    "    \n",
    "    Attributes\n",
    "    ----------\n",
    "    \n",
    "    key : str\n",
    "        Key identifying the object. Works the same way as any `key` passed to `get` or `get_many`.\n",
    "    offset : int\n",
    "        A byte offset in the file.\n",
    "    length : int\n",
    "        The number of bytes to download.\n",
    "    \"\"\"\n",
    "    key = None\n",
    "    offset = None\n",
    "    length = None\n",
    "    \n",
    "    def __init__(self, key=None, offset=None, length=None):\n",
    "        pass\n",
    "    \n",
    "class S3PutObject():\n",
    "    \"\"\"\n",
    "    Defines an object with metadata to be uplaoded with `put_many` or `put_files`.\n",
    "    \n",
    "    Attributes\n",
    "    ----------\n",
    "    \n",
    "    key : str\n",
    "        Key identifying the object. Works the same way as `key` passed to `put` or `put_many`.\n",
    "    value : str or bytes\n",
    "        Object to upload. Works the same way as `obj` passed `to `put` or `put_many`.\n",
    "    path : str\n",
    "        Path to a local file. Works the same way as `path` passed to `put_files`.\n",
    "    content_type : str\n",
    "        Optional MIME type for the file.\n",
    "    metadata : Dict\n",
    "        A JSON-encodable dictionary of additional headers to be stored\n",
    "        as metadata with the file.\n",
    "    \"\"\"\n",
    "    key = None\n",
    "    value = None\n",
    "    path = None\n",
    "    content_type = None\n",
    "    metadata = None\n",
    "    \n",
    "    def __init__(self, key=None, value=None, path=None, content_type=None, metadata=None):\n",
    "        pass\n",
    "    \n",
    "ShowDoc2 = partial(SD, module_nm='metaflow.datatools.s3')"
   ]
  },
  {
   "cell_type": "code",
   "execution_count": 31,
   "id": "6aaa4c89",
   "metadata": {
    "execution": {
     "iopub.execute_input": "2022-07-29T10:16:48.051326Z",
     "iopub.status.busy": "2022-07-29T10:16:48.048684Z",
     "iopub.status.idle": "2022-07-29T10:16:48.059850Z",
     "shell.execute_reply": "2022-07-29T10:16:48.057582Z"
    },
    "scrolled": true
   },
   "outputs": [
    {
     "data": {
      "text/html": [
       "<HTMLRemove>\n",
       "<h3> <code>class</code> <span style=\"color:Brown\">S3GetObject</span> <em>(key=None, offset=None, length=None)</em><a href=\"https://github.com/Netflix/metaflow/tree/master/\" style=\"float:right\">[source]</a></h3><strong>metaflow.datatools.s3</strong><p><blockquote>Represents&nbsp;a&nbsp;chunk&nbsp;of&nbsp;an&nbsp;S3&nbsp;object.&nbsp;A&nbsp;range&nbsp;query&nbsp;is&nbsp;performed&nbsp;to&nbsp;download&nbsp;only&nbsp;a&nbsp;subset&nbsp;of&nbsp;data,<br>`object[key][offset:offset&nbsp;+&nbsp;length]`,&nbsp;from&nbsp;S3.<br><br>Attributes<br>----------<br><br>key&nbsp;:&nbsp;str<br>&nbsp;&nbsp;&nbsp;&nbsp;Key&nbsp;identifying&nbsp;the&nbsp;object.&nbsp;Works&nbsp;the&nbsp;same&nbsp;way&nbsp;as&nbsp;any&nbsp;`key`&nbsp;passed&nbsp;to&nbsp;`get`&nbsp;or&nbsp;`get_many`.<br>offset&nbsp;:&nbsp;int<br>&nbsp;&nbsp;&nbsp;&nbsp;A&nbsp;byte&nbsp;offset&nbsp;in&nbsp;the&nbsp;file.<br>length&nbsp;:&nbsp;int<br>&nbsp;&nbsp;&nbsp;&nbsp;The&nbsp;number&nbsp;of&nbsp;bytes&nbsp;to&nbsp;download.</blockquote></p>\n",
       "</HTMLRemove>\n",
       "<DocSection type=\"class\" name=\"S3GetObject\" module=\"metaflow.datatools.s3\" show_import=\"True\" heading_level=\"3\" link=\"https://github.com/Netflix/metaflow/tree/master/\">\n",
       "<SigArgSection>\n",
       "<SigArg name=\"key\" default=\"None\" /><SigArg name=\"offset\" default=\"None\" /><SigArg name=\"length\" default=\"None\" />\n",
       "</SigArgSection>\n",
       "<Description summary=\"Represents a chunk of an S3 object. A range query is performed to download only a subset of data,\\n`object[key][offset:offset + length]`, from S3.\" />\n",
       "<ParamSection name=\"Attributes\">\n",
       "\t<Parameter name=\"key\" type=\"str\" desc=\"Key identifying the object. Works the same way as any `key` passed to `get` or `get_many`.\" />\n",
       "\t<Parameter name=\"offset\" type=\"int\" desc=\"A byte offset in the file.\" />\n",
       "\t<Parameter name=\"length\" type=\"int\" desc=\"The number of bytes to download.\" />\n",
       "</ParamSection>\n",
       "</DocSection>"
      ],
      "text/plain": [
       "<nbdoc.showdoc.ShowDoc at 0x7fc2ecd25c10>"
      ]
     },
     "execution_count": 31,
     "metadata": {},
     "output_type": "execute_result"
    }
   ],
   "source": [
    "ShowDoc2(S3GetObject, show_import=True)"
   ]
  },
  {
   "cell_type": "code",
   "execution_count": 32,
   "id": "a0bbfe37",
   "metadata": {
    "execution": {
     "iopub.execute_input": "2022-07-29T10:16:48.073298Z",
     "iopub.status.busy": "2022-07-29T10:16:48.069700Z",
     "iopub.status.idle": "2022-07-29T10:16:48.081055Z",
     "shell.execute_reply": "2022-07-29T10:16:48.079092Z"
    },
    "scrolled": false
   },
   "outputs": [
    {
     "data": {
      "text/html": [
       "<HTMLRemove>\n",
       "<h3> <code>class</code> <span style=\"color:Brown\">S3PutObject</span> <em>(key=None, value=None, path=None, content_type=None, metadata=None)</em><a href=\"https://github.com/Netflix/metaflow/tree/master/\" style=\"float:right\">[source]</a></h3><strong>metaflow.datatools.s3</strong><p><blockquote>Defines&nbsp;an&nbsp;object&nbsp;with&nbsp;metadata&nbsp;to&nbsp;be&nbsp;uplaoded&nbsp;with&nbsp;`put_many`&nbsp;or&nbsp;`put_files`.<br><br>Attributes<br>----------<br><br>key&nbsp;:&nbsp;str<br>&nbsp;&nbsp;&nbsp;&nbsp;Key&nbsp;identifying&nbsp;the&nbsp;object.&nbsp;Works&nbsp;the&nbsp;same&nbsp;way&nbsp;as&nbsp;`key`&nbsp;passed&nbsp;to&nbsp;`put`&nbsp;or&nbsp;`put_many`.<br>value&nbsp;:&nbsp;str&nbsp;or&nbsp;bytes<br>&nbsp;&nbsp;&nbsp;&nbsp;Object&nbsp;to&nbsp;upload.&nbsp;Works&nbsp;the&nbsp;same&nbsp;way&nbsp;as&nbsp;`obj`&nbsp;passed&nbsp;`to&nbsp;`put`&nbsp;or&nbsp;`put_many`.<br>path&nbsp;:&nbsp;str<br>&nbsp;&nbsp;&nbsp;&nbsp;Path&nbsp;to&nbsp;a&nbsp;local&nbsp;file.&nbsp;Works&nbsp;the&nbsp;same&nbsp;way&nbsp;as&nbsp;`path`&nbsp;passed&nbsp;to&nbsp;`put_files`.<br>content_type&nbsp;:&nbsp;str<br>&nbsp;&nbsp;&nbsp;&nbsp;Optional&nbsp;MIME&nbsp;type&nbsp;for&nbsp;the&nbsp;file.<br>metadata&nbsp;:&nbsp;Dict<br>&nbsp;&nbsp;&nbsp;&nbsp;A&nbsp;JSON-encodable&nbsp;dictionary&nbsp;of&nbsp;additional&nbsp;headers&nbsp;to&nbsp;be&nbsp;stored<br>&nbsp;&nbsp;&nbsp;&nbsp;as&nbsp;metadata&nbsp;with&nbsp;the&nbsp;file.</blockquote></p>\n",
       "</HTMLRemove>\n",
       "<DocSection type=\"class\" name=\"S3PutObject\" module=\"metaflow.datatools.s3\" show_import=\"True\" heading_level=\"3\" link=\"https://github.com/Netflix/metaflow/tree/master/\">\n",
       "<SigArgSection>\n",
       "<SigArg name=\"key\" default=\"None\" /><SigArg name=\"value\" default=\"None\" /><SigArg name=\"path\" default=\"None\" /><SigArg name=\"content_type\" default=\"None\" /><SigArg name=\"metadata\" default=\"None\" />\n",
       "</SigArgSection>\n",
       "<Description summary=\"Defines an object with metadata to be uplaoded with `put_many` or `put_files`.\" />\n",
       "<ParamSection name=\"Attributes\">\n",
       "\t<Parameter name=\"key\" type=\"str\" desc=\"Key identifying the object. Works the same way as `key` passed to `put` or `put_many`.\" />\n",
       "\t<Parameter name=\"value\" type=\"str or bytes\" desc=\"Object to upload. Works the same way as `obj` passed `to `put` or `put_many`.\" />\n",
       "\t<Parameter name=\"path\" type=\"str\" desc=\"Path to a local file. Works the same way as `path` passed to `put_files`.\" />\n",
       "\t<Parameter name=\"content_type\" type=\"str\" desc=\"Optional MIME type for the file.\" />\n",
       "\t<Parameter name=\"metadata\" type=\"Dict\" desc=\"A JSON-encodable dictionary of additional headers to be stored\\nas metadata with the file.\" />\n",
       "</ParamSection>\n",
       "</DocSection>"
      ],
      "text/plain": [
       "<nbdoc.showdoc.ShowDoc at 0x7fc2ecd25d00>"
      ]
     },
     "execution_count": 32,
     "metadata": {},
     "output_type": "execute_result"
    }
   ],
   "source": [
    "ShowDoc2(S3PutObject, show_import=True)"
   ]
  },
  {
   "cell_type": "code",
   "execution_count": null,
   "id": "c111ec1a",
   "metadata": {},
   "outputs": [],
   "source": []
  }
 ],
 "metadata": {
  "kernelspec": {
   "display_name": "Python 3",
   "language": "python",
   "name": "python3"
  },
  "language_info": {
   "codemirror_mode": {
    "name": "ipython",
    "version": 3
   },
   "file_extension": ".py",
   "mimetype": "text/x-python",
   "name": "python",
   "nbconvert_exporter": "python",
   "pygments_lexer": "ipython3",
   "version": "3.9.1"
  }
 },
 "nbformat": 4,
 "nbformat_minor": 5
}
