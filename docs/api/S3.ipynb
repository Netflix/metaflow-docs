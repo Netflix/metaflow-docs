{
 "cells": [
  {
   "cell_type": "markdown",
   "id": "eb7388b6",
   "metadata": {},
   "source": [
    "# S3 - Accessing data in S3 quickly\n",
    "\n",
    "The `S3` client is a wrapper over the standard AWS Python library, `boto`. It contains enhancements that are relevant for data-intensive applications:\n",
    "\n",
    " - Supports accessing large amounts of data quickly through parallel operations (functions with the `_many` suffix). You can download up to 20Gbps on a large EC2 instance.\n",
    " - Improved error handling.\n",
    " - Supports versioned data through `S3(run=self)` and `S3(run=Run)`.\n",
    " - User-friendly API with minimal boilerplate.\n",
    " - Convenient API for advanced featured such as range requests (downloading partial files) and object headers.\n",
    " \n",
    "For instructions how to use the class, see [Loading and Storing Data](/scaling/data)."
   ]
  },
  {
   "cell_type": "code",
   "execution_count": 1,
   "id": "267ce6f4",
   "metadata": {
    "execution": {
     "iopub.execute_input": "2025-08-30T21:15:32.992870Z",
     "iopub.status.busy": "2025-08-30T21:15:32.992750Z",
     "iopub.status.idle": "2025-08-30T21:15:33.209177Z",
     "shell.execute_reply": "2025-08-30T21:15:33.208899Z"
    }
   },
   "outputs": [],
   "source": [
    "#meta:tag=hide\n",
    "from functools import partial\n",
    "from nbdoc.showdoc import ShowDoc as SD\n",
    "ShowDoc = partial(SD, module_nm='metaflow')\n",
    "\n",
    "from metaflow import S3\n",
    "from metaflow.datatools.s3 import S3Object"
   ]
  },
  {
   "cell_type": "markdown",
   "id": "33ecc60a",
   "metadata": {},
   "source": [
    "## The `S3` client"
   ]
  },
  {
   "cell_type": "code",
   "execution_count": 2,
   "id": "be77093e",
   "metadata": {
    "execution": {
     "iopub.execute_input": "2025-08-30T21:15:33.211275Z",
     "iopub.status.busy": "2025-08-30T21:15:33.211127Z",
     "iopub.status.idle": "2025-08-30T21:15:33.230516Z",
     "shell.execute_reply": "2025-08-30T21:15:33.230256Z"
    }
   },
   "outputs": [
    {
     "data": {
      "text/html": [
       "<HTMLRemove>\n",
       "<h3> <code>class</code> <span style=\"color:Brown\">S3</span> <em>tmproot='.', bucket=None, prefix=None, run=None, s3root=None</em><a href=\"https://github.com/Netflix/metaflow/tree/master/metaflow/plugins/datatools/s3/s3.py#L458\" style=\"float:right\">[source]</a></h3><strong>metaflow</strong><p><blockquote>The&nbsp;Metaflow&nbsp;S3&nbsp;client.<br><br>This&nbsp;object&nbsp;manages&nbsp;the&nbsp;connection&nbsp;to&nbsp;S3&nbsp;and&nbsp;a&nbsp;temporary&nbsp;diretory&nbsp;that&nbsp;is&nbsp;used<br>to&nbsp;download&nbsp;objects.&nbsp;Note&nbsp;that&nbsp;in&nbsp;most&nbsp;cases&nbsp;when&nbsp;the&nbsp;data&nbsp;fits&nbsp;in&nbsp;memory,&nbsp;no&nbsp;local<br>disk&nbsp;IO&nbsp;is&nbsp;needed&nbsp;as&nbsp;operations&nbsp;are&nbsp;cached&nbsp;by&nbsp;the&nbsp;operating&nbsp;system,&nbsp;which&nbsp;makes<br>operations&nbsp;fast&nbsp;as&nbsp;long&nbsp;as&nbsp;there&nbsp;is&nbsp;enough&nbsp;memory&nbsp;available.<br><br>The&nbsp;easiest&nbsp;way&nbsp;is&nbsp;to&nbsp;use&nbsp;this&nbsp;object&nbsp;as&nbsp;a&nbsp;context&nbsp;manager:<br>```<br>with&nbsp;S3()&nbsp;as&nbsp;s3:<br>&nbsp;&nbsp;&nbsp;&nbsp;data&nbsp;=&nbsp;[obj.blob&nbsp;for&nbsp;obj&nbsp;in&nbsp;s3.get_many(urls)]<br>print(data)<br>```<br>The&nbsp;context&nbsp;manager&nbsp;takes&nbsp;care&nbsp;of&nbsp;creating&nbsp;and&nbsp;deleting&nbsp;a&nbsp;temporary&nbsp;directory<br>automatically.&nbsp;Without&nbsp;a&nbsp;context&nbsp;manager,&nbsp;you&nbsp;must&nbsp;call&nbsp;`.close()`&nbsp;to&nbsp;delete<br>the&nbsp;directory&nbsp;explicitly:<br>```<br>s3&nbsp;=&nbsp;S3()<br>data&nbsp;=&nbsp;[obj.blob&nbsp;for&nbsp;obj&nbsp;in&nbsp;s3.get_many(urls)]<br>s3.close()<br>```<br>You&nbsp;can&nbsp;customize&nbsp;the&nbsp;location&nbsp;of&nbsp;the&nbsp;temporary&nbsp;directory&nbsp;with&nbsp;`tmproot`.&nbsp;It<br>defaults&nbsp;to&nbsp;the&nbsp;current&nbsp;working&nbsp;directory.<br><br>To&nbsp;make&nbsp;it&nbsp;easier&nbsp;to&nbsp;deal&nbsp;with&nbsp;object&nbsp;locations,&nbsp;the&nbsp;client&nbsp;can&nbsp;be&nbsp;initialized<br>with&nbsp;an&nbsp;S3&nbsp;path&nbsp;prefix.&nbsp;There&nbsp;are&nbsp;three&nbsp;ways&nbsp;to&nbsp;handle&nbsp;locations:<br><br>1.&nbsp;Use&nbsp;a&nbsp;`metaflow.Run`&nbsp;object&nbsp;or&nbsp;`self`,&nbsp;e.g.&nbsp;`S3(run=self)`&nbsp;which<br>&nbsp;&nbsp;&nbsp;initializes&nbsp;the&nbsp;prefix&nbsp;with&nbsp;the&nbsp;global&nbsp;`DATATOOLS_S3ROOT`&nbsp;path,&nbsp;combined<br>&nbsp;&nbsp;&nbsp;with&nbsp;the&nbsp;current&nbsp;run&nbsp;ID.&nbsp;This&nbsp;mode&nbsp;makes&nbsp;it&nbsp;easy&nbsp;to&nbsp;version&nbsp;data&nbsp;based<br>&nbsp;&nbsp;&nbsp;on&nbsp;the&nbsp;run&nbsp;ID&nbsp;consistently.&nbsp;You&nbsp;can&nbsp;use&nbsp;the&nbsp;`bucket`&nbsp;and&nbsp;`prefix`&nbsp;to<br>&nbsp;&nbsp;&nbsp;override&nbsp;parts&nbsp;of&nbsp;`DATATOOLS_S3ROOT`.<br><br>2.&nbsp;Specify&nbsp;an&nbsp;S3&nbsp;prefix&nbsp;explicitly&nbsp;with&nbsp;`s3root`,<br>&nbsp;&nbsp;&nbsp;e.g.&nbsp;`S3(s3root='s3://mybucket/some/path')`.<br><br>3.&nbsp;Specify&nbsp;nothing,&nbsp;i.e.&nbsp;`S3()`,&nbsp;in&nbsp;which&nbsp;case&nbsp;all&nbsp;operations&nbsp;require<br>&nbsp;&nbsp;&nbsp;a&nbsp;full&nbsp;S3&nbsp;url&nbsp;prefixed&nbsp;with&nbsp;`s3://`.<br><br>Parameters<br>----------<br>tmproot&nbsp;:&nbsp;str,&nbsp;default:&nbsp;'.'<br>&nbsp;&nbsp;&nbsp;&nbsp;Where&nbsp;to&nbsp;store&nbsp;the&nbsp;temporary&nbsp;directory.<br>bucket&nbsp;:&nbsp;str,&nbsp;optional<br>&nbsp;&nbsp;&nbsp;&nbsp;Override&nbsp;the&nbsp;bucket&nbsp;from&nbsp;`DATATOOLS_S3ROOT`&nbsp;when&nbsp;`run`&nbsp;is&nbsp;specified.<br>prefix&nbsp;:&nbsp;str,&nbsp;optional<br>&nbsp;&nbsp;&nbsp;&nbsp;Override&nbsp;the&nbsp;path&nbsp;from&nbsp;`DATATOOLS_S3ROOT`&nbsp;when&nbsp;`run`&nbsp;is&nbsp;specified.<br>run&nbsp;:&nbsp;FlowSpec&nbsp;or&nbsp;Run,&nbsp;optional<br>&nbsp;&nbsp;&nbsp;&nbsp;Derive&nbsp;path&nbsp;prefix&nbsp;from&nbsp;the&nbsp;current&nbsp;or&nbsp;a&nbsp;past&nbsp;run&nbsp;ID,&nbsp;e.g.&nbsp;S3(run=self).<br>s3root&nbsp;:&nbsp;str,&nbsp;optional<br>&nbsp;&nbsp;&nbsp;&nbsp;If&nbsp;`run`&nbsp;is&nbsp;not&nbsp;specified,&nbsp;use&nbsp;this&nbsp;as&nbsp;the&nbsp;S3&nbsp;prefix.</blockquote></p>\n",
       "</HTMLRemove>\n",
       "<DocSection type=\"class\" name=\"S3\" module=\"metaflow\" show_import=\"True\" heading_level=\"3\" link=\"https://github.com/Netflix/metaflow/tree/master/metaflow/plugins/datatools/s3/s3.py#L458\">\n",
       "<SigArgSection>\n",
       "<SigArg name=\"tmproot='.', bucket=None, prefix=None, run=None, s3root=None\" />\n",
       "</SigArgSection>\n",
       "<Description summary=\"The Metaflow S3 client.\" extended_summary=\"This object manages the connection to S3 and a temporary diretory that is used\\nto download objects. Note that in most cases when the data fits in memory, no local\\ndisk IO is needed as operations are cached by the operating system, which makes\\noperations fast as long as there is enough memory available.\\n\\nThe easiest way is to use this object as a context manager:\\n```\\nwith S3() as s3:\\n    data = [obj.blob for obj in s3.get_many(urls)]\\nprint(data)\\n```\\nThe context manager takes care of creating and deleting a temporary directory\\nautomatically. Without a context manager, you must call `.close()` to delete\\nthe directory explicitly:\\n```\\ns3 = S3()\\ndata = [obj.blob for obj in s3.get_many(urls)]\\ns3.close()\\n```\\nYou can customize the location of the temporary directory with `tmproot`. It\\ndefaults to the current working directory.\\n\\nTo make it easier to deal with object locations, the client can be initialized\\nwith an S3 path prefix. There are three ways to handle locations:\\n\\n1. Use a `metaflow.Run` object or `self`, e.g. `S3(run=self)` which\\n   initializes the prefix with the global `DATATOOLS_S3ROOT` path, combined\\n   with the current run ID. This mode makes it easy to version data based\\n   on the run ID consistently. You can use the `bucket` and `prefix` to\\n   override parts of `DATATOOLS_S3ROOT`.\\n\\n2. Specify an S3 prefix explicitly with `s3root`,\\n   e.g. `S3(s3root='s3://mybucket/some/path')`.\\n\\n3. Specify nothing, i.e. `S3()`, in which case all operations require\\n   a full S3 url prefixed with `s3://`.\" />\n",
       "<ParamSection name=\"Parameters\">\n",
       "\t<Parameter name=\"tmproot\" type=\"str, default: '.'\" desc=\"Where to store the temporary directory.\" />\n",
       "\t<Parameter name=\"bucket\" type=\"str, optional\" desc=\"Override the bucket from `DATATOOLS_S3ROOT` when `run` is specified.\" />\n",
       "\t<Parameter name=\"prefix\" type=\"str, optional\" desc=\"Override the path from `DATATOOLS_S3ROOT` when `run` is specified.\" />\n",
       "\t<Parameter name=\"run\" type=\"FlowSpec or Run, optional\" desc=\"Derive path prefix from the current or a past run ID, e.g. S3(run=self).\" />\n",
       "\t<Parameter name=\"s3root\" type=\"str, optional\" desc=\"If `run` is not specified, use this as the S3 prefix.\" />\n",
       "</ParamSection>\n",
       "</DocSection>"
      ],
      "text/plain": [
       "<nbdoc.showdoc.ShowDoc at 0x1057a9f50>"
      ]
     },
     "execution_count": 2,
     "metadata": {},
     "output_type": "execute_result"
    }
   ],
   "source": [
    "ShowDoc(S3, spoofstr=\"tmproot='.', bucket=None, prefix=None, run=None, s3root=None\", show_import=True)"
   ]
  },
  {
   "cell_type": "code",
   "execution_count": 3,
   "id": "a0e04313",
   "metadata": {
    "execution": {
     "iopub.execute_input": "2025-08-30T21:15:33.232479Z",
     "iopub.status.busy": "2025-08-30T21:15:33.232381Z",
     "iopub.status.idle": "2025-08-30T21:15:33.234544Z",
     "shell.execute_reply": "2025-08-30T21:15:33.234301Z"
    }
   },
   "outputs": [
    {
     "data": {
      "text/html": [
       "<HTMLRemove>\n",
       "<h4> <code>method</code> <span style=\"color:Brown\">S3.close</span> <em>(self)</em><a href=\"https://github.com/Netflix/metaflow/tree/master/metaflow/plugins/datatools/s3/s3.py#L590\" style=\"float:right\">[source]</a></h4><p><blockquote>Delete&nbsp;all&nbsp;temporary&nbsp;files&nbsp;downloaded&nbsp;in&nbsp;this&nbsp;context.</blockquote></p>\n",
       "</HTMLRemove>\n",
       "<DocSection type=\"method\" name=\"S3.close\" module=\"metaflow\" show_import=\"False\" heading_level=\"4\" link=\"https://github.com/Netflix/metaflow/tree/master/metaflow/plugins/datatools/s3/s3.py#L590\">\n",
       "<SigArgSection>\n",
       "<SigArg name=\"self\" />\n",
       "</SigArgSection>\n",
       "<Description summary=\"Delete all temporary files downloaded in this context.\" />\n",
       "\n",
       "</DocSection>"
      ],
      "text/plain": [
       "<nbdoc.showdoc.ShowDoc at 0x1070efa10>"
      ]
     },
     "execution_count": 3,
     "metadata": {},
     "output_type": "execute_result"
    }
   ],
   "source": [
    "ShowDoc(S3.close)"
   ]
  },
  {
   "cell_type": "markdown",
   "id": "6a652ab3",
   "metadata": {},
   "source": [
    "## Downloading data"
   ]
  },
  {
   "cell_type": "code",
   "execution_count": 4,
   "id": "30c3afdf",
   "metadata": {
    "execution": {
     "iopub.execute_input": "2025-08-30T21:15:33.236950Z",
     "iopub.status.busy": "2025-08-30T21:15:33.236863Z",
     "iopub.status.idle": "2025-08-30T21:15:33.239722Z",
     "shell.execute_reply": "2025-08-30T21:15:33.239523Z"
    }
   },
   "outputs": [
    {
     "data": {
      "text/html": [
       "<HTMLRemove>\n",
       "<h4> <code>method</code> <span style=\"color:Brown\">S3.get</span> <em>(self, key: Union[str, metaflow.plugins.datatools.s3.s3.S3GetObject, NoneType] = None, return_missing: bool = False, return_info: bool = True) -> metaflow.plugins.datatools.s3.s3.S3Object</em><a href=\"https://github.com/Netflix/metaflow/tree/master/metaflow/plugins/datatools/s3/s3.py#L871\" style=\"float:right\">[source]</a></h4><p><blockquote>Get&nbsp;a&nbsp;single&nbsp;object&nbsp;from&nbsp;S3.<br><br>Parameters<br>----------<br>key&nbsp;:&nbsp;Union[str,&nbsp;S3GetObject],&nbsp;optional,&nbsp;default&nbsp;None<br>&nbsp;&nbsp;&nbsp;&nbsp;Object&nbsp;to&nbsp;download.&nbsp;It&nbsp;can&nbsp;be&nbsp;an&nbsp;S3&nbsp;url,&nbsp;a&nbsp;path&nbsp;suffix,&nbsp;or<br>&nbsp;&nbsp;&nbsp;&nbsp;an&nbsp;S3GetObject&nbsp;that&nbsp;defines&nbsp;a&nbsp;range&nbsp;of&nbsp;data&nbsp;to&nbsp;download.&nbsp;If&nbsp;None,&nbsp;or<br>&nbsp;&nbsp;&nbsp;&nbsp;not&nbsp;provided,&nbsp;gets&nbsp;the&nbsp;S3&nbsp;root.<br>return_missing&nbsp;:&nbsp;bool,&nbsp;default&nbsp;False<br>&nbsp;&nbsp;&nbsp;&nbsp;If&nbsp;set&nbsp;to&nbsp;True,&nbsp;do&nbsp;not&nbsp;raise&nbsp;an&nbsp;exception&nbsp;for&nbsp;a&nbsp;missing&nbsp;key&nbsp;but<br>&nbsp;&nbsp;&nbsp;&nbsp;return&nbsp;it&nbsp;as&nbsp;an&nbsp;`S3Object`&nbsp;with&nbsp;`.exists&nbsp;==&nbsp;False`.<br>return_info&nbsp;:&nbsp;bool,&nbsp;default&nbsp;True<br>&nbsp;&nbsp;&nbsp;&nbsp;If&nbsp;set&nbsp;to&nbsp;True,&nbsp;fetch&nbsp;the&nbsp;content-type&nbsp;and&nbsp;user&nbsp;metadata&nbsp;associated<br>&nbsp;&nbsp;&nbsp;&nbsp;with&nbsp;the&nbsp;object&nbsp;at&nbsp;no&nbsp;extra&nbsp;cost,&nbsp;included&nbsp;for&nbsp;symmetry&nbsp;with&nbsp;`get_many`<br><br>Returns<br>-------<br>S3Object<br>&nbsp;&nbsp;&nbsp;&nbsp;An&nbsp;S3Object&nbsp;corresponding&nbsp;to&nbsp;the&nbsp;object&nbsp;requested.</blockquote></p>\n",
       "</HTMLRemove>\n",
       "<DocSection type=\"method\" name=\"S3.get\" module=\"metaflow\" show_import=\"False\" heading_level=\"4\" link=\"https://github.com/Netflix/metaflow/tree/master/metaflow/plugins/datatools/s3/s3.py#L871\">\n",
       "<SigArgSection>\n",
       "<SigArg name=\"self\" /><SigArg name=\"key\" type=\"Union\" default=\"None\" /><SigArg name=\"return_missing\" type=\"bool\" default=\"False\" /><SigArg name=\"return_info\" type=\"bool\" default=\"True\" />\n",
       "</SigArgSection>\n",
       "<Description summary=\"Get a single object from S3.\" />\n",
       "<ParamSection name=\"Parameters\">\n",
       "\t<Parameter name=\"key\" type=\"Union[str, S3GetObject], optional, default None\" desc=\"Object to download. It can be an S3 url, a path suffix, or\\nan S3GetObject that defines a range of data to download. If None, or\\nnot provided, gets the S3 root.\" />\n",
       "\t<Parameter name=\"return_missing\" type=\"bool, default False\" desc=\"If set to True, do not raise an exception for a missing key but\\nreturn it as an `S3Object` with `.exists == False`.\" />\n",
       "\t<Parameter name=\"return_info\" type=\"bool, default True\" desc=\"If set to True, fetch the content-type and user metadata associated\\nwith the object at no extra cost, included for symmetry with `get_many`\" />\n",
       "</ParamSection>\n",
       "<ParamSection name=\"Returns\">\n",
       "\t<Parameter type=\"S3Object\" desc=\"An S3Object corresponding to the object requested.\" />\n",
       "</ParamSection>\n",
       "</DocSection>"
      ],
      "text/plain": [
       "<nbdoc.showdoc.ShowDoc at 0x10725f090>"
      ]
     },
     "execution_count": 4,
     "metadata": {},
     "output_type": "execute_result"
    }
   ],
   "source": [
    "ShowDoc(S3.get)"
   ]
  },
  {
   "cell_type": "code",
   "execution_count": 5,
   "id": "2bbb1e36",
   "metadata": {
    "execution": {
     "iopub.execute_input": "2025-08-30T21:15:33.242005Z",
     "iopub.status.busy": "2025-08-30T21:15:33.241917Z",
     "iopub.status.idle": "2025-08-30T21:15:33.244492Z",
     "shell.execute_reply": "2025-08-30T21:15:33.244292Z"
    }
   },
   "outputs": [
    {
     "data": {
      "text/html": [
       "<HTMLRemove>\n",
       "<h4> <code>method</code> <span style=\"color:Brown\">S3.get_many</span> <em>(self, keys: Iterable[Union[str, metaflow.plugins.datatools.s3.s3.S3GetObject]], return_missing: bool = False, return_info: bool = True) -> List[metaflow.plugins.datatools.s3.s3.S3Object]</em><a href=\"https://github.com/Netflix/metaflow/tree/master/metaflow/plugins/datatools/s3/s3.py#L978\" style=\"float:right\">[source]</a></h4><p><blockquote>Get&nbsp;many&nbsp;objects&nbsp;from&nbsp;S3&nbsp;in&nbsp;parallel.<br><br>Parameters<br>----------<br>keys&nbsp;:&nbsp;Iterable[Union[str,&nbsp;S3GetObject]]<br>&nbsp;&nbsp;&nbsp;&nbsp;Objects&nbsp;to&nbsp;download.&nbsp;Each&nbsp;object&nbsp;can&nbsp;be&nbsp;an&nbsp;S3&nbsp;url,&nbsp;a&nbsp;path&nbsp;suffix,&nbsp;or<br>&nbsp;&nbsp;&nbsp;&nbsp;an&nbsp;S3GetObject&nbsp;that&nbsp;defines&nbsp;a&nbsp;range&nbsp;of&nbsp;data&nbsp;to&nbsp;download.<br>return_missing&nbsp;:&nbsp;bool,&nbsp;default&nbsp;False<br>&nbsp;&nbsp;&nbsp;&nbsp;If&nbsp;set&nbsp;to&nbsp;True,&nbsp;do&nbsp;not&nbsp;raise&nbsp;an&nbsp;exception&nbsp;for&nbsp;a&nbsp;missing&nbsp;key&nbsp;but<br>&nbsp;&nbsp;&nbsp;&nbsp;return&nbsp;it&nbsp;as&nbsp;an&nbsp;`S3Object`&nbsp;with&nbsp;`.exists&nbsp;==&nbsp;False`.<br>return_info&nbsp;:&nbsp;bool,&nbsp;default&nbsp;True<br>&nbsp;&nbsp;&nbsp;&nbsp;If&nbsp;set&nbsp;to&nbsp;True,&nbsp;fetch&nbsp;the&nbsp;content-type&nbsp;and&nbsp;user&nbsp;metadata&nbsp;associated<br>&nbsp;&nbsp;&nbsp;&nbsp;with&nbsp;the&nbsp;object&nbsp;at&nbsp;no&nbsp;extra&nbsp;cost,&nbsp;included&nbsp;for&nbsp;symmetry&nbsp;with&nbsp;`get_many`.<br><br>Returns<br>-------<br>List[S3Object]<br>&nbsp;&nbsp;&nbsp;&nbsp;S3Objects&nbsp;corresponding&nbsp;to&nbsp;the&nbsp;objects&nbsp;requested.</blockquote></p>\n",
       "</HTMLRemove>\n",
       "<DocSection type=\"method\" name=\"S3.get_many\" module=\"metaflow\" show_import=\"False\" heading_level=\"4\" link=\"https://github.com/Netflix/metaflow/tree/master/metaflow/plugins/datatools/s3/s3.py#L978\">\n",
       "<SigArgSection>\n",
       "<SigArg name=\"self\" /><SigArg name=\"keys\" type=\"Iterable\" /><SigArg name=\"return_missing\" type=\"bool\" default=\"False\" /><SigArg name=\"return_info\" type=\"bool\" default=\"True\" />\n",
       "</SigArgSection>\n",
       "<Description summary=\"Get many objects from S3 in parallel.\" />\n",
       "<ParamSection name=\"Parameters\">\n",
       "\t<Parameter name=\"keys\" type=\"Iterable[Union[str, S3GetObject]]\" desc=\"Objects to download. Each object can be an S3 url, a path suffix, or\\nan S3GetObject that defines a range of data to download.\" />\n",
       "\t<Parameter name=\"return_missing\" type=\"bool, default False\" desc=\"If set to True, do not raise an exception for a missing key but\\nreturn it as an `S3Object` with `.exists == False`.\" />\n",
       "\t<Parameter name=\"return_info\" type=\"bool, default True\" desc=\"If set to True, fetch the content-type and user metadata associated\\nwith the object at no extra cost, included for symmetry with `get_many`.\" />\n",
       "</ParamSection>\n",
       "<ParamSection name=\"Returns\">\n",
       "\t<Parameter type=\"List[S3Object]\" desc=\"S3Objects corresponding to the objects requested.\" />\n",
       "</ParamSection>\n",
       "</DocSection>"
      ],
      "text/plain": [
       "<nbdoc.showdoc.ShowDoc at 0x10725f410>"
      ]
     },
     "execution_count": 5,
     "metadata": {},
     "output_type": "execute_result"
    }
   ],
   "source": [
    "ShowDoc(S3.get_many)"
   ]
  },
  {
   "cell_type": "code",
   "execution_count": 6,
   "id": "64a74dcf",
   "metadata": {
    "execution": {
     "iopub.execute_input": "2025-08-30T21:15:33.246450Z",
     "iopub.status.busy": "2025-08-30T21:15:33.246369Z",
     "iopub.status.idle": "2025-08-30T21:15:33.248945Z",
     "shell.execute_reply": "2025-08-30T21:15:33.248737Z"
    }
   },
   "outputs": [
    {
     "data": {
      "text/html": [
       "<HTMLRemove>\n",
       "<h4> <code>method</code> <span style=\"color:Brown\">S3.get_recursive</span> <em>(self, keys: Iterable[str], return_info: bool = False) -> List[metaflow.plugins.datatools.s3.s3.S3Object]</em><a href=\"https://github.com/Netflix/metaflow/tree/master/metaflow/plugins/datatools/s3/s3.py#L1053\" style=\"float:right\">[source]</a></h4><p><blockquote>Get&nbsp;many&nbsp;objects&nbsp;from&nbsp;S3&nbsp;recursively&nbsp;in&nbsp;parallel.<br><br>Parameters<br>----------<br>keys&nbsp;:&nbsp;Iterable[str]<br>&nbsp;&nbsp;&nbsp;&nbsp;Prefixes&nbsp;to&nbsp;download&nbsp;recursively.&nbsp;Each&nbsp;prefix&nbsp;can&nbsp;be&nbsp;an&nbsp;S3&nbsp;url&nbsp;or&nbsp;a&nbsp;path&nbsp;suffix<br>&nbsp;&nbsp;&nbsp;&nbsp;which&nbsp;define&nbsp;the&nbsp;root&nbsp;prefix&nbsp;under&nbsp;which&nbsp;all&nbsp;objects&nbsp;are&nbsp;downloaded.<br>return_info&nbsp;:&nbsp;bool,&nbsp;default&nbsp;False<br>&nbsp;&nbsp;&nbsp;&nbsp;If&nbsp;set&nbsp;to&nbsp;True,&nbsp;fetch&nbsp;the&nbsp;content-type&nbsp;and&nbsp;user&nbsp;metadata&nbsp;associated<br>&nbsp;&nbsp;&nbsp;&nbsp;with&nbsp;the&nbsp;object.<br><br>Returns<br>-------<br>List[S3Object]<br>&nbsp;&nbsp;&nbsp;&nbsp;S3Objects&nbsp;stored&nbsp;under&nbsp;the&nbsp;given&nbsp;prefixes.</blockquote></p>\n",
       "</HTMLRemove>\n",
       "<DocSection type=\"method\" name=\"S3.get_recursive\" module=\"metaflow\" show_import=\"False\" heading_level=\"4\" link=\"https://github.com/Netflix/metaflow/tree/master/metaflow/plugins/datatools/s3/s3.py#L1053\">\n",
       "<SigArgSection>\n",
       "<SigArg name=\"self\" /><SigArg name=\"keys\" type=\"Iterable\" /><SigArg name=\"return_info\" type=\"bool\" default=\"False\" />\n",
       "</SigArgSection>\n",
       "<Description summary=\"Get many objects from S3 recursively in parallel.\" />\n",
       "<ParamSection name=\"Parameters\">\n",
       "\t<Parameter name=\"keys\" type=\"Iterable[str]\" desc=\"Prefixes to download recursively. Each prefix can be an S3 url or a path suffix\\nwhich define the root prefix under which all objects are downloaded.\" />\n",
       "\t<Parameter name=\"return_info\" type=\"bool, default False\" desc=\"If set to True, fetch the content-type and user metadata associated\\nwith the object.\" />\n",
       "</ParamSection>\n",
       "<ParamSection name=\"Returns\">\n",
       "\t<Parameter type=\"List[S3Object]\" desc=\"S3Objects stored under the given prefixes.\" />\n",
       "</ParamSection>\n",
       "</DocSection>"
      ],
      "text/plain": [
       "<nbdoc.showdoc.ShowDoc at 0x10725d7d0>"
      ]
     },
     "execution_count": 6,
     "metadata": {},
     "output_type": "execute_result"
    }
   ],
   "source": [
    "ShowDoc(S3.get_recursive)"
   ]
  },
  {
   "cell_type": "code",
   "execution_count": 7,
   "id": "62b5aa5c",
   "metadata": {
    "execution": {
     "iopub.execute_input": "2025-08-30T21:15:33.250587Z",
     "iopub.status.busy": "2025-08-30T21:15:33.250512Z",
     "iopub.status.idle": "2025-08-30T21:15:33.252525Z",
     "shell.execute_reply": "2025-08-30T21:15:33.252343Z"
    }
   },
   "outputs": [
    {
     "data": {
      "text/html": [
       "<HTMLRemove>\n",
       "<h4> <code>method</code> <span style=\"color:Brown\">S3.get_all</span> <em>(self, return_info: bool = False) -> List[metaflow.plugins.datatools.s3.s3.S3Object]</em><a href=\"https://github.com/Netflix/metaflow/tree/master/metaflow/plugins/datatools/s3/s3.py#L1109\" style=\"float:right\">[source]</a></h4><p><blockquote>Get&nbsp;all&nbsp;objects&nbsp;under&nbsp;the&nbsp;prefix&nbsp;set&nbsp;in&nbsp;the&nbsp;`S3`&nbsp;constructor.<br><br>This&nbsp;method&nbsp;requires&nbsp;that&nbsp;the&nbsp;`S3`&nbsp;object&nbsp;is&nbsp;initialized&nbsp;either&nbsp;with&nbsp;`run`&nbsp;or<br>`s3root`.<br><br>Parameters<br>----------<br>return_info&nbsp;:&nbsp;bool,&nbsp;default&nbsp;False<br>&nbsp;&nbsp;&nbsp;&nbsp;If&nbsp;set&nbsp;to&nbsp;True,&nbsp;fetch&nbsp;the&nbsp;content-type&nbsp;and&nbsp;user&nbsp;metadata&nbsp;associated<br>&nbsp;&nbsp;&nbsp;&nbsp;with&nbsp;the&nbsp;object.<br><br>Returns<br>-------<br>Iterable[S3Object]<br>&nbsp;&nbsp;&nbsp;&nbsp;S3Objects&nbsp;stored&nbsp;under&nbsp;the&nbsp;main&nbsp;prefix.</blockquote></p>\n",
       "</HTMLRemove>\n",
       "<DocSection type=\"method\" name=\"S3.get_all\" module=\"metaflow\" show_import=\"False\" heading_level=\"4\" link=\"https://github.com/Netflix/metaflow/tree/master/metaflow/plugins/datatools/s3/s3.py#L1109\">\n",
       "<SigArgSection>\n",
       "<SigArg name=\"self\" /><SigArg name=\"return_info\" type=\"bool\" default=\"False\" />\n",
       "</SigArgSection>\n",
       "<Description summary=\"Get all objects under the prefix set in the `S3` constructor.\" extended_summary=\"This method requires that the `S3` object is initialized either with `run` or\\n`s3root`.\" />\n",
       "<ParamSection name=\"Parameters\">\n",
       "\t<Parameter name=\"return_info\" type=\"bool, default False\" desc=\"If set to True, fetch the content-type and user metadata associated\\nwith the object.\" />\n",
       "</ParamSection>\n",
       "<ParamSection name=\"Returns\">\n",
       "\t<Parameter type=\"Iterable[S3Object]\" desc=\"S3Objects stored under the main prefix.\" />\n",
       "</ParamSection>\n",
       "</DocSection>"
      ],
      "text/plain": [
       "<nbdoc.showdoc.ShowDoc at 0x10725d410>"
      ]
     },
     "execution_count": 7,
     "metadata": {},
     "output_type": "execute_result"
    }
   ],
   "source": [
    "ShowDoc(S3.get_all)"
   ]
  },
  {
   "cell_type": "markdown",
   "id": "8e025d12",
   "metadata": {},
   "source": [
    "## Listing objects"
   ]
  },
  {
   "cell_type": "code",
   "execution_count": 8,
   "id": "b00c7e64",
   "metadata": {
    "execution": {
     "iopub.execute_input": "2025-08-30T21:15:33.254574Z",
     "iopub.status.busy": "2025-08-30T21:15:33.254495Z",
     "iopub.status.idle": "2025-08-30T21:15:33.256763Z",
     "shell.execute_reply": "2025-08-30T21:15:33.256555Z"
    },
    "scrolled": true
   },
   "outputs": [
    {
     "data": {
      "text/html": [
       "<HTMLRemove>\n",
       "<h4> <code>method</code> <span style=\"color:Brown\">S3.list_paths</span> <em>(self, keys: Optional[Iterable[str]] = None) -> List[metaflow.plugins.datatools.s3.s3.S3Object]</em><a href=\"https://github.com/Netflix/metaflow/tree/master/metaflow/plugins/datatools/s3/s3.py#L657\" style=\"float:right\">[source]</a></h4><p><blockquote>List&nbsp;the&nbsp;next&nbsp;level&nbsp;of&nbsp;paths&nbsp;in&nbsp;S3.<br><br>If&nbsp;multiple&nbsp;keys&nbsp;are&nbsp;specified,&nbsp;listings&nbsp;are&nbsp;done&nbsp;in&nbsp;parallel.&nbsp;The&nbsp;returned<br>S3Objects&nbsp;have&nbsp;`.exists&nbsp;==&nbsp;False`&nbsp;if&nbsp;the&nbsp;path&nbsp;refers&nbsp;to&nbsp;a&nbsp;prefix,&nbsp;not&nbsp;an<br>existing&nbsp;S3&nbsp;object.<br><br>For&nbsp;instance,&nbsp;if&nbsp;the&nbsp;directory&nbsp;hierarchy&nbsp;is<br>```<br>a/0.txt<br>a/b/1.txt<br>a/c/2.txt<br>a/d/e/3.txt<br>f/4.txt<br>```<br>The&nbsp;`list_paths(['a',&nbsp;'f'])`&nbsp;call&nbsp;returns<br>```<br>a/0.txt&nbsp;(exists&nbsp;==&nbsp;True)<br>a/b/&nbsp;(exists&nbsp;==&nbsp;False)<br>a/c/&nbsp;(exists&nbsp;==&nbsp;False)<br>a/d/&nbsp;(exists&nbsp;==&nbsp;False)<br>f/4.txt&nbsp;(exists&nbsp;==&nbsp;True)<br>```<br><br>Parameters<br>----------<br>keys&nbsp;:&nbsp;Iterable[str],&nbsp;optional,&nbsp;default&nbsp;None<br>&nbsp;&nbsp;&nbsp;&nbsp;List&nbsp;of&nbsp;paths.<br><br>Returns<br>-------<br>List[S3Object]<br>&nbsp;&nbsp;&nbsp;&nbsp;S3Objects&nbsp;under&nbsp;the&nbsp;given&nbsp;paths,&nbsp;including&nbsp;prefixes&nbsp;(directories)&nbsp;that<br>&nbsp;&nbsp;&nbsp;&nbsp;do&nbsp;not&nbsp;correspond&nbsp;to&nbsp;leaf&nbsp;objects.</blockquote></p>\n",
       "</HTMLRemove>\n",
       "<DocSection type=\"method\" name=\"S3.list_paths\" module=\"metaflow\" show_import=\"False\" heading_level=\"4\" link=\"https://github.com/Netflix/metaflow/tree/master/metaflow/plugins/datatools/s3/s3.py#L657\">\n",
       "<SigArgSection>\n",
       "<SigArg name=\"self\" /><SigArg name=\"keys\" type=\"Optional\" default=\"None\" />\n",
       "</SigArgSection>\n",
       "<Description summary=\"List the next level of paths in S3.\" extended_summary=\"If multiple keys are specified, listings are done in parallel. The returned\\nS3Objects have `.exists == False` if the path refers to a prefix, not an\\nexisting S3 object.\\n\\nFor instance, if the directory hierarchy is\\n```\\na/0.txt\\na/b/1.txt\\na/c/2.txt\\na/d/e/3.txt\\nf/4.txt\\n```\\nThe `list_paths(['a', 'f'])` call returns\\n```\\na/0.txt (exists == True)\\na/b/ (exists == False)\\na/c/ (exists == False)\\na/d/ (exists == False)\\nf/4.txt (exists == True)\\n```\" />\n",
       "<ParamSection name=\"Parameters\">\n",
       "\t<Parameter name=\"keys\" type=\"Iterable[str], optional, default None\" desc=\"List of paths.\" />\n",
       "</ParamSection>\n",
       "<ParamSection name=\"Returns\">\n",
       "\t<Parameter type=\"List[S3Object]\" desc=\"S3Objects under the given paths, including prefixes (directories) that\\ndo not correspond to leaf objects.\" />\n",
       "</ParamSection>\n",
       "</DocSection>"
      ],
      "text/plain": [
       "<nbdoc.showdoc.ShowDoc at 0x10725f310>"
      ]
     },
     "execution_count": 8,
     "metadata": {},
     "output_type": "execute_result"
    }
   ],
   "source": [
    "ShowDoc(S3.list_paths)"
   ]
  },
  {
   "cell_type": "code",
   "execution_count": 9,
   "id": "9b39aa1f",
   "metadata": {
    "execution": {
     "iopub.execute_input": "2025-08-30T21:15:33.259069Z",
     "iopub.status.busy": "2025-08-30T21:15:33.258972Z",
     "iopub.status.idle": "2025-08-30T21:15:33.261357Z",
     "shell.execute_reply": "2025-08-30T21:15:33.261178Z"
    },
    "scrolled": true
   },
   "outputs": [
    {
     "data": {
      "text/html": [
       "<HTMLRemove>\n",
       "<h4> <code>method</code> <span style=\"color:Brown\">S3.list_recursive</span> <em>(self, keys: Optional[Iterable[str]] = None) -> List[metaflow.plugins.datatools.s3.s3.S3Object]</em><a href=\"https://github.com/Netflix/metaflow/tree/master/metaflow/plugins/datatools/s3/s3.py#L707\" style=\"float:right\">[source]</a></h4><p><blockquote>List&nbsp;all&nbsp;objects&nbsp;recursively&nbsp;under&nbsp;the&nbsp;given&nbsp;prefixes.<br><br>If&nbsp;multiple&nbsp;keys&nbsp;are&nbsp;specified,&nbsp;listings&nbsp;are&nbsp;done&nbsp;in&nbsp;parallel.&nbsp;All&nbsp;objects<br>returned&nbsp;have&nbsp;`.exists&nbsp;==&nbsp;True`&nbsp;as&nbsp;this&nbsp;call&nbsp;always&nbsp;returns&nbsp;leaf&nbsp;objects.<br><br>For&nbsp;instance,&nbsp;if&nbsp;the&nbsp;directory&nbsp;hierarchy&nbsp;is<br>```<br>a/0.txt<br>a/b/1.txt<br>a/c/2.txt<br>a/d/e/3.txt<br>f/4.txt<br>```<br>The&nbsp;`list_paths(['a',&nbsp;'f'])`&nbsp;call&nbsp;returns<br>```<br>a/0.txt&nbsp;(exists&nbsp;==&nbsp;True)<br>a/b/1.txt&nbsp;(exists&nbsp;==&nbsp;True)<br>a/c/2.txt&nbsp;(exists&nbsp;==&nbsp;True)<br>a/d/e/3.txt&nbsp;(exists&nbsp;==&nbsp;True)<br>f/4.txt&nbsp;(exists&nbsp;==&nbsp;True)<br>```<br><br>Parameters<br>----------<br>keys&nbsp;:&nbsp;Iterable[str],&nbsp;optional,&nbsp;default&nbsp;None<br>&nbsp;&nbsp;&nbsp;&nbsp;List&nbsp;of&nbsp;paths.<br><br>Returns<br>-------<br>List[S3Object]<br>&nbsp;&nbsp;&nbsp;&nbsp;S3Objects&nbsp;under&nbsp;the&nbsp;given&nbsp;paths.</blockquote></p>\n",
       "</HTMLRemove>\n",
       "<DocSection type=\"method\" name=\"S3.list_recursive\" module=\"metaflow\" show_import=\"False\" heading_level=\"4\" link=\"https://github.com/Netflix/metaflow/tree/master/metaflow/plugins/datatools/s3/s3.py#L707\">\n",
       "<SigArgSection>\n",
       "<SigArg name=\"self\" /><SigArg name=\"keys\" type=\"Optional\" default=\"None\" />\n",
       "</SigArgSection>\n",
       "<Description summary=\"List all objects recursively under the given prefixes.\" extended_summary=\"If multiple keys are specified, listings are done in parallel. All objects\\nreturned have `.exists == True` as this call always returns leaf objects.\\n\\nFor instance, if the directory hierarchy is\\n```\\na/0.txt\\na/b/1.txt\\na/c/2.txt\\na/d/e/3.txt\\nf/4.txt\\n```\\nThe `list_paths(['a', 'f'])` call returns\\n```\\na/0.txt (exists == True)\\na/b/1.txt (exists == True)\\na/c/2.txt (exists == True)\\na/d/e/3.txt (exists == True)\\nf/4.txt (exists == True)\\n```\" />\n",
       "<ParamSection name=\"Parameters\">\n",
       "\t<Parameter name=\"keys\" type=\"Iterable[str], optional, default None\" desc=\"List of paths.\" />\n",
       "</ParamSection>\n",
       "<ParamSection name=\"Returns\">\n",
       "\t<Parameter type=\"List[S3Object]\" desc=\"S3Objects under the given paths.\" />\n",
       "</ParamSection>\n",
       "</DocSection>"
      ],
      "text/plain": [
       "<nbdoc.showdoc.ShowDoc at 0x10725f450>"
      ]
     },
     "execution_count": 9,
     "metadata": {},
     "output_type": "execute_result"
    }
   ],
   "source": [
    "ShowDoc(S3.list_recursive)"
   ]
  },
  {
   "cell_type": "markdown",
   "id": "4bbb628d",
   "metadata": {},
   "source": [
    "## Uploading data"
   ]
  },
  {
   "cell_type": "code",
   "execution_count": 10,
   "id": "8e76d108",
   "metadata": {
    "execution": {
     "iopub.execute_input": "2025-08-30T21:15:33.263490Z",
     "iopub.status.busy": "2025-08-30T21:15:33.263413Z",
     "iopub.status.idle": "2025-08-30T21:15:33.266179Z",
     "shell.execute_reply": "2025-08-30T21:15:33.265983Z"
    },
    "scrolled": true
   },
   "outputs": [
    {
     "data": {
      "text/html": [
       "<HTMLRemove>\n",
       "<h4> <code>method</code> <span style=\"color:Brown\">S3.put</span> <em>(self, key: Union[str, metaflow.plugins.datatools.s3.s3.S3PutObject], obj: Union[io.RawIOBase, io.BufferedIOBase, str, bytes], overwrite: bool = True, content_type: Optional[str] = None, metadata: Optional[Dict[str, str]] = None) -> str</em><a href=\"https://github.com/Netflix/metaflow/tree/master/metaflow/plugins/datatools/s3/s3.py#L1135\" style=\"float:right\">[source]</a></h4><p><blockquote>Upload&nbsp;a&nbsp;single&nbsp;object&nbsp;to&nbsp;S3.<br><br>Parameters<br>----------<br>key&nbsp;:&nbsp;Union[str,&nbsp;S3PutObject]<br>&nbsp;&nbsp;&nbsp;&nbsp;Object&nbsp;path.&nbsp;It&nbsp;can&nbsp;be&nbsp;an&nbsp;S3&nbsp;url&nbsp;or&nbsp;a&nbsp;path&nbsp;suffix.<br>obj&nbsp;:&nbsp;PutValue<br>&nbsp;&nbsp;&nbsp;&nbsp;An&nbsp;object&nbsp;to&nbsp;store&nbsp;in&nbsp;S3.&nbsp;Strings&nbsp;are&nbsp;converted&nbsp;to&nbsp;UTF-8&nbsp;encoding.<br>overwrite&nbsp;:&nbsp;bool,&nbsp;default&nbsp;True<br>&nbsp;&nbsp;&nbsp;&nbsp;Overwrite&nbsp;the&nbsp;object&nbsp;if&nbsp;it&nbsp;exists.&nbsp;If&nbsp;set&nbsp;to&nbsp;False,&nbsp;the&nbsp;operation<br>&nbsp;&nbsp;&nbsp;&nbsp;succeeds&nbsp;without&nbsp;uploading&nbsp;anything&nbsp;if&nbsp;the&nbsp;key&nbsp;already&nbsp;exists.<br>content_type&nbsp;:&nbsp;str,&nbsp;optional,&nbsp;default&nbsp;None<br>&nbsp;&nbsp;&nbsp;&nbsp;Optional&nbsp;MIME&nbsp;type&nbsp;for&nbsp;the&nbsp;object.<br>metadata&nbsp;:&nbsp;Dict[str,&nbsp;str],&nbsp;optional,&nbsp;default&nbsp;None<br>&nbsp;&nbsp;&nbsp;&nbsp;A&nbsp;JSON-encodable&nbsp;dictionary&nbsp;of&nbsp;additional&nbsp;headers&nbsp;to&nbsp;be&nbsp;stored<br>&nbsp;&nbsp;&nbsp;&nbsp;as&nbsp;metadata&nbsp;with&nbsp;the&nbsp;object.<br><br>Returns<br>-------<br>str<br>&nbsp;&nbsp;&nbsp;&nbsp;URL&nbsp;of&nbsp;the&nbsp;object&nbsp;stored.</blockquote></p>\n",
       "</HTMLRemove>\n",
       "<DocSection type=\"method\" name=\"S3.put\" module=\"metaflow\" show_import=\"False\" heading_level=\"4\" link=\"https://github.com/Netflix/metaflow/tree/master/metaflow/plugins/datatools/s3/s3.py#L1135\">\n",
       "<SigArgSection>\n",
       "<SigArg name=\"self\" /><SigArg name=\"key\" type=\"Union\" /><SigArg name=\"obj\" type=\"Union\" /><SigArg name=\"overwrite\" type=\"bool\" default=\"True\" /><SigArg name=\"content_type\" type=\"Optional\" default=\"None\" /><SigArg name=\"metadata\" type=\"Optional\" default=\"None\" />\n",
       "</SigArgSection>\n",
       "<Description summary=\"Upload a single object to S3.\" />\n",
       "<ParamSection name=\"Parameters\">\n",
       "\t<Parameter name=\"key\" type=\"Union[str, S3PutObject]\" desc=\"Object path. It can be an S3 url or a path suffix.\" />\n",
       "\t<Parameter name=\"obj\" type=\"PutValue\" desc=\"An object to store in S3. Strings are converted to UTF-8 encoding.\" />\n",
       "\t<Parameter name=\"overwrite\" type=\"bool, default True\" desc=\"Overwrite the object if it exists. If set to False, the operation\\nsucceeds without uploading anything if the key already exists.\" />\n",
       "\t<Parameter name=\"content_type\" type=\"str, optional, default None\" desc=\"Optional MIME type for the object.\" />\n",
       "\t<Parameter name=\"metadata\" type=\"Dict[str, str], optional, default None\" desc=\"A JSON-encodable dictionary of additional headers to be stored\\nas metadata with the object.\" />\n",
       "</ParamSection>\n",
       "<ParamSection name=\"Returns\">\n",
       "\t<Parameter type=\"str\" desc=\"URL of the object stored.\" />\n",
       "</ParamSection>\n",
       "</DocSection>"
      ],
      "text/plain": [
       "<nbdoc.showdoc.ShowDoc at 0x1057c4c90>"
      ]
     },
     "execution_count": 10,
     "metadata": {},
     "output_type": "execute_result"
    }
   ],
   "source": [
    "ShowDoc(S3.put)"
   ]
  },
  {
   "cell_type": "code",
   "execution_count": 11,
   "id": "ae5c6247",
   "metadata": {
    "execution": {
     "iopub.execute_input": "2025-08-30T21:15:33.269936Z",
     "iopub.status.busy": "2025-08-30T21:15:33.269853Z",
     "iopub.status.idle": "2025-08-30T21:15:33.272552Z",
     "shell.execute_reply": "2025-08-30T21:15:33.272353Z"
    }
   },
   "outputs": [
    {
     "data": {
      "text/html": [
       "<HTMLRemove>\n",
       "<h4> <code>method</code> <span style=\"color:Brown\">S3.put_many</span> <em>(self, key_objs: List[Union[Tuple[str, Union[io.RawIOBase, io.BufferedIOBase, str, bytes]], metaflow.plugins.datatools.s3.s3.S3PutObject]], overwrite: bool = True) -> List[Tuple[str, str]]</em><a href=\"https://github.com/Netflix/metaflow/tree/master/metaflow/plugins/datatools/s3/s3.py#L1232\" style=\"float:right\">[source]</a></h4><p><blockquote>Upload&nbsp;many&nbsp;objects&nbsp;to&nbsp;S3.<br><br>Each&nbsp;object&nbsp;to&nbsp;be&nbsp;uploaded&nbsp;can&nbsp;be&nbsp;specified&nbsp;in&nbsp;two&nbsp;ways:<br><br>1.&nbsp;As&nbsp;a&nbsp;`(key,&nbsp;obj)`&nbsp;tuple&nbsp;where&nbsp;`key`&nbsp;is&nbsp;a&nbsp;string&nbsp;specifying<br>&nbsp;&nbsp;&nbsp;the&nbsp;path&nbsp;and&nbsp;`obj`&nbsp;is&nbsp;a&nbsp;string&nbsp;or&nbsp;a&nbsp;bytes&nbsp;object.<br><br>2.&nbsp;As&nbsp;a&nbsp;`S3PutObject`&nbsp;which&nbsp;contains&nbsp;additional&nbsp;metadata&nbsp;to&nbsp;be<br>&nbsp;&nbsp;&nbsp;stored&nbsp;with&nbsp;the&nbsp;object.<br><br>Parameters<br>----------<br>key_objs&nbsp;:&nbsp;List[Union[Tuple[str,&nbsp;PutValue],&nbsp;S3PutObject]]<br>&nbsp;&nbsp;&nbsp;&nbsp;List&nbsp;of&nbsp;key-object&nbsp;pairs&nbsp;to&nbsp;upload.<br>overwrite&nbsp;:&nbsp;bool,&nbsp;default&nbsp;True<br>&nbsp;&nbsp;&nbsp;&nbsp;Overwrite&nbsp;the&nbsp;object&nbsp;if&nbsp;it&nbsp;exists.&nbsp;If&nbsp;set&nbsp;to&nbsp;False,&nbsp;the&nbsp;operation<br>&nbsp;&nbsp;&nbsp;&nbsp;succeeds&nbsp;without&nbsp;uploading&nbsp;anything&nbsp;if&nbsp;the&nbsp;key&nbsp;already&nbsp;exists.<br><br>Returns<br>-------<br>List[Tuple[str,&nbsp;str]]<br>&nbsp;&nbsp;&nbsp;&nbsp;List&nbsp;of&nbsp;`(key,&nbsp;url)`&nbsp;pairs&nbsp;corresponding&nbsp;to&nbsp;the&nbsp;objects&nbsp;uploaded.</blockquote></p>\n",
       "</HTMLRemove>\n",
       "<DocSection type=\"method\" name=\"S3.put_many\" module=\"metaflow\" show_import=\"False\" heading_level=\"4\" link=\"https://github.com/Netflix/metaflow/tree/master/metaflow/plugins/datatools/s3/s3.py#L1232\">\n",
       "<SigArgSection>\n",
       "<SigArg name=\"self\" /><SigArg name=\"key_objs\" type=\"List\" /><SigArg name=\"overwrite\" type=\"bool\" default=\"True\" />\n",
       "</SigArgSection>\n",
       "<Description summary=\"Upload many objects to S3.\" extended_summary=\"Each object to be uploaded can be specified in two ways:\\n\\n1. As a `(key, obj)` tuple where `key` is a string specifying\\n   the path and `obj` is a string or a bytes object.\\n\\n2. As a `S3PutObject` which contains additional metadata to be\\n   stored with the object.\" />\n",
       "<ParamSection name=\"Parameters\">\n",
       "\t<Parameter name=\"key_objs\" type=\"List[Union[Tuple[str, PutValue], S3PutObject]]\" desc=\"List of key-object pairs to upload.\" />\n",
       "\t<Parameter name=\"overwrite\" type=\"bool, default True\" desc=\"Overwrite the object if it exists. If set to False, the operation\\nsucceeds without uploading anything if the key already exists.\" />\n",
       "</ParamSection>\n",
       "<ParamSection name=\"Returns\">\n",
       "\t<Parameter type=\"List[Tuple[str, str]]\" desc=\"List of `(key, url)` pairs corresponding to the objects uploaded.\" />\n",
       "</ParamSection>\n",
       "</DocSection>"
      ],
      "text/plain": [
       "<nbdoc.showdoc.ShowDoc at 0x10725f590>"
      ]
     },
     "execution_count": 11,
     "metadata": {},
     "output_type": "execute_result"
    }
   ],
   "source": [
    "ShowDoc(S3.put_many)"
   ]
  },
  {
   "cell_type": "code",
   "execution_count": 12,
   "id": "d9c3ea39",
   "metadata": {
    "execution": {
     "iopub.execute_input": "2025-08-30T21:15:33.279023Z",
     "iopub.status.busy": "2025-08-30T21:15:33.278911Z",
     "iopub.status.idle": "2025-08-30T21:15:33.281700Z",
     "shell.execute_reply": "2025-08-30T21:15:33.281450Z"
    }
   },
   "outputs": [
    {
     "data": {
      "text/html": [
       "<HTMLRemove>\n",
       "<h4> <code>method</code> <span style=\"color:Brown\">S3.put_files</span> <em>(self, key_paths: List[Union[Tuple[str, Union[io.RawIOBase, io.BufferedIOBase, str, bytes]], metaflow.plugins.datatools.s3.s3.S3PutObject]], overwrite: bool = True) -> List[Tuple[str, str]]</em><a href=\"https://github.com/Netflix/metaflow/tree/master/metaflow/plugins/datatools/s3/s3.py#L1306\" style=\"float:right\">[source]</a></h4><p><blockquote>Upload&nbsp;many&nbsp;local&nbsp;files&nbsp;to&nbsp;S3.<br><br>Each&nbsp;file&nbsp;to&nbsp;be&nbsp;uploaded&nbsp;can&nbsp;be&nbsp;specified&nbsp;in&nbsp;two&nbsp;ways:<br><br>1.&nbsp;As&nbsp;a&nbsp;`(key,&nbsp;path)`&nbsp;tuple&nbsp;where&nbsp;`key`&nbsp;is&nbsp;a&nbsp;string&nbsp;specifying<br>&nbsp;&nbsp;&nbsp;the&nbsp;S3&nbsp;path&nbsp;and&nbsp;`path`&nbsp;is&nbsp;the&nbsp;path&nbsp;to&nbsp;a&nbsp;local&nbsp;file.<br><br>2.&nbsp;As&nbsp;a&nbsp;`S3PutObject`&nbsp;which&nbsp;contains&nbsp;additional&nbsp;metadata&nbsp;to&nbsp;be<br>&nbsp;&nbsp;&nbsp;stored&nbsp;with&nbsp;the&nbsp;file.<br><br>Parameters<br>----------<br>key_paths&nbsp;:&nbsp;&nbsp;List[Union[Tuple[str,&nbsp;PutValue],&nbsp;S3PutObject]]<br>&nbsp;&nbsp;&nbsp;&nbsp;List&nbsp;of&nbsp;files&nbsp;to&nbsp;upload.<br>overwrite&nbsp;:&nbsp;bool,&nbsp;default&nbsp;True<br>&nbsp;&nbsp;&nbsp;&nbsp;Overwrite&nbsp;the&nbsp;object&nbsp;if&nbsp;it&nbsp;exists.&nbsp;If&nbsp;set&nbsp;to&nbsp;False,&nbsp;the&nbsp;operation<br>&nbsp;&nbsp;&nbsp;&nbsp;succeeds&nbsp;without&nbsp;uploading&nbsp;anything&nbsp;if&nbsp;the&nbsp;key&nbsp;already&nbsp;exists.<br><br>Returns<br>-------<br>List[Tuple[str,&nbsp;str]]<br>&nbsp;&nbsp;&nbsp;&nbsp;List&nbsp;of&nbsp;`(key,&nbsp;url)`&nbsp;pairs&nbsp;corresponding&nbsp;to&nbsp;the&nbsp;files&nbsp;uploaded.</blockquote></p>\n",
       "</HTMLRemove>\n",
       "<DocSection type=\"method\" name=\"S3.put_files\" module=\"metaflow\" show_import=\"False\" heading_level=\"4\" link=\"https://github.com/Netflix/metaflow/tree/master/metaflow/plugins/datatools/s3/s3.py#L1306\">\n",
       "<SigArgSection>\n",
       "<SigArg name=\"self\" /><SigArg name=\"key_paths\" type=\"List\" /><SigArg name=\"overwrite\" type=\"bool\" default=\"True\" />\n",
       "</SigArgSection>\n",
       "<Description summary=\"Upload many local files to S3.\" extended_summary=\"Each file to be uploaded can be specified in two ways:\\n\\n1. As a `(key, path)` tuple where `key` is a string specifying\\n   the S3 path and `path` is the path to a local file.\\n\\n2. As a `S3PutObject` which contains additional metadata to be\\n   stored with the file.\" />\n",
       "<ParamSection name=\"Parameters\">\n",
       "\t<Parameter name=\"key_paths\" type=\"List[Union[Tuple[str, PutValue], S3PutObject]]\" desc=\"List of files to upload.\" />\n",
       "\t<Parameter name=\"overwrite\" type=\"bool, default True\" desc=\"Overwrite the object if it exists. If set to False, the operation\\nsucceeds without uploading anything if the key already exists.\" />\n",
       "</ParamSection>\n",
       "<ParamSection name=\"Returns\">\n",
       "\t<Parameter type=\"List[Tuple[str, str]]\" desc=\"List of `(key, url)` pairs corresponding to the files uploaded.\" />\n",
       "</ParamSection>\n",
       "</DocSection>"
      ],
      "text/plain": [
       "<nbdoc.showdoc.ShowDoc at 0x107390fd0>"
      ]
     },
     "execution_count": 12,
     "metadata": {},
     "output_type": "execute_result"
    }
   ],
   "source": [
    "ShowDoc(S3.put_files)"
   ]
  },
  {
   "cell_type": "markdown",
   "id": "e451c9e4",
   "metadata": {},
   "source": [
    "## Querying metadata"
   ]
  },
  {
   "cell_type": "code",
   "execution_count": 13,
   "id": "c7055621",
   "metadata": {
    "execution": {
     "iopub.execute_input": "2025-08-30T21:15:33.284058Z",
     "iopub.status.busy": "2025-08-30T21:15:33.283974Z",
     "iopub.status.idle": "2025-08-30T21:15:33.286310Z",
     "shell.execute_reply": "2025-08-30T21:15:33.286117Z"
    }
   },
   "outputs": [
    {
     "data": {
      "text/html": [
       "<HTMLRemove>\n",
       "<h4> <code>method</code> <span style=\"color:Brown\">S3.info</span> <em>(self, key: Optional[str] = None, return_missing: bool = False) -> metaflow.plugins.datatools.s3.s3.S3Object</em><a href=\"https://github.com/Netflix/metaflow/tree/master/metaflow/plugins/datatools/s3/s3.py#L753\" style=\"float:right\">[source]</a></h4><p><blockquote>Get&nbsp;metadata&nbsp;about&nbsp;a&nbsp;single&nbsp;object&nbsp;in&nbsp;S3.<br><br>This&nbsp;call&nbsp;makes&nbsp;a&nbsp;single&nbsp;`HEAD`&nbsp;request&nbsp;to&nbsp;S3&nbsp;which&nbsp;can&nbsp;be<br>much&nbsp;faster&nbsp;than&nbsp;downloading&nbsp;all&nbsp;data&nbsp;with&nbsp;`get`.<br><br>Parameters<br>----------<br>key&nbsp;:&nbsp;str,&nbsp;optional,&nbsp;default&nbsp;None<br>&nbsp;&nbsp;&nbsp;&nbsp;Object&nbsp;to&nbsp;query.&nbsp;It&nbsp;can&nbsp;be&nbsp;an&nbsp;S3&nbsp;url&nbsp;or&nbsp;a&nbsp;path&nbsp;suffix.<br>return_missing&nbsp;:&nbsp;bool,&nbsp;default&nbsp;False<br>&nbsp;&nbsp;&nbsp;&nbsp;If&nbsp;set&nbsp;to&nbsp;True,&nbsp;do&nbsp;not&nbsp;raise&nbsp;an&nbsp;exception&nbsp;for&nbsp;a&nbsp;missing&nbsp;key&nbsp;but<br>&nbsp;&nbsp;&nbsp;&nbsp;return&nbsp;it&nbsp;as&nbsp;an&nbsp;`S3Object`&nbsp;with&nbsp;`.exists&nbsp;==&nbsp;False`.<br><br>Returns<br>-------<br>S3Object<br>&nbsp;&nbsp;&nbsp;&nbsp;An&nbsp;S3Object&nbsp;corresponding&nbsp;to&nbsp;the&nbsp;object&nbsp;requested.&nbsp;The&nbsp;object<br>&nbsp;&nbsp;&nbsp;&nbsp;will&nbsp;have&nbsp;`.downloaded&nbsp;==&nbsp;False`.</blockquote></p>\n",
       "</HTMLRemove>\n",
       "<DocSection type=\"method\" name=\"S3.info\" module=\"metaflow\" show_import=\"False\" heading_level=\"4\" link=\"https://github.com/Netflix/metaflow/tree/master/metaflow/plugins/datatools/s3/s3.py#L753\">\n",
       "<SigArgSection>\n",
       "<SigArg name=\"self\" /><SigArg name=\"key\" type=\"Optional\" default=\"None\" /><SigArg name=\"return_missing\" type=\"bool\" default=\"False\" />\n",
       "</SigArgSection>\n",
       "<Description summary=\"Get metadata about a single object in S3.\" extended_summary=\"This call makes a single `HEAD` request to S3 which can be\\nmuch faster than downloading all data with `get`.\" />\n",
       "<ParamSection name=\"Parameters\">\n",
       "\t<Parameter name=\"key\" type=\"str, optional, default None\" desc=\"Object to query. It can be an S3 url or a path suffix.\" />\n",
       "\t<Parameter name=\"return_missing\" type=\"bool, default False\" desc=\"If set to True, do not raise an exception for a missing key but\\nreturn it as an `S3Object` with `.exists == False`.\" />\n",
       "</ParamSection>\n",
       "<ParamSection name=\"Returns\">\n",
       "\t<Parameter type=\"S3Object\" desc=\"An S3Object corresponding to the object requested. The object\\nwill have `.downloaded == False`.\" />\n",
       "</ParamSection>\n",
       "</DocSection>"
      ],
      "text/plain": [
       "<nbdoc.showdoc.ShowDoc at 0x10725f2d0>"
      ]
     },
     "execution_count": 13,
     "metadata": {},
     "output_type": "execute_result"
    }
   ],
   "source": [
    "ShowDoc(S3.info)"
   ]
  },
  {
   "cell_type": "code",
   "execution_count": 14,
   "id": "ba5e0f9b",
   "metadata": {
    "execution": {
     "iopub.execute_input": "2025-08-30T21:15:33.288359Z",
     "iopub.status.busy": "2025-08-30T21:15:33.288272Z",
     "iopub.status.idle": "2025-08-30T21:15:33.290748Z",
     "shell.execute_reply": "2025-08-30T21:15:33.290529Z"
    }
   },
   "outputs": [
    {
     "data": {
      "text/html": [
       "<HTMLRemove>\n",
       "<h4> <code>method</code> <span style=\"color:Brown\">S3.info_many</span> <em>(self, keys: Iterable[str], return_missing: bool = False) -> List[metaflow.plugins.datatools.s3.s3.S3Object]</em><a href=\"https://github.com/Netflix/metaflow/tree/master/metaflow/plugins/datatools/s3/s3.py#L811\" style=\"float:right\">[source]</a></h4><p><blockquote>Get&nbsp;metadata&nbsp;about&nbsp;many&nbsp;objects&nbsp;in&nbsp;S3&nbsp;in&nbsp;parallel.<br><br>This&nbsp;call&nbsp;makes&nbsp;a&nbsp;single&nbsp;`HEAD`&nbsp;request&nbsp;to&nbsp;S3&nbsp;which&nbsp;can&nbsp;be<br>much&nbsp;faster&nbsp;than&nbsp;downloading&nbsp;all&nbsp;data&nbsp;with&nbsp;`get`.<br><br>Parameters<br>----------<br>keys&nbsp;:&nbsp;Iterable[str]<br>&nbsp;&nbsp;&nbsp;&nbsp;Objects&nbsp;to&nbsp;query.&nbsp;Each&nbsp;key&nbsp;can&nbsp;be&nbsp;an&nbsp;S3&nbsp;url&nbsp;or&nbsp;a&nbsp;path&nbsp;suffix.<br>return_missing&nbsp;:&nbsp;bool,&nbsp;default&nbsp;False<br>&nbsp;&nbsp;&nbsp;&nbsp;If&nbsp;set&nbsp;to&nbsp;True,&nbsp;do&nbsp;not&nbsp;raise&nbsp;an&nbsp;exception&nbsp;for&nbsp;a&nbsp;missing&nbsp;key&nbsp;but<br>&nbsp;&nbsp;&nbsp;&nbsp;return&nbsp;it&nbsp;as&nbsp;an&nbsp;`S3Object`&nbsp;with&nbsp;`.exists&nbsp;==&nbsp;False`.<br><br>Returns<br>-------<br>List[S3Object]<br>&nbsp;&nbsp;&nbsp;&nbsp;A&nbsp;list&nbsp;of&nbsp;S3Objects&nbsp;corresponding&nbsp;to&nbsp;the&nbsp;paths&nbsp;requested.&nbsp;The<br>&nbsp;&nbsp;&nbsp;&nbsp;objects&nbsp;will&nbsp;have&nbsp;`.downloaded&nbsp;==&nbsp;False`.</blockquote></p>\n",
       "</HTMLRemove>\n",
       "<DocSection type=\"method\" name=\"S3.info_many\" module=\"metaflow\" show_import=\"False\" heading_level=\"4\" link=\"https://github.com/Netflix/metaflow/tree/master/metaflow/plugins/datatools/s3/s3.py#L811\">\n",
       "<SigArgSection>\n",
       "<SigArg name=\"self\" /><SigArg name=\"keys\" type=\"Iterable\" /><SigArg name=\"return_missing\" type=\"bool\" default=\"False\" />\n",
       "</SigArgSection>\n",
       "<Description summary=\"Get metadata about many objects in S3 in parallel.\" extended_summary=\"This call makes a single `HEAD` request to S3 which can be\\nmuch faster than downloading all data with `get`.\" />\n",
       "<ParamSection name=\"Parameters\">\n",
       "\t<Parameter name=\"keys\" type=\"Iterable[str]\" desc=\"Objects to query. Each key can be an S3 url or a path suffix.\" />\n",
       "\t<Parameter name=\"return_missing\" type=\"bool, default False\" desc=\"If set to True, do not raise an exception for a missing key but\\nreturn it as an `S3Object` with `.exists == False`.\" />\n",
       "</ParamSection>\n",
       "<ParamSection name=\"Returns\">\n",
       "\t<Parameter type=\"List[S3Object]\" desc=\"A list of S3Objects corresponding to the paths requested. The\\nobjects will have `.downloaded == False`.\" />\n",
       "</ParamSection>\n",
       "</DocSection>"
      ],
      "text/plain": [
       "<nbdoc.showdoc.ShowDoc at 0x107390690>"
      ]
     },
     "execution_count": 14,
     "metadata": {},
     "output_type": "execute_result"
    }
   ],
   "source": [
    "ShowDoc(S3.info_many)"
   ]
  },
  {
   "cell_type": "markdown",
   "id": "bd6f3246",
   "metadata": {},
   "source": [
    "## Handling results with `S3Object`\n",
    "\n",
    "Most operations above return `S3Object`s that encapsulate information about S3 paths and objects.\n",
    "\n",
    "Note that the data itself is not kept in these objects but it is stored in a temporary directory which is accessible through the properties of this object."
   ]
  },
  {
   "cell_type": "code",
   "execution_count": 15,
   "id": "788746a9",
   "metadata": {
    "execution": {
     "iopub.execute_input": "2025-08-30T21:15:33.293260Z",
     "iopub.status.busy": "2025-08-30T21:15:33.293138Z",
     "iopub.status.idle": "2025-08-30T21:15:33.301049Z",
     "shell.execute_reply": "2025-08-30T21:15:33.300857Z"
    },
    "scrolled": true
   },
   "outputs": [
    {
     "data": {
      "text/html": [
       "<HTMLRemove>\n",
       "<h3> <code>class</code> <span style=\"color:Brown\">S3Object</span> <em></em><a href=\"https://github.com/Netflix/metaflow/tree/master/metaflow/plugins/datatools/s3/s3.py#L145\" style=\"float:right\">[source]</a></h3><p><blockquote>This&nbsp;object&nbsp;represents&nbsp;a&nbsp;path&nbsp;or&nbsp;an&nbsp;object&nbsp;in&nbsp;S3,<br>with&nbsp;an&nbsp;optional&nbsp;local&nbsp;copy.<br><br>`S3Object`s&nbsp;are&nbsp;not&nbsp;instantiated&nbsp;directly,&nbsp;but&nbsp;they&nbsp;are&nbsp;returned<br>by&nbsp;many&nbsp;methods&nbsp;of&nbsp;the&nbsp;`S3`&nbsp;client.</blockquote></p>\n",
       "</HTMLRemove>\n",
       "<DocSection type=\"class\" name=\"S3Object\" module=\"metaflow\" show_import=\"False\" heading_level=\"3\" link=\"https://github.com/Netflix/metaflow/tree/master/metaflow/plugins/datatools/s3/s3.py#L145\">\n",
       "<SigArgSection>\n",
       "<SigArg name=\"\" />\n",
       "</SigArgSection>\n",
       "<Description summary=\"This object represents a path or an object in S3,\\nwith an optional local copy.\" extended_summary=\"`S3Object`s are not instantiated directly, but they are returned\\nby many methods of the `S3` client.\" />\n",
       "\n",
       "</DocSection>"
      ],
      "text/plain": [
       "<nbdoc.showdoc.ShowDoc at 0x105764b50>"
      ]
     },
     "execution_count": 15,
     "metadata": {},
     "output_type": "execute_result"
    }
   ],
   "source": [
    "ShowDoc(S3Object, spoofstr='', skip_sections='Attributes')"
   ]
  },
  {
   "cell_type": "code",
   "execution_count": 16,
   "id": "d9e06053",
   "metadata": {
    "execution": {
     "iopub.execute_input": "2025-08-30T21:15:33.303319Z",
     "iopub.status.busy": "2025-08-30T21:15:33.303228Z",
     "iopub.status.idle": "2025-08-30T21:15:33.305041Z",
     "shell.execute_reply": "2025-08-30T21:15:33.304860Z"
    },
    "scrolled": false
   },
   "outputs": [
    {
     "data": {
      "text/html": [
       "<HTMLRemove>\n",
       "<h4> <code>property</code> <span style=\"color:Brown\">S3Object.exists</span> <em></em><a href=\"https://github.com/Netflix/metaflow/tree/master/\" style=\"float:right\">[source]</a></h4><p><blockquote>Does&nbsp;this&nbsp;key&nbsp;correspond&nbsp;to&nbsp;an&nbsp;object&nbsp;in&nbsp;S3?<br><br>Returns<br>-------<br>bool<br>&nbsp;&nbsp;&nbsp;&nbsp;True&nbsp;if&nbsp;this&nbsp;object&nbsp;points&nbsp;at&nbsp;an&nbsp;existing&nbsp;object&nbsp;(file)&nbsp;in&nbsp;S3.</blockquote></p>\n",
       "</HTMLRemove>\n",
       "<DocSection type=\"property\" name=\"S3Object.exists\" module=\"metaflow.plugins.datatools.s3.s3\" show_import=\"False\" heading_level=\"4\" link=\"https://github.com/Netflix/metaflow/tree/master/\">\n",
       "\n",
       "<Description summary=\"Does this key correspond to an object in S3?\\n\" />\n",
       "<ParamSection name=\"Returns\">\n",
       "<Parameter type=\"bool\" desc=\"True if this object points at an existing object (file) in S3.\" />\n",
       "</ParamSection>\n",
       "</DocSection>"
      ],
      "text/plain": [
       "<nbdoc.showdoc.ShowDoc at 0x1070a0f10>"
      ]
     },
     "execution_count": 16,
     "metadata": {},
     "output_type": "execute_result"
    }
   ],
   "source": [
    "ShowDoc(S3Object.exists)"
   ]
  },
  {
   "cell_type": "code",
   "execution_count": 17,
   "id": "a6b91a6f",
   "metadata": {
    "execution": {
     "iopub.execute_input": "2025-08-30T21:15:33.307057Z",
     "iopub.status.busy": "2025-08-30T21:15:33.306985Z",
     "iopub.status.idle": "2025-08-30T21:15:33.308743Z",
     "shell.execute_reply": "2025-08-30T21:15:33.308555Z"
    },
    "scrolled": false
   },
   "outputs": [
    {
     "data": {
      "text/html": [
       "<HTMLRemove>\n",
       "<h4> <code>property</code> <span style=\"color:Brown\">S3Object.downloaded</span> <em></em><a href=\"https://github.com/Netflix/metaflow/tree/master/\" style=\"float:right\">[source]</a></h4><p><blockquote>Has&nbsp;this&nbsp;object&nbsp;been&nbsp;downloaded?<br><br>If&nbsp;True,&nbsp;the&nbsp;contents&nbsp;can&nbsp;be&nbsp;accessed&nbsp;through&nbsp;`path`,&nbsp;`blob`,<br>and&nbsp;`text`&nbsp;properties.<br><br>Returns<br>-------<br>bool<br>&nbsp;&nbsp;&nbsp;&nbsp;True&nbsp;if&nbsp;the&nbsp;contents&nbsp;of&nbsp;this&nbsp;object&nbsp;have&nbsp;been&nbsp;downloaded.</blockquote></p>\n",
       "</HTMLRemove>\n",
       "<DocSection type=\"property\" name=\"S3Object.downloaded\" module=\"metaflow.plugins.datatools.s3.s3\" show_import=\"False\" heading_level=\"4\" link=\"https://github.com/Netflix/metaflow/tree/master/\">\n",
       "\n",
       "<Description summary=\"Has this object been downloaded?\\n\\nIf True, the contents can be accessed through `path`, `blob`,\\nand `text` properties.\\n\" />\n",
       "<ParamSection name=\"Returns\">\n",
       "<Parameter type=\"bool\" desc=\"True if the contents of this object have been downloaded.\" />\n",
       "</ParamSection>\n",
       "</DocSection>"
      ],
      "text/plain": [
       "<nbdoc.showdoc.ShowDoc at 0x1073d4590>"
      ]
     },
     "execution_count": 17,
     "metadata": {},
     "output_type": "execute_result"
    }
   ],
   "source": [
    "ShowDoc(S3Object.downloaded)"
   ]
  },
  {
   "cell_type": "code",
   "execution_count": 18,
   "id": "7c4203ec",
   "metadata": {
    "execution": {
     "iopub.execute_input": "2025-08-30T21:15:33.310666Z",
     "iopub.status.busy": "2025-08-30T21:15:33.310591Z",
     "iopub.status.idle": "2025-08-30T21:15:33.312322Z",
     "shell.execute_reply": "2025-08-30T21:15:33.312137Z"
    },
    "scrolled": false
   },
   "outputs": [
    {
     "data": {
      "text/html": [
       "<HTMLRemove>\n",
       "<h4> <code>property</code> <span style=\"color:Brown\">S3Object.url</span> <em></em><a href=\"https://github.com/Netflix/metaflow/tree/master/\" style=\"float:right\">[source]</a></h4><p><blockquote>S3&nbsp;location&nbsp;of&nbsp;the&nbsp;object<br><br>Returns<br>-------<br>str<br>&nbsp;&nbsp;&nbsp;&nbsp;The&nbsp;S3&nbsp;location&nbsp;of&nbsp;this&nbsp;object.</blockquote></p>\n",
       "</HTMLRemove>\n",
       "<DocSection type=\"property\" name=\"S3Object.url\" module=\"metaflow.plugins.datatools.s3.s3\" show_import=\"False\" heading_level=\"4\" link=\"https://github.com/Netflix/metaflow/tree/master/\">\n",
       "\n",
       "<Description summary=\"S3 location of the object\\n\" />\n",
       "<ParamSection name=\"Returns\">\n",
       "<Parameter type=\"str\" desc=\"The S3 location of this object.\" />\n",
       "</ParamSection>\n",
       "</DocSection>"
      ],
      "text/plain": [
       "<nbdoc.showdoc.ShowDoc at 0x1073d63d0>"
      ]
     },
     "execution_count": 18,
     "metadata": {},
     "output_type": "execute_result"
    }
   ],
   "source": [
    "ShowDoc(S3Object.url)"
   ]
  },
  {
   "cell_type": "code",
   "execution_count": 19,
   "id": "e84a384d",
   "metadata": {
    "execution": {
     "iopub.execute_input": "2025-08-30T21:15:33.314225Z",
     "iopub.status.busy": "2025-08-30T21:15:33.314154Z",
     "iopub.status.idle": "2025-08-30T21:15:33.315857Z",
     "shell.execute_reply": "2025-08-30T21:15:33.315679Z"
    },
    "scrolled": false
   },
   "outputs": [
    {
     "data": {
      "text/html": [
       "<HTMLRemove>\n",
       "<h4> <code>property</code> <span style=\"color:Brown\">S3Object.prefix</span> <em></em><a href=\"https://github.com/Netflix/metaflow/tree/master/\" style=\"float:right\">[source]</a></h4><p><blockquote>Prefix&nbsp;requested&nbsp;that&nbsp;matches&nbsp;this&nbsp;object.<br><br>Returns<br>-------<br>str<br>&nbsp;&nbsp;&nbsp;&nbsp;Requested&nbsp;prefix</blockquote></p>\n",
       "</HTMLRemove>\n",
       "<DocSection type=\"property\" name=\"S3Object.prefix\" module=\"metaflow.plugins.datatools.s3.s3\" show_import=\"False\" heading_level=\"4\" link=\"https://github.com/Netflix/metaflow/tree/master/\">\n",
       "\n",
       "<Description summary=\"Prefix requested that matches this object.\\n\" />\n",
       "<ParamSection name=\"Returns\">\n",
       "<Parameter type=\"str\" desc=\"Requested prefix\" />\n",
       "</ParamSection>\n",
       "</DocSection>"
      ],
      "text/plain": [
       "<nbdoc.showdoc.ShowDoc at 0x1073d5e10>"
      ]
     },
     "execution_count": 19,
     "metadata": {},
     "output_type": "execute_result"
    }
   ],
   "source": [
    "ShowDoc(S3Object.prefix)"
   ]
  },
  {
   "cell_type": "code",
   "execution_count": 20,
   "id": "eeb28c6b",
   "metadata": {
    "execution": {
     "iopub.execute_input": "2025-08-30T21:15:33.318038Z",
     "iopub.status.busy": "2025-08-30T21:15:33.317966Z",
     "iopub.status.idle": "2025-08-30T21:15:33.319678Z",
     "shell.execute_reply": "2025-08-30T21:15:33.319520Z"
    },
    "scrolled": false
   },
   "outputs": [
    {
     "data": {
      "text/html": [
       "<HTMLRemove>\n",
       "<h4> <code>property</code> <span style=\"color:Brown\">S3Object.key</span> <em></em><a href=\"https://github.com/Netflix/metaflow/tree/master/\" style=\"float:right\">[source]</a></h4><p><blockquote>Key&nbsp;corresponds&nbsp;to&nbsp;the&nbsp;key&nbsp;given&nbsp;to&nbsp;the&nbsp;get&nbsp;call&nbsp;that&nbsp;produced<br>this&nbsp;object.<br><br>This&nbsp;may&nbsp;be&nbsp;a&nbsp;full&nbsp;S3&nbsp;URL&nbsp;or&nbsp;a&nbsp;suffix&nbsp;based&nbsp;on&nbsp;what<br>was&nbsp;requested.<br><br>Returns<br>-------<br>str<br>&nbsp;&nbsp;&nbsp;&nbsp;Key&nbsp;requested.</blockquote></p>\n",
       "</HTMLRemove>\n",
       "<DocSection type=\"property\" name=\"S3Object.key\" module=\"metaflow.plugins.datatools.s3.s3\" show_import=\"False\" heading_level=\"4\" link=\"https://github.com/Netflix/metaflow/tree/master/\">\n",
       "\n",
       "<Description summary=\"Key corresponds to the key given to the get call that produced\\nthis object.\\n\\nThis may be a full S3 URL or a suffix based on what\\nwas requested.\\n\" />\n",
       "<ParamSection name=\"Returns\">\n",
       "<Parameter type=\"str\" desc=\"Key requested.\" />\n",
       "</ParamSection>\n",
       "</DocSection>"
      ],
      "text/plain": [
       "<nbdoc.showdoc.ShowDoc at 0x1070efad0>"
      ]
     },
     "execution_count": 20,
     "metadata": {},
     "output_type": "execute_result"
    }
   ],
   "source": [
    "ShowDoc(S3Object.key)"
   ]
  },
  {
   "cell_type": "code",
   "execution_count": 21,
   "id": "71ae77e4",
   "metadata": {
    "execution": {
     "iopub.execute_input": "2025-08-30T21:15:33.321765Z",
     "iopub.status.busy": "2025-08-30T21:15:33.321689Z",
     "iopub.status.idle": "2025-08-30T21:15:33.323405Z",
     "shell.execute_reply": "2025-08-30T21:15:33.323223Z"
    },
    "scrolled": true
   },
   "outputs": [
    {
     "data": {
      "text/html": [
       "<HTMLRemove>\n",
       "<h4> <code>property</code> <span style=\"color:Brown\">S3Object.path</span> <em></em><a href=\"https://github.com/Netflix/metaflow/tree/master/\" style=\"float:right\">[source]</a></h4><p><blockquote>Path&nbsp;to&nbsp;a&nbsp;local&nbsp;temporary&nbsp;file&nbsp;corresponding&nbsp;to&nbsp;the&nbsp;object&nbsp;downloaded.<br><br>This&nbsp;file&nbsp;gets&nbsp;deleted&nbsp;automatically&nbsp;when&nbsp;a&nbsp;S3&nbsp;scope&nbsp;exits.<br>Returns&nbsp;None&nbsp;if&nbsp;this&nbsp;S3Object&nbsp;has&nbsp;not&nbsp;been&nbsp;downloaded.<br><br>Returns<br>-------<br>str<br>&nbsp;&nbsp;&nbsp;&nbsp;Local&nbsp;path,&nbsp;if&nbsp;the&nbsp;object&nbsp;has&nbsp;been&nbsp;downloaded.</blockquote></p>\n",
       "</HTMLRemove>\n",
       "<DocSection type=\"property\" name=\"S3Object.path\" module=\"metaflow.plugins.datatools.s3.s3\" show_import=\"False\" heading_level=\"4\" link=\"https://github.com/Netflix/metaflow/tree/master/\">\n",
       "\n",
       "<Description summary=\"Path to a local temporary file corresponding to the object downloaded.\\n\\nThis file gets deleted automatically when a S3 scope exits.\\nReturns None if this S3Object has not been downloaded.\\n\" />\n",
       "<ParamSection name=\"Returns\">\n",
       "<Parameter type=\"str\" desc=\"Local path, if the object has been downloaded.\" />\n",
       "</ParamSection>\n",
       "</DocSection>"
      ],
      "text/plain": [
       "<nbdoc.showdoc.ShowDoc at 0x1057dde10>"
      ]
     },
     "execution_count": 21,
     "metadata": {},
     "output_type": "execute_result"
    }
   ],
   "source": [
    "ShowDoc(S3Object.path)"
   ]
  },
  {
   "cell_type": "code",
   "execution_count": 22,
   "id": "2be25e64",
   "metadata": {
    "execution": {
     "iopub.execute_input": "2025-08-30T21:15:33.325452Z",
     "iopub.status.busy": "2025-08-30T21:15:33.325371Z",
     "iopub.status.idle": "2025-08-30T21:15:33.327141Z",
     "shell.execute_reply": "2025-08-30T21:15:33.326932Z"
    },
    "scrolled": true
   },
   "outputs": [
    {
     "data": {
      "text/html": [
       "<HTMLRemove>\n",
       "<h4> <code>property</code> <span style=\"color:Brown\">S3Object.blob</span> <em></em><a href=\"https://github.com/Netflix/metaflow/tree/master/\" style=\"float:right\">[source]</a></h4><p><blockquote>Contents&nbsp;of&nbsp;the&nbsp;object&nbsp;as&nbsp;a&nbsp;byte&nbsp;string&nbsp;or&nbsp;None&nbsp;if&nbsp;the<br>object&nbsp;hasn't&nbsp;been&nbsp;downloaded.<br><br>Returns<br>-------<br>bytes<br>&nbsp;&nbsp;&nbsp;&nbsp;Contents&nbsp;of&nbsp;the&nbsp;object&nbsp;as&nbsp;bytes.</blockquote></p>\n",
       "</HTMLRemove>\n",
       "<DocSection type=\"property\" name=\"S3Object.blob\" module=\"metaflow.plugins.datatools.s3.s3\" show_import=\"False\" heading_level=\"4\" link=\"https://github.com/Netflix/metaflow/tree/master/\">\n",
       "\n",
       "<Description summary=\"Contents of the object as a byte string or None if the\\nobject hasn't been downloaded.\\n\" />\n",
       "<ParamSection name=\"Returns\">\n",
       "<Parameter type=\"bytes\" desc=\"Contents of the object as bytes.\" />\n",
       "</ParamSection>\n",
       "</DocSection>"
      ],
      "text/plain": [
       "<nbdoc.showdoc.ShowDoc at 0x10723c750>"
      ]
     },
     "execution_count": 22,
     "metadata": {},
     "output_type": "execute_result"
    }
   ],
   "source": [
    "ShowDoc(S3Object.blob)"
   ]
  },
  {
   "cell_type": "code",
   "execution_count": 23,
   "id": "4f20cd6a",
   "metadata": {
    "execution": {
     "iopub.execute_input": "2025-08-30T21:15:33.329132Z",
     "iopub.status.busy": "2025-08-30T21:15:33.329061Z",
     "iopub.status.idle": "2025-08-30T21:15:33.330763Z",
     "shell.execute_reply": "2025-08-30T21:15:33.330578Z"
    },
    "scrolled": false
   },
   "outputs": [
    {
     "data": {
      "text/html": [
       "<HTMLRemove>\n",
       "<h4> <code>property</code> <span style=\"color:Brown\">S3Object.text</span> <em></em><a href=\"https://github.com/Netflix/metaflow/tree/master/\" style=\"float:right\">[source]</a></h4><p><blockquote>Contents&nbsp;of&nbsp;the&nbsp;object&nbsp;as&nbsp;a&nbsp;string&nbsp;or&nbsp;None&nbsp;if&nbsp;the<br>object&nbsp;hasn't&nbsp;been&nbsp;downloaded.<br><br>The&nbsp;object&nbsp;is&nbsp;assumed&nbsp;to&nbsp;contain&nbsp;UTF-8&nbsp;encoded&nbsp;data.<br><br>Returns<br>-------<br>str<br>&nbsp;&nbsp;&nbsp;&nbsp;Contents&nbsp;of&nbsp;the&nbsp;object&nbsp;as&nbsp;text.</blockquote></p>\n",
       "</HTMLRemove>\n",
       "<DocSection type=\"property\" name=\"S3Object.text\" module=\"metaflow.plugins.datatools.s3.s3\" show_import=\"False\" heading_level=\"4\" link=\"https://github.com/Netflix/metaflow/tree/master/\">\n",
       "\n",
       "<Description summary=\"Contents of the object as a string or None if the\\nobject hasn't been downloaded.\\n\\nThe object is assumed to contain UTF-8 encoded data.\\n\" />\n",
       "<ParamSection name=\"Returns\">\n",
       "<Parameter type=\"str\" desc=\"Contents of the object as text.\" />\n",
       "</ParamSection>\n",
       "</DocSection>"
      ],
      "text/plain": [
       "<nbdoc.showdoc.ShowDoc at 0x1073d4410>"
      ]
     },
     "execution_count": 23,
     "metadata": {},
     "output_type": "execute_result"
    }
   ],
   "source": [
    "ShowDoc(S3Object.text)"
   ]
  },
  {
   "cell_type": "code",
   "execution_count": 24,
   "id": "86be736c",
   "metadata": {
    "execution": {
     "iopub.execute_input": "2025-08-30T21:15:33.332654Z",
     "iopub.status.busy": "2025-08-30T21:15:33.332586Z",
     "iopub.status.idle": "2025-08-30T21:15:33.334208Z",
     "shell.execute_reply": "2025-08-30T21:15:33.334030Z"
    },
    "scrolled": true
   },
   "outputs": [
    {
     "data": {
      "text/html": [
       "<HTMLRemove>\n",
       "<h4> <code>property</code> <span style=\"color:Brown\">S3Object.size</span> <em></em><a href=\"https://github.com/Netflix/metaflow/tree/master/\" style=\"float:right\">[source]</a></h4><p><blockquote>Size&nbsp;of&nbsp;the&nbsp;object&nbsp;in&nbsp;bytes.<br><br>Returns&nbsp;None&nbsp;if&nbsp;the&nbsp;key&nbsp;does&nbsp;not&nbsp;correspond&nbsp;to&nbsp;an&nbsp;object&nbsp;in&nbsp;S3.<br><br>Returns<br>-------<br>int<br>&nbsp;&nbsp;&nbsp;&nbsp;Size&nbsp;of&nbsp;the&nbsp;object&nbsp;in&nbsp;bytes,&nbsp;if&nbsp;the&nbsp;object&nbsp;exists.</blockquote></p>\n",
       "</HTMLRemove>\n",
       "<DocSection type=\"property\" name=\"S3Object.size\" module=\"metaflow.plugins.datatools.s3.s3\" show_import=\"False\" heading_level=\"4\" link=\"https://github.com/Netflix/metaflow/tree/master/\">\n",
       "\n",
       "<Description summary=\"Size of the object in bytes.\\n\\nReturns None if the key does not correspond to an object in S3.\\n\" />\n",
       "<ParamSection name=\"Returns\">\n",
       "<Parameter type=\"int\" desc=\"Size of the object in bytes, if the object exists.\" />\n",
       "</ParamSection>\n",
       "</DocSection>"
      ],
      "text/plain": [
       "<nbdoc.showdoc.ShowDoc at 0x10723d250>"
      ]
     },
     "execution_count": 24,
     "metadata": {},
     "output_type": "execute_result"
    }
   ],
   "source": [
    "ShowDoc(S3Object.size)"
   ]
  },
  {
   "cell_type": "code",
   "execution_count": 25,
   "id": "ac57517e",
   "metadata": {
    "execution": {
     "iopub.execute_input": "2025-08-30T21:15:33.336272Z",
     "iopub.status.busy": "2025-08-30T21:15:33.336203Z",
     "iopub.status.idle": "2025-08-30T21:15:33.337936Z",
     "shell.execute_reply": "2025-08-30T21:15:33.337712Z"
    },
    "scrolled": false
   },
   "outputs": [
    {
     "data": {
      "text/html": [
       "<HTMLRemove>\n",
       "<h4> <code>property</code> <span style=\"color:Brown\">S3Object.has_info</span> <em></em><a href=\"https://github.com/Netflix/metaflow/tree/master/\" style=\"float:right\">[source]</a></h4><p><blockquote>Returns&nbsp;true&nbsp;if&nbsp;this&nbsp;`S3Object`&nbsp;contains&nbsp;the&nbsp;content-type&nbsp;MIME&nbsp;header&nbsp;or<br>user-defined&nbsp;metadata.<br><br>If&nbsp;False,&nbsp;this&nbsp;means&nbsp;that&nbsp;`content_type`,&nbsp;`metadata`,&nbsp;`range_info`&nbsp;and<br>`last_modified`&nbsp;will&nbsp;return&nbsp;None.<br><br>Returns<br>-------<br>bool<br>&nbsp;&nbsp;&nbsp;&nbsp;True&nbsp;if&nbsp;additional&nbsp;metadata&nbsp;is&nbsp;available.</blockquote></p>\n",
       "</HTMLRemove>\n",
       "<DocSection type=\"property\" name=\"S3Object.has_info\" module=\"metaflow.plugins.datatools.s3.s3\" show_import=\"False\" heading_level=\"4\" link=\"https://github.com/Netflix/metaflow/tree/master/\">\n",
       "\n",
       "<Description summary=\"Returns true if this `S3Object` contains the content-type MIME header or\\nuser-defined metadata.\\n\\nIf False, this means that `content_type`, `metadata`, `range_info` and\\n`last_modified` will return None.\\n\" />\n",
       "<ParamSection name=\"Returns\">\n",
       "<Parameter type=\"bool\" desc=\"True if additional metadata is available.\" />\n",
       "</ParamSection>\n",
       "</DocSection>"
      ],
      "text/plain": [
       "<nbdoc.showdoc.ShowDoc at 0x10723db50>"
      ]
     },
     "execution_count": 25,
     "metadata": {},
     "output_type": "execute_result"
    }
   ],
   "source": [
    "ShowDoc(S3Object.has_info)"
   ]
  },
  {
   "cell_type": "code",
   "execution_count": 26,
   "id": "c73642bb",
   "metadata": {
    "execution": {
     "iopub.execute_input": "2025-08-30T21:15:33.339900Z",
     "iopub.status.busy": "2025-08-30T21:15:33.339829Z",
     "iopub.status.idle": "2025-08-30T21:15:33.341734Z",
     "shell.execute_reply": "2025-08-30T21:15:33.341539Z"
    },
    "scrolled": true
   },
   "outputs": [
    {
     "data": {
      "text/html": [
       "<HTMLRemove>\n",
       "<h4> <code>property</code> <span style=\"color:Brown\">S3Object.metadata</span> <em></em><a href=\"https://github.com/Netflix/metaflow/tree/master/\" style=\"float:right\">[source]</a></h4><p><blockquote>Returns&nbsp;a&nbsp;dictionary&nbsp;of&nbsp;user-defined&nbsp;metadata,&nbsp;or&nbsp;None&nbsp;if&nbsp;no&nbsp;metadata<br>is&nbsp;defined.<br><br>Returns<br>-------<br>Dict<br>&nbsp;&nbsp;&nbsp;&nbsp;User-defined&nbsp;metadata.</blockquote></p>\n",
       "</HTMLRemove>\n",
       "<DocSection type=\"property\" name=\"S3Object.metadata\" module=\"metaflow.plugins.datatools.s3.s3\" show_import=\"False\" heading_level=\"4\" link=\"https://github.com/Netflix/metaflow/tree/master/\">\n",
       "\n",
       "<Description summary=\"Returns a dictionary of user-defined metadata, or None if no metadata\\nis defined.\\n\" />\n",
       "<ParamSection name=\"Returns\">\n",
       "<Parameter type=\"Dict\" desc=\"User-defined metadata.\" />\n",
       "</ParamSection>\n",
       "</DocSection>"
      ],
      "text/plain": [
       "<nbdoc.showdoc.ShowDoc at 0x10723dc10>"
      ]
     },
     "execution_count": 26,
     "metadata": {},
     "output_type": "execute_result"
    }
   ],
   "source": [
    "ShowDoc(S3Object.metadata)"
   ]
  },
  {
   "cell_type": "code",
   "execution_count": 27,
   "id": "82f36246",
   "metadata": {
    "execution": {
     "iopub.execute_input": "2025-08-30T21:15:33.343793Z",
     "iopub.status.busy": "2025-08-30T21:15:33.343719Z",
     "iopub.status.idle": "2025-08-30T21:15:33.345451Z",
     "shell.execute_reply": "2025-08-30T21:15:33.345267Z"
    },
    "scrolled": true
   },
   "outputs": [
    {
     "data": {
      "text/html": [
       "<HTMLRemove>\n",
       "<h4> <code>property</code> <span style=\"color:Brown\">S3Object.content_type</span> <em></em><a href=\"https://github.com/Netflix/metaflow/tree/master/\" style=\"float:right\">[source]</a></h4><p><blockquote>Returns&nbsp;the&nbsp;content-type&nbsp;of&nbsp;the&nbsp;S3&nbsp;object&nbsp;or&nbsp;None&nbsp;if&nbsp;it&nbsp;is&nbsp;not&nbsp;defined.<br><br>Returns<br>-------<br>str<br>&nbsp;&nbsp;&nbsp;&nbsp;Content&nbsp;type&nbsp;or&nbsp;None&nbsp;if&nbsp;the&nbsp;content&nbsp;type&nbsp;is&nbsp;undefined.</blockquote></p>\n",
       "</HTMLRemove>\n",
       "<DocSection type=\"property\" name=\"S3Object.content_type\" module=\"metaflow.plugins.datatools.s3.s3\" show_import=\"False\" heading_level=\"4\" link=\"https://github.com/Netflix/metaflow/tree/master/\">\n",
       "\n",
       "<Description summary=\"Returns the content-type of the S3 object or None if it is not defined.\\n\" />\n",
       "<ParamSection name=\"Returns\">\n",
       "<Parameter type=\"str\" desc=\"Content type or None if the content type is undefined.\" />\n",
       "</ParamSection>\n",
       "</DocSection>"
      ],
      "text/plain": [
       "<nbdoc.showdoc.ShowDoc at 0x10723e5d0>"
      ]
     },
     "execution_count": 27,
     "metadata": {},
     "output_type": "execute_result"
    }
   ],
   "source": [
    "ShowDoc(S3Object.content_type)"
   ]
  },
  {
   "cell_type": "code",
   "execution_count": 28,
   "id": "1c06cf68",
   "metadata": {
    "execution": {
     "iopub.execute_input": "2025-08-30T21:15:33.347585Z",
     "iopub.status.busy": "2025-08-30T21:15:33.347504Z",
     "iopub.status.idle": "2025-08-30T21:15:33.349294Z",
     "shell.execute_reply": "2025-08-30T21:15:33.349118Z"
    },
    "scrolled": false
   },
   "outputs": [
    {
     "data": {
      "text/html": [
       "<HTMLRemove>\n",
       "<h4> <code>property</code> <span style=\"color:Brown\">S3Object.range_info</span> <em></em><a href=\"https://github.com/Netflix/metaflow/tree/master/\" style=\"float:right\">[source]</a></h4><p><blockquote>If&nbsp;the&nbsp;object&nbsp;corresponds&nbsp;to&nbsp;a&nbsp;partially&nbsp;downloaded&nbsp;object,&nbsp;returns<br>information&nbsp;of&nbsp;what&nbsp;was&nbsp;downloaded.<br><br>The&nbsp;returned&nbsp;object&nbsp;has&nbsp;the&nbsp;following&nbsp;fields:<br>-&nbsp;`total_size`:&nbsp;Size&nbsp;of&nbsp;the&nbsp;object&nbsp;in&nbsp;S3.<br>-&nbsp;`request_offset`:&nbsp;The&nbsp;starting&nbsp;offset.<br>-&nbsp;`request_length`:&nbsp;The&nbsp;number&nbsp;of&nbsp;bytes&nbsp;downloaded.<br><br>Returns<br>-------<br>namedtuple<br>&nbsp;&nbsp;&nbsp;&nbsp;An&nbsp;object&nbsp;containing&nbsp;information&nbsp;about&nbsp;the&nbsp;partial&nbsp;download.&nbsp;If<br>&nbsp;&nbsp;&nbsp;&nbsp;the&nbsp;`S3Object`&nbsp;doesn't&nbsp;correspond&nbsp;to&nbsp;a&nbsp;partially&nbsp;downloaded&nbsp;file,<br>&nbsp;&nbsp;&nbsp;&nbsp;returns&nbsp;None.</blockquote></p>\n",
       "</HTMLRemove>\n",
       "<DocSection type=\"property\" name=\"S3Object.range_info\" module=\"metaflow.plugins.datatools.s3.s3\" show_import=\"False\" heading_level=\"4\" link=\"https://github.com/Netflix/metaflow/tree/master/\">\n",
       "\n",
       "<Description summary=\"If the object corresponds to a partially downloaded object, returns\\ninformation of what was downloaded.\\n\\nThe returned object has the following fields:\\n- `total_size`: Size of the object in S3.\\n- `request_offset`: The starting offset.\\n- `request_length`: The number of bytes downloaded.\\n\" />\n",
       "</DocSection>"
      ],
      "text/plain": [
       "<nbdoc.showdoc.ShowDoc at 0x10723e690>"
      ]
     },
     "execution_count": 28,
     "metadata": {},
     "output_type": "execute_result"
    }
   ],
   "source": [
    "ShowDoc(S3Object.range_info)"
   ]
  },
  {
   "cell_type": "code",
   "execution_count": 29,
   "id": "22068e78",
   "metadata": {
    "execution": {
     "iopub.execute_input": "2025-08-30T21:15:33.351318Z",
     "iopub.status.busy": "2025-08-30T21:15:33.351248Z",
     "iopub.status.idle": "2025-08-30T21:15:33.352937Z",
     "shell.execute_reply": "2025-08-30T21:15:33.352761Z"
    },
    "scrolled": true
   },
   "outputs": [
    {
     "data": {
      "text/html": [
       "<HTMLRemove>\n",
       "<h4> <code>property</code> <span style=\"color:Brown\">S3Object.last_modified</span> <em></em><a href=\"https://github.com/Netflix/metaflow/tree/master/\" style=\"float:right\">[source]</a></h4><p><blockquote>Returns&nbsp;the&nbsp;last&nbsp;modified&nbsp;unix&nbsp;timestamp&nbsp;of&nbsp;the&nbsp;object.<br><br>Returns<br>-------<br>int<br>&nbsp;&nbsp;&nbsp;&nbsp;Unix&nbsp;timestamp&nbsp;corresponding&nbsp;to&nbsp;the&nbsp;last&nbsp;modified&nbsp;time.</blockquote></p>\n",
       "</HTMLRemove>\n",
       "<DocSection type=\"property\" name=\"S3Object.last_modified\" module=\"metaflow.plugins.datatools.s3.s3\" show_import=\"False\" heading_level=\"4\" link=\"https://github.com/Netflix/metaflow/tree/master/\">\n",
       "\n",
       "<Description summary=\"Returns the last modified unix timestamp of the object.\\n\" />\n",
       "<ParamSection name=\"Returns\">\n",
       "<Parameter type=\"int\" desc=\"Unix timestamp corresponding to the last modified time.\" />\n",
       "</ParamSection>\n",
       "</DocSection>"
      ],
      "text/plain": [
       "<nbdoc.showdoc.ShowDoc at 0x10723d510>"
      ]
     },
     "execution_count": 29,
     "metadata": {},
     "output_type": "execute_result"
    }
   ],
   "source": [
    "ShowDoc(S3Object.last_modified)"
   ]
  },
  {
   "cell_type": "markdown",
   "id": "7d8cad11",
   "metadata": {},
   "source": [
    "## Helper Objects\n",
    "\n",
    "These objects are simple containers that are used to pass information to `get_many`, `put_many`, and `put_files`. You may use your own objects instead of them, as long as they provide the same set of attributes."
   ]
  },
  {
   "cell_type": "code",
   "execution_count": 30,
   "id": "92683b71",
   "metadata": {
    "execution": {
     "iopub.execute_input": "2025-08-30T21:15:33.354982Z",
     "iopub.status.busy": "2025-08-30T21:15:33.354911Z",
     "iopub.status.idle": "2025-08-30T21:15:33.357068Z",
     "shell.execute_reply": "2025-08-30T21:15:33.356890Z"
    }
   },
   "outputs": [],
   "source": [
    "#meta:tag=hide\n",
    "\n",
    "# TODO: Document these are proper docstrings in the source code in S3.py\n",
    "\n",
    "class S3GetObject():\n",
    "    \"\"\"\n",
    "    Represents a chunk of an S3 object. A range query is performed to download only a subset of data,\n",
    "    `object[key][offset:offset + length]`, from S3.\n",
    "    \n",
    "    Attributes\n",
    "    ----------\n",
    "    \n",
    "    key : str\n",
    "        Key identifying the object. Works the same way as any `key` passed to `get` or `get_many`.\n",
    "    offset : int\n",
    "        A byte offset in the file.\n",
    "    length : int\n",
    "        The number of bytes to download.\n",
    "    \"\"\"\n",
    "    key = None\n",
    "    offset = None\n",
    "    length = None\n",
    "    \n",
    "    def __init__(self, key=None, offset=None, length=None):\n",
    "        pass\n",
    "    \n",
    "class S3PutObject():\n",
    "    \"\"\"\n",
    "    Defines an object with metadata to be uplaoded with `put_many` or `put_files`.\n",
    "    \n",
    "    Attributes\n",
    "    ----------\n",
    "    \n",
    "    key : str\n",
    "        Key identifying the object. Works the same way as `key` passed to `put` or `put_many`.\n",
    "    value : str or bytes\n",
    "        Object to upload. Works the same way as `obj` passed `to `put` or `put_many`.\n",
    "    path : str\n",
    "        Path to a local file. Works the same way as `path` passed to `put_files`.\n",
    "    content_type : str\n",
    "        Optional MIME type for the file.\n",
    "    metadata : Dict\n",
    "        A JSON-encodable dictionary of additional headers to be stored\n",
    "        as metadata with the file.\n",
    "    \"\"\"\n",
    "    key = None\n",
    "    value = None\n",
    "    path = None\n",
    "    content_type = None\n",
    "    metadata = None\n",
    "    \n",
    "    def __init__(self, key=None, value=None, path=None, content_type=None, metadata=None):\n",
    "        pass\n",
    "    \n",
    "ShowDoc2 = partial(SD, module_nm='metaflow.datatools.s3')"
   ]
  },
  {
   "cell_type": "code",
   "execution_count": 31,
   "id": "6aaa4c89",
   "metadata": {
    "execution": {
     "iopub.execute_input": "2025-08-30T21:15:33.358677Z",
     "iopub.status.busy": "2025-08-30T21:15:33.358599Z",
     "iopub.status.idle": "2025-08-30T21:15:33.360542Z",
     "shell.execute_reply": "2025-08-30T21:15:33.360354Z"
    },
    "scrolled": true
   },
   "outputs": [
    {
     "data": {
      "text/html": [
       "<HTMLRemove>\n",
       "<h3> <code>class</code> <span style=\"color:Brown\">S3GetObject</span> <em>(key=None, offset=None, length=None)</em><a href=\"https://github.com/Netflix/metaflow/tree/master/\" style=\"float:right\">[source]</a></h3><strong>metaflow.datatools.s3</strong><p><blockquote>Represents&nbsp;a&nbsp;chunk&nbsp;of&nbsp;an&nbsp;S3&nbsp;object.&nbsp;A&nbsp;range&nbsp;query&nbsp;is&nbsp;performed&nbsp;to&nbsp;download&nbsp;only&nbsp;a&nbsp;subset&nbsp;of&nbsp;data,<br>`object[key][offset:offset&nbsp;+&nbsp;length]`,&nbsp;from&nbsp;S3.<br><br>Attributes<br>----------<br><br>key&nbsp;:&nbsp;str<br>&nbsp;&nbsp;&nbsp;&nbsp;Key&nbsp;identifying&nbsp;the&nbsp;object.&nbsp;Works&nbsp;the&nbsp;same&nbsp;way&nbsp;as&nbsp;any&nbsp;`key`&nbsp;passed&nbsp;to&nbsp;`get`&nbsp;or&nbsp;`get_many`.<br>offset&nbsp;:&nbsp;int<br>&nbsp;&nbsp;&nbsp;&nbsp;A&nbsp;byte&nbsp;offset&nbsp;in&nbsp;the&nbsp;file.<br>length&nbsp;:&nbsp;int<br>&nbsp;&nbsp;&nbsp;&nbsp;The&nbsp;number&nbsp;of&nbsp;bytes&nbsp;to&nbsp;download.</blockquote></p>\n",
       "</HTMLRemove>\n",
       "<DocSection type=\"class\" name=\"S3GetObject\" module=\"metaflow.datatools.s3\" show_import=\"True\" heading_level=\"3\" link=\"https://github.com/Netflix/metaflow/tree/master/\">\n",
       "<SigArgSection>\n",
       "<SigArg name=\"key\" default=\"None\" /><SigArg name=\"offset\" default=\"None\" /><SigArg name=\"length\" default=\"None\" />\n",
       "</SigArgSection>\n",
       "<Description summary=\"Represents a chunk of an S3 object. A range query is performed to download only a subset of data,\\n`object[key][offset:offset + length]`, from S3.\" />\n",
       "<ParamSection name=\"Attributes\">\n",
       "\t<Parameter name=\"key\" type=\"str\" desc=\"Key identifying the object. Works the same way as any `key` passed to `get` or `get_many`.\" />\n",
       "\t<Parameter name=\"offset\" type=\"int\" desc=\"A byte offset in the file.\" />\n",
       "\t<Parameter name=\"length\" type=\"int\" desc=\"The number of bytes to download.\" />\n",
       "</ParamSection>\n",
       "</DocSection>"
      ],
      "text/plain": [
       "<nbdoc.showdoc.ShowDoc at 0x10723f350>"
      ]
     },
     "execution_count": 31,
     "metadata": {},
     "output_type": "execute_result"
    }
   ],
   "source": [
    "ShowDoc2(S3GetObject, show_import=True)"
   ]
  },
  {
   "cell_type": "code",
   "execution_count": 32,
   "id": "a0bbfe37",
   "metadata": {
    "execution": {
     "iopub.execute_input": "2025-08-30T21:15:33.362577Z",
     "iopub.status.busy": "2025-08-30T21:15:33.362502Z",
     "iopub.status.idle": "2025-08-30T21:15:33.364441Z",
     "shell.execute_reply": "2025-08-30T21:15:33.364246Z"
    },
    "scrolled": false
   },
   "outputs": [
    {
     "data": {
      "text/html": [
       "<HTMLRemove>\n",
       "<h3> <code>class</code> <span style=\"color:Brown\">S3PutObject</span> <em>(key=None, value=None, path=None, content_type=None, metadata=None)</em><a href=\"https://github.com/Netflix/metaflow/tree/master/\" style=\"float:right\">[source]</a></h3><strong>metaflow.datatools.s3</strong><p><blockquote>Defines&nbsp;an&nbsp;object&nbsp;with&nbsp;metadata&nbsp;to&nbsp;be&nbsp;uplaoded&nbsp;with&nbsp;`put_many`&nbsp;or&nbsp;`put_files`.<br><br>Attributes<br>----------<br><br>key&nbsp;:&nbsp;str<br>&nbsp;&nbsp;&nbsp;&nbsp;Key&nbsp;identifying&nbsp;the&nbsp;object.&nbsp;Works&nbsp;the&nbsp;same&nbsp;way&nbsp;as&nbsp;`key`&nbsp;passed&nbsp;to&nbsp;`put`&nbsp;or&nbsp;`put_many`.<br>value&nbsp;:&nbsp;str&nbsp;or&nbsp;bytes<br>&nbsp;&nbsp;&nbsp;&nbsp;Object&nbsp;to&nbsp;upload.&nbsp;Works&nbsp;the&nbsp;same&nbsp;way&nbsp;as&nbsp;`obj`&nbsp;passed&nbsp;`to&nbsp;`put`&nbsp;or&nbsp;`put_many`.<br>path&nbsp;:&nbsp;str<br>&nbsp;&nbsp;&nbsp;&nbsp;Path&nbsp;to&nbsp;a&nbsp;local&nbsp;file.&nbsp;Works&nbsp;the&nbsp;same&nbsp;way&nbsp;as&nbsp;`path`&nbsp;passed&nbsp;to&nbsp;`put_files`.<br>content_type&nbsp;:&nbsp;str<br>&nbsp;&nbsp;&nbsp;&nbsp;Optional&nbsp;MIME&nbsp;type&nbsp;for&nbsp;the&nbsp;file.<br>metadata&nbsp;:&nbsp;Dict<br>&nbsp;&nbsp;&nbsp;&nbsp;A&nbsp;JSON-encodable&nbsp;dictionary&nbsp;of&nbsp;additional&nbsp;headers&nbsp;to&nbsp;be&nbsp;stored<br>&nbsp;&nbsp;&nbsp;&nbsp;as&nbsp;metadata&nbsp;with&nbsp;the&nbsp;file.</blockquote></p>\n",
       "</HTMLRemove>\n",
       "<DocSection type=\"class\" name=\"S3PutObject\" module=\"metaflow.datatools.s3\" show_import=\"True\" heading_level=\"3\" link=\"https://github.com/Netflix/metaflow/tree/master/\">\n",
       "<SigArgSection>\n",
       "<SigArg name=\"key\" default=\"None\" /><SigArg name=\"value\" default=\"None\" /><SigArg name=\"path\" default=\"None\" /><SigArg name=\"content_type\" default=\"None\" /><SigArg name=\"metadata\" default=\"None\" />\n",
       "</SigArgSection>\n",
       "<Description summary=\"Defines an object with metadata to be uplaoded with `put_many` or `put_files`.\" />\n",
       "<ParamSection name=\"Attributes\">\n",
       "\t<Parameter name=\"key\" type=\"str\" desc=\"Key identifying the object. Works the same way as `key` passed to `put` or `put_many`.\" />\n",
       "\t<Parameter name=\"value\" type=\"str or bytes\" desc=\"Object to upload. Works the same way as `obj` passed `to `put` or `put_many`.\" />\n",
       "\t<Parameter name=\"path\" type=\"str\" desc=\"Path to a local file. Works the same way as `path` passed to `put_files`.\" />\n",
       "\t<Parameter name=\"content_type\" type=\"str\" desc=\"Optional MIME type for the file.\" />\n",
       "\t<Parameter name=\"metadata\" type=\"Dict\" desc=\"A JSON-encodable dictionary of additional headers to be stored\\nas metadata with the file.\" />\n",
       "</ParamSection>\n",
       "</DocSection>"
      ],
      "text/plain": [
       "<nbdoc.showdoc.ShowDoc at 0x10723ed10>"
      ]
     },
     "execution_count": 32,
     "metadata": {},
     "output_type": "execute_result"
    }
   ],
   "source": [
    "ShowDoc2(S3PutObject, show_import=True)"
   ]
  },
  {
   "cell_type": "code",
   "execution_count": null,
   "id": "c111ec1a",
   "metadata": {},
   "outputs": [],
   "source": []
  }
 ],
 "metadata": {
  "kernelspec": {
   "display_name": "Python 3 (ipykernel)",
   "language": "python",
   "name": "python3"
  },
  "language_info": {
   "codemirror_mode": {
    "name": "ipython",
    "version": 3
   },
   "file_extension": ".py",
   "mimetype": "text/x-python",
   "name": "python",
   "nbconvert_exporter": "python",
   "pygments_lexer": "ipython3",
   "version": "3.11.0"
  }
 },
 "nbformat": 4,
 "nbformat_minor": 5
}
