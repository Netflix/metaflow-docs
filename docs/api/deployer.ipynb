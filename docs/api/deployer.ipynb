{
 "cells": [
  {
   "cell_type": "markdown",
   "id": "c0ed0370",
   "metadata": {},
   "source": [
    "# Deployer - Deploying flows programmatically"
   ]
  },
  {
   "cell_type": "markdown",
   "id": "318e7974",
   "metadata": {},
   "source": [
    "The `Deployer` class allows you to manage [production deployments](/production/introduction) programmatically. For an overview, see [Deploying flows programmatically](/metaflow/managing-flows/deployer)."
   ]
  },
  {
   "cell_type": "code",
   "execution_count": 1,
   "id": "d4c02781",
   "metadata": {
    "execution": {
     "iopub.execute_input": "2024-11-05T04:49:36.083072Z",
     "iopub.status.busy": "2024-11-05T04:49:36.082332Z",
     "iopub.status.idle": "2024-11-05T04:49:36.442175Z",
     "shell.execute_reply": "2024-11-05T04:49:36.441203Z"
    }
   },
   "outputs": [],
   "source": [
    "#meta:tag=hide\n",
    "from functools import partial\n",
    "from nbdoc.showdoc import ShowDoc\n",
    "ShowDoc = partial(ShowDoc, module_nm='metaflow')\n",
    "\n",
    "from metaflow import Deployer as RealDeployer\n",
    "from metaflow.runner.deployer_impl import DeployerImpl\n",
    "from metaflow.runner.deployer import TriggeredRun\n",
    "\n",
    "class Deployer:\n",
    "    def argo_workflows(self) -> 'ArgoWorkflowsDeployer':\n",
    "        \"\"\"\n",
    "        Returns a deployer specific to Argo Workflows.\n",
    "\n",
    "        Returns\n",
    "        -------\n",
    "        ArgoWorkflowsDeployer\n",
    "            a deployer class specific to Argo Workflows\n",
    "        \"\"\"\n",
    "    \n",
    "    def step_functions(self) -> 'StepFunctionsDeployer':\n",
    "        \"\"\"\n",
    "        Returns a deployer specific to Step Functions.\n",
    "\n",
    "        Returns\n",
    "        -------\n",
    "        StepFunctionsDeployer\n",
    "            a deployer class specific to Step Functions\n",
    "        \"\"\"\n",
    "\n",
    "Deployer.__doc__ = RealDeployer.__doc__\n",
    "       "
   ]
  },
  {
   "cell_type": "markdown",
   "id": "4e89ee3c",
   "metadata": {},
   "source": [
    "Metaflow supports [various production orchestrators](/production/scheduling-metaflow-flows/introduction), each offering slightly different functionalities. All of them operate with the same high-level interfaces, exposed through the `Deployer` API:\n",
    "\n",
    "1. Start by instantiating the top-level `Deployer` object.\n",
    "2. Choose a production orchestrator through the functions of `Deployer`.\n",
    "3. Deploy a flow by calling an implementation-specific `create()` function that returns a `DeployedFlow` representing a flow that is deployed but not yet running.\n",
    "4. The `DeployedFlow` is ready to execute automatically if it is scheduled with [`@schedule`](/api/flow-decorators/schedule), [`@trigger`](/api/flow-decorators/trigger), \n",
    "and [`@trigger_on_finish`](/api/flow-decorators/trigger_on_finish) decorators.\n",
    "5. Optionally, you can trigger a run explictly by calling `DeployedFlow.trigger()` that returns a `TriggeredRun`  representing a run that will start executing.\n",
    "6. Once the run has started executing, `TriggeredRun.run` returns a corresponding [`Run` object](/api/client#run).\n",
    "\n",
    "### Example\n",
    "\n",
    "```python\n",
    "import time\n",
    "from metaflow import Deployer\n",
    "deployed_flow = Deployer('helloflow.py').argo_workflows().create()\n",
    "print('Production token', deployed_flow.production_token)\n",
    "triggered_run = deployed_flow.trigger()\n",
    "while triggered_run.run is None:\n",
    "    print(f'Waiting for the run to start')\n",
    "    time.sleep(1)\n",
    "print('Run started', triggered_run.run)\n",
    "print('Terminating the flow', triggered_run.terminate())\n",
    "```\n",
    "\n",
    "Note that you can replace `argo_workflows()` above with `step_functions()` without changing anything\n",
    "else in the code.\n",
    "\n",
    "In addition to this basic functionality, each implementation-specific object exposes additional functions for managing deployed flows and runs, as documented below."
   ]
  },
  {
   "cell_type": "markdown",
   "id": "45816c6d",
   "metadata": {},
   "source": [
    "## Common `Deployer`"
   ]
  },
  {
   "cell_type": "code",
   "execution_count": 2,
   "id": "7fdb7184",
   "metadata": {
    "execution": {
     "iopub.execute_input": "2024-11-05T04:49:36.447563Z",
     "iopub.status.busy": "2024-11-05T04:49:36.447294Z",
     "iopub.status.idle": "2024-11-05T04:49:36.458600Z",
     "shell.execute_reply": "2024-11-05T04:49:36.457522Z"
    }
   },
   "outputs": [
    {
     "data": {
      "text/html": [
       "<HTMLRemove>\n",
       "<h3> <code>class</code> <span style=\"color:Brown\">Deployer</span> <em>flow_file, show_output=True, profile=None, env=None, cwd=None, **kwargs</em><a href=\"https://github.com/Netflix/metaflow/tree/master/\" style=\"float:right\">[source]</a></h3><p><blockquote>Use&nbsp;the&nbsp;`Deployer`&nbsp;class&nbsp;to&nbsp;configure&nbsp;and&nbsp;access&nbsp;one&nbsp;of&nbsp;the&nbsp;production<br>orchestrators&nbsp;supported&nbsp;by&nbsp;Metaflow.<br><br>Parameters<br>----------<br>flow_file&nbsp;:&nbsp;str<br>&nbsp;&nbsp;&nbsp;&nbsp;Path&nbsp;to&nbsp;the&nbsp;flow&nbsp;file&nbsp;to&nbsp;deploy.<br>show_output&nbsp;:&nbsp;bool,&nbsp;default&nbsp;True<br>&nbsp;&nbsp;&nbsp;&nbsp;Show&nbsp;the&nbsp;'stdout'&nbsp;and&nbsp;'stderr'&nbsp;to&nbsp;the&nbsp;console&nbsp;by&nbsp;default.<br>profile&nbsp;:&nbsp;Optional[str],&nbsp;default&nbsp;None<br>&nbsp;&nbsp;&nbsp;&nbsp;Metaflow&nbsp;profile&nbsp;to&nbsp;use&nbsp;for&nbsp;the&nbsp;deployment.&nbsp;If&nbsp;not&nbsp;specified,&nbsp;the&nbsp;default<br>&nbsp;&nbsp;&nbsp;&nbsp;profile&nbsp;is&nbsp;used.<br>env&nbsp;:&nbsp;Optional[Dict[str,&nbsp;str]],&nbsp;default&nbsp;None<br>&nbsp;&nbsp;&nbsp;&nbsp;Additional&nbsp;environment&nbsp;variables&nbsp;to&nbsp;set&nbsp;for&nbsp;the&nbsp;deployment.<br>cwd&nbsp;:&nbsp;Optional[str],&nbsp;default&nbsp;None<br>&nbsp;&nbsp;&nbsp;&nbsp;The&nbsp;directory&nbsp;to&nbsp;run&nbsp;the&nbsp;subprocess&nbsp;in;&nbsp;if&nbsp;not&nbsp;specified,&nbsp;the&nbsp;current<br>&nbsp;&nbsp;&nbsp;&nbsp;directory&nbsp;is&nbsp;used.<br>file_read_timeout&nbsp;:&nbsp;int,&nbsp;default&nbsp;3600<br>&nbsp;&nbsp;&nbsp;&nbsp;The&nbsp;timeout&nbsp;until&nbsp;which&nbsp;we&nbsp;try&nbsp;to&nbsp;read&nbsp;the&nbsp;deployer&nbsp;attribute&nbsp;file.<br>**kwargs&nbsp;:&nbsp;Any<br>&nbsp;&nbsp;&nbsp;&nbsp;Additional&nbsp;arguments&nbsp;that&nbsp;you&nbsp;would&nbsp;pass&nbsp;to&nbsp;`python&nbsp;myflow.py`&nbsp;before<br>&nbsp;&nbsp;&nbsp;&nbsp;the&nbsp;deployment&nbsp;command.</blockquote></p>\n",
       "</HTMLRemove>\n",
       "<DocSection type=\"class\" name=\"Deployer\" module=\"metaflow\" show_import=\"False\" heading_level=\"3\" link=\"https://github.com/Netflix/metaflow/tree/master/\">\n",
       "<SigArgSection>\n",
       "<SigArg name=\"flow_file, show_output=True, profile=None, env=None, cwd=None, **kwargs\" />\n",
       "</SigArgSection>\n",
       "<Description summary=\"Use the `Deployer` class to configure and access one of the production\\norchestrators supported by Metaflow.\" />\n",
       "<ParamSection name=\"Parameters\">\n",
       "\t<Parameter name=\"flow_file\" type=\"str\" desc=\"Path to the flow file to deploy.\" />\n",
       "\t<Parameter name=\"show_output\" type=\"bool, default True\" desc=\"Show the 'stdout' and 'stderr' to the console by default.\" />\n",
       "\t<Parameter name=\"profile\" type=\"Optional[str], default None\" desc=\"Metaflow profile to use for the deployment. If not specified, the default\\nprofile is used.\" />\n",
       "\t<Parameter name=\"env\" type=\"Optional[Dict[str, str]], default None\" desc=\"Additional environment variables to set for the deployment.\" />\n",
       "\t<Parameter name=\"cwd\" type=\"Optional[str], default None\" desc=\"The directory to run the subprocess in; if not specified, the current\\ndirectory is used.\" />\n",
       "\t<Parameter name=\"file_read_timeout\" type=\"int, default 3600\" desc=\"The timeout until which we try to read the deployer attribute file.\" />\n",
       "\t<Parameter name=\"**kwargs\" type=\"Any\" desc=\"Additional arguments that you would pass to `python myflow.py` before\\nthe deployment command.\" />\n",
       "</ParamSection>\n",
       "</DocSection>"
      ],
      "text/plain": [
       "<nbdoc.showdoc.ShowDoc at 0x110003790>"
      ]
     },
     "execution_count": 2,
     "metadata": {},
     "output_type": "execute_result"
    }
   ],
   "source": [
    "ShowDoc(Deployer, spoofstr=('flow_file, show_output=True, profile=None, env=None, cwd=None, **kwargs'))"
   ]
  },
  {
   "cell_type": "code",
   "execution_count": 3,
   "id": "84c83820",
   "metadata": {
    "execution": {
     "iopub.execute_input": "2024-11-05T04:49:36.464661Z",
     "iopub.status.busy": "2024-11-05T04:49:36.464460Z",
     "iopub.status.idle": "2024-11-05T04:49:36.469259Z",
     "shell.execute_reply": "2024-11-05T04:49:36.468505Z"
    }
   },
   "outputs": [
    {
     "data": {
      "text/html": [
       "<HTMLRemove>\n",
       "<h4> <code>method</code> <span style=\"color:Brown\">Deployer.argo_workflows</span> <em>(self) -> 'ArgoWorkflowsDeployer'</em><a href=\"https://github.com/Netflix/metaflow/tree/master/__main__.py#L11\" style=\"float:right\">[source]</a></h4><p><blockquote>Returns&nbsp;a&nbsp;deployer&nbsp;specific&nbsp;to&nbsp;Argo&nbsp;Workflows.<br><br>Returns<br>-------<br>ArgoWorkflowsDeployer<br>&nbsp;&nbsp;&nbsp;&nbsp;a&nbsp;deployer&nbsp;class&nbsp;specific&nbsp;to&nbsp;Argo&nbsp;Workflows</blockquote></p>\n",
       "</HTMLRemove>\n",
       "<DocSection type=\"method\" name=\"Deployer.argo_workflows\" module=\"metaflow\" show_import=\"False\" heading_level=\"4\" link=\"https://github.com/Netflix/metaflow/tree/master/__main__.py#L11\">\n",
       "<SigArgSection>\n",
       "<SigArg name=\"self\" />\n",
       "</SigArgSection>\n",
       "<Description summary=\"Returns a deployer specific to Argo Workflows.\" />\n",
       "<ParamSection name=\"Returns\">\n",
       "\t<Parameter type=\"ArgoWorkflowsDeployer\" desc=\"a deployer class specific to Argo Workflows\" />\n",
       "</ParamSection>\n",
       "</DocSection>"
      ],
      "text/plain": [
       "<nbdoc.showdoc.ShowDoc at 0x112d02ce0>"
      ]
     },
     "execution_count": 3,
     "metadata": {},
     "output_type": "execute_result"
    }
   ],
   "source": [
    "ShowDoc(Deployer.argo_workflows)"
   ]
  },
  {
   "cell_type": "code",
   "execution_count": 4,
   "id": "eb814b83",
   "metadata": {
    "execution": {
     "iopub.execute_input": "2024-11-05T04:49:36.477499Z",
     "iopub.status.busy": "2024-11-05T04:49:36.477010Z",
     "iopub.status.idle": "2024-11-05T04:49:36.483455Z",
     "shell.execute_reply": "2024-11-05T04:49:36.482585Z"
    },
    "scrolled": true
   },
   "outputs": [
    {
     "data": {
      "text/html": [
       "<HTMLRemove>\n",
       "<h4> <code>method</code> <span style=\"color:Brown\">Deployer.step_functions</span> <em>(self) -> 'StepFunctionsDeployer'</em><a href=\"https://github.com/Netflix/metaflow/tree/master/__main__.py#L21\" style=\"float:right\">[source]</a></h4><p><blockquote>Returns&nbsp;a&nbsp;deployer&nbsp;specific&nbsp;to&nbsp;Step&nbsp;Functions.<br><br>Returns<br>-------<br>StepFunctionsDeployer<br>&nbsp;&nbsp;&nbsp;&nbsp;a&nbsp;deployer&nbsp;class&nbsp;specific&nbsp;to&nbsp;Step&nbsp;Functions</blockquote></p>\n",
       "</HTMLRemove>\n",
       "<DocSection type=\"method\" name=\"Deployer.step_functions\" module=\"metaflow\" show_import=\"False\" heading_level=\"4\" link=\"https://github.com/Netflix/metaflow/tree/master/__main__.py#L21\">\n",
       "<SigArgSection>\n",
       "<SigArg name=\"self\" />\n",
       "</SigArgSection>\n",
       "<Description summary=\"Returns a deployer specific to Step Functions.\" />\n",
       "<ParamSection name=\"Returns\">\n",
       "\t<Parameter type=\"StepFunctionsDeployer\" desc=\"a deployer class specific to Step Functions\" />\n",
       "</ParamSection>\n",
       "</DocSection>"
      ],
      "text/plain": [
       "<nbdoc.showdoc.ShowDoc at 0x112d02da0>"
      ]
     },
     "execution_count": 4,
     "metadata": {},
     "output_type": "execute_result"
    }
   ],
   "source": [
    "ShowDoc(Deployer.step_functions)"
   ]
  },
  {
   "cell_type": "markdown",
   "id": "33b6e0bf",
   "metadata": {},
   "source": [
    "## Deploy Argo Workflows with `ArgoWorkflowsDeployer`"
   ]
  },
  {
   "cell_type": "code",
   "execution_count": 5,
   "id": "e42db208",
   "metadata": {
    "execution": {
     "iopub.execute_input": "2024-11-05T04:49:36.491357Z",
     "iopub.status.busy": "2024-11-05T04:49:36.491147Z",
     "iopub.status.idle": "2024-11-05T04:49:36.501680Z",
     "shell.execute_reply": "2024-11-05T04:49:36.500672Z"
    }
   },
   "outputs": [
    {
     "data": {
      "text/html": [
       "<HTMLRemove>\n",
       "<h4> <code>method</code> <span style=\"color:Brown\">ArgoWorkflowsDeployer.create</span> <em>(self, **kwargs) -> 'metaflow.plugins.argo.argo_workflows_deployer_objects.ArgoWorkflowsDeployedFlow'</em><a href=\"https://github.com/Netflix/metaflow/tree/master/metaflow/plugins/argo/argo_workflows_deployer.py#L49\" style=\"float:right\">[source]</a></h4><p><blockquote>Create&nbsp;a&nbsp;new&nbsp;ArgoWorkflow&nbsp;deployment.<br><br>Parameters<br>----------<br>authorize&nbsp;:&nbsp;str,&nbsp;optional,&nbsp;default&nbsp;None<br>&nbsp;&nbsp;&nbsp;&nbsp;Authorize&nbsp;using&nbsp;this&nbsp;production&nbsp;token.&nbsp;Required&nbsp;when&nbsp;re-deploying&nbsp;an&nbsp;existing&nbsp;flow<br>&nbsp;&nbsp;&nbsp;&nbsp;for&nbsp;the&nbsp;first&nbsp;time.&nbsp;The&nbsp;token&nbsp;is&nbsp;cached&nbsp;in&nbsp;METAFLOW_HOME.<br>generate_new_token&nbsp;:&nbsp;bool,&nbsp;optional,&nbsp;default&nbsp;False<br>&nbsp;&nbsp;&nbsp;&nbsp;Generate&nbsp;a&nbsp;new&nbsp;production&nbsp;token&nbsp;for&nbsp;this&nbsp;flow.&nbsp;Moves&nbsp;the&nbsp;production&nbsp;flow&nbsp;to&nbsp;a&nbsp;new&nbsp;namespace.<br>given_token&nbsp;:&nbsp;str,&nbsp;optional,&nbsp;default&nbsp;None<br>&nbsp;&nbsp;&nbsp;&nbsp;Use&nbsp;the&nbsp;given&nbsp;production&nbsp;token&nbsp;for&nbsp;this&nbsp;flow.&nbsp;Moves&nbsp;the&nbsp;production&nbsp;flow&nbsp;to&nbsp;the&nbsp;given&nbsp;namespace.<br>tags&nbsp;:&nbsp;List[str],&nbsp;optional,&nbsp;default&nbsp;None<br>&nbsp;&nbsp;&nbsp;&nbsp;Annotate&nbsp;all&nbsp;objects&nbsp;produced&nbsp;by&nbsp;Argo&nbsp;Workflows&nbsp;runs&nbsp;with&nbsp;these&nbsp;tags.<br>user_namespace&nbsp;:&nbsp;str,&nbsp;optional,&nbsp;default&nbsp;None<br>&nbsp;&nbsp;&nbsp;&nbsp;Change&nbsp;the&nbsp;namespace&nbsp;from&nbsp;the&nbsp;default&nbsp;(production&nbsp;token)&nbsp;to&nbsp;the&nbsp;given&nbsp;tag.<br>only_json&nbsp;:&nbsp;bool,&nbsp;optional,&nbsp;default&nbsp;False<br>&nbsp;&nbsp;&nbsp;&nbsp;Only&nbsp;print&nbsp;out&nbsp;JSON&nbsp;sent&nbsp;to&nbsp;Argo&nbsp;Workflows&nbsp;without&nbsp;deploying&nbsp;anything.<br>max_workers&nbsp;:&nbsp;int,&nbsp;optional,&nbsp;default&nbsp;100<br>&nbsp;&nbsp;&nbsp;&nbsp;Maximum&nbsp;number&nbsp;of&nbsp;parallel&nbsp;processes.<br>workflow_timeout&nbsp;:&nbsp;int,&nbsp;optional,&nbsp;default&nbsp;None<br>&nbsp;&nbsp;&nbsp;&nbsp;Workflow&nbsp;timeout&nbsp;in&nbsp;seconds.<br>workflow_priority&nbsp;:&nbsp;int,&nbsp;optional,&nbsp;default&nbsp;None<br>&nbsp;&nbsp;&nbsp;&nbsp;Workflow&nbsp;priority&nbsp;as&nbsp;an&nbsp;integer.&nbsp;Higher&nbsp;priority&nbsp;workflows&nbsp;are&nbsp;processed&nbsp;first<br>&nbsp;&nbsp;&nbsp;&nbsp;if&nbsp;Argo&nbsp;Workflows&nbsp;controller&nbsp;is&nbsp;configured&nbsp;to&nbsp;process&nbsp;limited&nbsp;parallel&nbsp;workflows.<br>auto_emit_argo_events&nbsp;:&nbsp;bool,&nbsp;optional,&nbsp;default&nbsp;True<br>&nbsp;&nbsp;&nbsp;&nbsp;Auto&nbsp;emits&nbsp;Argo&nbsp;Events&nbsp;when&nbsp;the&nbsp;run&nbsp;completes&nbsp;successfully.<br>notify_on_error&nbsp;:&nbsp;bool,&nbsp;optional,&nbsp;default&nbsp;False<br>&nbsp;&nbsp;&nbsp;&nbsp;Notify&nbsp;if&nbsp;the&nbsp;workflow&nbsp;fails.<br>notify_on_success&nbsp;:&nbsp;bool,&nbsp;optional,&nbsp;default&nbsp;False<br>&nbsp;&nbsp;&nbsp;&nbsp;Notify&nbsp;if&nbsp;the&nbsp;workflow&nbsp;succeeds.<br>notify_slack_webhook_url&nbsp;:&nbsp;str,&nbsp;optional,&nbsp;default&nbsp;''<br>&nbsp;&nbsp;&nbsp;&nbsp;Slack&nbsp;incoming&nbsp;webhook&nbsp;url&nbsp;for&nbsp;workflow&nbsp;success/failure&nbsp;notifications.<br>notify_pager_duty_integration_key&nbsp;:&nbsp;str,&nbsp;optional,&nbsp;default&nbsp;''<br>&nbsp;&nbsp;&nbsp;&nbsp;PagerDuty&nbsp;Events&nbsp;API&nbsp;V2&nbsp;Integration&nbsp;key&nbsp;for&nbsp;workflow&nbsp;success/failure&nbsp;notifications.<br>enable_heartbeat_daemon&nbsp;:&nbsp;bool,&nbsp;optional,&nbsp;default&nbsp;False<br>&nbsp;&nbsp;&nbsp;&nbsp;Use&nbsp;a&nbsp;daemon&nbsp;container&nbsp;to&nbsp;broadcast&nbsp;heartbeats.<br>deployer_attribute_file&nbsp;:&nbsp;str,&nbsp;optional,&nbsp;default&nbsp;None<br>&nbsp;&nbsp;&nbsp;&nbsp;Write&nbsp;the&nbsp;workflow&nbsp;name&nbsp;to&nbsp;the&nbsp;specified&nbsp;file.&nbsp;Used&nbsp;internally&nbsp;for&nbsp;Metaflow's&nbsp;Deployer&nbsp;API.<br>enable_error_msg_capture&nbsp;:&nbsp;bool,&nbsp;optional,&nbsp;default&nbsp;True<br>&nbsp;&nbsp;&nbsp;&nbsp;Capture&nbsp;stack&nbsp;trace&nbsp;of&nbsp;first&nbsp;failed&nbsp;task&nbsp;in&nbsp;exit&nbsp;hook.<br><br>Returns<br>-------<br>ArgoWorkflowsDeployedFlow<br>&nbsp;&nbsp;&nbsp;&nbsp;The&nbsp;Flow&nbsp;deployed&nbsp;to&nbsp;Argo&nbsp;Workflows.</blockquote></p>\n",
       "</HTMLRemove>\n",
       "<DocSection type=\"method\" name=\"ArgoWorkflowsDeployer.create\" module=\"metaflow\" show_import=\"False\" heading_level=\"4\" link=\"https://github.com/Netflix/metaflow/tree/master/metaflow/plugins/argo/argo_workflows_deployer.py#L49\">\n",
       "<SigArgSection>\n",
       "<SigArg name=\"self\" /><SigArg name=\"**kwargs\" />\n",
       "</SigArgSection>\n",
       "<Description summary=\"Create a new ArgoWorkflow deployment.\" />\n",
       "<ParamSection name=\"Parameters\">\n",
       "\t<Parameter name=\"authorize\" type=\"str, optional, default None\" desc=\"Authorize using this production token. Required when re-deploying an existing flow\\nfor the first time. The token is cached in METAFLOW_HOME.\" />\n",
       "\t<Parameter name=\"generate_new_token\" type=\"bool, optional, default False\" desc=\"Generate a new production token for this flow. Moves the production flow to a new namespace.\" />\n",
       "\t<Parameter name=\"given_token\" type=\"str, optional, default None\" desc=\"Use the given production token for this flow. Moves the production flow to the given namespace.\" />\n",
       "\t<Parameter name=\"tags\" type=\"List[str], optional, default None\" desc=\"Annotate all objects produced by Argo Workflows runs with these tags.\" />\n",
       "\t<Parameter name=\"user_namespace\" type=\"str, optional, default None\" desc=\"Change the namespace from the default (production token) to the given tag.\" />\n",
       "\t<Parameter name=\"only_json\" type=\"bool, optional, default False\" desc=\"Only print out JSON sent to Argo Workflows without deploying anything.\" />\n",
       "\t<Parameter name=\"max_workers\" type=\"int, optional, default 100\" desc=\"Maximum number of parallel processes.\" />\n",
       "\t<Parameter name=\"workflow_timeout\" type=\"int, optional, default None\" desc=\"Workflow timeout in seconds.\" />\n",
       "\t<Parameter name=\"workflow_priority\" type=\"int, optional, default None\" desc=\"Workflow priority as an integer. Higher priority workflows are processed first\\nif Argo Workflows controller is configured to process limited parallel workflows.\" />\n",
       "\t<Parameter name=\"auto_emit_argo_events\" type=\"bool, optional, default True\" desc=\"Auto emits Argo Events when the run completes successfully.\" />\n",
       "\t<Parameter name=\"notify_on_error\" type=\"bool, optional, default False\" desc=\"Notify if the workflow fails.\" />\n",
       "\t<Parameter name=\"notify_on_success\" type=\"bool, optional, default False\" desc=\"Notify if the workflow succeeds.\" />\n",
       "\t<Parameter name=\"notify_slack_webhook_url\" type=\"str, optional, default ''\" desc=\"Slack incoming webhook url for workflow success/failure notifications.\" />\n",
       "\t<Parameter name=\"notify_pager_duty_integration_key\" type=\"str, optional, default ''\" desc=\"PagerDuty Events API V2 Integration key for workflow success/failure notifications.\" />\n",
       "\t<Parameter name=\"enable_heartbeat_daemon\" type=\"bool, optional, default False\" desc=\"Use a daemon container to broadcast heartbeats.\" />\n",
       "\t<Parameter name=\"deployer_attribute_file\" type=\"str, optional, default None\" desc=\"Write the workflow name to the specified file. Used internally for Metaflow's Deployer API.\" />\n",
       "\t<Parameter name=\"enable_error_msg_capture\" type=\"bool, optional, default True\" desc=\"Capture stack trace of first failed task in exit hook.\" />\n",
       "</ParamSection>\n",
       "<ParamSection name=\"Returns\">\n",
       "\t<Parameter type=\"ArgoWorkflowsDeployedFlow\" desc=\"The Flow deployed to Argo Workflows.\" />\n",
       "</ParamSection>\n",
       "</DocSection>"
      ],
      "text/plain": [
       "<nbdoc.showdoc.ShowDoc at 0x110490580>"
      ]
     },
     "execution_count": 5,
     "metadata": {},
     "output_type": "execute_result"
    }
   ],
   "source": [
    "from metaflow.plugins.argo.argo_workflows_deployer_objects import ArgoWorkflowsTriggeredRun\n",
    "from metaflow.plugins.argo.argo_workflows_deployer_objects import ArgoWorkflowsDeployedFlow\n",
    "from metaflow.plugins.argo.argo_workflows_deployer import  ArgoWorkflowsDeployer\n",
    "\n",
    "ShowDoc(ArgoWorkflowsDeployer.create)"
   ]
  },
  {
   "cell_type": "markdown",
   "id": "b6ee3b2a",
   "metadata": {},
   "source": [
    "### Manage a flow deployed on Argo Workflows with `ArgoWorkflowsDeployedFlow`"
   ]
  },
  {
   "cell_type": "code",
   "execution_count": 6,
   "id": "ec96e44b",
   "metadata": {
    "execution": {
     "iopub.execute_input": "2024-11-05T04:49:36.506770Z",
     "iopub.status.busy": "2024-11-05T04:49:36.506423Z",
     "iopub.status.idle": "2024-11-05T04:49:36.515712Z",
     "shell.execute_reply": "2024-11-05T04:49:36.513477Z"
    },
    "scrolled": true
   },
   "outputs": [
    {
     "data": {
      "text/html": [
       "<HTMLRemove>\n",
       "<h4> <code>property</code> <span style=\"color:Brown\">ArgoWorkflowsDeployedFlow.production_token</span> <em></em><a href=\"https://github.com/Netflix/metaflow/tree/master/\" style=\"float:right\">[source]</a></h4><p><blockquote>Get&nbsp;the&nbsp;production&nbsp;token&nbsp;for&nbsp;the&nbsp;deployed&nbsp;flow.<br><br>Returns<br>-------<br>str,&nbsp;optional<br>&nbsp;&nbsp;&nbsp;&nbsp;The&nbsp;production&nbsp;token,&nbsp;None&nbsp;if&nbsp;it&nbsp;cannot&nbsp;be&nbsp;retrieved.</blockquote></p>\n",
       "</HTMLRemove>\n",
       "<DocSection type=\"property\" name=\"ArgoWorkflowsDeployedFlow.production_token\" module=\"metaflow.plugins.argo.argo_workflows_deployer_objects\" show_import=\"False\" heading_level=\"4\" link=\"https://github.com/Netflix/metaflow/tree/master/\">\n",
       "\n",
       "<Description summary=\"Get the production token for the deployed flow.\\n\" />\n",
       "<ParamSection name=\"Returns\">\n",
       "<Parameter type=\"str, optional\" desc=\"The production token, None if it cannot be retrieved.\" />\n",
       "</ParamSection>\n",
       "</DocSection>"
      ],
      "text/plain": [
       "<nbdoc.showdoc.ShowDoc at 0x112d64640>"
      ]
     },
     "execution_count": 6,
     "metadata": {},
     "output_type": "execute_result"
    }
   ],
   "source": [
    "ShowDoc(ArgoWorkflowsDeployedFlow.production_token)"
   ]
  },
  {
   "cell_type": "code",
   "execution_count": 7,
   "id": "102d67b4",
   "metadata": {
    "execution": {
     "iopub.execute_input": "2024-11-05T04:49:36.522802Z",
     "iopub.status.busy": "2024-11-05T04:49:36.522522Z",
     "iopub.status.idle": "2024-11-05T04:49:36.530660Z",
     "shell.execute_reply": "2024-11-05T04:49:36.529630Z"
    },
    "scrolled": true
   },
   "outputs": [
    {
     "data": {
      "text/html": [
       "<HTMLRemove>\n",
       "<h4> <code>method</code> <span style=\"color:Brown\">ArgoWorkflowsDeployedFlow.trigger</span> <em>(self, **kwargs) -> metaflow.plugins.argo.argo_workflows_deployer_objects.ArgoWorkflowsTriggeredRun</em><a href=\"https://github.com/Netflix/metaflow/tree/master/metaflow/plugins/argo/argo_workflows_deployer_objects.py#L307\" style=\"float:right\">[source]</a></h4><p><blockquote>Trigger&nbsp;a&nbsp;new&nbsp;run&nbsp;for&nbsp;the&nbsp;deployed&nbsp;flow.<br><br>Parameters<br>----------<br>**kwargs&nbsp;:&nbsp;Any<br>&nbsp;&nbsp;&nbsp;&nbsp;Additional&nbsp;arguments&nbsp;to&nbsp;pass&nbsp;to&nbsp;the&nbsp;trigger&nbsp;command,<br>&nbsp;&nbsp;&nbsp;&nbsp;`Parameters`&nbsp;in&nbsp;particular.<br><br>Returns<br>-------<br>ArgoWorkflowsTriggeredRun<br>&nbsp;&nbsp;&nbsp;&nbsp;The&nbsp;triggered&nbsp;run&nbsp;instance.<br><br>Raises<br>------<br>Exception<br>&nbsp;&nbsp;&nbsp;&nbsp;If&nbsp;there&nbsp;is&nbsp;an&nbsp;error&nbsp;during&nbsp;the&nbsp;trigger&nbsp;process.</blockquote></p>\n",
       "</HTMLRemove>\n",
       "<DocSection type=\"method\" name=\"ArgoWorkflowsDeployedFlow.trigger\" module=\"metaflow\" show_import=\"False\" heading_level=\"4\" link=\"https://github.com/Netflix/metaflow/tree/master/metaflow/plugins/argo/argo_workflows_deployer_objects.py#L307\">\n",
       "<SigArgSection>\n",
       "<SigArg name=\"self\" /><SigArg name=\"**kwargs\" />\n",
       "</SigArgSection>\n",
       "<Description summary=\"Trigger a new run for the deployed flow.\" />\n",
       "<ParamSection name=\"Parameters\">\n",
       "\t<Parameter name=\"**kwargs\" type=\"Any\" desc=\"Additional arguments to pass to the trigger command,\\n`Parameters` in particular.\" />\n",
       "</ParamSection>\n",
       "<ParamSection name=\"Returns\">\n",
       "\t<Parameter type=\"ArgoWorkflowsTriggeredRun\" desc=\"The triggered run instance.\" />\n",
       "</ParamSection>\n",
       "<ParamSection name=\"Raises\">\n",
       "\t<Parameter type=\"Exception\" desc=\"If there is an error during the trigger process.\" />\n",
       "</ParamSection>\n",
       "</DocSection>"
      ],
      "text/plain": [
       "<nbdoc.showdoc.ShowDoc at 0x112d65240>"
      ]
     },
     "execution_count": 7,
     "metadata": {},
     "output_type": "execute_result"
    }
   ],
   "source": [
    "ShowDoc(ArgoWorkflowsDeployedFlow.trigger)"
   ]
  },
  {
   "cell_type": "code",
   "execution_count": 8,
   "id": "0cdcc724",
   "metadata": {
    "execution": {
     "iopub.execute_input": "2024-11-05T04:49:36.537166Z",
     "iopub.status.busy": "2024-11-05T04:49:36.536927Z",
     "iopub.status.idle": "2024-11-05T04:49:36.543426Z",
     "shell.execute_reply": "2024-11-05T04:49:36.542638Z"
    }
   },
   "outputs": [
    {
     "data": {
      "text/html": [
       "<HTMLRemove>\n",
       "<h4> <code>method</code> <span style=\"color:Brown\">ArgoWorkflowsDeployedFlow.delete</span> <em>(self, **kwargs) -> bool</em><a href=\"https://github.com/Netflix/metaflow/tree/master/metaflow/plugins/argo/argo_workflows_deployer_objects.py#L276\" style=\"float:right\">[source]</a></h4><p><blockquote>Delete&nbsp;the&nbsp;deployed&nbsp;workflow&nbsp;template.<br><br>Parameters<br>----------<br>authorize&nbsp;:&nbsp;str,&nbsp;optional,&nbsp;default&nbsp;None<br>&nbsp;&nbsp;&nbsp;&nbsp;Authorize&nbsp;the&nbsp;deletion&nbsp;with&nbsp;a&nbsp;production&nbsp;token.<br><br>Returns<br>-------<br>bool<br>&nbsp;&nbsp;&nbsp;&nbsp;True&nbsp;if&nbsp;the&nbsp;command&nbsp;was&nbsp;successful,&nbsp;False&nbsp;otherwise.</blockquote></p>\n",
       "</HTMLRemove>\n",
       "<DocSection type=\"method\" name=\"ArgoWorkflowsDeployedFlow.delete\" module=\"metaflow\" show_import=\"False\" heading_level=\"4\" link=\"https://github.com/Netflix/metaflow/tree/master/metaflow/plugins/argo/argo_workflows_deployer_objects.py#L276\">\n",
       "<SigArgSection>\n",
       "<SigArg name=\"self\" /><SigArg name=\"**kwargs\" />\n",
       "</SigArgSection>\n",
       "<Description summary=\"Delete the deployed workflow template.\" />\n",
       "<ParamSection name=\"Parameters\">\n",
       "\t<Parameter name=\"authorize\" type=\"str, optional, default None\" desc=\"Authorize the deletion with a production token.\" />\n",
       "</ParamSection>\n",
       "<ParamSection name=\"Returns\">\n",
       "\t<Parameter type=\"bool\" desc=\"True if the command was successful, False otherwise.\" />\n",
       "</ParamSection>\n",
       "</DocSection>"
      ],
      "text/plain": [
       "<nbdoc.showdoc.ShowDoc at 0x112d64880>"
      ]
     },
     "execution_count": 8,
     "metadata": {},
     "output_type": "execute_result"
    }
   ],
   "source": [
    "ShowDoc(ArgoWorkflowsDeployedFlow.delete)"
   ]
  },
  {
   "cell_type": "markdown",
   "id": "5feab7c3",
   "metadata": {},
   "source": [
    "### Manage a run triggered on Argo Workflows with `ArgoWorkflowsTriggeredRun`"
   ]
  },
  {
   "cell_type": "code",
   "execution_count": 9,
   "id": "91ecd0e3",
   "metadata": {
    "execution": {
     "iopub.execute_input": "2024-11-05T04:49:36.551210Z",
     "iopub.status.busy": "2024-11-05T04:49:36.550963Z",
     "iopub.status.idle": "2024-11-05T04:49:36.557143Z",
     "shell.execute_reply": "2024-11-05T04:49:36.555788Z"
    },
    "scrolled": true
   },
   "outputs": [
    {
     "data": {
      "text/html": [
       "<HTMLRemove>\n",
       "<h4> <code>property</code> <span style=\"color:Brown\">TriggeredRun.run</span> <em></em><a href=\"https://github.com/Netflix/metaflow/tree/master/\" style=\"float:right\">[source]</a></h4><p><blockquote>Retrieve&nbsp;the&nbsp;`Run`&nbsp;object&nbsp;for&nbsp;the&nbsp;triggered&nbsp;run.<br><br>Note&nbsp;that&nbsp;Metaflow&nbsp;`Run`&nbsp;becomes&nbsp;available&nbsp;only&nbsp;when&nbsp;the&nbsp;`start`&nbsp;task<br>has&nbsp;started&nbsp;executing.<br><br>Returns<br>-------<br>Run,&nbsp;optional<br>&nbsp;&nbsp;&nbsp;&nbsp;Metaflow&nbsp;Run&nbsp;object&nbsp;if&nbsp;the&nbsp;`start`&nbsp;step&nbsp;has&nbsp;started&nbsp;executing,&nbsp;otherwise&nbsp;None.</blockquote></p>\n",
       "</HTMLRemove>\n",
       "<DocSection type=\"property\" name=\"TriggeredRun.run\" module=\"metaflow.runner.deployer\" show_import=\"False\" heading_level=\"4\" link=\"https://github.com/Netflix/metaflow/tree/master/\">\n",
       "\n",
       "<Description summary=\"Retrieve the `Run` object for the triggered run.\\n\\nNote that Metaflow `Run` becomes available only when the `start` task\\nhas started executing.\\n\" />\n",
       "<ParamSection name=\"Returns\">\n",
       "<Parameter type=\"Run, optional\" desc=\"Metaflow Run object if the `start` step has started executing, otherwise None.\" />\n",
       "</ParamSection>\n",
       "</DocSection>"
      ],
      "text/plain": [
       "<nbdoc.showdoc.ShowDoc at 0x112d647c0>"
      ]
     },
     "execution_count": 9,
     "metadata": {},
     "output_type": "execute_result"
    }
   ],
   "source": [
    "ShowDoc(ArgoWorkflowsTriggeredRun.run)"
   ]
  },
  {
   "cell_type": "code",
   "execution_count": 10,
   "id": "48a0300d",
   "metadata": {
    "execution": {
     "iopub.execute_input": "2024-11-05T04:49:36.564938Z",
     "iopub.status.busy": "2024-11-05T04:49:36.564478Z",
     "iopub.status.idle": "2024-11-05T04:49:36.570063Z",
     "shell.execute_reply": "2024-11-05T04:49:36.569184Z"
    },
    "scrolled": true
   },
   "outputs": [
    {
     "data": {
      "text/html": [
       "<HTMLRemove>\n",
       "<h4> <code>method</code> <span style=\"color:Brown\">ArgoWorkflowsTriggeredRun.terminate</span> <em>(self, **kwargs) -> bool</em><a href=\"https://github.com/Netflix/metaflow/tree/master/metaflow/plugins/argo/argo_workflows_deployer_objects.py#L136\" style=\"float:right\">[source]</a></h4><p><blockquote>Terminate&nbsp;the&nbsp;running&nbsp;workflow.<br><br>Parameters<br>----------<br>authorize&nbsp;:&nbsp;str,&nbsp;optional,&nbsp;default&nbsp;None<br>&nbsp;&nbsp;&nbsp;&nbsp;Authorize&nbsp;the&nbsp;termination&nbsp;with&nbsp;a&nbsp;production&nbsp;token.<br><br>Returns<br>-------<br>bool<br>&nbsp;&nbsp;&nbsp;&nbsp;True&nbsp;if&nbsp;the&nbsp;command&nbsp;was&nbsp;successful,&nbsp;False&nbsp;otherwise.</blockquote></p>\n",
       "</HTMLRemove>\n",
       "<DocSection type=\"method\" name=\"ArgoWorkflowsTriggeredRun.terminate\" module=\"metaflow\" show_import=\"False\" heading_level=\"4\" link=\"https://github.com/Netflix/metaflow/tree/master/metaflow/plugins/argo/argo_workflows_deployer_objects.py#L136\">\n",
       "<SigArgSection>\n",
       "<SigArg name=\"self\" /><SigArg name=\"**kwargs\" />\n",
       "</SigArgSection>\n",
       "<Description summary=\"Terminate the running workflow.\" />\n",
       "<ParamSection name=\"Parameters\">\n",
       "\t<Parameter name=\"authorize\" type=\"str, optional, default None\" desc=\"Authorize the termination with a production token.\" />\n",
       "</ParamSection>\n",
       "<ParamSection name=\"Returns\">\n",
       "\t<Parameter type=\"bool\" desc=\"True if the command was successful, False otherwise.\" />\n",
       "</ParamSection>\n",
       "</DocSection>"
      ],
      "text/plain": [
       "<nbdoc.showdoc.ShowDoc at 0x112d64850>"
      ]
     },
     "execution_count": 10,
     "metadata": {},
     "output_type": "execute_result"
    }
   ],
   "source": [
    "ShowDoc(ArgoWorkflowsTriggeredRun.terminate)"
   ]
  },
  {
   "cell_type": "code",
   "execution_count": 11,
   "id": "48a9708f",
   "metadata": {
    "execution": {
     "iopub.execute_input": "2024-11-05T04:49:36.575732Z",
     "iopub.status.busy": "2024-11-05T04:49:36.575487Z",
     "iopub.status.idle": "2024-11-05T04:49:36.580951Z",
     "shell.execute_reply": "2024-11-05T04:49:36.579932Z"
    },
    "scrolled": true
   },
   "outputs": [
    {
     "data": {
      "text/html": [
       "<HTMLRemove>\n",
       "<h4> <code>method</code> <span style=\"color:Brown\">ArgoWorkflowsTriggeredRun.suspend</span> <em>(self, **kwargs) -> bool</em><a href=\"https://github.com/Netflix/metaflow/tree/master/metaflow/plugins/argo/argo_workflows_deployer_objects.py#L68\" style=\"float:right\">[source]</a></h4><p><blockquote>Suspend&nbsp;the&nbsp;running&nbsp;workflow.<br><br>Parameters<br>----------<br>authorize&nbsp;:&nbsp;str,&nbsp;optional,&nbsp;default&nbsp;None<br>&nbsp;&nbsp;&nbsp;&nbsp;Authorize&nbsp;the&nbsp;suspension&nbsp;with&nbsp;a&nbsp;production&nbsp;token.<br><br>Returns<br>-------<br>bool<br>&nbsp;&nbsp;&nbsp;&nbsp;True&nbsp;if&nbsp;the&nbsp;command&nbsp;was&nbsp;successful,&nbsp;False&nbsp;otherwise.</blockquote></p>\n",
       "</HTMLRemove>\n",
       "<DocSection type=\"method\" name=\"ArgoWorkflowsTriggeredRun.suspend\" module=\"metaflow\" show_import=\"False\" heading_level=\"4\" link=\"https://github.com/Netflix/metaflow/tree/master/metaflow/plugins/argo/argo_workflows_deployer_objects.py#L68\">\n",
       "<SigArgSection>\n",
       "<SigArg name=\"self\" /><SigArg name=\"**kwargs\" />\n",
       "</SigArgSection>\n",
       "<Description summary=\"Suspend the running workflow.\" />\n",
       "<ParamSection name=\"Parameters\">\n",
       "\t<Parameter name=\"authorize\" type=\"str, optional, default None\" desc=\"Authorize the suspension with a production token.\" />\n",
       "</ParamSection>\n",
       "<ParamSection name=\"Returns\">\n",
       "\t<Parameter type=\"bool\" desc=\"True if the command was successful, False otherwise.\" />\n",
       "</ParamSection>\n",
       "</DocSection>"
      ],
      "text/plain": [
       "<nbdoc.showdoc.ShowDoc at 0x112d65210>"
      ]
     },
     "execution_count": 11,
     "metadata": {},
     "output_type": "execute_result"
    }
   ],
   "source": [
    "ShowDoc(ArgoWorkflowsTriggeredRun.suspend)"
   ]
  },
  {
   "cell_type": "code",
   "execution_count": 12,
   "id": "7979106a",
   "metadata": {
    "execution": {
     "iopub.execute_input": "2024-11-05T04:49:36.586491Z",
     "iopub.status.busy": "2024-11-05T04:49:36.585734Z",
     "iopub.status.idle": "2024-11-05T04:49:36.593263Z",
     "shell.execute_reply": "2024-11-05T04:49:36.592314Z"
    },
    "scrolled": true
   },
   "outputs": [
    {
     "data": {
      "text/html": [
       "<HTMLRemove>\n",
       "<h4> <code>method</code> <span style=\"color:Brown\">ArgoWorkflowsTriggeredRun.unsuspend</span> <em>(self, **kwargs) -> bool</em><a href=\"https://github.com/Netflix/metaflow/tree/master/metaflow/plugins/argo/argo_workflows_deployer_objects.py#L102\" style=\"float:right\">[source]</a></h4><p><blockquote>Unsuspend&nbsp;the&nbsp;suspended&nbsp;workflow.<br><br>Parameters<br>----------<br>authorize&nbsp;:&nbsp;str,&nbsp;optional,&nbsp;default&nbsp;None<br>&nbsp;&nbsp;&nbsp;&nbsp;Authorize&nbsp;the&nbsp;unsuspend&nbsp;with&nbsp;a&nbsp;production&nbsp;token.<br><br>Returns<br>-------<br>bool<br>&nbsp;&nbsp;&nbsp;&nbsp;True&nbsp;if&nbsp;the&nbsp;command&nbsp;was&nbsp;successful,&nbsp;False&nbsp;otherwise.</blockquote></p>\n",
       "</HTMLRemove>\n",
       "<DocSection type=\"method\" name=\"ArgoWorkflowsTriggeredRun.unsuspend\" module=\"metaflow\" show_import=\"False\" heading_level=\"4\" link=\"https://github.com/Netflix/metaflow/tree/master/metaflow/plugins/argo/argo_workflows_deployer_objects.py#L102\">\n",
       "<SigArgSection>\n",
       "<SigArg name=\"self\" /><SigArg name=\"**kwargs\" />\n",
       "</SigArgSection>\n",
       "<Description summary=\"Unsuspend the suspended workflow.\" />\n",
       "<ParamSection name=\"Parameters\">\n",
       "\t<Parameter name=\"authorize\" type=\"str, optional, default None\" desc=\"Authorize the unsuspend with a production token.\" />\n",
       "</ParamSection>\n",
       "<ParamSection name=\"Returns\">\n",
       "\t<Parameter type=\"bool\" desc=\"True if the command was successful, False otherwise.\" />\n",
       "</ParamSection>\n",
       "</DocSection>"
      ],
      "text/plain": [
       "<nbdoc.showdoc.ShowDoc at 0x112d651e0>"
      ]
     },
     "execution_count": 12,
     "metadata": {},
     "output_type": "execute_result"
    }
   ],
   "source": [
    "ShowDoc(ArgoWorkflowsTriggeredRun.unsuspend)"
   ]
  },
  {
   "cell_type": "code",
   "execution_count": 13,
   "id": "7e7a5516",
   "metadata": {
    "execution": {
     "iopub.execute_input": "2024-11-05T04:49:36.600298Z",
     "iopub.status.busy": "2024-11-05T04:49:36.599905Z",
     "iopub.status.idle": "2024-11-05T04:49:36.604958Z",
     "shell.execute_reply": "2024-11-05T04:49:36.603812Z"
    }
   },
   "outputs": [
    {
     "data": {
      "text/html": [
       "<HTMLRemove>\n",
       "<h4> <code>property</code> <span style=\"color:Brown\">ArgoWorkflowsTriggeredRun.status</span> <em></em><a href=\"https://github.com/Netflix/metaflow/tree/master/\" style=\"float:right\">[source]</a></h4><p><blockquote>Get&nbsp;the&nbsp;status&nbsp;of&nbsp;the&nbsp;triggered&nbsp;run.<br><br>Returns<br>-------<br>str,&nbsp;optional<br>&nbsp;&nbsp;&nbsp;&nbsp;The&nbsp;status&nbsp;of&nbsp;the&nbsp;workflow&nbsp;considering&nbsp;the&nbsp;run&nbsp;object,&nbsp;or&nbsp;None&nbsp;if<br>&nbsp;&nbsp;&nbsp;&nbsp;the&nbsp;status&nbsp;could&nbsp;not&nbsp;be&nbsp;retrieved.</blockquote></p>\n",
       "</HTMLRemove>\n",
       "<DocSection type=\"property\" name=\"ArgoWorkflowsTriggeredRun.status\" module=\"metaflow.plugins.argo.argo_workflows_deployer_objects\" show_import=\"False\" heading_level=\"4\" link=\"https://github.com/Netflix/metaflow/tree/master/\">\n",
       "\n",
       "<Description summary=\"Get the status of the triggered run.\\n\" />\n",
       "</DocSection>"
      ],
      "text/plain": [
       "<nbdoc.showdoc.ShowDoc at 0x112d64790>"
      ]
     },
     "execution_count": 13,
     "metadata": {},
     "output_type": "execute_result"
    }
   ],
   "source": [
    "ShowDoc(ArgoWorkflowsTriggeredRun.status)"
   ]
  },
  {
   "cell_type": "markdown",
   "id": "8d9ae378",
   "metadata": {},
   "source": [
    "## Deploy Step Functions with `StepFunctionsDeployer`"
   ]
  },
  {
   "cell_type": "code",
   "execution_count": 14,
   "id": "834cf398",
   "metadata": {
    "execution": {
     "iopub.execute_input": "2024-11-05T04:49:36.613501Z",
     "iopub.status.busy": "2024-11-05T04:49:36.613292Z",
     "iopub.status.idle": "2024-11-05T04:49:36.622167Z",
     "shell.execute_reply": "2024-11-05T04:49:36.621206Z"
    }
   },
   "outputs": [
    {
     "data": {
      "text/html": [
       "<HTMLRemove>\n",
       "<h4> <code>method</code> <span style=\"color:Brown\">StepFunctionsDeployer.create</span> <em>(self, **kwargs) -> 'metaflow.plugins.aws.step_functions.step_functions_deployer_objects.StepFunctionsDeployedFlow'</em><a href=\"https://github.com/Netflix/metaflow/tree/master/metaflow/plugins/aws/step_functions/step_functions_deployer.py#L49\" style=\"float:right\">[source]</a></h4><p><blockquote>Create&nbsp;a&nbsp;new&nbsp;AWS&nbsp;Step&nbsp;Functions&nbsp;State&nbsp;Machine&nbsp;deployment.<br><br>Parameters<br>----------<br>authorize&nbsp;:&nbsp;str,&nbsp;optional,&nbsp;default&nbsp;None<br>&nbsp;&nbsp;&nbsp;&nbsp;Authorize&nbsp;using&nbsp;this&nbsp;production&nbsp;token.&nbsp;Required&nbsp;when&nbsp;re-deploying&nbsp;an&nbsp;existing&nbsp;flow<br>&nbsp;&nbsp;&nbsp;&nbsp;for&nbsp;the&nbsp;first&nbsp;time.&nbsp;The&nbsp;token&nbsp;is&nbsp;cached&nbsp;in&nbsp;METAFLOW_HOME.<br>generate_new_token&nbsp;:&nbsp;bool,&nbsp;optional,&nbsp;default&nbsp;False<br>&nbsp;&nbsp;&nbsp;&nbsp;Generate&nbsp;a&nbsp;new&nbsp;production&nbsp;token&nbsp;for&nbsp;this&nbsp;flow.&nbsp;Moves&nbsp;the&nbsp;production&nbsp;flow&nbsp;to&nbsp;a&nbsp;new&nbsp;namespace.<br>given_token&nbsp;:&nbsp;str,&nbsp;optional,&nbsp;default&nbsp;None<br>&nbsp;&nbsp;&nbsp;&nbsp;Use&nbsp;the&nbsp;given&nbsp;production&nbsp;token&nbsp;for&nbsp;this&nbsp;flow.&nbsp;Moves&nbsp;the&nbsp;production&nbsp;flow&nbsp;to&nbsp;the&nbsp;given&nbsp;namespace.<br>tags&nbsp;:&nbsp;List[str],&nbsp;optional,&nbsp;default&nbsp;None<br>&nbsp;&nbsp;&nbsp;&nbsp;Annotate&nbsp;all&nbsp;objects&nbsp;produced&nbsp;by&nbsp;AWS&nbsp;Step&nbsp;Functions&nbsp;runs&nbsp;with&nbsp;these&nbsp;tags.<br>user_namespace&nbsp;:&nbsp;str,&nbsp;optional,&nbsp;default&nbsp;None<br>&nbsp;&nbsp;&nbsp;&nbsp;Change&nbsp;the&nbsp;namespace&nbsp;from&nbsp;the&nbsp;default&nbsp;(production&nbsp;token)&nbsp;to&nbsp;the&nbsp;given&nbsp;tag.<br>only_json&nbsp;:&nbsp;bool,&nbsp;optional,&nbsp;default&nbsp;False<br>&nbsp;&nbsp;&nbsp;&nbsp;Only&nbsp;print&nbsp;out&nbsp;JSON&nbsp;sent&nbsp;to&nbsp;AWS&nbsp;Step&nbsp;Functions&nbsp;without&nbsp;deploying&nbsp;anything.<br>max_workers&nbsp;:&nbsp;int,&nbsp;optional,&nbsp;default&nbsp;100<br>&nbsp;&nbsp;&nbsp;&nbsp;Maximum&nbsp;number&nbsp;of&nbsp;parallel&nbsp;processes.<br>workflow_timeout&nbsp;:&nbsp;int,&nbsp;optional,&nbsp;default&nbsp;None<br>&nbsp;&nbsp;&nbsp;&nbsp;Workflow&nbsp;timeout&nbsp;in&nbsp;seconds.<br>log_execution_history&nbsp;:&nbsp;bool,&nbsp;optional,&nbsp;default&nbsp;False<br>&nbsp;&nbsp;&nbsp;&nbsp;Log&nbsp;AWS&nbsp;Step&nbsp;Functions&nbsp;execution&nbsp;history&nbsp;to&nbsp;AWS&nbsp;CloudWatch&nbsp;Logs&nbsp;log&nbsp;group.<br>use_distributed_map&nbsp;:&nbsp;bool,&nbsp;optional,&nbsp;default&nbsp;False<br>&nbsp;&nbsp;&nbsp;&nbsp;Use&nbsp;AWS&nbsp;Step&nbsp;Functions&nbsp;Distributed&nbsp;Map&nbsp;instead&nbsp;of&nbsp;Inline&nbsp;Map&nbsp;for&nbsp;defining&nbsp;foreach<br>&nbsp;&nbsp;&nbsp;&nbsp;tasks&nbsp;in&nbsp;Amazon&nbsp;State&nbsp;Language.<br>deployer_attribute_file&nbsp;:&nbsp;str,&nbsp;optional,&nbsp;default&nbsp;None<br>&nbsp;&nbsp;&nbsp;&nbsp;Write&nbsp;the&nbsp;workflow&nbsp;name&nbsp;to&nbsp;the&nbsp;specified&nbsp;file.&nbsp;Used&nbsp;internally&nbsp;for&nbsp;Metaflow's&nbsp;Deployer&nbsp;API.<br><br>Returns<br>-------<br>StepFunctionsDeployedFlow<br>&nbsp;&nbsp;&nbsp;&nbsp;The&nbsp;Flow&nbsp;deployed&nbsp;to&nbsp;AWS&nbsp;Step&nbsp;Functions.</blockquote></p>\n",
       "</HTMLRemove>\n",
       "<DocSection type=\"method\" name=\"StepFunctionsDeployer.create\" module=\"metaflow\" show_import=\"False\" heading_level=\"4\" link=\"https://github.com/Netflix/metaflow/tree/master/metaflow/plugins/aws/step_functions/step_functions_deployer.py#L49\">\n",
       "<SigArgSection>\n",
       "<SigArg name=\"self\" /><SigArg name=\"**kwargs\" />\n",
       "</SigArgSection>\n",
       "<Description summary=\"Create a new AWS Step Functions State Machine deployment.\" />\n",
       "<ParamSection name=\"Parameters\">\n",
       "\t<Parameter name=\"authorize\" type=\"str, optional, default None\" desc=\"Authorize using this production token. Required when re-deploying an existing flow\\nfor the first time. The token is cached in METAFLOW_HOME.\" />\n",
       "\t<Parameter name=\"generate_new_token\" type=\"bool, optional, default False\" desc=\"Generate a new production token for this flow. Moves the production flow to a new namespace.\" />\n",
       "\t<Parameter name=\"given_token\" type=\"str, optional, default None\" desc=\"Use the given production token for this flow. Moves the production flow to the given namespace.\" />\n",
       "\t<Parameter name=\"tags\" type=\"List[str], optional, default None\" desc=\"Annotate all objects produced by AWS Step Functions runs with these tags.\" />\n",
       "\t<Parameter name=\"user_namespace\" type=\"str, optional, default None\" desc=\"Change the namespace from the default (production token) to the given tag.\" />\n",
       "\t<Parameter name=\"only_json\" type=\"bool, optional, default False\" desc=\"Only print out JSON sent to AWS Step Functions without deploying anything.\" />\n",
       "\t<Parameter name=\"max_workers\" type=\"int, optional, default 100\" desc=\"Maximum number of parallel processes.\" />\n",
       "\t<Parameter name=\"workflow_timeout\" type=\"int, optional, default None\" desc=\"Workflow timeout in seconds.\" />\n",
       "\t<Parameter name=\"log_execution_history\" type=\"bool, optional, default False\" desc=\"Log AWS Step Functions execution history to AWS CloudWatch Logs log group.\" />\n",
       "\t<Parameter name=\"use_distributed_map\" type=\"bool, optional, default False\" desc=\"Use AWS Step Functions Distributed Map instead of Inline Map for defining foreach\\ntasks in Amazon State Language.\" />\n",
       "\t<Parameter name=\"deployer_attribute_file\" type=\"str, optional, default None\" desc=\"Write the workflow name to the specified file. Used internally for Metaflow's Deployer API.\" />\n",
       "</ParamSection>\n",
       "<ParamSection name=\"Returns\">\n",
       "\t<Parameter type=\"StepFunctionsDeployedFlow\" desc=\"The Flow deployed to AWS Step Functions.\" />\n",
       "</ParamSection>\n",
       "</DocSection>"
      ],
      "text/plain": [
       "<nbdoc.showdoc.ShowDoc at 0x112d02e90>"
      ]
     },
     "execution_count": 14,
     "metadata": {},
     "output_type": "execute_result"
    }
   ],
   "source": [
    "from metaflow.plugins.aws.step_functions.step_functions_deployer_objects import StepFunctionsTriggeredRun\n",
    "from metaflow.plugins.aws.step_functions.step_functions_deployer_objects import StepFunctionsDeployedFlow\n",
    "from metaflow.plugins.aws.step_functions.step_functions_deployer import StepFunctionsDeployer\n",
    "\n",
    "ShowDoc(StepFunctionsDeployer.create)"
   ]
  },
  {
   "cell_type": "markdown",
   "id": "27e0e3fa",
   "metadata": {},
   "source": [
    "### Manage a flow deployed on Step Functions with `StepFunctionsDeployedFlow`"
   ]
  },
  {
   "cell_type": "code",
   "execution_count": 15,
   "id": "0dddad99",
   "metadata": {
    "execution": {
     "iopub.execute_input": "2024-11-05T04:49:36.627329Z",
     "iopub.status.busy": "2024-11-05T04:49:36.626963Z",
     "iopub.status.idle": "2024-11-05T04:49:36.631407Z",
     "shell.execute_reply": "2024-11-05T04:49:36.630594Z"
    }
   },
   "outputs": [
    {
     "data": {
      "text/html": [
       "<HTMLRemove>\n",
       "<h4> <code>property</code> <span style=\"color:Brown\">StepFunctionsDeployedFlow.production_token</span> <em></em><a href=\"https://github.com/Netflix/metaflow/tree/master/\" style=\"float:right\">[source]</a></h4><p><blockquote>Get&nbsp;the&nbsp;production&nbsp;token&nbsp;for&nbsp;the&nbsp;deployed&nbsp;flow.<br><br>Returns<br>-------<br>str,&nbsp;optional<br>&nbsp;&nbsp;&nbsp;&nbsp;The&nbsp;production&nbsp;token,&nbsp;None&nbsp;if&nbsp;it&nbsp;cannot&nbsp;be&nbsp;retrieved.</blockquote></p>\n",
       "</HTMLRemove>\n",
       "<DocSection type=\"property\" name=\"StepFunctionsDeployedFlow.production_token\" module=\"metaflow.plugins.aws.step_functions.step_functions_deployer_objects\" show_import=\"False\" heading_level=\"4\" link=\"https://github.com/Netflix/metaflow/tree/master/\">\n",
       "\n",
       "<Description summary=\"Get the production token for the deployed flow.\\n\" />\n",
       "<ParamSection name=\"Returns\">\n",
       "<Parameter type=\"str, optional\" desc=\"The production token, None if it cannot be retrieved.\" />\n",
       "</ParamSection>\n",
       "</DocSection>"
      ],
      "text/plain": [
       "<nbdoc.showdoc.ShowDoc at 0x112d66530>"
      ]
     },
     "execution_count": 15,
     "metadata": {},
     "output_type": "execute_result"
    }
   ],
   "source": [
    "ShowDoc(StepFunctionsDeployedFlow.production_token)"
   ]
  },
  {
   "cell_type": "code",
   "execution_count": 16,
   "id": "4fa049eb",
   "metadata": {
    "execution": {
     "iopub.execute_input": "2024-11-05T04:49:36.640265Z",
     "iopub.status.busy": "2024-11-05T04:49:36.639734Z",
     "iopub.status.idle": "2024-11-05T04:49:36.647171Z",
     "shell.execute_reply": "2024-11-05T04:49:36.646306Z"
    }
   },
   "outputs": [
    {
     "data": {
      "text/html": [
       "<HTMLRemove>\n",
       "<h4> <code>method</code> <span style=\"color:Brown\">StepFunctionsDeployedFlow.trigger</span> <em>(self, **kwargs) -> metaflow.plugins.aws.step_functions.step_functions_deployer_objects.StepFunctionsTriggeredRun</em><a href=\"https://github.com/Netflix/metaflow/tree/master/metaflow/plugins/aws/step_functions/step_functions_deployer_objects.py#L171\" style=\"float:right\">[source]</a></h4><p><blockquote>Trigger&nbsp;a&nbsp;new&nbsp;run&nbsp;for&nbsp;the&nbsp;deployed&nbsp;flow.<br><br>Parameters<br>----------<br>**kwargs&nbsp;:&nbsp;Any<br>&nbsp;&nbsp;&nbsp;&nbsp;Additional&nbsp;arguments&nbsp;to&nbsp;pass&nbsp;to&nbsp;the&nbsp;trigger&nbsp;command,<br>&nbsp;&nbsp;&nbsp;&nbsp;`Parameters`&nbsp;in&nbsp;particular<br><br>Returns<br>-------<br>StepFunctionsTriggeredRun<br>&nbsp;&nbsp;&nbsp;&nbsp;The&nbsp;triggered&nbsp;run&nbsp;instance.<br><br>Raises<br>------<br>Exception<br>&nbsp;&nbsp;&nbsp;&nbsp;If&nbsp;there&nbsp;is&nbsp;an&nbsp;error&nbsp;during&nbsp;the&nbsp;trigger&nbsp;process.</blockquote></p>\n",
       "</HTMLRemove>\n",
       "<DocSection type=\"method\" name=\"StepFunctionsDeployedFlow.trigger\" module=\"metaflow\" show_import=\"False\" heading_level=\"4\" link=\"https://github.com/Netflix/metaflow/tree/master/metaflow/plugins/aws/step_functions/step_functions_deployer_objects.py#L171\">\n",
       "<SigArgSection>\n",
       "<SigArg name=\"self\" /><SigArg name=\"**kwargs\" />\n",
       "</SigArgSection>\n",
       "<Description summary=\"Trigger a new run for the deployed flow.\" />\n",
       "<ParamSection name=\"Parameters\">\n",
       "\t<Parameter name=\"**kwargs\" type=\"Any\" desc=\"Additional arguments to pass to the trigger command,\\n`Parameters` in particular\" />\n",
       "</ParamSection>\n",
       "<ParamSection name=\"Returns\">\n",
       "\t<Parameter type=\"StepFunctionsTriggeredRun\" desc=\"The triggered run instance.\" />\n",
       "</ParamSection>\n",
       "<ParamSection name=\"Raises\">\n",
       "\t<Parameter type=\"Exception\" desc=\"If there is an error during the trigger process.\" />\n",
       "</ParamSection>\n",
       "</DocSection>"
      ],
      "text/plain": [
       "<nbdoc.showdoc.ShowDoc at 0x112d66650>"
      ]
     },
     "execution_count": 16,
     "metadata": {},
     "output_type": "execute_result"
    }
   ],
   "source": [
    "ShowDoc(StepFunctionsDeployedFlow.trigger)"
   ]
  },
  {
   "cell_type": "code",
   "execution_count": 17,
   "id": "f4f2d783",
   "metadata": {
    "execution": {
     "iopub.execute_input": "2024-11-05T04:49:36.655817Z",
     "iopub.status.busy": "2024-11-05T04:49:36.655552Z",
     "iopub.status.idle": "2024-11-05T04:49:36.660966Z",
     "shell.execute_reply": "2024-11-05T04:49:36.659976Z"
    }
   },
   "outputs": [
    {
     "data": {
      "text/html": [
       "<HTMLRemove>\n",
       "<h4> <code>method</code> <span style=\"color:Brown\">StepFunctionsDeployedFlow.delete</span> <em>(self, **kwargs) -> bool</em><a href=\"https://github.com/Netflix/metaflow/tree/master/metaflow/plugins/aws/step_functions/step_functions_deployer_objects.py#L140\" style=\"float:right\">[source]</a></h4><p><blockquote>Delete&nbsp;the&nbsp;deployed&nbsp;state&nbsp;machine.<br><br>Parameters<br>----------<br>authorize&nbsp;:&nbsp;str,&nbsp;optional,&nbsp;default&nbsp;None<br>&nbsp;&nbsp;&nbsp;&nbsp;Authorize&nbsp;the&nbsp;deletion&nbsp;with&nbsp;a&nbsp;production&nbsp;token.<br><br>Returns<br>-------<br>bool<br>&nbsp;&nbsp;&nbsp;&nbsp;True&nbsp;if&nbsp;the&nbsp;command&nbsp;was&nbsp;successful,&nbsp;False&nbsp;otherwise.</blockquote></p>\n",
       "</HTMLRemove>\n",
       "<DocSection type=\"method\" name=\"StepFunctionsDeployedFlow.delete\" module=\"metaflow\" show_import=\"False\" heading_level=\"4\" link=\"https://github.com/Netflix/metaflow/tree/master/metaflow/plugins/aws/step_functions/step_functions_deployer_objects.py#L140\">\n",
       "<SigArgSection>\n",
       "<SigArg name=\"self\" /><SigArg name=\"**kwargs\" />\n",
       "</SigArgSection>\n",
       "<Description summary=\"Delete the deployed state machine.\" />\n",
       "<ParamSection name=\"Parameters\">\n",
       "\t<Parameter name=\"authorize\" type=\"str, optional, default None\" desc=\"Authorize the deletion with a production token.\" />\n",
       "</ParamSection>\n",
       "<ParamSection name=\"Returns\">\n",
       "\t<Parameter type=\"bool\" desc=\"True if the command was successful, False otherwise.\" />\n",
       "</ParamSection>\n",
       "</DocSection>"
      ],
      "text/plain": [
       "<nbdoc.showdoc.ShowDoc at 0x112d65f30>"
      ]
     },
     "execution_count": 17,
     "metadata": {},
     "output_type": "execute_result"
    }
   ],
   "source": [
    "ShowDoc(StepFunctionsDeployedFlow.delete)"
   ]
  },
  {
   "cell_type": "code",
   "execution_count": 18,
   "id": "a88c5e2d",
   "metadata": {
    "execution": {
     "iopub.execute_input": "2024-11-05T04:49:36.668385Z",
     "iopub.status.busy": "2024-11-05T04:49:36.668026Z",
     "iopub.status.idle": "2024-11-05T04:49:36.674199Z",
     "shell.execute_reply": "2024-11-05T04:49:36.673463Z"
    }
   },
   "outputs": [
    {
     "data": {
      "text/html": [
       "<HTMLRemove>\n",
       "<h4> <code>method</code> <span style=\"color:Brown\">StepFunctionsDeployedFlow.list_runs</span> <em>(self, states: Optional[List[str]] = None) -> List[metaflow.plugins.aws.step_functions.step_functions_deployer_objects.StepFunctionsTriggeredRun]</em><a href=\"https://github.com/Netflix/metaflow/tree/master/metaflow/plugins/aws/step_functions/step_functions_deployer_objects.py#L83\" style=\"float:right\">[source]</a></h4><p><blockquote>List&nbsp;runs&nbsp;of&nbsp;the&nbsp;deployed&nbsp;flow.<br><br>Parameters<br>----------<br>states&nbsp;:&nbsp;List[str],&nbsp;optional,&nbsp;default&nbsp;None<br>&nbsp;&nbsp;&nbsp;&nbsp;A&nbsp;list&nbsp;of&nbsp;states&nbsp;to&nbsp;filter&nbsp;the&nbsp;runs&nbsp;by.&nbsp;Allowed&nbsp;values&nbsp;are:<br>&nbsp;&nbsp;&nbsp;&nbsp;RUNNING,&nbsp;SUCCEEDED,&nbsp;FAILED,&nbsp;TIMED_OUT,&nbsp;ABORTED.<br>&nbsp;&nbsp;&nbsp;&nbsp;If&nbsp;not&nbsp;provided,&nbsp;all&nbsp;states&nbsp;will&nbsp;be&nbsp;considered.<br><br>Returns<br>-------<br>List[StepFunctionsTriggeredRun]<br>&nbsp;&nbsp;&nbsp;&nbsp;A&nbsp;list&nbsp;of&nbsp;TriggeredRun&nbsp;objects&nbsp;representing&nbsp;the&nbsp;runs&nbsp;of&nbsp;the&nbsp;deployed&nbsp;flow.<br><br>Raises<br>------<br>ValueError<br>&nbsp;&nbsp;&nbsp;&nbsp;If&nbsp;any&nbsp;of&nbsp;the&nbsp;provided&nbsp;states&nbsp;are&nbsp;invalid&nbsp;or&nbsp;if&nbsp;there&nbsp;are&nbsp;duplicate&nbsp;states.</blockquote></p>\n",
       "</HTMLRemove>\n",
       "<DocSection type=\"method\" name=\"StepFunctionsDeployedFlow.list_runs\" module=\"metaflow\" show_import=\"False\" heading_level=\"4\" link=\"https://github.com/Netflix/metaflow/tree/master/metaflow/plugins/aws/step_functions/step_functions_deployer_objects.py#L83\">\n",
       "<SigArgSection>\n",
       "<SigArg name=\"self\" /><SigArg name=\"states\" type=\"Optional\" default=\"None\" />\n",
       "</SigArgSection>\n",
       "<Description summary=\"List runs of the deployed flow.\" />\n",
       "<ParamSection name=\"Parameters\">\n",
       "\t<Parameter name=\"states\" type=\"List[str], optional, default None\" desc=\"A list of states to filter the runs by. Allowed values are:\\nRUNNING, SUCCEEDED, FAILED, TIMED_OUT, ABORTED.\\nIf not provided, all states will be considered.\" />\n",
       "</ParamSection>\n",
       "<ParamSection name=\"Returns\">\n",
       "\t<Parameter type=\"List[StepFunctionsTriggeredRun]\" desc=\"A list of TriggeredRun objects representing the runs of the deployed flow.\" />\n",
       "</ParamSection>\n",
       "<ParamSection name=\"Raises\">\n",
       "\t<Parameter type=\"ValueError\" desc=\"If any of the provided states are invalid or if there are duplicate states.\" />\n",
       "</ParamSection>\n",
       "</DocSection>"
      ],
      "text/plain": [
       "<nbdoc.showdoc.ShowDoc at 0x112d65db0>"
      ]
     },
     "execution_count": 18,
     "metadata": {},
     "output_type": "execute_result"
    }
   ],
   "source": [
    "ShowDoc(StepFunctionsDeployedFlow.list_runs)"
   ]
  },
  {
   "cell_type": "markdown",
   "id": "699d0ec4",
   "metadata": {},
   "source": [
    "### Manage a run triggered on Step Functions with `StepFunctionsTriggeredRun`"
   ]
  },
  {
   "cell_type": "code",
   "execution_count": 19,
   "id": "a4ab8559",
   "metadata": {
    "execution": {
     "iopub.execute_input": "2024-11-05T04:49:36.683686Z",
     "iopub.status.busy": "2024-11-05T04:49:36.683370Z",
     "iopub.status.idle": "2024-11-05T04:49:36.689699Z",
     "shell.execute_reply": "2024-11-05T04:49:36.687674Z"
    }
   },
   "outputs": [
    {
     "data": {
      "text/html": [
       "<HTMLRemove>\n",
       "<h4> <code>property</code> <span style=\"color:Brown\">TriggeredRun.run</span> <em></em><a href=\"https://github.com/Netflix/metaflow/tree/master/\" style=\"float:right\">[source]</a></h4><p><blockquote>Retrieve&nbsp;the&nbsp;`Run`&nbsp;object&nbsp;for&nbsp;the&nbsp;triggered&nbsp;run.<br><br>Note&nbsp;that&nbsp;Metaflow&nbsp;`Run`&nbsp;becomes&nbsp;available&nbsp;only&nbsp;when&nbsp;the&nbsp;`start`&nbsp;task<br>has&nbsp;started&nbsp;executing.<br><br>Returns<br>-------<br>Run,&nbsp;optional<br>&nbsp;&nbsp;&nbsp;&nbsp;Metaflow&nbsp;Run&nbsp;object&nbsp;if&nbsp;the&nbsp;`start`&nbsp;step&nbsp;has&nbsp;started&nbsp;executing,&nbsp;otherwise&nbsp;None.</blockquote></p>\n",
       "</HTMLRemove>\n",
       "<DocSection type=\"property\" name=\"TriggeredRun.run\" module=\"metaflow.runner.deployer\" show_import=\"False\" heading_level=\"4\" link=\"https://github.com/Netflix/metaflow/tree/master/\">\n",
       "\n",
       "<Description summary=\"Retrieve the `Run` object for the triggered run.\\n\\nNote that Metaflow `Run` becomes available only when the `start` task\\nhas started executing.\\n\" />\n",
       "<ParamSection name=\"Returns\">\n",
       "<Parameter type=\"Run, optional\" desc=\"Metaflow Run object if the `start` step has started executing, otherwise None.\" />\n",
       "</ParamSection>\n",
       "</DocSection>"
      ],
      "text/plain": [
       "<nbdoc.showdoc.ShowDoc at 0x112d666e0>"
      ]
     },
     "execution_count": 19,
     "metadata": {},
     "output_type": "execute_result"
    }
   ],
   "source": [
    "ShowDoc(StepFunctionsTriggeredRun.run)"
   ]
  },
  {
   "cell_type": "code",
   "execution_count": 20,
   "id": "5e2ec6b7",
   "metadata": {
    "execution": {
     "iopub.execute_input": "2024-11-05T04:49:36.697346Z",
     "iopub.status.busy": "2024-11-05T04:49:36.697097Z",
     "iopub.status.idle": "2024-11-05T04:49:36.704126Z",
     "shell.execute_reply": "2024-11-05T04:49:36.702806Z"
    }
   },
   "outputs": [
    {
     "data": {
      "text/html": [
       "<HTMLRemove>\n",
       "<h4> <code>method</code> <span style=\"color:Brown\">StepFunctionsTriggeredRun.terminate</span> <em>(self, **kwargs) -> bool</em><a href=\"https://github.com/Netflix/metaflow/tree/master/metaflow/plugins/aws/step_functions/step_functions_deployer_objects.py#L17\" style=\"float:right\">[source]</a></h4><p><blockquote>Terminate&nbsp;the&nbsp;running&nbsp;state&nbsp;machine&nbsp;execution.<br><br>Parameters<br>----------<br>authorize&nbsp;:&nbsp;str,&nbsp;optional,&nbsp;default&nbsp;None<br>&nbsp;&nbsp;&nbsp;&nbsp;Authorize&nbsp;the&nbsp;termination&nbsp;with&nbsp;a&nbsp;production&nbsp;token.<br><br>Returns<br>-------<br>bool<br>&nbsp;&nbsp;&nbsp;&nbsp;True&nbsp;if&nbsp;the&nbsp;command&nbsp;was&nbsp;successful,&nbsp;False&nbsp;otherwise.</blockquote></p>\n",
       "</HTMLRemove>\n",
       "<DocSection type=\"method\" name=\"StepFunctionsTriggeredRun.terminate\" module=\"metaflow\" show_import=\"False\" heading_level=\"4\" link=\"https://github.com/Netflix/metaflow/tree/master/metaflow/plugins/aws/step_functions/step_functions_deployer_objects.py#L17\">\n",
       "<SigArgSection>\n",
       "<SigArg name=\"self\" /><SigArg name=\"**kwargs\" />\n",
       "</SigArgSection>\n",
       "<Description summary=\"Terminate the running state machine execution.\" />\n",
       "<ParamSection name=\"Parameters\">\n",
       "\t<Parameter name=\"authorize\" type=\"str, optional, default None\" desc=\"Authorize the termination with a production token.\" />\n",
       "</ParamSection>\n",
       "<ParamSection name=\"Returns\">\n",
       "\t<Parameter type=\"bool\" desc=\"True if the command was successful, False otherwise.\" />\n",
       "</ParamSection>\n",
       "</DocSection>"
      ],
      "text/plain": [
       "<nbdoc.showdoc.ShowDoc at 0x112d65660>"
      ]
     },
     "execution_count": 20,
     "metadata": {},
     "output_type": "execute_result"
    }
   ],
   "source": [
    "ShowDoc(StepFunctionsTriggeredRun.terminate)"
   ]
  },
  {
   "cell_type": "code",
   "execution_count": null,
   "id": "a03b8aab",
   "metadata": {},
   "outputs": [],
   "source": []
  }
 ],
 "metadata": {
  "kernelspec": {
   "display_name": "Python 3 (ipykernel)",
   "language": "python",
   "name": "python3"
  },
  "language_info": {
   "codemirror_mode": {
    "name": "ipython",
    "version": 3
   },
   "file_extension": ".py",
   "mimetype": "text/x-python",
   "name": "python",
   "nbconvert_exporter": "python",
   "pygments_lexer": "ipython3",
   "version": "3.10.13"
  }
 },
 "nbformat": 4,
 "nbformat_minor": 5
}
