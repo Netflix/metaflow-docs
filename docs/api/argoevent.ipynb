{
 "cells": [
  {
   "cell_type": "markdown",
   "id": "eb7388b6",
   "metadata": {},
   "source": [
    "# ArgoEvent - Create events to trigger flows\n",
    "\n",
    "This class is mainly used **outside** Metaflow flows to create events that trigger Metaflow flows. For instance,\n",
    "you can use this class inside a non-Metaflow ETL pipeline or a microservice to trigger a Metaflow execution.\n",
    "\n",
    "Note that this class assumes that you have an appropriate Metaflow configuration available. Make sure to copy the config file in any environment where this class is being used.\n",
    "\n",
    "Read more in [Triggering Flows Based on External Events](/production/event-triggering/external-events)."
   ]
  },
  {
   "cell_type": "code",
   "execution_count": 1,
   "id": "623be2bc",
   "metadata": {
    "execution": {
     "iopub.execute_input": "2024-11-05T04:49:38.992658Z",
     "iopub.status.busy": "2024-11-05T04:49:38.992468Z",
     "iopub.status.idle": "2024-11-05T04:49:39.292418Z",
     "shell.execute_reply": "2024-11-05T04:49:39.292092Z"
    }
   },
   "outputs": [],
   "source": [
    "#meta:tag=hide\n",
    "from functools import partial\n",
    "from nbdoc.showdoc import ShowDoc as SD\n",
    "ShowDoc = partial(SD, module_nm='metaflow.integrations')\n",
    "\n",
    "from metaflow.integrations import ArgoEvent"
   ]
  },
  {
   "cell_type": "code",
   "execution_count": 2,
   "id": "1bf3f08e",
   "metadata": {
    "execution": {
     "iopub.execute_input": "2024-11-05T04:49:39.295375Z",
     "iopub.status.busy": "2024-11-05T04:49:39.295113Z",
     "iopub.status.idle": "2024-11-05T04:49:39.301562Z",
     "shell.execute_reply": "2024-11-05T04:49:39.301310Z"
    }
   },
   "outputs": [
    {
     "data": {
      "text/html": [
       "<HTMLRemove>\n",
       "<h3> <code>class</code> <span style=\"color:Brown\">ArgoEvent</span> <em>name, url=None, payload={}</em><a href=\"https://github.com/Netflix/metaflow/tree/master/metaflow/plugins/argo/argo_events.py#L21\" style=\"float:right\">[source]</a></h3><strong>metaflow.integrations</strong><p><blockquote>ArgoEvent&nbsp;is&nbsp;a&nbsp;small&nbsp;event,&nbsp;a&nbsp;message,&nbsp;that&nbsp;can&nbsp;be&nbsp;published&nbsp;to&nbsp;Argo&nbsp;Workflows.&nbsp;The<br>event&nbsp;will&nbsp;eventually&nbsp;start&nbsp;all&nbsp;flows&nbsp;which&nbsp;have&nbsp;been&nbsp;previously&nbsp;deployed&nbsp;with&nbsp;`@trigger`<br>to&nbsp;wait&nbsp;for&nbsp;this&nbsp;particular&nbsp;named&nbsp;event.<br><br>Parameters<br>----------<br>name&nbsp;:&nbsp;str,<br>&nbsp;&nbsp;&nbsp;&nbsp;Name&nbsp;of&nbsp;the&nbsp;event<br>url&nbsp;:&nbsp;str,&nbsp;optional<br>&nbsp;&nbsp;&nbsp;&nbsp;Override&nbsp;the&nbsp;event&nbsp;endpoint&nbsp;from&nbsp;`ARGO_EVENTS_WEBHOOK_URL`.<br>payload&nbsp;:&nbsp;Dict,&nbsp;optional<br>&nbsp;&nbsp;&nbsp;&nbsp;A&nbsp;set&nbsp;of&nbsp;key-value&nbsp;pairs&nbsp;delivered&nbsp;in&nbsp;this&nbsp;event.&nbsp;Used&nbsp;to&nbsp;set&nbsp;parameters&nbsp;of&nbsp;triggered&nbsp;flows.</blockquote></p>\n",
       "</HTMLRemove>\n",
       "<DocSection type=\"class\" name=\"ArgoEvent\" module=\"metaflow.integrations\" show_import=\"True\" heading_level=\"3\" link=\"https://github.com/Netflix/metaflow/tree/master/metaflow/plugins/argo/argo_events.py#L21\">\n",
       "<SigArgSection>\n",
       "<SigArg name=\"name, url=None, payload={}\" />\n",
       "</SigArgSection>\n",
       "<Description summary=\"ArgoEvent is a small event, a message, that can be published to Argo Workflows. The\\nevent will eventually start all flows which have been previously deployed with `@trigger`\\nto wait for this particular named event.\" />\n",
       "<ParamSection name=\"Parameters\">\n",
       "\t<Parameter name=\"name\" type=\"str,\" desc=\"Name of the event\" />\n",
       "\t<Parameter name=\"url\" type=\"str, optional\" desc=\"Override the event endpoint from `ARGO_EVENTS_WEBHOOK_URL`.\" />\n",
       "\t<Parameter name=\"payload\" type=\"Dict, optional\" desc=\"A set of key-value pairs delivered in this event. Used to set parameters of triggered flows.\" />\n",
       "</ParamSection>\n",
       "</DocSection>"
      ],
      "text/plain": [
       "<nbdoc.showdoc.ShowDoc at 0x113902c80>"
      ]
     },
     "execution_count": 2,
     "metadata": {},
     "output_type": "execute_result"
    }
   ],
   "source": [
    "ShowDoc(ArgoEvent, spoofstr=\"name, url=None, payload={}\", show_import=True)"
   ]
  },
  {
   "cell_type": "code",
   "execution_count": 3,
   "id": "380eb9ac",
   "metadata": {
    "execution": {
     "iopub.execute_input": "2024-11-05T04:49:39.304666Z",
     "iopub.status.busy": "2024-11-05T04:49:39.304329Z",
     "iopub.status.idle": "2024-11-05T04:49:39.307422Z",
     "shell.execute_reply": "2024-11-05T04:49:39.307057Z"
    }
   },
   "outputs": [
    {
     "data": {
      "text/html": [
       "<HTMLRemove>\n",
       "<h4> <code>method</code> <span style=\"color:Brown\">ArgoEvent.add_to_payload</span> <em>(self, key, value)</em><a href=\"https://github.com/Netflix/metaflow/tree/master/metaflow/plugins/argo/argo_events.py#L46\" style=\"float:right\">[source]</a></h4><p><blockquote>Add&nbsp;a&nbsp;key-value&nbsp;pair&nbsp;in&nbsp;the&nbsp;payload.&nbsp;This&nbsp;is&nbsp;typically&nbsp;used&nbsp;to&nbsp;set&nbsp;parameters<br>of&nbsp;triggered&nbsp;flows.&nbsp;Often,&nbsp;`key`&nbsp;is&nbsp;the&nbsp;parameter&nbsp;name&nbsp;you&nbsp;want&nbsp;to&nbsp;set&nbsp;to<br>`value`.&nbsp;Overrides&nbsp;any&nbsp;existing&nbsp;value&nbsp;of&nbsp;`key`.<br><br>Parameters<br>----------<br>key&nbsp;:&nbsp;str<br>&nbsp;&nbsp;&nbsp;&nbsp;Key<br>value&nbsp;:&nbsp;str<br>&nbsp;&nbsp;&nbsp;&nbsp;Value</blockquote></p>\n",
       "</HTMLRemove>\n",
       "<DocSection type=\"method\" name=\"ArgoEvent.add_to_payload\" module=\"metaflow.integrations\" show_import=\"False\" heading_level=\"4\" link=\"https://github.com/Netflix/metaflow/tree/master/metaflow/plugins/argo/argo_events.py#L46\">\n",
       "<SigArgSection>\n",
       "<SigArg name=\"self\" /><SigArg name=\"key\" /><SigArg name=\"value\" />\n",
       "</SigArgSection>\n",
       "<Description summary=\"Add a key-value pair in the payload. This is typically used to set parameters\\nof triggered flows. Often, `key` is the parameter name you want to set to\\n`value`. Overrides any existing value of `key`.\" />\n",
       "<ParamSection name=\"Parameters\">\n",
       "\t<Parameter name=\"key\" type=\"str\" desc=\"Key\" />\n",
       "\t<Parameter name=\"value\" type=\"str\" desc=\"Value\" />\n",
       "</ParamSection>\n",
       "</DocSection>"
      ],
      "text/plain": [
       "<nbdoc.showdoc.ShowDoc at 0x11393f370>"
      ]
     },
     "execution_count": 3,
     "metadata": {},
     "output_type": "execute_result"
    }
   ],
   "source": [
    "ShowDoc(ArgoEvent.add_to_payload)"
   ]
  },
  {
   "cell_type": "code",
   "execution_count": 4,
   "id": "31916bae",
   "metadata": {
    "execution": {
     "iopub.execute_input": "2024-11-05T04:49:39.310391Z",
     "iopub.status.busy": "2024-11-05T04:49:39.310263Z",
     "iopub.status.idle": "2024-11-05T04:49:39.313769Z",
     "shell.execute_reply": "2024-11-05T04:49:39.313512Z"
    }
   },
   "outputs": [
    {
     "data": {
      "text/html": [
       "<HTMLRemove>\n",
       "<h4> <code>method</code> <span style=\"color:Brown\">ArgoEvent.publish</span> <em>(self, payload=None, force=True, ignore_errors=True)</em><a href=\"https://github.com/Netflix/metaflow/tree/master/metaflow/plugins/argo/argo_events.py#L82\" style=\"float:right\">[source]</a></h4><p><blockquote>Publishes&nbsp;an&nbsp;event.<br><br>Note&nbsp;that&nbsp;the&nbsp;function&nbsp;returns&nbsp;immediately&nbsp;after&nbsp;the&nbsp;event&nbsp;has&nbsp;been&nbsp;sent.&nbsp;It<br>does&nbsp;not&nbsp;wait&nbsp;for&nbsp;flows&nbsp;to&nbsp;start,&nbsp;nor&nbsp;it&nbsp;guarantees&nbsp;that&nbsp;any&nbsp;flows&nbsp;will&nbsp;start.<br><br>Parameters<br>----------<br>payload&nbsp;:&nbsp;dict<br>&nbsp;&nbsp;&nbsp;&nbsp;Additional&nbsp;key-value&nbsp;pairs&nbsp;to&nbsp;add&nbsp;to&nbsp;the&nbsp;payload.<br>ignore_errors&nbsp;:&nbsp;bool,&nbsp;default&nbsp;True<br>&nbsp;&nbsp;&nbsp;&nbsp;If&nbsp;True,&nbsp;events&nbsp;are&nbsp;created&nbsp;on&nbsp;a&nbsp;best&nbsp;effort&nbsp;basis&nbsp;-&nbsp;errors&nbsp;are&nbsp;silently&nbsp;ignored.</blockquote></p>\n",
       "</HTMLRemove>\n",
       "<DocSection type=\"method\" name=\"ArgoEvent.publish\" module=\"metaflow.integrations\" show_import=\"False\" heading_level=\"4\" link=\"https://github.com/Netflix/metaflow/tree/master/metaflow/plugins/argo/argo_events.py#L82\">\n",
       "<SigArgSection>\n",
       "<SigArg name=\"self\" /><SigArg name=\"payload\" default=\"None\" /><SigArg name=\"force\" default=\"True\" /><SigArg name=\"ignore_errors\" default=\"True\" />\n",
       "</SigArgSection>\n",
       "<Description summary=\"Publishes an event.\" extended_summary=\"Note that the function returns immediately after the event has been sent. It\\ndoes not wait for flows to start, nor it guarantees that any flows will start.\" />\n",
       "<ParamSection name=\"Parameters\">\n",
       "\t<Parameter name=\"payload\" type=\"dict\" desc=\"Additional key-value pairs to add to the payload.\" />\n",
       "\t<Parameter name=\"ignore_errors\" type=\"bool, default True\" desc=\"If True, events are created on a best effort basis - errors are silently ignored.\" />\n",
       "</ParamSection>\n",
       "</DocSection>"
      ],
      "text/plain": [
       "<nbdoc.showdoc.ShowDoc at 0x11393f1f0>"
      ]
     },
     "execution_count": 4,
     "metadata": {},
     "output_type": "execute_result"
    }
   ],
   "source": [
    "ShowDoc(ArgoEvent.publish)"
   ]
  },
  {
   "cell_type": "code",
   "execution_count": 5,
   "id": "305678d7",
   "metadata": {
    "execution": {
     "iopub.execute_input": "2024-11-05T04:49:39.316992Z",
     "iopub.status.busy": "2024-11-05T04:49:39.316882Z",
     "iopub.status.idle": "2024-11-05T04:49:39.319433Z",
     "shell.execute_reply": "2024-11-05T04:49:39.319145Z"
    }
   },
   "outputs": [
    {
     "data": {
      "text/html": [
       "<HTMLRemove>\n",
       "<h4> <code>method</code> <span style=\"color:Brown\">ArgoEvent.safe_publish</span> <em>(self, payload=None, ignore_errors=True)</em><a href=\"https://github.com/Netflix/metaflow/tree/master/metaflow/plugins/argo/argo_events.py#L63\" style=\"float:right\">[source]</a></h4><p><blockquote>Publishes&nbsp;an&nbsp;event&nbsp;when&nbsp;called&nbsp;inside&nbsp;a&nbsp;deployed&nbsp;workflow.&nbsp;Outside&nbsp;a&nbsp;deployed&nbsp;workflow<br>this&nbsp;function&nbsp;does&nbsp;nothing.<br><br>Use&nbsp;this&nbsp;function&nbsp;inside&nbsp;flows&nbsp;to&nbsp;create&nbsp;events&nbsp;safely.&nbsp;As&nbsp;this&nbsp;function&nbsp;is&nbsp;a&nbsp;no-op<br>for&nbsp;local&nbsp;runs,&nbsp;you&nbsp;can&nbsp;safely&nbsp;call&nbsp;it&nbsp;during&nbsp;local&nbsp;development&nbsp;without&nbsp;causing&nbsp;unintended<br>side-effects.&nbsp;It&nbsp;takes&nbsp;effect&nbsp;only&nbsp;when&nbsp;deployed&nbsp;on&nbsp;Argo&nbsp;Workflows.<br><br>Parameters<br>----------<br>payload&nbsp;:&nbsp;dict<br>&nbsp;&nbsp;&nbsp;&nbsp;Additional&nbsp;key-value&nbsp;pairs&nbsp;to&nbsp;add&nbsp;to&nbsp;the&nbsp;payload.<br>ignore_errors&nbsp;:&nbsp;bool,&nbsp;default&nbsp;True<br>&nbsp;&nbsp;&nbsp;&nbsp;If&nbsp;True,&nbsp;events&nbsp;are&nbsp;created&nbsp;on&nbsp;a&nbsp;best&nbsp;effort&nbsp;basis&nbsp;-&nbsp;errors&nbsp;are&nbsp;silently&nbsp;ignored.</blockquote></p>\n",
       "</HTMLRemove>\n",
       "<DocSection type=\"method\" name=\"ArgoEvent.safe_publish\" module=\"metaflow.integrations\" show_import=\"False\" heading_level=\"4\" link=\"https://github.com/Netflix/metaflow/tree/master/metaflow/plugins/argo/argo_events.py#L63\">\n",
       "<SigArgSection>\n",
       "<SigArg name=\"self\" /><SigArg name=\"payload\" default=\"None\" /><SigArg name=\"ignore_errors\" default=\"True\" />\n",
       "</SigArgSection>\n",
       "<Description summary=\"Publishes an event when called inside a deployed workflow. Outside a deployed workflow\\nthis function does nothing.\" extended_summary=\"Use this function inside flows to create events safely. As this function is a no-op\\nfor local runs, you can safely call it during local development without causing unintended\\nside-effects. It takes effect only when deployed on Argo Workflows.\" />\n",
       "<ParamSection name=\"Parameters\">\n",
       "\t<Parameter name=\"payload\" type=\"dict\" desc=\"Additional key-value pairs to add to the payload.\" />\n",
       "\t<Parameter name=\"ignore_errors\" type=\"bool, default True\" desc=\"If True, events are created on a best effort basis - errors are silently ignored.\" />\n",
       "</ParamSection>\n",
       "</DocSection>"
      ],
      "text/plain": [
       "<nbdoc.showdoc.ShowDoc at 0x11393f3a0>"
      ]
     },
     "execution_count": 5,
     "metadata": {},
     "output_type": "execute_result"
    }
   ],
   "source": [
    "ShowDoc(ArgoEvent.safe_publish)"
   ]
  },
  {
   "cell_type": "code",
   "execution_count": null,
   "id": "b46bd363",
   "metadata": {},
   "outputs": [],
   "source": []
  }
 ],
 "metadata": {
  "kernelspec": {
   "display_name": "Python 3 (ipykernel)",
   "language": "python",
   "name": "python3"
  },
  "language_info": {
   "codemirror_mode": {
    "name": "ipython",
    "version": 3
   },
   "file_extension": ".py",
   "mimetype": "text/x-python",
   "name": "python",
   "nbconvert_exporter": "python",
   "pygments_lexer": "ipython3",
   "version": "3.10.13"
  }
 },
 "nbformat": 4,
 "nbformat_minor": 5
}
