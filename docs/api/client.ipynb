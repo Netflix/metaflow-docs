{
 "cells": [
  {
   "cell_type": "markdown",
   "id": "1ceb26f6-c12a-4818-8288-a8147a5d3ace",
   "metadata": {},
   "source": [
    "# Client API - Accessing past results"
   ]
  },
  {
   "cell_type": "markdown",
   "id": "4c4b2bc8-65c5-4ea8-a51b-7c9b6c5348a9",
   "metadata": {},
   "source": [
    "Use these objects to [access data from past runs and to manipulate tags](/metaflow/client). Objects in this module are organized as a hierarchy:\n",
    "\n",
    "![Object hierarchy](/assets/hierarchy.png)\n",
    "\n",
    "### Instantiating Objects\n",
    "\n",
    "You can instantiate a specific object at any level of the hierarchy by providing a corresponding `pathspec`, e.g. from Metaflow logs.\n",
    "\n",
    " - `Metaflow()`\n",
    " - `Flow('HelloFlow')`\n",
    " - `Run('HelloFlow/2')`\n",
    " - `Step('HelloFlow/2/start')`\n",
    " - `Task('HelloFlow/2/start/1')`\n",
    " - `DataArtifact('HelloFlow/2/start/1/name')`\n",
    "\n",
    "### Listing objects\n",
    "\n",
    "Each object is a container (*an iterable*) that can be used to iterate over objects that are below it in the hierarchy. For instance, iterating over a `list(Flow(...))` yields a list of `Run`s, and `list(Run(...))` yields a list of `Step`s.\n",
    "\n",
    "### Accessing children\n",
    "\n",
    "Since each object is a container, you can access its children through the square-bracket notation, as if each object was a dictionary. For instance, you can access the object `Task('HelloFlow/2/start/1')` as follows:\n",
    "```python\n",
    "Flow('HelloFlow')['2']['start']['1']\n",
    "```\n",
    "You can also test if the object has a certain child:\n",
    "```python\n",
    "if '2' in Flow('HelloFlow'):\n",
    "    print('Run found')\n",
    "```\n",
    "\n",
    "### Common attributes\n",
    "\n",
    "All objects at the `Run` level and below have the following attributes:\n",
    "\n",
    " - `tags` (set) - tags associated with the run this object belongs to (user and system tags).\n",
    " - `user_tags` (set) - user tags associated with the run this object belongs to.\n",
    " - `system_tags` (set) - system tags associated with the run this object belongs to.\n",
    " - `created_at` (datetime) - Date and time this object was created.\n",
    " - `parent` (Metaflow object) - Parent of this object (e.g. `Run(...).parent` is a `Flow`).\n",
    " - `pathspec` (string) - Pathspec of this object (e.g. `HelloFlow/2` for a `Run`).\n",
    " - `path_components` (list) - Components of the pathspec.\n",
    " - `origin_pathspec` (string) - If the object was produced via [resume](/metaflow/debugging#how-to-use-the-resume-command), pathspec of the original object this object was cloned from.\n",
    "\n",
    "### Object visibility\n",
    "\n",
    "Note that only objects in [the current namespace](/scaling/tagging) can be instantiated. See [Namespace functions](#namespace) to see how to switch between namespaces. \n",
    "\n",
    "This module accesses all objects through the current metadata provider - either Metaflow Service or local metadata. See [Metadata functions](#metadata) for utilities related to metadata provider."
   ]
  },
  {
   "cell_type": "code",
   "execution_count": 1,
   "id": "d1e0717d-dcdd-43f8-9116-1fbe15200503",
   "metadata": {
    "execution": {
     "iopub.execute_input": "2024-11-05T04:49:37.552230Z",
     "iopub.status.busy": "2024-11-05T04:49:37.551927Z",
     "iopub.status.idle": "2024-11-05T04:49:37.845484Z",
     "shell.execute_reply": "2024-11-05T04:49:37.845055Z"
    }
   },
   "outputs": [],
   "source": [
    "#meta:tag=hide\n",
    "from nbdoc.showdoc import ShowDoc\n",
    "from IPython import display\n",
    "from functools import partial\n",
    "\n",
    "ShowDoc = partial(ShowDoc, module_nm='metaflow')"
   ]
  },
  {
   "cell_type": "markdown",
   "id": "eab919df",
   "metadata": {},
   "source": [
    "## Object Hierarchy"
   ]
  },
  {
   "cell_type": "markdown",
   "id": "bbd95b21",
   "metadata": {},
   "source": [
    "### Metaflow"
   ]
  },
  {
   "cell_type": "code",
   "execution_count": 2,
   "id": "be46136f-68d0-4b73-b53c-a6da21023ea7",
   "metadata": {
    "execution": {
     "iopub.execute_input": "2024-11-05T04:49:37.848529Z",
     "iopub.status.busy": "2024-11-05T04:49:37.848358Z",
     "iopub.status.idle": "2024-11-05T04:49:37.913642Z",
     "shell.execute_reply": "2024-11-05T04:49:37.913253Z"
    }
   },
   "outputs": [
    {
     "data": {
      "text/html": [
       "<HTMLRemove>\n",
       "<h3> <code>class</code> <span style=\"color:Brown\">Metaflow</span> <em>(_current_metadata: Optional[str] = None)</em><a href=\"https://github.com/Netflix/metaflow/tree/master/metaflow/client/core.py#L2296\" style=\"float:right\">[source]</a></h3><p><blockquote>Entry&nbsp;point&nbsp;to&nbsp;all&nbsp;objects&nbsp;in&nbsp;the&nbsp;Metaflow&nbsp;universe.<br><br>This&nbsp;object&nbsp;can&nbsp;be&nbsp;used&nbsp;to&nbsp;list&nbsp;all&nbsp;the&nbsp;flows&nbsp;present&nbsp;either&nbsp;through&nbsp;the&nbsp;explicit&nbsp;property<br>or&nbsp;by&nbsp;iterating&nbsp;over&nbsp;this&nbsp;object.<br><br>Attributes<br>----------<br>flows&nbsp;:&nbsp;List[Flow]<br>&nbsp;&nbsp;&nbsp;&nbsp;Returns&nbsp;the&nbsp;list&nbsp;of&nbsp;all&nbsp;`Flow`&nbsp;objects&nbsp;known&nbsp;to&nbsp;this&nbsp;metadata&nbsp;provider.&nbsp;Note&nbsp;that&nbsp;only<br>&nbsp;&nbsp;&nbsp;&nbsp;flows&nbsp;present&nbsp;in&nbsp;the&nbsp;current&nbsp;namespace&nbsp;will&nbsp;be&nbsp;returned.&nbsp;A&nbsp;`Flow`&nbsp;is&nbsp;present&nbsp;in&nbsp;a&nbsp;namespace<br>&nbsp;&nbsp;&nbsp;&nbsp;if&nbsp;it&nbsp;has&nbsp;at&nbsp;least&nbsp;one&nbsp;run&nbsp;in&nbsp;the&nbsp;namespace.</blockquote></p>\n",
       "</HTMLRemove>\n",
       "<DocSection type=\"class\" name=\"Metaflow\" module=\"metaflow\" show_import=\"False\" heading_level=\"3\" link=\"https://github.com/Netflix/metaflow/tree/master/metaflow/client/core.py#L2296\">\n",
       "<SigArgSection>\n",
       "<SigArg name=\"_current_metadata\" type=\"Optional\" default=\"None\" />\n",
       "</SigArgSection>\n",
       "<Description summary=\"Entry point to all objects in the Metaflow universe.\" extended_summary=\"This object can be used to list all the flows present either through the explicit property\\nor by iterating over this object.\" />\n",
       "<ParamSection name=\"Attributes\">\n",
       "\t<Parameter name=\"flows\" type=\"List[Flow]\" desc=\"Returns the list of all `Flow` objects known to this metadata provider. Note that only\\nflows present in the current namespace will be returned. A `Flow` is present in a namespace\\nif it has at least one run in the namespace.\" />\n",
       "</ParamSection>\n",
       "</DocSection>"
      ],
      "text/plain": [
       "<nbdoc.showdoc.ShowDoc at 0x103b3b1c0>"
      ]
     },
     "execution_count": 2,
     "metadata": {},
     "output_type": "execute_result"
    }
   ],
   "source": [
    "from metaflow import Metaflow, Flow, Run, Step, Task, DataArtifact\n",
    "\n",
    "ShowDoc(Metaflow)"
   ]
  },
  {
   "cell_type": "markdown",
   "id": "2deddf5b",
   "metadata": {},
   "source": [
    "### Flow"
   ]
  },
  {
   "cell_type": "code",
   "execution_count": 3,
   "id": "aa03d75d-c0cc-4d5b-a65a-bab43e5061fe",
   "metadata": {
    "execution": {
     "iopub.execute_input": "2024-11-05T04:49:37.916463Z",
     "iopub.status.busy": "2024-11-05T04:49:37.916330Z",
     "iopub.status.idle": "2024-11-05T04:49:37.929240Z",
     "shell.execute_reply": "2024-11-05T04:49:37.928875Z"
    }
   },
   "outputs": [
    {
     "data": {
      "text/html": [
       "<HTMLRemove>\n",
       "<h3> <code>class</code> <span style=\"color:Brown\">Flow</span> <em>pathspec</em><a href=\"https://github.com/Netflix/metaflow/tree/master/metaflow/client/core.py#L2183\" style=\"float:right\">[source]</a></h3><p><blockquote>A&nbsp;Flow&nbsp;represents&nbsp;all&nbsp;existing&nbsp;flows&nbsp;with&nbsp;a&nbsp;certain&nbsp;name,&nbsp;in&nbsp;other&nbsp;words,<br>classes&nbsp;derived&nbsp;from&nbsp;`FlowSpec`.&nbsp;A&nbsp;container&nbsp;of&nbsp;`Run`&nbsp;objects.<br><br>Attributes<br>----------<br>latest_run&nbsp;:&nbsp;Run<br>&nbsp;&nbsp;&nbsp;&nbsp;Latest&nbsp;`Run`&nbsp;(in&nbsp;progress&nbsp;or&nbsp;completed,&nbsp;successfully&nbsp;or&nbsp;not)&nbsp;of&nbsp;this&nbsp;flow.<br>latest_successful_run&nbsp;:&nbsp;Run<br>&nbsp;&nbsp;&nbsp;&nbsp;Latest&nbsp;successfully&nbsp;completed&nbsp;`Run`&nbsp;of&nbsp;this&nbsp;flow.</blockquote></p>\n",
       "</HTMLRemove>\n",
       "<DocSection type=\"class\" name=\"Flow\" module=\"metaflow\" show_import=\"False\" heading_level=\"3\" link=\"https://github.com/Netflix/metaflow/tree/master/metaflow/client/core.py#L2183\">\n",
       "<SigArgSection>\n",
       "<SigArg name=\"pathspec\" />\n",
       "</SigArgSection>\n",
       "<Description summary=\"A Flow represents all existing flows with a certain name, in other words,\\nclasses derived from `FlowSpec`. A container of `Run` objects.\" />\n",
       "<ParamSection name=\"Attributes\">\n",
       "\t<Parameter name=\"latest_run\" type=\"Run\" desc=\"Latest `Run` (in progress or completed, successfully or not) of this flow.\" />\n",
       "\t<Parameter name=\"latest_successful_run\" type=\"Run\" desc=\"Latest successfully completed `Run` of this flow.\" />\n",
       "</ParamSection>\n",
       "</DocSection>"
      ],
      "text/plain": [
       "<nbdoc.showdoc.ShowDoc at 0x105503dc0>"
      ]
     },
     "execution_count": 3,
     "metadata": {},
     "output_type": "execute_result"
    }
   ],
   "source": [
    "ShowDoc(Flow, spoofstr=('pathspec'))"
   ]
  },
  {
   "cell_type": "code",
   "execution_count": 4,
   "id": "e0da0de1",
   "metadata": {
    "execution": {
     "iopub.execute_input": "2024-11-05T04:49:37.931942Z",
     "iopub.status.busy": "2024-11-05T04:49:37.931810Z",
     "iopub.status.idle": "2024-11-05T04:49:37.936211Z",
     "shell.execute_reply": "2024-11-05T04:49:37.934856Z"
    }
   },
   "outputs": [
    {
     "data": {
      "text/html": [
       "<HTMLRemove>\n",
       "<h4> <code>method</code> <span style=\"color:Brown\">Flow.runs</span> <em>(self, *tags: str) -> Iterator[metaflow.client.core.Run]</em><a href=\"https://github.com/Netflix/metaflow/tree/master/metaflow/client/core.py#L2233\" style=\"float:right\">[source]</a></h4><p><blockquote>Returns&nbsp;an&nbsp;iterator&nbsp;over&nbsp;all&nbsp;`Run`s&nbsp;of&nbsp;this&nbsp;flow.<br><br>An&nbsp;optional&nbsp;filter&nbsp;is&nbsp;available&nbsp;that&nbsp;allows&nbsp;you&nbsp;to&nbsp;filter&nbsp;on&nbsp;tags.<br>If&nbsp;multiple&nbsp;tags&nbsp;are&nbsp;specified,&nbsp;only&nbsp;runs&nbsp;that&nbsp;have&nbsp;all&nbsp;the<br>specified&nbsp;tags&nbsp;are&nbsp;returned.<br><br>Parameters<br>----------<br>tags&nbsp;:&nbsp;str<br>&nbsp;&nbsp;&nbsp;&nbsp;Tags&nbsp;to&nbsp;match.<br><br>Yields<br>------<br>Run<br>&nbsp;&nbsp;&nbsp;&nbsp;`Run`&nbsp;objects&nbsp;in&nbsp;this&nbsp;flow.</blockquote></p>\n",
       "</HTMLRemove>\n",
       "<DocSection type=\"method\" name=\"Flow.runs\" module=\"metaflow\" show_import=\"False\" heading_level=\"4\" link=\"https://github.com/Netflix/metaflow/tree/master/metaflow/client/core.py#L2233\">\n",
       "<SigArgSection>\n",
       "<SigArg name=\"self\" /><SigArg name=\"*tags: str\" type=\"str\" />\n",
       "</SigArgSection>\n",
       "<Description summary=\"Returns an iterator over all `Run`s of this flow.\" extended_summary=\"An optional filter is available that allows you to filter on tags.\\nIf multiple tags are specified, only runs that have all the\\nspecified tags are returned.\" />\n",
       "<ParamSection name=\"Parameters\">\n",
       "\t<Parameter name=\"tags\" type=\"str\" desc=\"Tags to match.\" />\n",
       "</ParamSection>\n",
       "<ParamSection name=\"Yields\">\n",
       "\t<Parameter type=\"Run\" desc=\"`Run` objects in this flow.\" />\n",
       "</ParamSection>\n",
       "</DocSection>"
      ],
      "text/plain": [
       "<nbdoc.showdoc.ShowDoc at 0x10557bbb0>"
      ]
     },
     "execution_count": 4,
     "metadata": {},
     "output_type": "execute_result"
    }
   ],
   "source": [
    "ShowDoc(Flow.runs)"
   ]
  },
  {
   "cell_type": "markdown",
   "id": "cd81e57d",
   "metadata": {},
   "source": [
    "### Run"
   ]
  },
  {
   "cell_type": "code",
   "execution_count": 5,
   "id": "4302ed53",
   "metadata": {
    "execution": {
     "iopub.execute_input": "2024-11-05T04:49:37.939545Z",
     "iopub.status.busy": "2024-11-05T04:49:37.939402Z",
     "iopub.status.idle": "2024-11-05T04:49:37.952847Z",
     "shell.execute_reply": "2024-11-05T04:49:37.952453Z"
    }
   },
   "outputs": [
    {
     "data": {
      "text/html": [
       "<HTMLRemove>\n",
       "<h3> <code>class</code> <span style=\"color:Brown\">Run</span> <em>pathspec</em><a href=\"https://github.com/Netflix/metaflow/tree/master/metaflow/client/core.py#L1841\" style=\"float:right\">[source]</a></h3><p><blockquote>A&nbsp;`Run`&nbsp;represents&nbsp;an&nbsp;execution&nbsp;of&nbsp;a&nbsp;`Flow`.&nbsp;It&nbsp;is&nbsp;a&nbsp;container&nbsp;of&nbsp;`Step`s.<br><br>Attributes<br>----------<br>data&nbsp;:&nbsp;MetaflowData<br>&nbsp;&nbsp;&nbsp;&nbsp;a&nbsp;shortcut&nbsp;to&nbsp;run['end'].task.data,&nbsp;i.e.&nbsp;data&nbsp;produced&nbsp;by&nbsp;this&nbsp;run.<br>successful&nbsp;:&nbsp;bool<br>&nbsp;&nbsp;&nbsp;&nbsp;True&nbsp;if&nbsp;the&nbsp;run&nbsp;completed&nbsp;successfully.<br>finished&nbsp;:&nbsp;bool<br>&nbsp;&nbsp;&nbsp;&nbsp;True&nbsp;if&nbsp;the&nbsp;run&nbsp;completed.<br>finished_at&nbsp;:&nbsp;datetime<br>&nbsp;&nbsp;&nbsp;&nbsp;Time&nbsp;this&nbsp;run&nbsp;finished.<br>code&nbsp;:&nbsp;MetaflowCode<br>&nbsp;&nbsp;&nbsp;&nbsp;Code&nbsp;package&nbsp;for&nbsp;this&nbsp;run&nbsp;(if&nbsp;present).&nbsp;See&nbsp;`MetaflowCode`.<br>trigger&nbsp;:&nbsp;MetaflowTrigger<br>&nbsp;&nbsp;&nbsp;&nbsp;Information&nbsp;about&nbsp;event(s)&nbsp;that&nbsp;triggered&nbsp;this&nbsp;run&nbsp;(if&nbsp;present).&nbsp;See&nbsp;`MetaflowTrigger`.<br>end_task&nbsp;:&nbsp;Task<br>&nbsp;&nbsp;&nbsp;&nbsp;`Task`&nbsp;for&nbsp;the&nbsp;end&nbsp;step&nbsp;(if&nbsp;it&nbsp;is&nbsp;present&nbsp;already).</blockquote></p>\n",
       "</HTMLRemove>\n",
       "<DocSection type=\"class\" name=\"Run\" module=\"metaflow\" show_import=\"False\" heading_level=\"3\" link=\"https://github.com/Netflix/metaflow/tree/master/metaflow/client/core.py#L1841\">\n",
       "<SigArgSection>\n",
       "<SigArg name=\"pathspec\" />\n",
       "</SigArgSection>\n",
       "<Description summary=\"A `Run` represents an execution of a `Flow`. It is a container of `Step`s.\" />\n",
       "<ParamSection name=\"Attributes\">\n",
       "\t<Parameter name=\"data\" type=\"MetaflowData\" desc=\"a shortcut to run['end'].task.data, i.e. data produced by this run.\" />\n",
       "\t<Parameter name=\"successful\" type=\"bool\" desc=\"True if the run completed successfully.\" />\n",
       "\t<Parameter name=\"finished\" type=\"bool\" desc=\"True if the run completed.\" />\n",
       "\t<Parameter name=\"finished_at\" type=\"datetime\" desc=\"Time this run finished.\" />\n",
       "\t<Parameter name=\"code\" type=\"MetaflowCode\" desc=\"Code package for this run (if present). See `MetaflowCode`.\" />\n",
       "\t<Parameter name=\"trigger\" type=\"MetaflowTrigger\" desc=\"Information about event(s) that triggered this run (if present). See `MetaflowTrigger`.\" />\n",
       "\t<Parameter name=\"end_task\" type=\"Task\" desc=\"`Task` for the end step (if it is present already).\" />\n",
       "</ParamSection>\n",
       "</DocSection>"
      ],
      "text/plain": [
       "<nbdoc.showdoc.ShowDoc at 0x10557bc70>"
      ]
     },
     "execution_count": 5,
     "metadata": {},
     "output_type": "execute_result"
    }
   ],
   "source": [
    "ShowDoc(Run, spoofstr=('pathspec'))"
   ]
  },
  {
   "cell_type": "code",
   "execution_count": 6,
   "id": "5d0ad8c7",
   "metadata": {
    "execution": {
     "iopub.execute_input": "2024-11-05T04:49:37.955670Z",
     "iopub.status.busy": "2024-11-05T04:49:37.955534Z",
     "iopub.status.idle": "2024-11-05T04:49:37.958109Z",
     "shell.execute_reply": "2024-11-05T04:49:37.957869Z"
    }
   },
   "outputs": [
    {
     "data": {
      "text/html": [
       "<HTMLRemove>\n",
       "<h4> <code>method</code> <span style=\"color:Brown\">Run.add_tag</span> <em>(self, tag: str)</em><a href=\"https://github.com/Netflix/metaflow/tree/master/metaflow/client/core.py#L2009\" style=\"float:right\">[source]</a></h4><p><blockquote>Add&nbsp;a&nbsp;tag&nbsp;to&nbsp;this&nbsp;`Run`.<br><br>Note&nbsp;that&nbsp;if&nbsp;the&nbsp;tag&nbsp;is&nbsp;already&nbsp;a&nbsp;system&nbsp;tag,&nbsp;it&nbsp;is&nbsp;not&nbsp;added&nbsp;as&nbsp;a&nbsp;user&nbsp;tag,<br>and&nbsp;no&nbsp;error&nbsp;is&nbsp;thrown.<br><br>Parameters<br>----------<br>tag&nbsp;:&nbsp;str<br>&nbsp;&nbsp;&nbsp;&nbsp;Tag&nbsp;to&nbsp;add.</blockquote></p>\n",
       "</HTMLRemove>\n",
       "<DocSection type=\"method\" name=\"Run.add_tag\" module=\"metaflow\" show_import=\"False\" heading_level=\"4\" link=\"https://github.com/Netflix/metaflow/tree/master/metaflow/client/core.py#L2009\">\n",
       "<SigArgSection>\n",
       "<SigArg name=\"self\" /><SigArg name=\"tag\" type=\"str\" />\n",
       "</SigArgSection>\n",
       "<Description summary=\"Add a tag to this `Run`.\" extended_summary=\"Note that if the tag is already a system tag, it is not added as a user tag,\\nand no error is thrown.\" />\n",
       "<ParamSection name=\"Parameters\">\n",
       "\t<Parameter name=\"tag\" type=\"str\" desc=\"Tag to add.\" />\n",
       "</ParamSection>\n",
       "</DocSection>"
      ],
      "text/plain": [
       "<nbdoc.showdoc.ShowDoc at 0x105577610>"
      ]
     },
     "execution_count": 6,
     "metadata": {},
     "output_type": "execute_result"
    }
   ],
   "source": [
    "ShowDoc(Run.add_tag)"
   ]
  },
  {
   "cell_type": "code",
   "execution_count": 7,
   "id": "037da6e3",
   "metadata": {
    "execution": {
     "iopub.execute_input": "2024-11-05T04:49:37.960757Z",
     "iopub.status.busy": "2024-11-05T04:49:37.960643Z",
     "iopub.status.idle": "2024-11-05T04:49:37.963280Z",
     "shell.execute_reply": "2024-11-05T04:49:37.963021Z"
    }
   },
   "outputs": [
    {
     "data": {
      "text/html": [
       "<HTMLRemove>\n",
       "<h4> <code>method</code> <span style=\"color:Brown\">Run.add_tags</span> <em>(self, tags: Iterable[str])</em><a href=\"https://github.com/Netflix/metaflow/tree/master/metaflow/client/core.py#L2031\" style=\"float:right\">[source]</a></h4><p><blockquote>Add&nbsp;one&nbsp;or&nbsp;more&nbsp;tags&nbsp;to&nbsp;this&nbsp;`Run`.<br><br>Note&nbsp;that&nbsp;if&nbsp;any&nbsp;tag&nbsp;is&nbsp;already&nbsp;a&nbsp;system&nbsp;tag,&nbsp;it&nbsp;is&nbsp;not&nbsp;added&nbsp;as&nbsp;a&nbsp;user&nbsp;tag<br>and&nbsp;no&nbsp;error&nbsp;is&nbsp;thrown.<br><br>Parameters<br>----------<br>tags&nbsp;:&nbsp;Iterable[str]<br>&nbsp;&nbsp;&nbsp;&nbsp;Tags&nbsp;to&nbsp;add.</blockquote></p>\n",
       "</HTMLRemove>\n",
       "<DocSection type=\"method\" name=\"Run.add_tags\" module=\"metaflow\" show_import=\"False\" heading_level=\"4\" link=\"https://github.com/Netflix/metaflow/tree/master/metaflow/client/core.py#L2031\">\n",
       "<SigArgSection>\n",
       "<SigArg name=\"self\" /><SigArg name=\"tags\" type=\"Iterable\" />\n",
       "</SigArgSection>\n",
       "<Description summary=\"Add one or more tags to this `Run`.\" extended_summary=\"Note that if any tag is already a system tag, it is not added as a user tag\\nand no error is thrown.\" />\n",
       "<ParamSection name=\"Parameters\">\n",
       "\t<Parameter name=\"tags\" type=\"Iterable[str]\" desc=\"Tags to add.\" />\n",
       "</ParamSection>\n",
       "</DocSection>"
      ],
      "text/plain": [
       "<nbdoc.showdoc.ShowDoc at 0x1055772e0>"
      ]
     },
     "execution_count": 7,
     "metadata": {},
     "output_type": "execute_result"
    }
   ],
   "source": [
    "ShowDoc(Run.add_tags)"
   ]
  },
  {
   "cell_type": "code",
   "execution_count": 8,
   "id": "0ebd8693",
   "metadata": {
    "execution": {
     "iopub.execute_input": "2024-11-05T04:49:37.966056Z",
     "iopub.status.busy": "2024-11-05T04:49:37.965949Z",
     "iopub.status.idle": "2024-11-05T04:49:37.968435Z",
     "shell.execute_reply": "2024-11-05T04:49:37.968186Z"
    }
   },
   "outputs": [
    {
     "data": {
      "text/html": [
       "<HTMLRemove>\n",
       "<h4> <code>method</code> <span style=\"color:Brown\">Run.remove_tag</span> <em>(self, tag: str)</em><a href=\"https://github.com/Netflix/metaflow/tree/master/metaflow/client/core.py#L2045\" style=\"float:right\">[source]</a></h4><p><blockquote>Remove&nbsp;one&nbsp;tag&nbsp;from&nbsp;this&nbsp;`Run`.<br><br>Removing&nbsp;a&nbsp;system&nbsp;tag&nbsp;is&nbsp;an&nbsp;error.&nbsp;Removing&nbsp;a&nbsp;non-existent<br>user&nbsp;tag&nbsp;is&nbsp;a&nbsp;no-op.<br><br>Parameters<br>----------<br>tag&nbsp;:&nbsp;str<br>&nbsp;&nbsp;&nbsp;&nbsp;Tag&nbsp;to&nbsp;remove.</blockquote></p>\n",
       "</HTMLRemove>\n",
       "<DocSection type=\"method\" name=\"Run.remove_tag\" module=\"metaflow\" show_import=\"False\" heading_level=\"4\" link=\"https://github.com/Netflix/metaflow/tree/master/metaflow/client/core.py#L2045\">\n",
       "<SigArgSection>\n",
       "<SigArg name=\"self\" /><SigArg name=\"tag\" type=\"str\" />\n",
       "</SigArgSection>\n",
       "<Description summary=\"Remove one tag from this `Run`.\" extended_summary=\"Removing a system tag is an error. Removing a non-existent\\nuser tag is a no-op.\" />\n",
       "<ParamSection name=\"Parameters\">\n",
       "\t<Parameter name=\"tag\" type=\"str\" desc=\"Tag to remove.\" />\n",
       "</ParamSection>\n",
       "</DocSection>"
      ],
      "text/plain": [
       "<nbdoc.showdoc.ShowDoc at 0x105574940>"
      ]
     },
     "execution_count": 8,
     "metadata": {},
     "output_type": "execute_result"
    }
   ],
   "source": [
    "ShowDoc(Run.remove_tag)"
   ]
  },
  {
   "cell_type": "code",
   "execution_count": 9,
   "id": "0dd3c17a",
   "metadata": {
    "execution": {
     "iopub.execute_input": "2024-11-05T04:49:37.971204Z",
     "iopub.status.busy": "2024-11-05T04:49:37.971056Z",
     "iopub.status.idle": "2024-11-05T04:49:37.973850Z",
     "shell.execute_reply": "2024-11-05T04:49:37.973461Z"
    }
   },
   "outputs": [
    {
     "data": {
      "text/html": [
       "<HTMLRemove>\n",
       "<h4> <code>method</code> <span style=\"color:Brown\">Run.remove_tags</span> <em>(self, tags: Iterable[str])</em><a href=\"https://github.com/Netflix/metaflow/tree/master/metaflow/client/core.py#L2067\" style=\"float:right\">[source]</a></h4><p><blockquote>Remove&nbsp;one&nbsp;or&nbsp;more&nbsp;tags&nbsp;to&nbsp;this&nbsp;`Run`.<br><br>Removing&nbsp;a&nbsp;system&nbsp;tag&nbsp;will&nbsp;result&nbsp;in&nbsp;an&nbsp;error.&nbsp;Removing&nbsp;a&nbsp;non-existent<br>user&nbsp;tag&nbsp;is&nbsp;a&nbsp;no-op.<br><br>Parameters<br>----------<br>tags&nbsp;:&nbsp;Iterable[str]<br>&nbsp;&nbsp;&nbsp;&nbsp;Tags&nbsp;to&nbsp;remove.</blockquote></p>\n",
       "</HTMLRemove>\n",
       "<DocSection type=\"method\" name=\"Run.remove_tags\" module=\"metaflow\" show_import=\"False\" heading_level=\"4\" link=\"https://github.com/Netflix/metaflow/tree/master/metaflow/client/core.py#L2067\">\n",
       "<SigArgSection>\n",
       "<SigArg name=\"self\" /><SigArg name=\"tags\" type=\"Iterable\" />\n",
       "</SigArgSection>\n",
       "<Description summary=\"Remove one or more tags to this `Run`.\" extended_summary=\"Removing a system tag will result in an error. Removing a non-existent\\nuser tag is a no-op.\" />\n",
       "<ParamSection name=\"Parameters\">\n",
       "\t<Parameter name=\"tags\" type=\"Iterable[str]\" desc=\"Tags to remove.\" />\n",
       "</ParamSection>\n",
       "</DocSection>"
      ],
      "text/plain": [
       "<nbdoc.showdoc.ShowDoc at 0x105574100>"
      ]
     },
     "execution_count": 9,
     "metadata": {},
     "output_type": "execute_result"
    }
   ],
   "source": [
    "ShowDoc(Run.remove_tags)"
   ]
  },
  {
   "cell_type": "code",
   "execution_count": 10,
   "id": "2e97ed7e",
   "metadata": {
    "execution": {
     "iopub.execute_input": "2024-11-05T04:49:37.976785Z",
     "iopub.status.busy": "2024-11-05T04:49:37.976630Z",
     "iopub.status.idle": "2024-11-05T04:49:37.979681Z",
     "shell.execute_reply": "2024-11-05T04:49:37.979374Z"
    }
   },
   "outputs": [
    {
     "data": {
      "text/html": [
       "<HTMLRemove>\n",
       "<h4> <code>method</code> <span style=\"color:Brown\">Run.replace_tag</span> <em>(self, tag_to_remove: str, tag_to_add: str)</em><a href=\"https://github.com/Netflix/metaflow/tree/master/metaflow/client/core.py#L2081\" style=\"float:right\">[source]</a></h4><p><blockquote>Remove&nbsp;a&nbsp;tag&nbsp;and&nbsp;add&nbsp;a&nbsp;tag&nbsp;atomically.&nbsp;Removal&nbsp;is&nbsp;done&nbsp;first.<br>The&nbsp;rules&nbsp;for&nbsp;`Run.add_tag`&nbsp;and&nbsp;`Run.remove_tag`&nbsp;also&nbsp;apply&nbsp;here.<br><br>Parameters<br>----------<br>tag_to_remove&nbsp;:&nbsp;str<br>&nbsp;&nbsp;&nbsp;&nbsp;Tag&nbsp;to&nbsp;remove.<br>tag_to_add&nbsp;:&nbsp;str<br>&nbsp;&nbsp;&nbsp;&nbsp;Tag&nbsp;to&nbsp;add.</blockquote></p>\n",
       "</HTMLRemove>\n",
       "<DocSection type=\"method\" name=\"Run.replace_tag\" module=\"metaflow\" show_import=\"False\" heading_level=\"4\" link=\"https://github.com/Netflix/metaflow/tree/master/metaflow/client/core.py#L2081\">\n",
       "<SigArgSection>\n",
       "<SigArg name=\"self\" /><SigArg name=\"tag_to_remove\" type=\"str\" /><SigArg name=\"tag_to_add\" type=\"str\" />\n",
       "</SigArgSection>\n",
       "<Description summary=\"Remove a tag and add a tag atomically. Removal is done first.\\nThe rules for `Run.add_tag` and `Run.remove_tag` also apply here.\" />\n",
       "<ParamSection name=\"Parameters\">\n",
       "\t<Parameter name=\"tag_to_remove\" type=\"str\" desc=\"Tag to remove.\" />\n",
       "\t<Parameter name=\"tag_to_add\" type=\"str\" desc=\"Tag to add.\" />\n",
       "</ParamSection>\n",
       "</DocSection>"
      ],
      "text/plain": [
       "<nbdoc.showdoc.ShowDoc at 0x105574490>"
      ]
     },
     "execution_count": 10,
     "metadata": {},
     "output_type": "execute_result"
    }
   ],
   "source": [
    "ShowDoc(Run.replace_tag)"
   ]
  },
  {
   "cell_type": "code",
   "execution_count": 11,
   "id": "782ee581",
   "metadata": {
    "execution": {
     "iopub.execute_input": "2024-11-05T04:49:37.983129Z",
     "iopub.status.busy": "2024-11-05T04:49:37.982992Z",
     "iopub.status.idle": "2024-11-05T04:49:37.986051Z",
     "shell.execute_reply": "2024-11-05T04:49:37.985749Z"
    }
   },
   "outputs": [
    {
     "data": {
      "text/html": [
       "<HTMLRemove>\n",
       "<h4> <code>method</code> <span style=\"color:Brown\">Run.replace_tags</span> <em>(self, tags_to_remove: Iterable[str], tags_to_add: Iterable[str])</em><a href=\"https://github.com/Netflix/metaflow/tree/master/metaflow/client/core.py#L2105\" style=\"float:right\">[source]</a></h4><p><blockquote>Remove&nbsp;and&nbsp;add&nbsp;tags&nbsp;atomically;&nbsp;the&nbsp;removal&nbsp;is&nbsp;done&nbsp;first.<br>The&nbsp;rules&nbsp;for&nbsp;`Run.add_tag`&nbsp;and&nbsp;`Run.remove_tag`&nbsp;also&nbsp;apply&nbsp;here.<br><br>Parameters<br>----------<br>tags_to_remove&nbsp;:&nbsp;Iterable[str]<br>&nbsp;&nbsp;&nbsp;&nbsp;Tags&nbsp;to&nbsp;remove.<br>tags_to_add&nbsp;:&nbsp;Iterable[str]<br>&nbsp;&nbsp;&nbsp;&nbsp;Tags&nbsp;to&nbsp;add.</blockquote></p>\n",
       "</HTMLRemove>\n",
       "<DocSection type=\"method\" name=\"Run.replace_tags\" module=\"metaflow\" show_import=\"False\" heading_level=\"4\" link=\"https://github.com/Netflix/metaflow/tree/master/metaflow/client/core.py#L2105\">\n",
       "<SigArgSection>\n",
       "<SigArg name=\"self\" /><SigArg name=\"tags_to_remove\" type=\"Iterable\" /><SigArg name=\"tags_to_add\" type=\"Iterable\" />\n",
       "</SigArgSection>\n",
       "<Description summary=\"Remove and add tags atomically; the removal is done first.\\nThe rules for `Run.add_tag` and `Run.remove_tag` also apply here.\" />\n",
       "<ParamSection name=\"Parameters\">\n",
       "\t<Parameter name=\"tags_to_remove\" type=\"Iterable[str]\" desc=\"Tags to remove.\" />\n",
       "\t<Parameter name=\"tags_to_add\" type=\"Iterable[str]\" desc=\"Tags to add.\" />\n",
       "</ParamSection>\n",
       "</DocSection>"
      ],
      "text/plain": [
       "<nbdoc.showdoc.ShowDoc at 0x105574610>"
      ]
     },
     "execution_count": 11,
     "metadata": {},
     "output_type": "execute_result"
    }
   ],
   "source": [
    "ShowDoc(Run.replace_tags)"
   ]
  },
  {
   "cell_type": "markdown",
   "id": "5b5e1c97",
   "metadata": {},
   "source": [
    "### Step"
   ]
  },
  {
   "cell_type": "code",
   "execution_count": 12,
   "id": "e56c7d2d",
   "metadata": {
    "execution": {
     "iopub.execute_input": "2024-11-05T04:49:37.988507Z",
     "iopub.status.busy": "2024-11-05T04:49:37.988415Z",
     "iopub.status.idle": "2024-11-05T04:49:38.016804Z",
     "shell.execute_reply": "2024-11-05T04:49:38.015973Z"
    }
   },
   "outputs": [
    {
     "data": {
      "text/html": [
       "<HTMLRemove>\n",
       "<h3> <code>class</code> <span style=\"color:Brown\">Step</span> <em>pathspec</em><a href=\"https://github.com/Netflix/metaflow/tree/master/metaflow/client/core.py#L1651\" style=\"float:right\">[source]</a></h3><p><blockquote>A&nbsp;`Step`&nbsp;represents&nbsp;a&nbsp;user-defined&nbsp;step,&nbsp;that&nbsp;is,&nbsp;a&nbsp;method&nbsp;annotated&nbsp;with&nbsp;the&nbsp;`@step`&nbsp;decorator.<br><br>It&nbsp;contains&nbsp;`Task`&nbsp;objects&nbsp;associated&nbsp;with&nbsp;the&nbsp;step,&nbsp;that&nbsp;is,&nbsp;all&nbsp;executions&nbsp;of&nbsp;the<br>`Step`.&nbsp;The&nbsp;step&nbsp;may&nbsp;contain&nbsp;multiple&nbsp;`Task`s&nbsp;in&nbsp;the&nbsp;case&nbsp;of&nbsp;a&nbsp;foreach&nbsp;step.<br><br>Attributes<br>----------<br>task&nbsp;:&nbsp;Task<br>&nbsp;&nbsp;&nbsp;&nbsp;The&nbsp;first&nbsp;`Task`&nbsp;object&nbsp;in&nbsp;this&nbsp;step.&nbsp;This&nbsp;is&nbsp;a&nbsp;shortcut&nbsp;for&nbsp;retrieving&nbsp;the&nbsp;only<br>&nbsp;&nbsp;&nbsp;&nbsp;task&nbsp;contained&nbsp;in&nbsp;a&nbsp;non-foreach&nbsp;step.<br>finished_at&nbsp;:&nbsp;datetime<br>&nbsp;&nbsp;&nbsp;&nbsp;Time&nbsp;when&nbsp;the&nbsp;latest&nbsp;`Task`&nbsp;of&nbsp;this&nbsp;step&nbsp;finished.&nbsp;Note&nbsp;that&nbsp;in&nbsp;the&nbsp;case&nbsp;of&nbsp;foreaches,<br>&nbsp;&nbsp;&nbsp;&nbsp;this&nbsp;time&nbsp;may&nbsp;change&nbsp;during&nbsp;execution&nbsp;of&nbsp;the&nbsp;step.<br>environment_info&nbsp;:&nbsp;Dict[str,&nbsp;Any]<br>&nbsp;&nbsp;&nbsp;&nbsp;Information&nbsp;about&nbsp;the&nbsp;execution&nbsp;environment.</blockquote></p>\n",
       "</HTMLRemove>\n",
       "<DocSection type=\"class\" name=\"Step\" module=\"metaflow\" show_import=\"False\" heading_level=\"3\" link=\"https://github.com/Netflix/metaflow/tree/master/metaflow/client/core.py#L1651\">\n",
       "<SigArgSection>\n",
       "<SigArg name=\"pathspec\" />\n",
       "</SigArgSection>\n",
       "<Description summary=\"A `Step` represents a user-defined step, that is, a method annotated with the `@step` decorator.\" extended_summary=\"It contains `Task` objects associated with the step, that is, all executions of the\\n`Step`. The step may contain multiple `Task`s in the case of a foreach step.\" />\n",
       "<ParamSection name=\"Attributes\">\n",
       "\t<Parameter name=\"task\" type=\"Task\" desc=\"The first `Task` object in this step. This is a shortcut for retrieving the only\\ntask contained in a non-foreach step.\" />\n",
       "\t<Parameter name=\"finished_at\" type=\"datetime\" desc=\"Time when the latest `Task` of this step finished. Note that in the case of foreaches,\\nthis time may change during execution of the step.\" />\n",
       "\t<Parameter name=\"environment_info\" type=\"Dict[str, Any]\" desc=\"Information about the execution environment.\" />\n",
       "</ParamSection>\n",
       "</DocSection>"
      ],
      "text/plain": [
       "<nbdoc.showdoc.ShowDoc at 0x1055745b0>"
      ]
     },
     "execution_count": 12,
     "metadata": {},
     "output_type": "execute_result"
    }
   ],
   "source": [
    "ShowDoc(Step, spoofstr=('pathspec'))"
   ]
  },
  {
   "cell_type": "markdown",
   "id": "77ec8c2d",
   "metadata": {},
   "source": [
    "### Task"
   ]
  },
  {
   "cell_type": "code",
   "execution_count": 13,
   "id": "43db4359",
   "metadata": {
    "execution": {
     "iopub.execute_input": "2024-11-05T04:49:38.033762Z",
     "iopub.status.busy": "2024-11-05T04:49:38.032820Z",
     "iopub.status.idle": "2024-11-05T04:49:38.047480Z",
     "shell.execute_reply": "2024-11-05T04:49:38.047172Z"
    }
   },
   "outputs": [
    {
     "data": {
      "text/html": [
       "<HTMLRemove>\n",
       "<h3> <code>class</code> <span style=\"color:Brown\">Task</span> <em>pathspec, attempt=None</em><a href=\"https://github.com/Netflix/metaflow/tree/master/metaflow/client/core.py#L1064\" style=\"float:right\">[source]</a></h3><p><blockquote>A&nbsp;`Task`&nbsp;represents&nbsp;an&nbsp;execution&nbsp;of&nbsp;a&nbsp;`Step`.<br><br>It&nbsp;contains&nbsp;all&nbsp;`DataArtifact`&nbsp;objects&nbsp;produced&nbsp;by&nbsp;the&nbsp;task&nbsp;as<br>well&nbsp;as&nbsp;metadata&nbsp;related&nbsp;to&nbsp;execution.<br><br>Note&nbsp;that&nbsp;the&nbsp;`@retry`&nbsp;decorator&nbsp;may&nbsp;cause&nbsp;multiple&nbsp;attempts&nbsp;of<br>the&nbsp;task&nbsp;to&nbsp;be&nbsp;present.&nbsp;Usually&nbsp;you&nbsp;want&nbsp;the&nbsp;latest&nbsp;attempt,&nbsp;which<br>is&nbsp;what&nbsp;instantiating&nbsp;a&nbsp;`Task`&nbsp;object&nbsp;returns&nbsp;by&nbsp;default.&nbsp;If<br>you&nbsp;need&nbsp;to&nbsp;e.g.&nbsp;retrieve&nbsp;logs&nbsp;from&nbsp;a&nbsp;failed&nbsp;attempt,&nbsp;you&nbsp;can<br>explicitly&nbsp;get&nbsp;information&nbsp;about&nbsp;a&nbsp;specific&nbsp;attempt&nbsp;by&nbsp;using&nbsp;the<br>following&nbsp;syntax&nbsp;when&nbsp;creating&nbsp;a&nbsp;task:<br><br>`Task('flow/run/step/task',&nbsp;attempt=<attempt>)`<br><br>where&nbsp;`attempt=0`&nbsp;corresponds&nbsp;to&nbsp;the&nbsp;first&nbsp;attempt&nbsp;etc.<br><br>Attributes<br>----------<br>metadata&nbsp;:&nbsp;List[Metadata]<br>&nbsp;&nbsp;&nbsp;&nbsp;List&nbsp;of&nbsp;all&nbsp;metadata&nbsp;events&nbsp;associated&nbsp;with&nbsp;the&nbsp;task.<br>metadata_dict&nbsp;:&nbsp;Dict[str,&nbsp;str]<br>&nbsp;&nbsp;&nbsp;&nbsp;A&nbsp;condensed&nbsp;version&nbsp;of&nbsp;`metadata`:&nbsp;A&nbsp;dictionary&nbsp;where&nbsp;keys<br>&nbsp;&nbsp;&nbsp;&nbsp;are&nbsp;names&nbsp;of&nbsp;metadata&nbsp;events&nbsp;and&nbsp;values&nbsp;the&nbsp;latest&nbsp;corresponding&nbsp;event.<br>data&nbsp;:&nbsp;MetaflowData<br>&nbsp;&nbsp;&nbsp;&nbsp;Container&nbsp;of&nbsp;all&nbsp;data&nbsp;artifacts&nbsp;produced&nbsp;by&nbsp;this&nbsp;task.&nbsp;Note&nbsp;that&nbsp;this<br>&nbsp;&nbsp;&nbsp;&nbsp;call&nbsp;downloads&nbsp;all&nbsp;data&nbsp;locally,&nbsp;so&nbsp;it&nbsp;can&nbsp;be&nbsp;slower&nbsp;than&nbsp;accessing<br>&nbsp;&nbsp;&nbsp;&nbsp;artifacts&nbsp;individually.&nbsp;See&nbsp;`MetaflowData`&nbsp;for&nbsp;more&nbsp;information.<br>artifacts&nbsp;:&nbsp;MetaflowArtifacts<br>&nbsp;&nbsp;&nbsp;&nbsp;Container&nbsp;of&nbsp;`DataArtifact`&nbsp;objects&nbsp;produced&nbsp;by&nbsp;this&nbsp;task.<br>successful&nbsp;:&nbsp;bool<br>&nbsp;&nbsp;&nbsp;&nbsp;True&nbsp;if&nbsp;the&nbsp;task&nbsp;completed&nbsp;successfully.<br>finished&nbsp;:&nbsp;bool<br>&nbsp;&nbsp;&nbsp;&nbsp;True&nbsp;if&nbsp;the&nbsp;task&nbsp;completed.<br>exception&nbsp;:&nbsp;object<br>&nbsp;&nbsp;&nbsp;&nbsp;Exception&nbsp;raised&nbsp;by&nbsp;this&nbsp;task&nbsp;if&nbsp;there&nbsp;was&nbsp;one.<br>finished_at&nbsp;:&nbsp;datetime<br>&nbsp;&nbsp;&nbsp;&nbsp;Time&nbsp;this&nbsp;task&nbsp;finished.<br>runtime_name&nbsp;:&nbsp;str<br>&nbsp;&nbsp;&nbsp;&nbsp;Runtime&nbsp;this&nbsp;task&nbsp;was&nbsp;executed&nbsp;on.<br>stdout&nbsp;:&nbsp;str<br>&nbsp;&nbsp;&nbsp;&nbsp;Standard&nbsp;output&nbsp;for&nbsp;the&nbsp;task&nbsp;execution.<br>stderr&nbsp;:&nbsp;str<br>&nbsp;&nbsp;&nbsp;&nbsp;Standard&nbsp;error&nbsp;output&nbsp;for&nbsp;the&nbsp;task&nbsp;execution.<br>code&nbsp;:&nbsp;MetaflowCode<br>&nbsp;&nbsp;&nbsp;&nbsp;Code&nbsp;package&nbsp;for&nbsp;this&nbsp;task&nbsp;(if&nbsp;present).&nbsp;See&nbsp;`MetaflowCode`.<br>environment_info&nbsp;:&nbsp;Dict[str,&nbsp;str]<br>&nbsp;&nbsp;&nbsp;&nbsp;Information&nbsp;about&nbsp;the&nbsp;execution&nbsp;environment.</blockquote></p>\n",
       "</HTMLRemove>\n",
       "<DocSection type=\"class\" name=\"Task\" module=\"metaflow\" show_import=\"False\" heading_level=\"3\" link=\"https://github.com/Netflix/metaflow/tree/master/metaflow/client/core.py#L1064\">\n",
       "<SigArgSection>\n",
       "<SigArg name=\"pathspec, attempt=None\" />\n",
       "</SigArgSection>\n",
       "<Description summary=\"A `Task` represents an execution of a `Step`.\" extended_summary=\"It contains all `DataArtifact` objects produced by the task as\\nwell as metadata related to execution.\\n\\nNote that the `@retry` decorator may cause multiple attempts of\\nthe task to be present. Usually you want the latest attempt, which\\nis what instantiating a `Task` object returns by default. If\\nyou need to e.g. retrieve logs from a failed attempt, you can\\nexplicitly get information about a specific attempt by using the\\nfollowing syntax when creating a task:\\n\\n`Task('flow/run/step/task', attempt=<attempt>)`\\n\\nwhere `attempt=0` corresponds to the first attempt etc.\" />\n",
       "<ParamSection name=\"Attributes\">\n",
       "\t<Parameter name=\"metadata\" type=\"List[Metadata]\" desc=\"List of all metadata events associated with the task.\" />\n",
       "\t<Parameter name=\"metadata_dict\" type=\"Dict[str, str]\" desc=\"A condensed version of `metadata`: A dictionary where keys\\nare names of metadata events and values the latest corresponding event.\" />\n",
       "\t<Parameter name=\"data\" type=\"MetaflowData\" desc=\"Container of all data artifacts produced by this task. Note that this\\ncall downloads all data locally, so it can be slower than accessing\\nartifacts individually. See `MetaflowData` for more information.\" />\n",
       "\t<Parameter name=\"artifacts\" type=\"MetaflowArtifacts\" desc=\"Container of `DataArtifact` objects produced by this task.\" />\n",
       "\t<Parameter name=\"successful\" type=\"bool\" desc=\"True if the task completed successfully.\" />\n",
       "\t<Parameter name=\"finished\" type=\"bool\" desc=\"True if the task completed.\" />\n",
       "\t<Parameter name=\"exception\" type=\"object\" desc=\"Exception raised by this task if there was one.\" />\n",
       "\t<Parameter name=\"finished_at\" type=\"datetime\" desc=\"Time this task finished.\" />\n",
       "\t<Parameter name=\"runtime_name\" type=\"str\" desc=\"Runtime this task was executed on.\" />\n",
       "\t<Parameter name=\"stdout\" type=\"str\" desc=\"Standard output for the task execution.\" />\n",
       "\t<Parameter name=\"stderr\" type=\"str\" desc=\"Standard error output for the task execution.\" />\n",
       "\t<Parameter name=\"code\" type=\"MetaflowCode\" desc=\"Code package for this task (if present). See `MetaflowCode`.\" />\n",
       "\t<Parameter name=\"environment_info\" type=\"Dict[str, str]\" desc=\"Information about the execution environment.\" />\n",
       "</ParamSection>\n",
       "</DocSection>"
      ],
      "text/plain": [
       "<nbdoc.showdoc.ShowDoc at 0x105567c40>"
      ]
     },
     "execution_count": 13,
     "metadata": {},
     "output_type": "execute_result"
    }
   ],
   "source": [
    "ShowDoc(Task, spoofstr=('pathspec, attempt=None'))"
   ]
  },
  {
   "cell_type": "code",
   "execution_count": 14,
   "id": "fdb93b31",
   "metadata": {
    "execution": {
     "iopub.execute_input": "2024-11-05T04:49:38.051002Z",
     "iopub.status.busy": "2024-11-05T04:49:38.050823Z",
     "iopub.status.idle": "2024-11-05T04:49:38.054388Z",
     "shell.execute_reply": "2024-11-05T04:49:38.054015Z"
    }
   },
   "outputs": [
    {
     "data": {
      "text/html": [
       "<HTMLRemove>\n",
       "<h4> <code>method</code> <span style=\"color:Brown\">Task.loglines</span> <em>(self, stream: str, as_unicode: bool = True, meta_dict: Optional[Dict[str, Any]] = None) -> Iterator[Tuple[datetime.datetime, str]]</em><a href=\"https://github.com/Netflix/metaflow/tree/master/metaflow/client/core.py#L1520\" style=\"float:right\">[source]</a></h4><p><blockquote>Return&nbsp;an&nbsp;iterator&nbsp;over&nbsp;(utc_timestamp,&nbsp;logline)&nbsp;tuples.<br><br>Parameters<br>----------<br>stream&nbsp;:&nbsp;str<br>&nbsp;&nbsp;&nbsp;&nbsp;Either&nbsp;'stdout'&nbsp;or&nbsp;'stderr'.<br>as_unicode&nbsp;:&nbsp;bool,&nbsp;default:&nbsp;True<br>&nbsp;&nbsp;&nbsp;&nbsp;If&nbsp;as_unicode=False,&nbsp;each&nbsp;logline&nbsp;is&nbsp;returned&nbsp;as&nbsp;a&nbsp;byte&nbsp;object.&nbsp;Otherwise,<br>&nbsp;&nbsp;&nbsp;&nbsp;it&nbsp;is&nbsp;returned&nbsp;as&nbsp;a&nbsp;(unicode)&nbsp;string.<br><br>Yields<br>------<br>Tuple[datetime,&nbsp;str]<br>&nbsp;&nbsp;&nbsp;&nbsp;Tuple&nbsp;of&nbsp;timestamp,&nbsp;logline&nbsp;pairs.</blockquote></p>\n",
       "</HTMLRemove>\n",
       "<DocSection type=\"method\" name=\"Task.loglines\" module=\"metaflow\" show_import=\"False\" heading_level=\"4\" link=\"https://github.com/Netflix/metaflow/tree/master/metaflow/client/core.py#L1520\">\n",
       "<SigArgSection>\n",
       "<SigArg name=\"self\" /><SigArg name=\"stream\" type=\"str\" /><SigArg name=\"as_unicode\" type=\"bool\" default=\"True\" /><SigArg name=\"meta_dict\" type=\"Optional\" default=\"None\" />\n",
       "</SigArgSection>\n",
       "<Description summary=\"Return an iterator over (utc_timestamp, logline) tuples.\" />\n",
       "<ParamSection name=\"Parameters\">\n",
       "\t<Parameter name=\"stream\" type=\"str\" desc=\"Either 'stdout' or 'stderr'.\" />\n",
       "\t<Parameter name=\"as_unicode\" type=\"bool, default: True\" desc=\"If as_unicode=False, each logline is returned as a byte object. Otherwise,\\nit is returned as a (unicode) string.\" />\n",
       "</ParamSection>\n",
       "<ParamSection name=\"Yields\">\n",
       "\t<Parameter type=\"Tuple[datetime, str]\" desc=\"Tuple of timestamp, logline pairs.\" />\n",
       "</ParamSection>\n",
       "</DocSection>"
      ],
      "text/plain": [
       "<nbdoc.showdoc.ShowDoc at 0x105503430>"
      ]
     },
     "execution_count": 14,
     "metadata": {},
     "output_type": "execute_result"
    }
   ],
   "source": [
    "ShowDoc(Task.loglines)"
   ]
  },
  {
   "cell_type": "markdown",
   "id": "4f350cf0",
   "metadata": {},
   "source": [
    "### DataArtifact"
   ]
  },
  {
   "cell_type": "code",
   "execution_count": 15,
   "id": "5dad835f",
   "metadata": {
    "execution": {
     "iopub.execute_input": "2024-11-05T04:49:38.057562Z",
     "iopub.status.busy": "2024-11-05T04:49:38.057346Z",
     "iopub.status.idle": "2024-11-05T04:49:38.067497Z",
     "shell.execute_reply": "2024-11-05T04:49:38.067167Z"
    }
   },
   "outputs": [
    {
     "data": {
      "text/html": [
       "<HTMLRemove>\n",
       "<h3> <code>class</code> <span style=\"color:Brown\">DataArtifact</span> <em>pathspec</em><a href=\"https://github.com/Netflix/metaflow/tree/master/metaflow/client/core.py#L885\" style=\"float:right\">[source]</a></h3><p><blockquote>A&nbsp;single&nbsp;data&nbsp;artifact&nbsp;and&nbsp;associated&nbsp;metadata.&nbsp;Note&nbsp;that&nbsp;this&nbsp;object&nbsp;does<br>not&nbsp;contain&nbsp;other&nbsp;objects&nbsp;as&nbsp;it&nbsp;is&nbsp;the&nbsp;leaf&nbsp;object&nbsp;in&nbsp;the&nbsp;hierarchy.<br><br>Attributes<br>----------<br>data&nbsp;:&nbsp;object<br>&nbsp;&nbsp;&nbsp;&nbsp;The&nbsp;data&nbsp;contained&nbsp;in&nbsp;this&nbsp;artifact,&nbsp;that&nbsp;is,&nbsp;the&nbsp;object&nbsp;produced&nbsp;during<br>&nbsp;&nbsp;&nbsp;&nbsp;execution&nbsp;of&nbsp;this&nbsp;run.<br>sha&nbsp;:&nbsp;string<br>&nbsp;&nbsp;&nbsp;&nbsp;A&nbsp;unique&nbsp;ID&nbsp;of&nbsp;this&nbsp;artifact.<br>finished_at&nbsp;:&nbsp;datetime<br>&nbsp;&nbsp;&nbsp;&nbsp;Corresponds&nbsp;roughly&nbsp;to&nbsp;the&nbsp;`Task.finished_at`&nbsp;time&nbsp;of&nbsp;the&nbsp;parent&nbsp;`Task`.<br>&nbsp;&nbsp;&nbsp;&nbsp;An&nbsp;alias&nbsp;for&nbsp;`DataArtifact.created_at`.</blockquote></p>\n",
       "</HTMLRemove>\n",
       "<DocSection type=\"class\" name=\"DataArtifact\" module=\"metaflow\" show_import=\"False\" heading_level=\"3\" link=\"https://github.com/Netflix/metaflow/tree/master/metaflow/client/core.py#L885\">\n",
       "<SigArgSection>\n",
       "<SigArg name=\"pathspec\" />\n",
       "</SigArgSection>\n",
       "<Description summary=\"A single data artifact and associated metadata. Note that this object does\\nnot contain other objects as it is the leaf object in the hierarchy.\" />\n",
       "<ParamSection name=\"Attributes\">\n",
       "\t<Parameter name=\"data\" type=\"object\" desc=\"The data contained in this artifact, that is, the object produced during\\nexecution of this run.\" />\n",
       "\t<Parameter name=\"sha\" type=\"string\" desc=\"A unique ID of this artifact.\" />\n",
       "\t<Parameter name=\"finished_at\" type=\"datetime\" desc=\"Corresponds roughly to the `Task.finished_at` time of the parent `Task`.\\nAn alias for `DataArtifact.created_at`.\" />\n",
       "</ParamSection>\n",
       "</DocSection>"
      ],
      "text/plain": [
       "<nbdoc.showdoc.ShowDoc at 0x105503910>"
      ]
     },
     "execution_count": 15,
     "metadata": {},
     "output_type": "execute_result"
    }
   ],
   "source": [
    "ShowDoc(DataArtifact, spoofstr=('pathspec'))"
   ]
  },
  {
   "cell_type": "markdown",
   "id": "aa6fce3f",
   "metadata": {},
   "source": [
    "## Helper Objects"
   ]
  },
  {
   "cell_type": "markdown",
   "id": "577c33a7",
   "metadata": {},
   "source": [
    "### MetaflowData"
   ]
  },
  {
   "cell_type": "code",
   "execution_count": 16,
   "id": "7c6ef99c",
   "metadata": {
    "execution": {
     "iopub.execute_input": "2024-11-05T04:49:38.070779Z",
     "iopub.status.busy": "2024-11-05T04:49:38.070561Z",
     "iopub.status.idle": "2024-11-05T04:49:38.079941Z",
     "shell.execute_reply": "2024-11-05T04:49:38.079637Z"
    }
   },
   "outputs": [
    {
     "data": {
      "text/html": [
       "<HTMLRemove>\n",
       "<h3> <code>class</code> <span style=\"color:Brown\">MetaflowData</span> <em></em><a href=\"https://github.com/Netflix/metaflow/tree/master/metaflow/client/core.py#L1018\" style=\"float:right\">[source]</a></h3><p><blockquote>Container&nbsp;of&nbsp;data&nbsp;artifacts&nbsp;produced&nbsp;by&nbsp;a&nbsp;`Task`.&nbsp;This&nbsp;object&nbsp;is<br>instantiated&nbsp;through&nbsp;`Task.data`.<br><br>`MetaflowData`&nbsp;allows&nbsp;results&nbsp;to&nbsp;be&nbsp;retrieved&nbsp;by&nbsp;their&nbsp;name<br>through&nbsp;a&nbsp;convenient&nbsp;dot&nbsp;notation:<br><br>```python<br>Task(...).data.my_object<br>```<br><br>You&nbsp;can&nbsp;also&nbsp;test&nbsp;the&nbsp;existence&nbsp;of&nbsp;an&nbsp;object<br><br>```python<br>if&nbsp;'my_object'&nbsp;in&nbsp;Task(...).data:<br>&nbsp;&nbsp;&nbsp;&nbsp;print('my_object&nbsp;found')<br>```<br><br>Note&nbsp;that&nbsp;this&nbsp;container&nbsp;relies&nbsp;on&nbsp;the&nbsp;local&nbsp;cache&nbsp;to&nbsp;load&nbsp;all&nbsp;data<br>artifacts.&nbsp;If&nbsp;your&nbsp;`Task`&nbsp;contains&nbsp;a&nbsp;lot&nbsp;of&nbsp;data,&nbsp;a&nbsp;more&nbsp;efficient<br>approach&nbsp;is&nbsp;to&nbsp;load&nbsp;artifacts&nbsp;individually&nbsp;like&nbsp;so<br><br>```<br>Task(...)['my_object'].data<br>```</blockquote></p>\n",
       "</HTMLRemove>\n",
       "<DocSection type=\"class\" name=\"MetaflowData\" module=\"metaflow\" show_import=\"False\" heading_level=\"3\" link=\"https://github.com/Netflix/metaflow/tree/master/metaflow/client/core.py#L1018\">\n",
       "<SigArgSection>\n",
       "<SigArg name=\"\" />\n",
       "</SigArgSection>\n",
       "<Description summary=\"Container of data artifacts produced by a `Task`. This object is\\ninstantiated through `Task.data`.\" extended_summary=\"`MetaflowData` allows results to be retrieved by their name\\nthrough a convenient dot notation:\\n\\n```python\\nTask(...).data.my_object\\n```\\n\\nYou can also test the existence of an object\\n\\n```python\\nif 'my_object' in Task(...).data:\\n    print('my_object found')\\n```\\n\\nNote that this container relies on the local cache to load all data\\nartifacts. If your `Task` contains a lot of data, a more efficient\\napproach is to load artifacts individually like so\\n\\n```\\nTask(...)['my_object'].data\\n```\" />\n",
       "\n",
       "</DocSection>"
      ],
      "text/plain": [
       "<nbdoc.showdoc.ShowDoc at 0x10557b790>"
      ]
     },
     "execution_count": 16,
     "metadata": {},
     "output_type": "execute_result"
    }
   ],
   "source": [
    "from metaflow.client.core import MetaflowData, MetaflowCode\n",
    "from metaflow.events import MetaflowEvent, Trigger\n",
    "\n",
    "ShowDoc(MetaflowData, spoofstr='')"
   ]
  },
  {
   "cell_type": "markdown",
   "id": "34ca3965",
   "metadata": {},
   "source": [
    "### MetaflowCode"
   ]
  },
  {
   "cell_type": "code",
   "execution_count": 17,
   "id": "5f454538",
   "metadata": {
    "execution": {
     "iopub.execute_input": "2024-11-05T04:49:38.083198Z",
     "iopub.status.busy": "2024-11-05T04:49:38.083070Z",
     "iopub.status.idle": "2024-11-05T04:49:38.092678Z",
     "shell.execute_reply": "2024-11-05T04:49:38.092297Z"
    }
   },
   "outputs": [
    {
     "data": {
      "text/html": [
       "<HTMLRemove>\n",
       "<h3> <code>class</code> <span style=\"color:Brown\">MetaflowCode</span> <em></em><a href=\"https://github.com/Netflix/metaflow/tree/master/metaflow/client/core.py#L784\" style=\"float:right\">[source]</a></h3><p><blockquote>Snapshot&nbsp;of&nbsp;the&nbsp;code&nbsp;used&nbsp;to&nbsp;execute&nbsp;this&nbsp;`Run`.&nbsp;Instantiate&nbsp;the&nbsp;object&nbsp;through<br>`Run(...).code`&nbsp;(if&nbsp;any&nbsp;step&nbsp;is&nbsp;executed&nbsp;remotely)&nbsp;or&nbsp;`Task(...).code`&nbsp;for&nbsp;an<br>individual&nbsp;task.&nbsp;The&nbsp;code&nbsp;package&nbsp;is&nbsp;the&nbsp;same&nbsp;for&nbsp;all&nbsp;steps&nbsp;of&nbsp;a&nbsp;`Run`.<br><br>`MetaflowCode`&nbsp;includes&nbsp;a&nbsp;package&nbsp;of&nbsp;the&nbsp;user-defined&nbsp;`FlowSpec`&nbsp;class&nbsp;and&nbsp;supporting<br>files,&nbsp;as&nbsp;well&nbsp;as&nbsp;a&nbsp;snapshot&nbsp;of&nbsp;the&nbsp;Metaflow&nbsp;library&nbsp;itself.<br><br>Currently,&nbsp;`MetaflowCode`&nbsp;objects&nbsp;are&nbsp;stored&nbsp;only&nbsp;for&nbsp;`Run`s&nbsp;that&nbsp;have&nbsp;at&nbsp;least&nbsp;one&nbsp;`Step`<br>executing&nbsp;outside&nbsp;the&nbsp;user's&nbsp;local&nbsp;environment.<br><br>The&nbsp;`TarFile`&nbsp;for&nbsp;the&nbsp;`Run`&nbsp;is&nbsp;given&nbsp;by&nbsp;`Run(...).code.tarball`<br><br>Attributes<br>----------<br>path&nbsp;:&nbsp;str<br>&nbsp;&nbsp;&nbsp;&nbsp;Location&nbsp;(in&nbsp;the&nbsp;datastore&nbsp;provider)&nbsp;of&nbsp;the&nbsp;code&nbsp;package.<br>info&nbsp;:&nbsp;Dict[str,&nbsp;str]<br>&nbsp;&nbsp;&nbsp;&nbsp;Dictionary&nbsp;of&nbsp;information&nbsp;related&nbsp;to&nbsp;this&nbsp;code-package.<br>flowspec&nbsp;:&nbsp;str<br>&nbsp;&nbsp;&nbsp;&nbsp;Source&nbsp;code&nbsp;of&nbsp;the&nbsp;file&nbsp;containing&nbsp;the&nbsp;`FlowSpec`&nbsp;in&nbsp;this&nbsp;code&nbsp;package.<br>tarball&nbsp;:&nbsp;TarFile<br>&nbsp;&nbsp;&nbsp;&nbsp;Python&nbsp;standard&nbsp;library&nbsp;`tarfile.TarFile`&nbsp;archive&nbsp;containing&nbsp;all&nbsp;the&nbsp;code.</blockquote></p>\n",
       "</HTMLRemove>\n",
       "<DocSection type=\"class\" name=\"MetaflowCode\" module=\"metaflow\" show_import=\"False\" heading_level=\"3\" link=\"https://github.com/Netflix/metaflow/tree/master/metaflow/client/core.py#L784\">\n",
       "<SigArgSection>\n",
       "<SigArg name=\"\" />\n",
       "</SigArgSection>\n",
       "<Description summary=\"Snapshot of the code used to execute this `Run`. Instantiate the object through\\n`Run(...).code` (if any step is executed remotely) or `Task(...).code` for an\\nindividual task. The code package is the same for all steps of a `Run`.\" extended_summary=\"`MetaflowCode` includes a package of the user-defined `FlowSpec` class and supporting\\nfiles, as well as a snapshot of the Metaflow library itself.\\n\\nCurrently, `MetaflowCode` objects are stored only for `Run`s that have at least one `Step`\\nexecuting outside the user's local environment.\\n\\nThe `TarFile` for the `Run` is given by `Run(...).code.tarball`\" />\n",
       "<ParamSection name=\"Attributes\">\n",
       "\t<Parameter name=\"path\" type=\"str\" desc=\"Location (in the datastore provider) of the code package.\" />\n",
       "\t<Parameter name=\"info\" type=\"Dict[str, str]\" desc=\"Dictionary of information related to this code-package.\" />\n",
       "\t<Parameter name=\"flowspec\" type=\"str\" desc=\"Source code of the file containing the `FlowSpec` in this code package.\" />\n",
       "\t<Parameter name=\"tarball\" type=\"TarFile\" desc=\"Python standard library `tarfile.TarFile` archive containing all the code.\" />\n",
       "</ParamSection>\n",
       "</DocSection>"
      ],
      "text/plain": [
       "<nbdoc.showdoc.ShowDoc at 0x105577580>"
      ]
     },
     "execution_count": 17,
     "metadata": {},
     "output_type": "execute_result"
    }
   ],
   "source": [
    "ShowDoc(MetaflowCode, spoofstr='')"
   ]
  },
  {
   "cell_type": "markdown",
   "id": "fc27ff0c",
   "metadata": {},
   "source": [
    "### MetaflowTrigger"
   ]
  },
  {
   "cell_type": "markdown",
   "id": "d26b511c",
   "metadata": {
    "execution": {
     "iopub.execute_input": "2023-05-16T22:00:12.755873Z",
     "iopub.status.busy": "2023-05-16T22:00:12.755621Z",
     "iopub.status.idle": "2023-05-16T22:00:12.762554Z",
     "shell.execute_reply": "2023-05-16T22:00:12.761714Z"
    },
    "scrolled": true
   },
   "source": [
    "`MetaflowTrigger` is returned by `Run.trigger` if the `Run` was [triggered by an event](/production/event-triggering). It is also returned by [`current.trigger`](/api/current) when called from an event-triggered flow."
   ]
  },
  {
   "cell_type": "code",
   "execution_count": 18,
   "id": "b3817f2e",
   "metadata": {
    "execution": {
     "iopub.execute_input": "2024-11-05T04:49:38.095571Z",
     "iopub.status.busy": "2024-11-05T04:49:38.095419Z",
     "iopub.status.idle": "2024-11-05T04:49:38.097991Z",
     "shell.execute_reply": "2024-11-05T04:49:38.097597Z"
    }
   },
   "outputs": [
    {
     "data": {
      "text/html": [
       "<HTMLRemove>\n",
       "<h4> <code>property</code> <span style=\"color:Brown\">Trigger.event</span> <em></em><a href=\"https://github.com/Netflix/metaflow/tree/master/\" style=\"float:right\">[source]</a></h4><p><blockquote>The&nbsp;`MetaflowEvent`&nbsp;object&nbsp;corresponding&nbsp;to&nbsp;the&nbsp;triggering&nbsp;event.<br><br>If&nbsp;multiple&nbsp;events&nbsp;triggered&nbsp;the&nbsp;run,&nbsp;this&nbsp;property&nbsp;is&nbsp;the&nbsp;latest&nbsp;event.<br><br>Returns<br>-------<br>MetaflowEvent,&nbsp;optional<br>&nbsp;&nbsp;&nbsp;&nbsp;The&nbsp;latest&nbsp;event&nbsp;that&nbsp;triggered&nbsp;the&nbsp;run,&nbsp;if&nbsp;applicable.</blockquote></p>\n",
       "</HTMLRemove>\n",
       "<DocSection type=\"property\" name=\"Trigger.event\" module=\"metaflow.events\" show_import=\"False\" heading_level=\"4\" link=\"https://github.com/Netflix/metaflow/tree/master/\">\n",
       "<SigArgSection>\n",
       "<SigArg name=\"\" />\n",
       "</SigArgSection>\n",
       "<Description summary=\"The `MetaflowEvent` object corresponding to the triggering event.\\n\\nIf multiple events triggered the run, this property is the latest event.\\n\" />\n",
       "<ParamSection name=\"Returns\">\n",
       "<Parameter type=\"MetaflowEvent, optional\" desc=\"The latest event that triggered the run, if applicable.\" />\n",
       "</ParamSection>\n",
       "</DocSection>"
      ],
      "text/plain": [
       "<nbdoc.showdoc.ShowDoc at 0x105565840>"
      ]
     },
     "execution_count": 18,
     "metadata": {},
     "output_type": "execute_result"
    }
   ],
   "source": [
    "ShowDoc(Trigger.event, spoofstr='')"
   ]
  },
  {
   "cell_type": "code",
   "execution_count": 19,
   "id": "9192a187",
   "metadata": {
    "execution": {
     "iopub.execute_input": "2024-11-05T04:49:38.101844Z",
     "iopub.status.busy": "2024-11-05T04:49:38.101674Z",
     "iopub.status.idle": "2024-11-05T04:49:38.104230Z",
     "shell.execute_reply": "2024-11-05T04:49:38.103958Z"
    }
   },
   "outputs": [
    {
     "data": {
      "text/html": [
       "<HTMLRemove>\n",
       "<h4> <code>property</code> <span style=\"color:Brown\">Trigger.events</span> <em></em><a href=\"https://github.com/Netflix/metaflow/tree/master/\" style=\"float:right\">[source]</a></h4><p><blockquote>The&nbsp;list&nbsp;of&nbsp;`MetaflowEvent`&nbsp;objects&nbsp;correspondings&nbsp;to&nbsp;all&nbsp;the&nbsp;triggering&nbsp;events.<br><br>Returns<br>-------<br>List[MetaflowEvent],&nbsp;optional<br>&nbsp;&nbsp;&nbsp;&nbsp;List&nbsp;of&nbsp;all&nbsp;events&nbsp;that&nbsp;triggered&nbsp;the&nbsp;run</blockquote></p>\n",
       "</HTMLRemove>\n",
       "<DocSection type=\"property\" name=\"Trigger.events\" module=\"metaflow.events\" show_import=\"False\" heading_level=\"4\" link=\"https://github.com/Netflix/metaflow/tree/master/\">\n",
       "<SigArgSection>\n",
       "<SigArg name=\"\" />\n",
       "</SigArgSection>\n",
       "<Description summary=\"The list of `MetaflowEvent` objects correspondings to all the triggering events.\\n\" />\n",
       "<ParamSection name=\"Returns\">\n",
       "<Parameter type=\"List[MetaflowEvent], optional\" desc=\"List of all events that triggered the run\" />\n",
       "</ParamSection>\n",
       "</DocSection>"
      ],
      "text/plain": [
       "<nbdoc.showdoc.ShowDoc at 0x105566290>"
      ]
     },
     "execution_count": 19,
     "metadata": {},
     "output_type": "execute_result"
    }
   ],
   "source": [
    "ShowDoc(Trigger.events, spoofstr='')"
   ]
  },
  {
   "cell_type": "code",
   "execution_count": 20,
   "id": "97c20808",
   "metadata": {
    "execution": {
     "iopub.execute_input": "2024-11-05T04:49:38.107542Z",
     "iopub.status.busy": "2024-11-05T04:49:38.107402Z",
     "iopub.status.idle": "2024-11-05T04:49:38.109879Z",
     "shell.execute_reply": "2024-11-05T04:49:38.109591Z"
    }
   },
   "outputs": [
    {
     "data": {
      "text/html": [
       "<HTMLRemove>\n",
       "<h4> <code>property</code> <span style=\"color:Brown\">Trigger.run</span> <em></em><a href=\"https://github.com/Netflix/metaflow/tree/master/\" style=\"float:right\">[source]</a></h4><p><blockquote>The&nbsp;corresponding&nbsp;`Run`&nbsp;object&nbsp;if&nbsp;the&nbsp;triggering&nbsp;event&nbsp;is&nbsp;a&nbsp;Metaflow&nbsp;run.<br><br>In&nbsp;case&nbsp;multiple&nbsp;runs&nbsp;triggered&nbsp;the&nbsp;run,&nbsp;this&nbsp;property&nbsp;is&nbsp;the&nbsp;latest&nbsp;run.<br>Returns&nbsp;`None`&nbsp;if&nbsp;none&nbsp;of&nbsp;the&nbsp;triggering&nbsp;events&nbsp;are&nbsp;a&nbsp;`Run`.<br><br>Returns<br>-------<br>Run,&nbsp;optional<br>&nbsp;&nbsp;&nbsp;&nbsp;Latest&nbsp;Run&nbsp;that&nbsp;triggered&nbsp;this&nbsp;run,&nbsp;if&nbsp;applicable.</blockquote></p>\n",
       "</HTMLRemove>\n",
       "<DocSection type=\"property\" name=\"Trigger.run\" module=\"metaflow.events\" show_import=\"False\" heading_level=\"4\" link=\"https://github.com/Netflix/metaflow/tree/master/\">\n",
       "<SigArgSection>\n",
       "<SigArg name=\"\" />\n",
       "</SigArgSection>\n",
       "<Description summary=\"The corresponding `Run` object if the triggering event is a Metaflow run.\\n\\nIn case multiple runs triggered the run, this property is the latest run.\\nReturns `None` if none of the triggering events are a `Run`.\\n\" />\n",
       "<ParamSection name=\"Returns\">\n",
       "<Parameter type=\"Run, optional\" desc=\"Latest Run that triggered this run, if applicable.\" />\n",
       "</ParamSection>\n",
       "</DocSection>"
      ],
      "text/plain": [
       "<nbdoc.showdoc.ShowDoc at 0x1055648b0>"
      ]
     },
     "execution_count": 20,
     "metadata": {},
     "output_type": "execute_result"
    }
   ],
   "source": [
    "ShowDoc(Trigger.run, spoofstr='')"
   ]
  },
  {
   "cell_type": "code",
   "execution_count": 21,
   "id": "ba6912f9",
   "metadata": {
    "execution": {
     "iopub.execute_input": "2024-11-05T04:49:38.114024Z",
     "iopub.status.busy": "2024-11-05T04:49:38.113812Z",
     "iopub.status.idle": "2024-11-05T04:49:38.117074Z",
     "shell.execute_reply": "2024-11-05T04:49:38.116734Z"
    }
   },
   "outputs": [
    {
     "data": {
      "text/html": [
       "<HTMLRemove>\n",
       "<h4> <code>property</code> <span style=\"color:Brown\">Trigger.runs</span> <em></em><a href=\"https://github.com/Netflix/metaflow/tree/master/\" style=\"float:right\">[source]</a></h4><p><blockquote>The&nbsp;list&nbsp;of&nbsp;`Run`&nbsp;objects&nbsp;in&nbsp;the&nbsp;triggering&nbsp;events.<br>Returns&nbsp;`None`&nbsp;if&nbsp;none&nbsp;of&nbsp;the&nbsp;triggering&nbsp;events&nbsp;are&nbsp;`Run`&nbsp;objects.<br><br>Returns<br>-------<br>List[Run],&nbsp;optional<br>&nbsp;&nbsp;&nbsp;&nbsp;List&nbsp;of&nbsp;runs&nbsp;that&nbsp;triggered&nbsp;this&nbsp;run,&nbsp;if&nbsp;applicable.</blockquote></p>\n",
       "</HTMLRemove>\n",
       "<DocSection type=\"property\" name=\"Trigger.runs\" module=\"metaflow.events\" show_import=\"False\" heading_level=\"4\" link=\"https://github.com/Netflix/metaflow/tree/master/\">\n",
       "<SigArgSection>\n",
       "<SigArg name=\"\" />\n",
       "</SigArgSection>\n",
       "<Description summary=\"The list of `Run` objects in the triggering events.\\nReturns `None` if none of the triggering events are `Run` objects.\\n\" />\n",
       "<ParamSection name=\"Returns\">\n",
       "<Parameter type=\"List[Run], optional\" desc=\"List of runs that triggered this run, if applicable.\" />\n",
       "</ParamSection>\n",
       "</DocSection>"
      ],
      "text/plain": [
       "<nbdoc.showdoc.ShowDoc at 0x105566800>"
      ]
     },
     "execution_count": 21,
     "metadata": {},
     "output_type": "execute_result"
    }
   ],
   "source": [
    "ShowDoc(Trigger.runs, spoofstr='')"
   ]
  },
  {
   "cell_type": "code",
   "execution_count": 22,
   "id": "dc2fb830",
   "metadata": {
    "execution": {
     "iopub.execute_input": "2024-11-05T04:49:38.120639Z",
     "iopub.status.busy": "2024-11-05T04:49:38.120481Z",
     "iopub.status.idle": "2024-11-05T04:49:38.124227Z",
     "shell.execute_reply": "2024-11-05T04:49:38.123718Z"
    }
   },
   "outputs": [
    {
     "data": {
      "text/html": [
       "<HTMLRemove>\n",
       "<h4> <code>method</code> <span style=\"color:Brown\">Trigger.__getitem__</span> <em></em><a href=\"https://github.com/Netflix/metaflow/tree/master/metaflow/events.py#L144\" style=\"float:right\">[source]</a></h4><p><blockquote>If&nbsp;triggering&nbsp;events&nbsp;are&nbsp;runs,&nbsp;`key`&nbsp;corresponds&nbsp;to&nbsp;the&nbsp;flow&nbsp;name&nbsp;of&nbsp;the&nbsp;triggering&nbsp;run.<br>Otherwise,&nbsp;`key`&nbsp;corresponds&nbsp;to&nbsp;the&nbsp;event&nbsp;name&nbsp;and&nbsp;a&nbsp;`MetaflowEvent`&nbsp;object&nbsp;is&nbsp;returned.<br><br>Returns<br>-------<br>Union[Run,&nbsp;MetaflowEvent]<br>&nbsp;&nbsp;&nbsp;&nbsp;`Run`&nbsp;object&nbsp;if&nbsp;triggered&nbsp;by&nbsp;a&nbsp;run.&nbsp;Otherwise&nbsp;returns&nbsp;a&nbsp;`MetaflowEvent`.</blockquote></p>\n",
       "</HTMLRemove>\n",
       "<DocSection type=\"method\" name=\"Trigger.__getitem__\" module=\"metaflow\" show_import=\"False\" heading_level=\"4\" link=\"https://github.com/Netflix/metaflow/tree/master/metaflow/events.py#L144\">\n",
       "<SigArgSection>\n",
       "<SigArg name=\"\" />\n",
       "</SigArgSection>\n",
       "<Description summary=\"If triggering events are runs, `key` corresponds to the flow name of the triggering run.\\nOtherwise, `key` corresponds to the event name and a `MetaflowEvent` object is returned.\" />\n",
       "<ParamSection name=\"Returns\">\n",
       "\t<Parameter type=\"Union[Run, MetaflowEvent]\" desc=\"`Run` object if triggered by a run. Otherwise returns a `MetaflowEvent`.\" />\n",
       "</ParamSection>\n",
       "</DocSection>"
      ],
      "text/plain": [
       "<nbdoc.showdoc.ShowDoc at 0x105565780>"
      ]
     },
     "execution_count": 22,
     "metadata": {},
     "output_type": "execute_result"
    }
   ],
   "source": [
    "ShowDoc(Trigger.__getitem__, spoofstr='')"
   ]
  },
  {
   "cell_type": "markdown",
   "id": "7bd42f58",
   "metadata": {},
   "source": [
    "### MetaflowEvent\n",
    "\n",
    "`MetaflowEvent` is returned by `MetaflowTrigger` (see above) for [event-triggered](/production/event-triggering) runs."
   ]
  },
  {
   "cell_type": "code",
   "execution_count": 23,
   "id": "249a8772",
   "metadata": {
    "execution": {
     "iopub.execute_input": "2024-11-05T04:49:38.127305Z",
     "iopub.status.busy": "2024-11-05T04:49:38.127176Z",
     "iopub.status.idle": "2024-11-05T04:49:38.130891Z",
     "shell.execute_reply": "2024-11-05T04:49:38.130595Z"
    }
   },
   "outputs": [
    {
     "data": {
      "text/html": [
       "<HTMLRemove>\n",
       "<h3> <code>class</code> <span style=\"color:Brown\">MetaflowEvent</span> <em></em><a href=\"https://github.com/Netflix/metaflow/tree/master/\" style=\"float:right\">[source]</a></h3><p><blockquote>Container&nbsp;of&nbsp;metadata&nbsp;that&nbsp;identifies&nbsp;the&nbsp;event&nbsp;that&nbsp;triggered<br>the&nbsp;`Run`&nbsp;under&nbsp;consideration.<br><br>Attributes<br>----------<br>name&nbsp;:&nbsp;str<br>&nbsp;&nbsp;&nbsp;&nbsp;name&nbsp;of&nbsp;the&nbsp;event.<br>id&nbsp;:&nbsp;str<br>&nbsp;&nbsp;&nbsp;&nbsp;unique&nbsp;identifier&nbsp;for&nbsp;the&nbsp;event.<br>timestamp&nbsp;:&nbsp;datetime<br>&nbsp;&nbsp;&nbsp;&nbsp;timestamp&nbsp;recording&nbsp;creation&nbsp;time&nbsp;for&nbsp;the&nbsp;event.<br>type&nbsp;:&nbsp;str<br>&nbsp;&nbsp;&nbsp;&nbsp;type&nbsp;for&nbsp;the&nbsp;event&nbsp;-&nbsp;one&nbsp;of&nbsp;`event`&nbsp;or&nbsp;`run`</blockquote></p>\n",
       "</HTMLRemove>\n",
       "<DocSection type=\"class\" name=\"MetaflowEvent\" module=\"metaflow\" show_import=\"False\" heading_level=\"3\" link=\"https://github.com/Netflix/metaflow/tree/master/\">\n",
       "<SigArgSection>\n",
       "<SigArg name=\"\" />\n",
       "</SigArgSection>\n",
       "<Description summary=\"Container of metadata that identifies the event that triggered\\nthe `Run` under consideration.\" />\n",
       "<ParamSection name=\"Attributes\">\n",
       "\t<Parameter name=\"name\" type=\"str\" desc=\"name of the event.\" />\n",
       "\t<Parameter name=\"id\" type=\"str\" desc=\"unique identifier for the event.\" />\n",
       "\t<Parameter name=\"timestamp\" type=\"datetime\" desc=\"timestamp recording creation time for the event.\" />\n",
       "\t<Parameter name=\"type\" type=\"str\" desc=\"type for the event - one of `event` or `run`\" />\n",
       "</ParamSection>\n",
       "</DocSection>"
      ],
      "text/plain": [
       "<nbdoc.showdoc.ShowDoc at 0x105567a90>"
      ]
     },
     "execution_count": 23,
     "metadata": {},
     "output_type": "execute_result"
    }
   ],
   "source": [
    "ShowDoc(MetaflowEvent, spoofstr='')"
   ]
  },
  {
   "cell_type": "markdown",
   "id": "cdfc3b25",
   "metadata": {},
   "source": [
    "## Namespace functions"
   ]
  },
  {
   "cell_type": "code",
   "execution_count": 24,
   "id": "a8ff9d8a",
   "metadata": {
    "execution": {
     "iopub.execute_input": "2024-11-05T04:49:38.133846Z",
     "iopub.status.busy": "2024-11-05T04:49:38.133675Z",
     "iopub.status.idle": "2024-11-05T04:49:38.136905Z",
     "shell.execute_reply": "2024-11-05T04:49:38.136495Z"
    }
   },
   "outputs": [
    {
     "data": {
      "text/html": [
       "<HTMLRemove>\n",
       "<h3> <code>function</code> <span style=\"color:Brown\">namespace</span> <em>(ns: Optional[str]) -> Optional[str]</em><a href=\"https://github.com/Netflix/metaflow/tree/master/metaflow/client/core.py#L152\" style=\"float:right\">[source]</a></h3><strong>metaflow</strong><p><blockquote>Switch&nbsp;namespace&nbsp;to&nbsp;the&nbsp;one&nbsp;provided.<br><br>This&nbsp;call&nbsp;has&nbsp;a&nbsp;global&nbsp;effect.&nbsp;No&nbsp;objects&nbsp;outside&nbsp;this&nbsp;namespace<br>will&nbsp;be&nbsp;accessible.&nbsp;To&nbsp;access&nbsp;all&nbsp;objects&nbsp;regardless&nbsp;of&nbsp;namespaces,<br>pass&nbsp;None&nbsp;to&nbsp;this&nbsp;call.<br><br>Parameters<br>----------<br>ns&nbsp;:&nbsp;str,&nbsp;optional<br>&nbsp;&nbsp;&nbsp;&nbsp;Namespace&nbsp;to&nbsp;switch&nbsp;to&nbsp;or&nbsp;None&nbsp;to&nbsp;ignore&nbsp;namespaces.<br><br>Returns<br>-------<br>str,&nbsp;optional<br>&nbsp;&nbsp;&nbsp;&nbsp;Namespace&nbsp;set&nbsp;(result&nbsp;of&nbsp;get_namespace()).</blockquote></p>\n",
       "</HTMLRemove>\n",
       "<DocSection type=\"function\" name=\"namespace\" module=\"metaflow\" show_import=\"True\" heading_level=\"3\" link=\"https://github.com/Netflix/metaflow/tree/master/metaflow/client/core.py#L152\">\n",
       "<SigArgSection>\n",
       "<SigArg name=\"ns\" type=\"Optional\" />\n",
       "</SigArgSection>\n",
       "<Description summary=\"Switch namespace to the one provided.\" extended_summary=\"This call has a global effect. No objects outside this namespace\\nwill be accessible. To access all objects regardless of namespaces,\\npass None to this call.\" />\n",
       "<ParamSection name=\"Parameters\">\n",
       "\t<Parameter name=\"ns\" type=\"str, optional\" desc=\"Namespace to switch to or None to ignore namespaces.\" />\n",
       "</ParamSection>\n",
       "<ParamSection name=\"Returns\">\n",
       "\t<Parameter type=\"str, optional\" desc=\"Namespace set (result of get_namespace()).\" />\n",
       "</ParamSection>\n",
       "</DocSection>"
      ],
      "text/plain": [
       "<nbdoc.showdoc.ShowDoc at 0x105503850>"
      ]
     },
     "execution_count": 24,
     "metadata": {},
     "output_type": "execute_result"
    }
   ],
   "source": [
    "from metaflow import namespace, get_namespace, default_namespace\n",
    "\n",
    "ShowDoc(namespace, show_import=True)"
   ]
  },
  {
   "cell_type": "code",
   "execution_count": 25,
   "id": "864e244f",
   "metadata": {
    "execution": {
     "iopub.execute_input": "2024-11-05T04:49:38.140286Z",
     "iopub.status.busy": "2024-11-05T04:49:38.140061Z",
     "iopub.status.idle": "2024-11-05T04:49:38.143187Z",
     "shell.execute_reply": "2024-11-05T04:49:38.142872Z"
    }
   },
   "outputs": [
    {
     "data": {
      "text/html": [
       "<HTMLRemove>\n",
       "<h3> <code>function</code> <span style=\"color:Brown\">get_namespace</span> <em>() -> Optional[str]</em><a href=\"https://github.com/Netflix/metaflow/tree/master/metaflow/client/core.py#L175\" style=\"float:right\">[source]</a></h3><p><blockquote>Return&nbsp;the&nbsp;current&nbsp;namespace&nbsp;that&nbsp;is&nbsp;currently&nbsp;being&nbsp;used&nbsp;to&nbsp;filter&nbsp;objects.<br><br>The&nbsp;namespace&nbsp;is&nbsp;a&nbsp;tag&nbsp;associated&nbsp;with&nbsp;all&nbsp;objects&nbsp;in&nbsp;Metaflow.<br><br>Returns<br>-------<br>str,&nbsp;optional<br>&nbsp;&nbsp;&nbsp;&nbsp;The&nbsp;current&nbsp;namespace&nbsp;used&nbsp;to&nbsp;filter&nbsp;objects.</blockquote></p>\n",
       "</HTMLRemove>\n",
       "<DocSection type=\"function\" name=\"get_namespace\" module=\"metaflow\" show_import=\"False\" heading_level=\"3\" link=\"https://github.com/Netflix/metaflow/tree/master/metaflow/client/core.py#L175\">\n",
       "<SigArgSection>\n",
       "\n",
       "</SigArgSection>\n",
       "<Description summary=\"Return the current namespace that is currently being used to filter objects.\" extended_summary=\"The namespace is a tag associated with all objects in Metaflow.\" />\n",
       "<ParamSection name=\"Returns\">\n",
       "\t<Parameter type=\"str, optional\" desc=\"The current namespace used to filter objects.\" />\n",
       "</ParamSection>\n",
       "</DocSection>"
      ],
      "text/plain": [
       "<nbdoc.showdoc.ShowDoc at 0x105503100>"
      ]
     },
     "execution_count": 25,
     "metadata": {},
     "output_type": "execute_result"
    }
   ],
   "source": [
    "ShowDoc(get_namespace)"
   ]
  },
  {
   "cell_type": "code",
   "execution_count": 26,
   "id": "af4a31de",
   "metadata": {
    "execution": {
     "iopub.execute_input": "2024-11-05T04:49:38.145635Z",
     "iopub.status.busy": "2024-11-05T04:49:38.145516Z",
     "iopub.status.idle": "2024-11-05T04:49:38.148039Z",
     "shell.execute_reply": "2024-11-05T04:49:38.147788Z"
    }
   },
   "outputs": [
    {
     "data": {
      "text/html": [
       "<HTMLRemove>\n",
       "<h3> <code>function</code> <span style=\"color:Brown\">default_namespace</span> <em>() -> str</em><a href=\"https://github.com/Netflix/metaflow/tree/master/metaflow/client/core.py#L193\" style=\"float:right\">[source]</a></h3><p><blockquote>Resets&nbsp;the&nbsp;namespace&nbsp;used&nbsp;to&nbsp;filter&nbsp;objects&nbsp;to&nbsp;the&nbsp;default&nbsp;one,&nbsp;i.e.&nbsp;the&nbsp;one&nbsp;that&nbsp;was<br>used&nbsp;prior&nbsp;to&nbsp;any&nbsp;`namespace`&nbsp;calls.<br><br>Returns<br>-------<br>str<br>&nbsp;&nbsp;&nbsp;&nbsp;The&nbsp;result&nbsp;of&nbsp;get_namespace()&nbsp;after&nbsp;the&nbsp;namespace&nbsp;has&nbsp;been&nbsp;reset.</blockquote></p>\n",
       "</HTMLRemove>\n",
       "<DocSection type=\"function\" name=\"default_namespace\" module=\"metaflow\" show_import=\"False\" heading_level=\"3\" link=\"https://github.com/Netflix/metaflow/tree/master/metaflow/client/core.py#L193\">\n",
       "<SigArgSection>\n",
       "\n",
       "</SigArgSection>\n",
       "<Description summary=\"Resets the namespace used to filter objects to the default one, i.e. the one that was\\nused prior to any `namespace` calls.\" />\n",
       "<ParamSection name=\"Returns\">\n",
       "\t<Parameter type=\"str\" desc=\"The result of get_namespace() after the namespace has been reset.\" />\n",
       "</ParamSection>\n",
       "</DocSection>"
      ],
      "text/plain": [
       "<nbdoc.showdoc.ShowDoc at 0x105503670>"
      ]
     },
     "execution_count": 26,
     "metadata": {},
     "output_type": "execute_result"
    }
   ],
   "source": [
    "ShowDoc(default_namespace)"
   ]
  },
  {
   "cell_type": "markdown",
   "id": "54c2778d",
   "metadata": {},
   "source": [
    "## Metadata functions"
   ]
  },
  {
   "cell_type": "code",
   "execution_count": 27,
   "id": "4b040aaf",
   "metadata": {
    "execution": {
     "iopub.execute_input": "2024-11-05T04:49:38.151038Z",
     "iopub.status.busy": "2024-11-05T04:49:38.150907Z",
     "iopub.status.idle": "2024-11-05T04:49:38.154015Z",
     "shell.execute_reply": "2024-11-05T04:49:38.153550Z"
    }
   },
   "outputs": [
    {
     "data": {
      "text/html": [
       "<HTMLRemove>\n",
       "<h3> <code>function</code> <span style=\"color:Brown\">metadata</span> <em>(ms: str) -> str</em><a href=\"https://github.com/Netflix/metaflow/tree/master/metaflow/client/core.py#L62\" style=\"float:right\">[source]</a></h3><p><blockquote>Switch&nbsp;Metadata&nbsp;provider.<br><br>This&nbsp;call&nbsp;has&nbsp;a&nbsp;global&nbsp;effect.&nbsp;Selecting&nbsp;the&nbsp;local&nbsp;metadata&nbsp;will,<br>for&nbsp;example,&nbsp;not&nbsp;allow&nbsp;access&nbsp;to&nbsp;information&nbsp;stored&nbsp;in&nbsp;remote<br>metadata&nbsp;providers.<br><br>Note&nbsp;that&nbsp;you&nbsp;don't&nbsp;typically&nbsp;have&nbsp;to&nbsp;call&nbsp;this&nbsp;function&nbsp;directly.&nbsp;Usually<br>the&nbsp;metadata&nbsp;provider&nbsp;is&nbsp;set&nbsp;through&nbsp;the&nbsp;Metaflow&nbsp;configuration&nbsp;file.&nbsp;If&nbsp;you<br>need&nbsp;to&nbsp;switch&nbsp;between&nbsp;multiple&nbsp;providers,&nbsp;you&nbsp;can&nbsp;use&nbsp;the&nbsp;`METAFLOW_PROFILE`<br>environment&nbsp;variable&nbsp;to&nbsp;switch&nbsp;between&nbsp;configurations.<br><br>Parameters<br>----------<br>ms&nbsp;:&nbsp;str<br>&nbsp;&nbsp;&nbsp;&nbsp;Can&nbsp;be&nbsp;a&nbsp;path&nbsp;(selects&nbsp;local&nbsp;metadata),&nbsp;a&nbsp;URL&nbsp;starting&nbsp;with&nbsp;http&nbsp;(selects<br>&nbsp;&nbsp;&nbsp;&nbsp;the&nbsp;service&nbsp;metadata)&nbsp;or&nbsp;an&nbsp;explicit&nbsp;specification&nbsp;<metadata_type>@<info>;&nbsp;as&nbsp;an<br>&nbsp;&nbsp;&nbsp;&nbsp;example,&nbsp;you&nbsp;can&nbsp;specify&nbsp;local@<path>&nbsp;or&nbsp;service@<url>.<br><br>Returns<br>-------<br>str<br>&nbsp;&nbsp;&nbsp;&nbsp;The&nbsp;description&nbsp;of&nbsp;the&nbsp;metadata&nbsp;selected&nbsp;(equivalent&nbsp;to&nbsp;the&nbsp;result&nbsp;of<br>&nbsp;&nbsp;&nbsp;&nbsp;get_metadata()).</blockquote></p>\n",
       "</HTMLRemove>\n",
       "<DocSection type=\"function\" name=\"metadata\" module=\"metaflow\" show_import=\"False\" heading_level=\"3\" link=\"https://github.com/Netflix/metaflow/tree/master/metaflow/client/core.py#L62\">\n",
       "<SigArgSection>\n",
       "<SigArg name=\"ms\" type=\"str\" />\n",
       "</SigArgSection>\n",
       "<Description summary=\"Switch Metadata provider.\" extended_summary=\"This call has a global effect. Selecting the local metadata will,\\nfor example, not allow access to information stored in remote\\nmetadata providers.\\n\\nNote that you don't typically have to call this function directly. Usually\\nthe metadata provider is set through the Metaflow configuration file. If you\\nneed to switch between multiple providers, you can use the `METAFLOW_PROFILE`\\nenvironment variable to switch between configurations.\" />\n",
       "<ParamSection name=\"Parameters\">\n",
       "\t<Parameter name=\"ms\" type=\"str\" desc=\"Can be a path (selects local metadata), a URL starting with http (selects\\nthe service metadata) or an explicit specification <metadata_type>@<info>; as an\\nexample, you can specify local@<path> or service@<url>.\" />\n",
       "</ParamSection>\n",
       "<ParamSection name=\"Returns\">\n",
       "\t<Parameter type=\"str\" desc=\"The description of the metadata selected (equivalent to the result of\\nget_metadata()).\" />\n",
       "</ParamSection>\n",
       "</DocSection>"
      ],
      "text/plain": [
       "<nbdoc.showdoc.ShowDoc at 0x105503220>"
      ]
     },
     "execution_count": 27,
     "metadata": {},
     "output_type": "execute_result"
    }
   ],
   "source": [
    "from metaflow import metadata, get_metadata, default_metadata\n",
    "\n",
    "ShowDoc(metadata)"
   ]
  },
  {
   "cell_type": "code",
   "execution_count": 28,
   "id": "940db9bf",
   "metadata": {
    "execution": {
     "iopub.execute_input": "2024-11-05T04:49:38.156854Z",
     "iopub.status.busy": "2024-11-05T04:49:38.156728Z",
     "iopub.status.idle": "2024-11-05T04:49:38.159412Z",
     "shell.execute_reply": "2024-11-05T04:49:38.159109Z"
    }
   },
   "outputs": [
    {
     "data": {
      "text/html": [
       "<HTMLRemove>\n",
       "<h3> <code>function</code> <span style=\"color:Brown\">get_metadata</span> <em>() -> str</em><a href=\"https://github.com/Netflix/metaflow/tree/master/metaflow/client/core.py#L102\" style=\"float:right\">[source]</a></h3><p><blockquote>Returns&nbsp;the&nbsp;current&nbsp;Metadata&nbsp;provider.<br><br>If&nbsp;this&nbsp;is&nbsp;not&nbsp;set&nbsp;explicitly&nbsp;using&nbsp;`metadata`,&nbsp;the&nbsp;default&nbsp;value&nbsp;is<br>determined&nbsp;through&nbsp;the&nbsp;Metaflow&nbsp;configuration.&nbsp;You&nbsp;can&nbsp;use&nbsp;this&nbsp;call&nbsp;to<br>check&nbsp;that&nbsp;your&nbsp;configuration&nbsp;is&nbsp;set&nbsp;up&nbsp;properly.<br><br>If&nbsp;multiple&nbsp;configuration&nbsp;profiles&nbsp;are&nbsp;present,&nbsp;this&nbsp;call&nbsp;returns&nbsp;the&nbsp;one<br>selected&nbsp;through&nbsp;the&nbsp;`METAFLOW_PROFILE`&nbsp;environment&nbsp;variable.<br><br>Returns<br>-------<br>str<br>&nbsp;&nbsp;&nbsp;&nbsp;Information&nbsp;about&nbsp;the&nbsp;Metadata&nbsp;provider&nbsp;currently&nbsp;selected.&nbsp;This&nbsp;information&nbsp;typically<br>&nbsp;&nbsp;&nbsp;&nbsp;returns&nbsp;provider&nbsp;specific&nbsp;information&nbsp;(like&nbsp;URL&nbsp;for&nbsp;remote&nbsp;providers&nbsp;or&nbsp;local&nbsp;paths&nbsp;for<br>&nbsp;&nbsp;&nbsp;&nbsp;local&nbsp;providers).</blockquote></p>\n",
       "</HTMLRemove>\n",
       "<DocSection type=\"function\" name=\"get_metadata\" module=\"metaflow\" show_import=\"False\" heading_level=\"3\" link=\"https://github.com/Netflix/metaflow/tree/master/metaflow/client/core.py#L102\">\n",
       "<SigArgSection>\n",
       "\n",
       "</SigArgSection>\n",
       "<Description summary=\"Returns the current Metadata provider.\" extended_summary=\"If this is not set explicitly using `metadata`, the default value is\\ndetermined through the Metaflow configuration. You can use this call to\\ncheck that your configuration is set up properly.\\n\\nIf multiple configuration profiles are present, this call returns the one\\nselected through the `METAFLOW_PROFILE` environment variable.\" />\n",
       "<ParamSection name=\"Returns\">\n",
       "\t<Parameter type=\"str\" desc=\"Information about the Metadata provider currently selected. This information typically\\nreturns provider specific information (like URL for remote providers or local paths for\\nlocal providers).\" />\n",
       "</ParamSection>\n",
       "</DocSection>"
      ],
      "text/plain": [
       "<nbdoc.showdoc.ShowDoc at 0x1055038b0>"
      ]
     },
     "execution_count": 28,
     "metadata": {},
     "output_type": "execute_result"
    }
   ],
   "source": [
    "ShowDoc(get_metadata)"
   ]
  },
  {
   "cell_type": "code",
   "execution_count": 29,
   "id": "4fa4b981",
   "metadata": {
    "execution": {
     "iopub.execute_input": "2024-11-05T04:49:38.162177Z",
     "iopub.status.busy": "2024-11-05T04:49:38.162057Z",
     "iopub.status.idle": "2024-11-05T04:49:38.164618Z",
     "shell.execute_reply": "2024-11-05T04:49:38.164325Z"
    }
   },
   "outputs": [
    {
     "data": {
      "text/html": [
       "<HTMLRemove>\n",
       "<h3> <code>function</code> <span style=\"color:Brown\">default_metadata</span> <em>() -> str</em><a href=\"https://github.com/Netflix/metaflow/tree/master/metaflow/client/core.py#L125\" style=\"float:right\">[source]</a></h3><p><blockquote>Resets&nbsp;the&nbsp;Metadata&nbsp;provider&nbsp;to&nbsp;the&nbsp;default&nbsp;value,&nbsp;that&nbsp;is,&nbsp;to&nbsp;the&nbsp;value<br>that&nbsp;was&nbsp;used&nbsp;prior&nbsp;to&nbsp;any&nbsp;`metadata`&nbsp;calls.<br><br>Returns<br>-------<br>str<br>&nbsp;&nbsp;&nbsp;&nbsp;The&nbsp;result&nbsp;of&nbsp;get_metadata()&nbsp;after&nbsp;resetting&nbsp;the&nbsp;provider.</blockquote></p>\n",
       "</HTMLRemove>\n",
       "<DocSection type=\"function\" name=\"default_metadata\" module=\"metaflow\" show_import=\"False\" heading_level=\"3\" link=\"https://github.com/Netflix/metaflow/tree/master/metaflow/client/core.py#L125\">\n",
       "<SigArgSection>\n",
       "\n",
       "</SigArgSection>\n",
       "<Description summary=\"Resets the Metadata provider to the default value, that is, to the value\\nthat was used prior to any `metadata` calls.\" />\n",
       "<ParamSection name=\"Returns\">\n",
       "\t<Parameter type=\"str\" desc=\"The result of get_metadata() after resetting the provider.\" />\n",
       "</ParamSection>\n",
       "</DocSection>"
      ],
      "text/plain": [
       "<nbdoc.showdoc.ShowDoc at 0x105502bf0>"
      ]
     },
     "execution_count": 29,
     "metadata": {},
     "output_type": "execute_result"
    }
   ],
   "source": [
    "ShowDoc(default_metadata)"
   ]
  },
  {
   "cell_type": "code",
   "execution_count": null,
   "id": "e0764eda",
   "metadata": {},
   "outputs": [],
   "source": []
  }
 ],
 "metadata": {
  "kernelspec": {
   "display_name": "Python 3 (ipykernel)",
   "language": "python",
   "name": "python3"
  },
  "language_info": {
   "codemirror_mode": {
    "name": "ipython",
    "version": 3
   },
   "file_extension": ".py",
   "mimetype": "text/x-python",
   "name": "python",
   "nbconvert_exporter": "python",
   "pygments_lexer": "ipython3",
   "version": "3.10.13"
  }
 },
 "nbformat": 4,
 "nbformat_minor": 5
}
