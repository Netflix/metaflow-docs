{
 "cells": [
  {
   "cell_type": "markdown",
   "id": "d1023227",
   "metadata": {},
   "source": [
    "# @trigger_on_finish\n",
    "\n",
    "Use the `@trigger_on_finish` decorator to trigger a flow [deployed on Argo Workflows](/production/scheduling-metaflow-flows/scheduling-with-argo-workflows) when another flow finishes.\n",
    "\n",
    "Read more in [Triggering Flows Based on Other Flows](/production/event-triggering/flow-events)."
   ]
  },
  {
   "cell_type": "code",
   "execution_count": 1,
   "id": "8d5bb116",
   "metadata": {
    "execution": {
     "iopub.execute_input": "2024-11-05T04:49:47.847964Z",
     "iopub.status.busy": "2024-11-05T04:49:47.847436Z",
     "iopub.status.idle": "2024-11-05T04:49:48.140357Z",
     "shell.execute_reply": "2024-11-05T04:49:48.139990Z"
    }
   },
   "outputs": [],
   "source": [
    "#meta:tag=hide\n",
    "from functools import partial\n",
    "from nbdoc.showdoc import ShowDoc\n",
    "ShowDoc = partial(ShowDoc, module_nm='metaflow')\n",
    "\n",
    "from metaflow import trigger_on_finish"
   ]
  },
  {
   "cell_type": "code",
   "execution_count": 2,
   "id": "29af6ee3",
   "metadata": {
    "execution": {
     "iopub.execute_input": "2024-11-05T04:49:48.143639Z",
     "iopub.status.busy": "2024-11-05T04:49:48.143434Z",
     "iopub.status.idle": "2024-11-05T04:49:48.152821Z",
     "shell.execute_reply": "2024-11-05T04:49:48.152521Z"
    }
   },
   "outputs": [
    {
     "name": "stderr",
     "output_type": "stream",
     "text": [
      "/Users/rcledat/mambaforge/envs/metaflow-oss-docs/lib/python3.10/site-packages/numpydoc/docscrape.py:434: UserWarning: potentially wrong underline length... \n",
      "@@ Returns \n",
      "------- in \n",
      "Specifies the flow(s) that this flow depends on.\n",
      "... in the docstring of TriggerOnFinishDecorator in /Users/rcledat/mambaforge/envs/metaflow-oss-docs/lib/python3.10/site-packages/metaflow/plugins/events_decorator.py.\n",
      "  warn(msg)\n",
      "/Users/rcledat/mambaforge/envs/metaflow-oss-docs/lib/python3.10/site-packages/numpydoc/docscrape.py:434: UserWarning: Unknown section Mf Add To Current in the docstring of TriggerOnFinishDecorator in /Users/rcledat/mambaforge/envs/metaflow-oss-docs/lib/python3.10/site-packages/metaflow/plugins/events_decorator.py.\n",
      "  warn(msg)\n"
     ]
    },
    {
     "data": {
      "text/html": [
       "<HTMLRemove>\n",
       "<h3> <code>decorator</code> <span style=\"color:Brown\">@trigger_on_finish</span> <em>(...)</em><a href=\"https://github.com/Netflix/metaflow/tree/master/metaflow/plugins/events_decorator.py#L192\" style=\"float:right\">[source]</a></h3><strong>metaflow</strong><p><blockquote>Specifies&nbsp;the&nbsp;flow(s)&nbsp;that&nbsp;this&nbsp;flow&nbsp;depends&nbsp;on.<br><br>```<br>@trigger_on_finish(flow='FooFlow')<br>```<br>or<br>```<br>@trigger_on_finish(flows=['FooFlow',&nbsp;'BarFlow'])<br>```<br>This&nbsp;decorator&nbsp;respects&nbsp;the&nbsp;@project&nbsp;decorator&nbsp;and&nbsp;triggers&nbsp;the&nbsp;flow<br>when&nbsp;upstream&nbsp;runs&nbsp;within&nbsp;the&nbsp;same&nbsp;namespace&nbsp;complete&nbsp;successfully<br><br>Additionally,&nbsp;you&nbsp;can&nbsp;specify&nbsp;project&nbsp;aware&nbsp;upstream&nbsp;flow&nbsp;dependencies<br>by&nbsp;specifying&nbsp;the&nbsp;fully&nbsp;qualified&nbsp;project_flow_name.<br>```<br>@trigger_on_finish(flow='my_project.branch.my_branch.FooFlow')<br>```<br>or<br>```<br>@trigger_on_finish(flows=['my_project.branch.my_branch.FooFlow',&nbsp;'BarFlow'])<br>```<br><br>You&nbsp;can&nbsp;also&nbsp;specify&nbsp;just&nbsp;the&nbsp;project&nbsp;or&nbsp;project&nbsp;branch&nbsp;(other&nbsp;values&nbsp;will&nbsp;be<br>inferred&nbsp;from&nbsp;the&nbsp;current&nbsp;project&nbsp;or&nbsp;project&nbsp;branch):<br>```<br>@trigger_on_finish(flow={\"name\":&nbsp;\"FooFlow\",&nbsp;\"project\":&nbsp;\"my_project\",&nbsp;\"project_branch\":&nbsp;\"branch\"})<br>```<br><br>Note&nbsp;that&nbsp;`branch`&nbsp;is&nbsp;typically&nbsp;one&nbsp;of:<br>&nbsp;&nbsp;-&nbsp;`prod`<br>&nbsp;&nbsp;-&nbsp;`user.bob`<br>&nbsp;&nbsp;-&nbsp;`test.my_experiment`<br>&nbsp;&nbsp;-&nbsp;`prod.staging`<br><br>Parameters<br>----------<br>flow&nbsp;:&nbsp;Union[str,&nbsp;Dict[str,&nbsp;str]],&nbsp;optional,&nbsp;default&nbsp;None<br>&nbsp;&nbsp;&nbsp;&nbsp;Upstream&nbsp;flow&nbsp;dependency&nbsp;for&nbsp;this&nbsp;flow.<br>flows&nbsp;:&nbsp;List[Union[str,&nbsp;Dict[str,&nbsp;str]]],&nbsp;default&nbsp;[]<br>&nbsp;&nbsp;&nbsp;&nbsp;Upstream&nbsp;flow&nbsp;dependencies&nbsp;for&nbsp;this&nbsp;flow.<br>options&nbsp;:&nbsp;Dict[str,&nbsp;Any],&nbsp;default&nbsp;{}<br>&nbsp;&nbsp;&nbsp;&nbsp;Backend-specific&nbsp;configuration&nbsp;for&nbsp;tuning&nbsp;eventing&nbsp;behavior.<br><br>MF&nbsp;Add&nbsp;To&nbsp;Current<br>-----------------<br>trigger&nbsp;->&nbsp;metaflow.events.Trigger<br>&nbsp;&nbsp;&nbsp;&nbsp;Returns&nbsp;`Trigger`&nbsp;if&nbsp;the&nbsp;current&nbsp;run&nbsp;is&nbsp;triggered&nbsp;by&nbsp;an&nbsp;event<br><br>&nbsp;&nbsp;&nbsp;&nbsp;@@&nbsp;Returns<br>&nbsp;&nbsp;&nbsp;&nbsp;-------<br>&nbsp;&nbsp;&nbsp;&nbsp;Trigger<br>&nbsp;&nbsp;&nbsp;&nbsp;&nbsp;&nbsp;&nbsp;&nbsp;`Trigger`&nbsp;if&nbsp;triggered&nbsp;by&nbsp;an&nbsp;event</blockquote></p>\n",
       "</HTMLRemove>\n",
       "<DocSection type=\"decorator\" name=\"trigger_on_finish\" module=\"metaflow\" show_import=\"True\" heading_level=\"3\" link=\"https://github.com/Netflix/metaflow/tree/master/metaflow/plugins/events_decorator.py#L192\">\n",
       "<SigArgSection>\n",
       "<SigArg name=\"...\" />\n",
       "</SigArgSection>\n",
       "<Description summary=\"Specifies the flow(s) that this flow depends on.\" extended_summary=\"```\\n@trigger_on_finish(flow='FooFlow')\\n```\\nor\\n```\\n@trigger_on_finish(flows=['FooFlow', 'BarFlow'])\\n```\\nThis decorator respects the @project decorator and triggers the flow\\nwhen upstream runs within the same namespace complete successfully\\n\\nAdditionally, you can specify project aware upstream flow dependencies\\nby specifying the fully qualified project_flow_name.\\n```\\n@trigger_on_finish(flow='my_project.branch.my_branch.FooFlow')\\n```\\nor\\n```\\n@trigger_on_finish(flows=['my_project.branch.my_branch.FooFlow', 'BarFlow'])\\n```\\n\\nYou can also specify just the project or project branch (other values will be\\ninferred from the current project or project branch):\\n```\\n@trigger_on_finish(flow={&#34;name&#34;: &#34;FooFlow&#34;, &#34;project&#34;: &#34;my_project&#34;, &#34;project_branch&#34;: &#34;branch&#34;})\\n```\\n\\nNote that `branch` is typically one of:\\n  - `prod`\\n  - `user.bob`\\n  - `test.my_experiment`\\n  - `prod.staging`\" />\n",
       "<ParamSection name=\"Parameters\">\n",
       "\t<Parameter name=\"flow\" type=\"Union[str, Dict[str, str]], optional, default None\" desc=\"Upstream flow dependency for this flow.\" />\n",
       "\t<Parameter name=\"flows\" type=\"List[Union[str, Dict[str, str]]], default []\" desc=\"Upstream flow dependencies for this flow.\" />\n",
       "\t<Parameter name=\"options\" type=\"Dict[str, Any], default {}\" desc=\"Backend-specific configuration for tuning eventing behavior.\" />\n",
       "</ParamSection>\n",
       "</DocSection>"
      ],
      "text/plain": [
       "<nbdoc.showdoc.ShowDoc at 0x107818d90>"
      ]
     },
     "execution_count": 2,
     "metadata": {},
     "output_type": "execute_result"
    }
   ],
   "source": [
    "ShowDoc(trigger_on_finish, show_import=True)"
   ]
  },
  {
   "cell_type": "code",
   "execution_count": null,
   "id": "0a84d95f",
   "metadata": {},
   "outputs": [],
   "source": []
  }
 ],
 "metadata": {
  "kernelspec": {
   "display_name": "Python 3 (ipykernel)",
   "language": "python",
   "name": "python3"
  },
  "language_info": {
   "codemirror_mode": {
    "name": "ipython",
    "version": 3
   },
   "file_extension": ".py",
   "mimetype": "text/x-python",
   "name": "python",
   "nbconvert_exporter": "python",
   "pygments_lexer": "ipython3",
   "version": "3.10.13"
  }
 },
 "nbformat": 4,
 "nbformat_minor": 5
}
