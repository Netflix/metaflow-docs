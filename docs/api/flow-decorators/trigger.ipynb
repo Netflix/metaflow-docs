{
 "cells": [
  {
   "cell_type": "markdown",
   "id": "d1023227",
   "metadata": {},
   "source": [
    "# @trigger\n",
    "\n",
    "Use the `@trigger` decorator to trigger a flow [deployed on Argo Workflows](/production/scheduling-metaflow-flows/scheduling-with-argo-workflows) based on an external event.\n",
    "\n",
    "Read more in [Triggering Flows Based on External Events](/production/event-triggering/external-events)."
   ]
  },
  {
   "cell_type": "code",
   "execution_count": 1,
   "id": "8d5bb116",
   "metadata": {
    "execution": {
     "iopub.execute_input": "2024-11-05T04:49:47.133813Z",
     "iopub.status.busy": "2024-11-05T04:49:47.133719Z",
     "iopub.status.idle": "2024-11-05T04:49:47.416266Z",
     "shell.execute_reply": "2024-11-05T04:49:47.415888Z"
    }
   },
   "outputs": [],
   "source": [
    "#meta:tag=hide\n",
    "from functools import partial\n",
    "from nbdoc.showdoc import ShowDoc\n",
    "ShowDoc = partial(ShowDoc, module_nm='metaflow')\n",
    "\n",
    "from metaflow import trigger"
   ]
  },
  {
   "cell_type": "code",
   "execution_count": 2,
   "id": "29af6ee3",
   "metadata": {
    "execution": {
     "iopub.execute_input": "2024-11-05T04:49:47.419294Z",
     "iopub.status.busy": "2024-11-05T04:49:47.419057Z",
     "iopub.status.idle": "2024-11-05T04:49:47.427768Z",
     "shell.execute_reply": "2024-11-05T04:49:47.427460Z"
    }
   },
   "outputs": [
    {
     "name": "stderr",
     "output_type": "stream",
     "text": [
      "/Users/rcledat/mambaforge/envs/metaflow-oss-docs/lib/python3.10/site-packages/numpydoc/docscrape.py:434: UserWarning: potentially wrong underline length... \n",
      "@@ Returns \n",
      "------- in \n",
      "Specifies the event(s) that this flow depends on.\n",
      "... in the docstring of TriggerDecorator in /Users/rcledat/mambaforge/envs/metaflow-oss-docs/lib/python3.10/site-packages/metaflow/plugins/events_decorator.py.\n",
      "  warn(msg)\n",
      "/Users/rcledat/mambaforge/envs/metaflow-oss-docs/lib/python3.10/site-packages/numpydoc/docscrape.py:434: UserWarning: Unknown section Mf Add To Current in the docstring of TriggerDecorator in /Users/rcledat/mambaforge/envs/metaflow-oss-docs/lib/python3.10/site-packages/metaflow/plugins/events_decorator.py.\n",
      "  warn(msg)\n"
     ]
    },
    {
     "data": {
      "text/html": [
       "<HTMLRemove>\n",
       "<h3> <code>decorator</code> <span style=\"color:Brown\">@trigger</span> <em>(...)</em><a href=\"https://github.com/Netflix/metaflow/tree/master/metaflow/plugins/events_decorator.py#L12\" style=\"float:right\">[source]</a></h3><strong>metaflow</strong><p><blockquote>Specifies&nbsp;the&nbsp;event(s)&nbsp;that&nbsp;this&nbsp;flow&nbsp;depends&nbsp;on.<br><br>```<br>@trigger(event='foo')<br>```<br>or<br>```<br>@trigger(events=['foo',&nbsp;'bar'])<br>```<br><br>Additionally,&nbsp;you&nbsp;can&nbsp;specify&nbsp;the&nbsp;parameter&nbsp;mappings<br>to&nbsp;map&nbsp;event&nbsp;payload&nbsp;to&nbsp;Metaflow&nbsp;parameters&nbsp;for&nbsp;the&nbsp;flow.<br>```<br>@trigger(event={'name':'foo',&nbsp;'parameters':{'flow_param':&nbsp;'event_field'}})<br>```<br>or<br>```<br>@trigger(events=[{'name':'foo',&nbsp;'parameters':{'flow_param_1':&nbsp;'event_field_1'},<br>&nbsp;&nbsp;&nbsp;&nbsp;&nbsp;&nbsp;&nbsp;&nbsp;&nbsp;&nbsp;&nbsp;&nbsp;&nbsp;&nbsp;&nbsp;&nbsp;&nbsp;{'name':'bar',&nbsp;'parameters':{'flow_param_2':&nbsp;'event_field_2'}])<br>```<br><br>'parameters'&nbsp;can&nbsp;also&nbsp;be&nbsp;a&nbsp;list&nbsp;of&nbsp;strings&nbsp;and&nbsp;tuples&nbsp;like&nbsp;so:<br>```<br>@trigger(event={'name':'foo',&nbsp;'parameters':['common_name',&nbsp;('flow_param',&nbsp;'event_field')]})<br>```<br>This&nbsp;is&nbsp;equivalent&nbsp;to:<br>```<br>@trigger(event={'name':'foo',&nbsp;'parameters':{'common_name':&nbsp;'common_name',&nbsp;'flow_param':&nbsp;'event_field'}})<br>```<br><br>Parameters<br>----------<br>event&nbsp;:&nbsp;Union[str,&nbsp;Dict[str,&nbsp;Any]],&nbsp;optional,&nbsp;default&nbsp;None<br>&nbsp;&nbsp;&nbsp;&nbsp;Event&nbsp;dependency&nbsp;for&nbsp;this&nbsp;flow.<br>events&nbsp;:&nbsp;List[Union[str,&nbsp;Dict[str,&nbsp;Any]]],&nbsp;default&nbsp;[]<br>&nbsp;&nbsp;&nbsp;&nbsp;Events&nbsp;dependency&nbsp;for&nbsp;this&nbsp;flow.<br>options&nbsp;:&nbsp;Dict[str,&nbsp;Any],&nbsp;default&nbsp;{}<br>&nbsp;&nbsp;&nbsp;&nbsp;Backend-specific&nbsp;configuration&nbsp;for&nbsp;tuning&nbsp;eventing&nbsp;behavior.<br><br>MF&nbsp;Add&nbsp;To&nbsp;Current<br>-----------------<br>trigger&nbsp;->&nbsp;metaflow.events.Trigger<br>&nbsp;&nbsp;&nbsp;&nbsp;Returns&nbsp;`Trigger`&nbsp;if&nbsp;the&nbsp;current&nbsp;run&nbsp;is&nbsp;triggered&nbsp;by&nbsp;an&nbsp;event<br><br>&nbsp;&nbsp;&nbsp;&nbsp;@@&nbsp;Returns<br>&nbsp;&nbsp;&nbsp;&nbsp;-------<br>&nbsp;&nbsp;&nbsp;&nbsp;Trigger<br>&nbsp;&nbsp;&nbsp;&nbsp;&nbsp;&nbsp;&nbsp;&nbsp;`Trigger`&nbsp;if&nbsp;triggered&nbsp;by&nbsp;an&nbsp;event</blockquote></p>\n",
       "</HTMLRemove>\n",
       "<DocSection type=\"decorator\" name=\"trigger\" module=\"metaflow\" show_import=\"True\" heading_level=\"3\" link=\"https://github.com/Netflix/metaflow/tree/master/metaflow/plugins/events_decorator.py#L12\">\n",
       "<SigArgSection>\n",
       "<SigArg name=\"...\" />\n",
       "</SigArgSection>\n",
       "<Description summary=\"Specifies the event(s) that this flow depends on.\" extended_summary=\"```\\n@trigger(event='foo')\\n```\\nor\\n```\\n@trigger(events=['foo', 'bar'])\\n```\\n\\nAdditionally, you can specify the parameter mappings\\nto map event payload to Metaflow parameters for the flow.\\n```\\n@trigger(event={'name':'foo', 'parameters':{'flow_param': 'event_field'}})\\n```\\nor\\n```\\n@trigger(events=[{'name':'foo', 'parameters':{'flow_param_1': 'event_field_1'},\\n                 {'name':'bar', 'parameters':{'flow_param_2': 'event_field_2'}])\\n```\\n\\n'parameters' can also be a list of strings and tuples like so:\\n```\\n@trigger(event={'name':'foo', 'parameters':['common_name', ('flow_param', 'event_field')]})\\n```\\nThis is equivalent to:\\n```\\n@trigger(event={'name':'foo', 'parameters':{'common_name': 'common_name', 'flow_param': 'event_field'}})\\n```\" />\n",
       "<ParamSection name=\"Parameters\">\n",
       "\t<Parameter name=\"event\" type=\"Union[str, Dict[str, Any]], optional, default None\" desc=\"Event dependency for this flow.\" />\n",
       "\t<Parameter name=\"events\" type=\"List[Union[str, Dict[str, Any]]], default []\" desc=\"Events dependency for this flow.\" />\n",
       "\t<Parameter name=\"options\" type=\"Dict[str, Any], default {}\" desc=\"Backend-specific configuration for tuning eventing behavior.\" />\n",
       "</ParamSection>\n",
       "</DocSection>"
      ],
      "text/plain": [
       "<nbdoc.showdoc.ShowDoc at 0x1135fea70>"
      ]
     },
     "execution_count": 2,
     "metadata": {},
     "output_type": "execute_result"
    }
   ],
   "source": [
    "ShowDoc(trigger, show_import=True)"
   ]
  },
  {
   "cell_type": "code",
   "execution_count": null,
   "id": "0a84d95f",
   "metadata": {},
   "outputs": [],
   "source": []
  }
 ],
 "metadata": {
  "kernelspec": {
   "display_name": "Python 3 (ipykernel)",
   "language": "python",
   "name": "python3"
  },
  "language_info": {
   "codemirror_mode": {
    "name": "ipython",
    "version": 3
   },
   "file_extension": ".py",
   "mimetype": "text/x-python",
   "name": "python",
   "nbconvert_exporter": "python",
   "pygments_lexer": "ipython3",
   "version": "3.10.13"
  }
 },
 "nbformat": 4,
 "nbformat_minor": 5
}
