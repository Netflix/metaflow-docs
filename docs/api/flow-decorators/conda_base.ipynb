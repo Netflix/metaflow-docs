{
 "cells": [
  {
   "cell_type": "markdown",
   "id": "d1023227",
   "metadata": {},
   "source": [
    "# @conda_base\n",
    "\n",
    "The `@conda_base` decorator specifies what libraries should be made available for all steps of a flow.\n",
    "\n",
    "The libraries are installed from [Conda repositories](https://anaconda.org/). For more information, see [Managing External Libraries](/scaling/dependencies)."
   ]
  },
  {
   "cell_type": "code",
   "execution_count": 1,
   "id": "8d5bb116",
   "metadata": {
    "execution": {
     "iopub.execute_input": "2024-11-05T04:49:45.632413Z",
     "iopub.status.busy": "2024-11-05T04:49:45.632293Z",
     "iopub.status.idle": "2024-11-05T04:49:45.928351Z",
     "shell.execute_reply": "2024-11-05T04:49:45.928001Z"
    }
   },
   "outputs": [],
   "source": [
    "#meta:tag=hide\n",
    "from functools import partial\n",
    "from nbdoc.showdoc import ShowDoc\n",
    "ShowDoc = partial(ShowDoc, module_nm='metaflow')\n",
    "\n",
    "from metaflow import conda_base"
   ]
  },
  {
   "cell_type": "code",
   "execution_count": 2,
   "id": "29af6ee3",
   "metadata": {
    "execution": {
     "iopub.execute_input": "2024-11-05T04:49:45.931166Z",
     "iopub.status.busy": "2024-11-05T04:49:45.930997Z",
     "iopub.status.idle": "2024-11-05T04:49:45.938528Z",
     "shell.execute_reply": "2024-11-05T04:49:45.938272Z"
    }
   },
   "outputs": [
    {
     "data": {
      "text/html": [
       "<HTMLRemove>\n",
       "<h3> <code>decorator</code> <span style=\"color:Brown\">@conda_base</span> <em>(...)</em><a href=\"https://github.com/Netflix/metaflow/tree/master/metaflow/plugins/pypi/conda_decorator.py#L305\" style=\"float:right\">[source]</a></h3><strong>metaflow</strong><p><blockquote>Specifies&nbsp;the&nbsp;Conda&nbsp;environment&nbsp;for&nbsp;all&nbsp;steps&nbsp;of&nbsp;the&nbsp;flow.<br><br>Use&nbsp;`@conda_base`&nbsp;to&nbsp;set&nbsp;common&nbsp;libraries&nbsp;required&nbsp;by&nbsp;all<br>steps&nbsp;and&nbsp;use&nbsp;`@conda`&nbsp;to&nbsp;specify&nbsp;step-specific&nbsp;additions.<br><br>Parameters<br>----------<br>packages&nbsp;:&nbsp;Dict[str,&nbsp;str],&nbsp;default&nbsp;{}<br>&nbsp;&nbsp;&nbsp;&nbsp;Packages&nbsp;to&nbsp;use&nbsp;for&nbsp;this&nbsp;flow.&nbsp;The&nbsp;key&nbsp;is&nbsp;the&nbsp;name&nbsp;of&nbsp;the&nbsp;package<br>&nbsp;&nbsp;&nbsp;&nbsp;and&nbsp;the&nbsp;value&nbsp;is&nbsp;the&nbsp;version&nbsp;to&nbsp;use.<br>libraries&nbsp;:&nbsp;Dict[str,&nbsp;str],&nbsp;default&nbsp;{}<br>&nbsp;&nbsp;&nbsp;&nbsp;Supported&nbsp;for&nbsp;backward&nbsp;compatibility.&nbsp;When&nbsp;used&nbsp;with&nbsp;packages,&nbsp;packages&nbsp;will&nbsp;take&nbsp;precedence.<br>python&nbsp;:&nbsp;str,&nbsp;optional,&nbsp;default&nbsp;None<br>&nbsp;&nbsp;&nbsp;&nbsp;Version&nbsp;of&nbsp;Python&nbsp;to&nbsp;use,&nbsp;e.g.&nbsp;'3.7.4'.&nbsp;A&nbsp;default&nbsp;value&nbsp;of&nbsp;None&nbsp;implies<br>&nbsp;&nbsp;&nbsp;&nbsp;that&nbsp;the&nbsp;version&nbsp;used&nbsp;will&nbsp;correspond&nbsp;to&nbsp;the&nbsp;version&nbsp;of&nbsp;the&nbsp;Python&nbsp;interpreter&nbsp;used&nbsp;to&nbsp;start&nbsp;the&nbsp;run.<br>disabled&nbsp;:&nbsp;bool,&nbsp;default&nbsp;False<br>&nbsp;&nbsp;&nbsp;&nbsp;If&nbsp;set&nbsp;to&nbsp;True,&nbsp;disables&nbsp;Conda.</blockquote></p>\n",
       "</HTMLRemove>\n",
       "<DocSection type=\"decorator\" name=\"conda_base\" module=\"metaflow\" show_import=\"True\" heading_level=\"3\" link=\"https://github.com/Netflix/metaflow/tree/master/metaflow/plugins/pypi/conda_decorator.py#L305\">\n",
       "<SigArgSection>\n",
       "<SigArg name=\"...\" />\n",
       "</SigArgSection>\n",
       "<Description summary=\"Specifies the Conda environment for all steps of the flow.\" extended_summary=\"Use `@conda_base` to set common libraries required by all\\nsteps and use `@conda` to specify step-specific additions.\" />\n",
       "<ParamSection name=\"Parameters\">\n",
       "\t<Parameter name=\"packages\" type=\"Dict[str, str], default {}\" desc=\"Packages to use for this flow. The key is the name of the package\\nand the value is the version to use.\" />\n",
       "\t<Parameter name=\"libraries\" type=\"Dict[str, str], default {}\" desc=\"Supported for backward compatibility. When used with packages, packages will take precedence.\" />\n",
       "\t<Parameter name=\"python\" type=\"str, optional, default None\" desc=\"Version of Python to use, e.g. '3.7.4'. A default value of None implies\\nthat the version used will correspond to the version of the Python interpreter used to start the run.\" />\n",
       "\t<Parameter name=\"disabled\" type=\"bool, default False\" desc=\"If set to True, disables Conda.\" />\n",
       "</ParamSection>\n",
       "</DocSection>"
      ],
      "text/plain": [
       "<nbdoc.showdoc.ShowDoc at 0x107518df0>"
      ]
     },
     "execution_count": 2,
     "metadata": {},
     "output_type": "execute_result"
    }
   ],
   "source": [
    "ShowDoc(conda_base,  skip_sections='Attributes', show_import=True)"
   ]
  },
  {
   "cell_type": "code",
   "execution_count": null,
   "id": "0a84d95f",
   "metadata": {},
   "outputs": [],
   "source": []
  }
 ],
 "metadata": {
  "kernelspec": {
   "display_name": "Python 3",
   "language": "python",
   "name": "python3"
  },
  "language_info": {
   "codemirror_mode": {
    "name": "ipython",
    "version": 3
   },
   "file_extension": ".py",
   "mimetype": "text/x-python",
   "name": "python",
   "nbconvert_exporter": "python",
   "pygments_lexer": "ipython3",
   "version": "3.10.13"
  }
 },
 "nbformat": 4,
 "nbformat_minor": 5
}
