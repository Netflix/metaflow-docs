{
 "cells": [
  {
   "cell_type": "markdown",
   "id": "d1023227",
   "metadata": {},
   "source": [
    "# @project\n",
    "\n",
    "The `@project` decorator makes it convenient to create isolated [Metaflow namespaces](/scaling/tagging) and\n",
    "corresponding [proudction deployments](/production/scheduling-metaflow-flows/introduction). When\n",
    "multiple flows use the same project name, they can fetch data across them safely using [the Client API](/metaflow/client), without interference from other users running the same flows.\n",
    "\n",
    "By itself, `@project` doesn't change the behavior besides [exposing new attributes in the `current` object](/api/current#project). It alters the flow names when they are deployed in production, allowing multiple parallel deployments.\n",
    "\n",
    "For more information, see [Coordinating Larger Metaflow Projects](/production/coordinating-larger-metaflow-projects)."
   ]
  },
  {
   "cell_type": "code",
   "execution_count": 1,
   "id": "8d5bb116",
   "metadata": {
    "execution": {
     "iopub.execute_input": "2024-11-05T04:49:46.390007Z",
     "iopub.status.busy": "2024-11-05T04:49:46.389914Z",
     "iopub.status.idle": "2024-11-05T04:49:46.663594Z",
     "shell.execute_reply": "2024-11-05T04:49:46.663242Z"
    }
   },
   "outputs": [],
   "source": [
    "#meta:tag=hide\n",
    "from functools import partial\n",
    "from nbdoc.showdoc import ShowDoc\n",
    "ShowDoc = partial(ShowDoc, module_nm='metaflow')\n",
    "\n",
    "from metaflow import project"
   ]
  },
  {
   "cell_type": "code",
   "execution_count": 2,
   "id": "29af6ee3",
   "metadata": {
    "execution": {
     "iopub.execute_input": "2024-11-05T04:49:46.666431Z",
     "iopub.status.busy": "2024-11-05T04:49:46.666236Z",
     "iopub.status.idle": "2024-11-05T04:49:46.673486Z",
     "shell.execute_reply": "2024-11-05T04:49:46.673181Z"
    }
   },
   "outputs": [
    {
     "name": "stderr",
     "output_type": "stream",
     "text": [
      "/Users/rcledat/mambaforge/envs/metaflow-oss-docs/lib/python3.10/site-packages/numpydoc/docscrape.py:434: UserWarning: potentially wrong underline length... \n",
      "@@ Returns \n",
      "------- in \n",
      "Specifies what flows belong to the same project.\n",
      "... in the docstring of ProjectDecorator in /Users/rcledat/mambaforge/envs/metaflow-oss-docs/lib/python3.10/site-packages/metaflow/plugins/project_decorator.py.\n",
      "  warn(msg)\n",
      "/Users/rcledat/mambaforge/envs/metaflow-oss-docs/lib/python3.10/site-packages/numpydoc/docscrape.py:434: UserWarning: Unknown section Mf Add To Current in the docstring of ProjectDecorator in /Users/rcledat/mambaforge/envs/metaflow-oss-docs/lib/python3.10/site-packages/metaflow/plugins/project_decorator.py.\n",
      "  warn(msg)\n"
     ]
    },
    {
     "data": {
      "text/html": [
       "<HTMLRemove>\n",
       "<h3> <code>decorator</code> <span style=\"color:Brown\">@project</span> <em>(...)</em><a href=\"https://github.com/Netflix/metaflow/tree/master/metaflow/plugins/project_decorator.py#L15\" style=\"float:right\">[source]</a></h3><strong>metaflow</strong><p><blockquote>Specifies&nbsp;what&nbsp;flows&nbsp;belong&nbsp;to&nbsp;the&nbsp;same&nbsp;project.<br><br>A&nbsp;project-specific&nbsp;namespace&nbsp;is&nbsp;created&nbsp;for&nbsp;all&nbsp;flows&nbsp;that<br>use&nbsp;the&nbsp;same&nbsp;`@project(name)`.<br><br>Parameters<br>----------<br>name&nbsp;:&nbsp;str<br>&nbsp;&nbsp;&nbsp;&nbsp;Project&nbsp;name.&nbsp;Make&nbsp;sure&nbsp;that&nbsp;the&nbsp;name&nbsp;is&nbsp;unique&nbsp;amongst&nbsp;all<br>&nbsp;&nbsp;&nbsp;&nbsp;projects&nbsp;that&nbsp;use&nbsp;the&nbsp;same&nbsp;production&nbsp;scheduler.&nbsp;The&nbsp;name&nbsp;may<br>&nbsp;&nbsp;&nbsp;&nbsp;contain&nbsp;only&nbsp;lowercase&nbsp;alphanumeric&nbsp;characters&nbsp;and&nbsp;underscores.<br><br>MF&nbsp;Add&nbsp;To&nbsp;Current<br>-----------------<br>project_name&nbsp;->&nbsp;str<br>&nbsp;&nbsp;&nbsp;&nbsp;The&nbsp;name&nbsp;of&nbsp;the&nbsp;project&nbsp;assigned&nbsp;to&nbsp;this&nbsp;flow,&nbsp;i.e.&nbsp;`X`&nbsp;in&nbsp;`@project(name=X)`.<br><br>&nbsp;&nbsp;&nbsp;&nbsp;@@&nbsp;Returns<br>&nbsp;&nbsp;&nbsp;&nbsp;-------<br>&nbsp;&nbsp;&nbsp;&nbsp;str<br>&nbsp;&nbsp;&nbsp;&nbsp;&nbsp;&nbsp;&nbsp;&nbsp;Project&nbsp;name.<br><br>project_flow_name&nbsp;->&nbsp;str<br>&nbsp;&nbsp;&nbsp;&nbsp;The&nbsp;flow&nbsp;name&nbsp;prefixed&nbsp;with&nbsp;the&nbsp;current&nbsp;project&nbsp;and&nbsp;branch.&nbsp;This&nbsp;name&nbsp;identifies<br>&nbsp;&nbsp;&nbsp;&nbsp;the&nbsp;deployment&nbsp;on&nbsp;a&nbsp;production&nbsp;scheduler.<br><br>&nbsp;&nbsp;&nbsp;&nbsp;@@&nbsp;Returns<br>&nbsp;&nbsp;&nbsp;&nbsp;-------<br>&nbsp;&nbsp;&nbsp;&nbsp;str<br>&nbsp;&nbsp;&nbsp;&nbsp;&nbsp;&nbsp;&nbsp;&nbsp;Flow&nbsp;name&nbsp;prefixed&nbsp;with&nbsp;project&nbsp;information.<br><br>branch_name&nbsp;->&nbsp;str<br>&nbsp;&nbsp;&nbsp;&nbsp;The&nbsp;current&nbsp;branch,&nbsp;i.e.&nbsp;`X`&nbsp;in&nbsp;`--branch=X`&nbsp;set&nbsp;during&nbsp;deployment&nbsp;or&nbsp;run.<br><br>&nbsp;&nbsp;&nbsp;&nbsp;@@&nbsp;Returns<br>&nbsp;&nbsp;&nbsp;&nbsp;-------<br>&nbsp;&nbsp;&nbsp;&nbsp;str<br>&nbsp;&nbsp;&nbsp;&nbsp;&nbsp;&nbsp;&nbsp;&nbsp;Branch&nbsp;name.<br><br>is_user_branch&nbsp;->&nbsp;bool<br>&nbsp;&nbsp;&nbsp;&nbsp;True&nbsp;if&nbsp;the&nbsp;flow&nbsp;is&nbsp;deployed&nbsp;without&nbsp;a&nbsp;specific&nbsp;`--branch`&nbsp;or&nbsp;a&nbsp;`--production`<br>&nbsp;&nbsp;&nbsp;&nbsp;flag.<br><br>&nbsp;&nbsp;&nbsp;&nbsp;@@&nbsp;Returns<br>&nbsp;&nbsp;&nbsp;&nbsp;-------<br>&nbsp;&nbsp;&nbsp;&nbsp;bool<br>&nbsp;&nbsp;&nbsp;&nbsp;&nbsp;&nbsp;&nbsp;&nbsp;True&nbsp;if&nbsp;the&nbsp;deployment&nbsp;does&nbsp;not&nbsp;correspond&nbsp;to&nbsp;a&nbsp;specific&nbsp;branch.<br><br>is_production&nbsp;->&nbsp;bool<br>&nbsp;&nbsp;&nbsp;&nbsp;True&nbsp;if&nbsp;the&nbsp;flow&nbsp;is&nbsp;deployed&nbsp;with&nbsp;the&nbsp;`--production`&nbsp;flag<br><br>&nbsp;&nbsp;&nbsp;&nbsp;@@&nbsp;Returns<br>&nbsp;&nbsp;&nbsp;&nbsp;-------<br>&nbsp;&nbsp;&nbsp;&nbsp;bool<br>&nbsp;&nbsp;&nbsp;&nbsp;&nbsp;&nbsp;&nbsp;&nbsp;True&nbsp;if&nbsp;the&nbsp;flow&nbsp;is&nbsp;deployed&nbsp;with&nbsp;`--production`.</blockquote></p>\n",
       "</HTMLRemove>\n",
       "<DocSection type=\"decorator\" name=\"project\" module=\"metaflow\" show_import=\"True\" heading_level=\"3\" link=\"https://github.com/Netflix/metaflow/tree/master/metaflow/plugins/project_decorator.py#L15\">\n",
       "<SigArgSection>\n",
       "<SigArg name=\"...\" />\n",
       "</SigArgSection>\n",
       "<Description summary=\"Specifies what flows belong to the same project.\" extended_summary=\"A project-specific namespace is created for all flows that\\nuse the same `@project(name)`.\" />\n",
       "<ParamSection name=\"Parameters\">\n",
       "\t<Parameter name=\"name\" type=\"str\" desc=\"Project name. Make sure that the name is unique amongst all\\nprojects that use the same production scheduler. The name may\\ncontain only lowercase alphanumeric characters and underscores.\" />\n",
       "</ParamSection>\n",
       "</DocSection>"
      ],
      "text/plain": [
       "<nbdoc.showdoc.ShowDoc at 0x10c6026b0>"
      ]
     },
     "execution_count": 2,
     "metadata": {},
     "output_type": "execute_result"
    }
   ],
   "source": [
    "ShowDoc(project, skip_sections='Attributes', show_import=True)"
   ]
  },
  {
   "cell_type": "code",
   "execution_count": null,
   "id": "0a84d95f",
   "metadata": {},
   "outputs": [],
   "source": []
  }
 ],
 "metadata": {
  "kernelspec": {
   "display_name": "Python 3",
   "language": "python",
   "name": "python3"
  },
  "language_info": {
   "codemirror_mode": {
    "name": "ipython",
    "version": 3
   },
   "file_extension": ".py",
   "mimetype": "text/x-python",
   "name": "python",
   "nbconvert_exporter": "python",
   "pygments_lexer": "ipython3",
   "version": "3.10.13"
  }
 },
 "nbformat": 4,
 "nbformat_minor": 5
}
