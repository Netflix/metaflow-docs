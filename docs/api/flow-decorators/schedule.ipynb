{
 "cells": [
  {
   "cell_type": "markdown",
   "id": "d1023227",
   "metadata": {},
   "source": [
    "# @schedule\n",
    "\n",
    "The `@schedule` decorator specifies the times when the flow should be run when deployed to an external orchestrator like AWS Step Functions or Argo Workflows.\n",
    "\n",
    "For more information, see [Scheduling Metaflow Flows](/production/scheduling-metaflow-flows/introduction)."
   ]
  },
  {
   "cell_type": "code",
   "execution_count": 1,
   "id": "8d5bb116",
   "metadata": {
    "execution": {
     "iopub.execute_input": "2024-11-05T04:49:46.685891Z",
     "iopub.status.busy": "2024-11-05T04:49:46.685792Z",
     "iopub.status.idle": "2024-11-05T04:49:46.973883Z",
     "shell.execute_reply": "2024-11-05T04:49:46.973485Z"
    }
   },
   "outputs": [],
   "source": [
    "#meta:tag=hide\n",
    "from functools import partial\n",
    "from nbdoc.showdoc import ShowDoc\n",
    "ShowDoc = partial(ShowDoc, module_nm='metaflow')\n",
    "\n",
    "from metaflow import schedule"
   ]
  },
  {
   "cell_type": "code",
   "execution_count": 2,
   "id": "29af6ee3",
   "metadata": {
    "execution": {
     "iopub.execute_input": "2024-11-05T04:49:46.976946Z",
     "iopub.status.busy": "2024-11-05T04:49:46.976702Z",
     "iopub.status.idle": "2024-11-05T04:49:46.983011Z",
     "shell.execute_reply": "2024-11-05T04:49:46.982758Z"
    }
   },
   "outputs": [
    {
     "data": {
      "text/html": [
       "<HTMLRemove>\n",
       "<h3> <code>decorator</code> <span style=\"color:Brown\">@schedule</span> <em>(...)</em><a href=\"https://github.com/Netflix/metaflow/tree/master/metaflow/plugins/aws/step_functions/schedule_decorator.py#L5\" style=\"float:right\">[source]</a></h3><strong>metaflow</strong><p><blockquote>Specifies&nbsp;the&nbsp;times&nbsp;when&nbsp;the&nbsp;flow&nbsp;should&nbsp;be&nbsp;run&nbsp;when&nbsp;running&nbsp;on&nbsp;a<br>production&nbsp;scheduler.<br><br>Parameters<br>----------<br>hourly&nbsp;:&nbsp;bool,&nbsp;default&nbsp;False<br>&nbsp;&nbsp;&nbsp;&nbsp;Run&nbsp;the&nbsp;workflow&nbsp;hourly.<br>daily&nbsp;:&nbsp;bool,&nbsp;default&nbsp;True<br>&nbsp;&nbsp;&nbsp;&nbsp;Run&nbsp;the&nbsp;workflow&nbsp;daily.<br>weekly&nbsp;:&nbsp;bool,&nbsp;default&nbsp;False<br>&nbsp;&nbsp;&nbsp;&nbsp;Run&nbsp;the&nbsp;workflow&nbsp;weekly.<br>cron&nbsp;:&nbsp;str,&nbsp;optional,&nbsp;default&nbsp;None<br>&nbsp;&nbsp;&nbsp;&nbsp;Run&nbsp;the&nbsp;workflow&nbsp;at&nbsp;[a&nbsp;custom&nbsp;Cron&nbsp;schedule](https://docs.aws.amazon.com/eventbridge/latest/userguide/scheduled-events.html#cron-expressions)<br>&nbsp;&nbsp;&nbsp;&nbsp;specified&nbsp;by&nbsp;this&nbsp;expression.<br>timezone&nbsp;:&nbsp;str,&nbsp;optional,&nbsp;default&nbsp;None<br>&nbsp;&nbsp;&nbsp;&nbsp;Timezone&nbsp;on&nbsp;which&nbsp;the&nbsp;schedule&nbsp;runs&nbsp;(default:&nbsp;None).&nbsp;Currently&nbsp;supported&nbsp;only&nbsp;for&nbsp;Argo&nbsp;workflows,<br>&nbsp;&nbsp;&nbsp;&nbsp;which&nbsp;accepts&nbsp;timezones&nbsp;in&nbsp;[IANA&nbsp;format](https://nodatime.org/TimeZones).</blockquote></p>\n",
       "</HTMLRemove>\n",
       "<DocSection type=\"decorator\" name=\"schedule\" module=\"metaflow\" show_import=\"True\" heading_level=\"3\" link=\"https://github.com/Netflix/metaflow/tree/master/metaflow/plugins/aws/step_functions/schedule_decorator.py#L5\">\n",
       "<SigArgSection>\n",
       "<SigArg name=\"...\" />\n",
       "</SigArgSection>\n",
       "<Description summary=\"Specifies the times when the flow should be run when running on a\\nproduction scheduler.\" />\n",
       "<ParamSection name=\"Parameters\">\n",
       "\t<Parameter name=\"hourly\" type=\"bool, default False\" desc=\"Run the workflow hourly.\" />\n",
       "\t<Parameter name=\"daily\" type=\"bool, default True\" desc=\"Run the workflow daily.\" />\n",
       "\t<Parameter name=\"weekly\" type=\"bool, default False\" desc=\"Run the workflow weekly.\" />\n",
       "\t<Parameter name=\"cron\" type=\"str, optional, default None\" desc=\"Run the workflow at [a custom Cron schedule](https://docs.aws.amazon.com/eventbridge/latest/userguide/scheduled-events.html#cron-expressions)\\nspecified by this expression.\" />\n",
       "\t<Parameter name=\"timezone\" type=\"str, optional, default None\" desc=\"Timezone on which the schedule runs (default: None). Currently supported only for Argo workflows,\\nwhich accepts timezones in [IANA format](https://nodatime.org/TimeZones).\" />\n",
       "</ParamSection>\n",
       "</DocSection>"
      ],
      "text/plain": [
       "<nbdoc.showdoc.ShowDoc at 0x106e02890>"
      ]
     },
     "execution_count": 2,
     "metadata": {},
     "output_type": "execute_result"
    }
   ],
   "source": [
    "ShowDoc(schedule,  skip_sections='Attributes', show_import=True)"
   ]
  },
  {
   "cell_type": "code",
   "execution_count": null,
   "id": "0a84d95f",
   "metadata": {},
   "outputs": [],
   "source": []
  }
 ],
 "metadata": {
  "kernelspec": {
   "display_name": "Python 3",
   "language": "python",
   "name": "python3"
  },
  "language_info": {
   "codemirror_mode": {
    "name": "ipython",
    "version": 3
   },
   "file_extension": ".py",
   "mimetype": "text/x-python",
   "name": "python",
   "nbconvert_exporter": "python",
   "pygments_lexer": "ipython3",
   "version": "3.10.13"
  }
 },
 "nbformat": 4,
 "nbformat_minor": 5
}
