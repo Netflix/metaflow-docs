{
 "cells": [
  {
   "cell_type": "markdown",
   "id": "c0ed0370",
   "metadata": {},
   "source": [
    "# Current - Operating a run"
   ]
  },
  {
   "cell_type": "markdown",
   "id": "cc1c501a",
   "metadata": {},
   "source": [
    "The `current` object is used to inspect and manipulate the currently executing run. It is only available during flow execution, i.e. inside a `FlowSpec` class and functions called from its steps. You can access the object simply by importing it: `from metaflow import current`.\n",
    "\n",
    "The attributes available in `current` depend on the decorators assigned to the flow and the step where `current` is used. Attributes that are always available are listed under *Common Attributes* below. Decorator-specific attributes are listed under the decorator name."
   ]
  },
  {
   "cell_type": "code",
   "execution_count": 24,
   "id": "d4c02781",
   "metadata": {
    "execution": {
     "iopub.execute_input": "2022-07-23T21:47:14.300870Z",
     "iopub.status.busy": "2022-07-23T21:47:14.298481Z",
     "iopub.status.idle": "2022-07-23T21:47:15.030724Z",
     "shell.execute_reply": "2022-07-23T21:47:15.031601Z"
    }
   },
   "outputs": [],
   "source": [
    "#meta:tag=hide\n",
    "from functools import partial\n",
    "from nbdoc.showdoc import ShowDoc\n",
    "ShowDoc = partial(ShowDoc, module_nm='metaflow')\n",
    "\n",
    "from metaflow.current import Current\n",
    "\n",
    "# Create a fake object to show 'current' instead of 'Current'.\n",
    "# We can't use \"from metaflow import current\" directly as it is\n",
    "# an instance of Current, but ShowDoc needs to refer to a class\n",
    "PROPS = [\n",
    "    'is_running_flow',\n",
    "    'flow_name',\n",
    "    'run_id',\n",
    "    'step_name',\n",
    "    'task_id',\n",
    "    'retry_count',\n",
    "    'origin_run_id',\n",
    "    'pathspec',\n",
    "    'namespace',\n",
    "    'username'\n",
    "]\n",
    "\n",
    "class current:\n",
    "\n",
    "    class card:\n",
    "        def __getitem__(self):\n",
    "            pass\n",
    "        def __setitem__(self):\n",
    "            pass\n",
    "        def append(self):\n",
    "            pass\n",
    "        def extend(self):\n",
    "            pass\n",
    "    \n",
    "    # TODO: move this doc to an appropriate place, maybe task.py?\n",
    "    @property\n",
    "    def parameter_names(self):\n",
    "        \"\"\"\n",
    "        The names of the Parameters defined in the current flow.\n",
    "\n",
    "        Returns\n",
    "        -------\n",
    "        List[str]\n",
    "            Parameter names.\n",
    "        \"\"\"\n",
    "        pass\n",
    "\n",
    "    # TODO: Move these docs to project_decorator.py\n",
    "    @property\n",
    "    def project_name(self):\n",
    "        \"\"\"\n",
    "        The name of the project assigned to this flow,\n",
    "        i.e. `X` in `@project(name=X)`.\n",
    "\n",
    "        Returns\n",
    "        -------\n",
    "        str\n",
    "            Project name.\n",
    "        \"\"\"\n",
    "        pass\n",
    "\n",
    "    @property\n",
    "    def project_flow_name(self):\n",
    "        \"\"\"\n",
    "        The flow name prefixed with the current project\n",
    "        and branch. This name identifies the deployment\n",
    "        on a production scheduler.\n",
    "    \n",
    "        Returns\n",
    "        -------\n",
    "        str\n",
    "            Flow name prefixed with project information.\n",
    "        \"\"\"\n",
    "        pass\n",
    "    \n",
    "    @property\n",
    "    def branch_name(self):\n",
    "        \"\"\"\n",
    "        The current branch, i.e. `X` in\n",
    "        `--branch=X` set during deployment.\n",
    "\n",
    "        Returns\n",
    "        -------\n",
    "        str\n",
    "            Branch name.\n",
    "        \"\"\"\n",
    "        pass\n",
    "\n",
    "    @property\n",
    "    def is_user_branch(self):\n",
    "        \"\"\"\n",
    "        True if the flow is deployed without a\n",
    "        specific `--branch` or a `--production` flag.\n",
    "\n",
    "        Returns\n",
    "        -------\n",
    "        bool\n",
    "            True if the deployment does not correspond to a specific branch.\n",
    "        \"\"\"\n",
    "        pass\n",
    "\n",
    "    @property\n",
    "    def is_production(self):\n",
    "        \"\"\"\n",
    "        True if the flow is deployed with the `--production`\n",
    "        flag.\n",
    "        \n",
    "        Returns\n",
    "        -------\n",
    "        bool\n",
    "            True if the flow is deployed in `--production`.\n",
    "        \"\"\"\n",
    "        pass\n",
    "\n",
    "from metaflow.plugins.cards.component_serializer import CardComponentCollector\n",
    "current.card.__getitem__.__doc__ = CardComponentCollector.__getitem__.__doc__\n",
    "current.card.__setitem__.__doc__ = CardComponentCollector.__setitem__.__doc__\n",
    "current.card.append.__doc__ = CardComponentCollector.append.__doc__\n",
    "current.card.extend.__doc__ = CardComponentCollector.extend.__doc__\n",
    "    \n",
    "for n in PROPS:\n",
    "    f = lambda self: None\n",
    "    f.__qualname__ = 'current.' + n\n",
    "    f.__doc__ = getattr(Current, n).__doc__\n",
    "    setattr(current, n, property(f))"
   ]
  },
  {
   "cell_type": "markdown",
   "id": "4e89ee3c",
   "metadata": {},
   "source": [
    "## Common Attributes\n",
    "\n",
    "These attributes are always available in the `current` object."
   ]
  },
  {
   "cell_type": "code",
   "execution_count": 2,
   "id": "7fdb7184",
   "metadata": {
    "execution": {
     "iopub.execute_input": "2022-07-23T21:47:15.037672Z",
     "iopub.status.busy": "2022-07-23T21:47:15.036144Z",
     "iopub.status.idle": "2022-07-23T21:47:15.044700Z",
     "shell.execute_reply": "2022-07-23T21:47:15.045561Z"
    }
   },
   "outputs": [
    {
     "data": {
      "text/html": [
       "<HTMLRemove>\n",
       "<h4> <code>property</code> <span style=\"color:Brown\">current.is_running_flow</span> <em></em></h4><p><blockquote>Returns&nbsp;True&nbsp;if&nbsp;called&nbsp;inside&nbsp;a&nbsp;running&nbsp;Flow,&nbsp;False&nbsp;otherwise.<br><br>You&nbsp;can&nbsp;use&nbsp;this&nbsp;property&nbsp;e.g.&nbsp;inside&nbsp;a&nbsp;library&nbsp;to&nbsp;choose&nbsp;the&nbsp;desired<br>behavior&nbsp;depending&nbsp;on&nbsp;the&nbsp;execution&nbsp;context.<br><br>Returns<br>-------<br>bool<br>&nbsp;&nbsp;&nbsp;&nbsp;True&nbsp;if&nbsp;called&nbsp;inside&nbsp;a&nbsp;run,&nbsp;False&nbsp;otherwise.</blockquote></p>\n",
       "</HTMLRemove>\n",
       "<DocSection type=\"property\" name=\"current.is_running_flow\" module=\"__main__\" show_import=\"False\" heading_level=\"4\">\n",
       "\n",
       "<Description summary=\"Returns True if called inside a running Flow, False otherwise.\\n\\nYou can use this property e.g. inside a library to choose the desired\\nbehavior depending on the execution context.\\n\" />\n",
       "<ParamSection name=\"Returns\">\n",
       "<Parameter type=\"bool\" desc=\"True if called inside a run, False otherwise.\" />\n",
       "</ParamSection>\n",
       "</DocSection>"
      ],
      "text/plain": [
       "<nbdoc.showdoc.ShowDoc at 0x7fae788cdd30>"
      ]
     },
     "execution_count": 2,
     "metadata": {},
     "output_type": "execute_result"
    }
   ],
   "source": [
    "ShowDoc(current.is_running_flow)"
   ]
  },
  {
   "cell_type": "code",
   "execution_count": 3,
   "id": "fa61bd9b",
   "metadata": {
    "execution": {
     "iopub.execute_input": "2022-07-23T21:47:15.051426Z",
     "iopub.status.busy": "2022-07-23T21:47:15.050098Z",
     "iopub.status.idle": "2022-07-23T21:47:15.055614Z",
     "shell.execute_reply": "2022-07-23T21:47:15.054028Z"
    }
   },
   "outputs": [
    {
     "data": {
      "text/html": [
       "<HTMLRemove>\n",
       "<h4> <code>property</code> <span style=\"color:Brown\">current.flow_name</span> <em></em></h4><p><blockquote>The&nbsp;name&nbsp;of&nbsp;the&nbsp;currently&nbsp;executing&nbsp;flow.<br><br>Returns<br>-------<br>str<br>&nbsp;&nbsp;&nbsp;&nbsp;Flow&nbsp;name.</blockquote></p>\n",
       "</HTMLRemove>\n",
       "<DocSection type=\"property\" name=\"current.flow_name\" module=\"__main__\" show_import=\"False\" heading_level=\"4\">\n",
       "\n",
       "<Description summary=\"The name of the currently executing flow.\\n\" />\n",
       "<ParamSection name=\"Returns\">\n",
       "<Parameter type=\"str\" desc=\"Flow name.\" />\n",
       "</ParamSection>\n",
       "</DocSection>"
      ],
      "text/plain": [
       "<nbdoc.showdoc.ShowDoc at 0x7fae788cd7f0>"
      ]
     },
     "execution_count": 3,
     "metadata": {},
     "output_type": "execute_result"
    }
   ],
   "source": [
    "ShowDoc(current.flow_name)"
   ]
  },
  {
   "cell_type": "code",
   "execution_count": 4,
   "id": "16a90815",
   "metadata": {
    "execution": {
     "iopub.execute_input": "2022-07-23T21:47:15.062339Z",
     "iopub.status.busy": "2022-07-23T21:47:15.060545Z",
     "iopub.status.idle": "2022-07-23T21:47:15.066178Z",
     "shell.execute_reply": "2022-07-23T21:47:15.065246Z"
    }
   },
   "outputs": [
    {
     "data": {
      "text/html": [
       "<HTMLRemove>\n",
       "<h4> <code>property</code> <span style=\"color:Brown\">current.run_id</span> <em></em></h4><p><blockquote>The&nbsp;run&nbsp;ID&nbsp;of&nbsp;the&nbsp;currently&nbsp;executing&nbsp;run.<br><br>Returns<br>-------<br>str<br>&nbsp;&nbsp;&nbsp;&nbsp;Run&nbsp;ID.</blockquote></p>\n",
       "</HTMLRemove>\n",
       "<DocSection type=\"property\" name=\"current.run_id\" module=\"__main__\" show_import=\"False\" heading_level=\"4\">\n",
       "\n",
       "<Description summary=\"The run ID of the currently executing run.\\n\" />\n",
       "<ParamSection name=\"Returns\">\n",
       "<Parameter type=\"str\" desc=\"Run ID.\" />\n",
       "</ParamSection>\n",
       "</DocSection>"
      ],
      "text/plain": [
       "<nbdoc.showdoc.ShowDoc at 0x7fae788cd7c0>"
      ]
     },
     "execution_count": 4,
     "metadata": {},
     "output_type": "execute_result"
    }
   ],
   "source": [
    "ShowDoc(current.run_id)"
   ]
  },
  {
   "cell_type": "code",
   "execution_count": 5,
   "id": "f278667f",
   "metadata": {
    "execution": {
     "iopub.execute_input": "2022-07-23T21:47:15.072011Z",
     "iopub.status.busy": "2022-07-23T21:47:15.070608Z",
     "iopub.status.idle": "2022-07-23T21:47:15.075673Z",
     "shell.execute_reply": "2022-07-23T21:47:15.074797Z"
    }
   },
   "outputs": [
    {
     "data": {
      "text/html": [
       "<HTMLRemove>\n",
       "<h4> <code>property</code> <span style=\"color:Brown\">current.step_name</span> <em></em></h4><p><blockquote>The&nbsp;name&nbsp;of&nbsp;the&nbsp;currently&nbsp;executing&nbsp;step.<br><br>Returns<br>-------<br>str<br>&nbsp;&nbsp;&nbsp;&nbsp;Step&nbsp;name.</blockquote></p>\n",
       "</HTMLRemove>\n",
       "<DocSection type=\"property\" name=\"current.step_name\" module=\"__main__\" show_import=\"False\" heading_level=\"4\">\n",
       "\n",
       "<Description summary=\"The name of the currently executing step.\\n\" />\n",
       "<ParamSection name=\"Returns\">\n",
       "<Parameter type=\"str\" desc=\"Step name.\" />\n",
       "</ParamSection>\n",
       "</DocSection>"
      ],
      "text/plain": [
       "<nbdoc.showdoc.ShowDoc at 0x7fae788cd640>"
      ]
     },
     "execution_count": 5,
     "metadata": {},
     "output_type": "execute_result"
    }
   ],
   "source": [
    "ShowDoc(current.step_name)"
   ]
  },
  {
   "cell_type": "code",
   "execution_count": 6,
   "id": "f4be98ad",
   "metadata": {
    "execution": {
     "iopub.execute_input": "2022-07-23T21:47:15.081136Z",
     "iopub.status.busy": "2022-07-23T21:47:15.080058Z",
     "iopub.status.idle": "2022-07-23T21:47:15.083743Z",
     "shell.execute_reply": "2022-07-23T21:47:15.084583Z"
    }
   },
   "outputs": [
    {
     "data": {
      "text/html": [
       "<HTMLRemove>\n",
       "<h4> <code>property</code> <span style=\"color:Brown\">current.task_id</span> <em></em></h4><p><blockquote>The&nbsp;task&nbsp;ID&nbsp;of&nbsp;the&nbsp;currently&nbsp;executing&nbsp;task.<br><br>Returns<br>-------<br>str<br>&nbsp;&nbsp;&nbsp;&nbsp;Task&nbsp;ID.</blockquote></p>\n",
       "</HTMLRemove>\n",
       "<DocSection type=\"property\" name=\"current.task_id\" module=\"__main__\" show_import=\"False\" heading_level=\"4\">\n",
       "\n",
       "<Description summary=\"The task ID of the currently executing task.\\n\" />\n",
       "<ParamSection name=\"Returns\">\n",
       "<Parameter type=\"str\" desc=\"Task ID.\" />\n",
       "</ParamSection>\n",
       "</DocSection>"
      ],
      "text/plain": [
       "<nbdoc.showdoc.ShowDoc at 0x7fae788cd610>"
      ]
     },
     "execution_count": 6,
     "metadata": {},
     "output_type": "execute_result"
    }
   ],
   "source": [
    "ShowDoc(current.task_id)"
   ]
  },
  {
   "cell_type": "code",
   "execution_count": 7,
   "id": "a97ad305",
   "metadata": {
    "execution": {
     "iopub.execute_input": "2022-07-23T21:47:15.090674Z",
     "iopub.status.busy": "2022-07-23T21:47:15.089335Z",
     "iopub.status.idle": "2022-07-23T21:47:15.095744Z",
     "shell.execute_reply": "2022-07-23T21:47:15.094713Z"
    }
   },
   "outputs": [
    {
     "data": {
      "text/html": [
       "<HTMLRemove>\n",
       "<h4> <code>property</code> <span style=\"color:Brown\">current.retry_count</span> <em></em></h4><p><blockquote>The&nbsp;index&nbsp;of&nbsp;the&nbsp;task&nbsp;exeuction&nbsp;attempt.<br><br>This&nbsp;property&nbsp;returns&nbsp;0&nbsp;for&nbsp;the&nbsp;first&nbsp;attempt&nbsp;to&nbsp;execute&nbsp;the&nbsp;task.<br>If&nbsp;the&nbsp;@retry&nbsp;decorator&nbsp;is&nbsp;used&nbsp;and&nbsp;the&nbsp;first&nbsp;attempt&nbsp;fails,&nbsp;this<br>property&nbsp;returns&nbsp;the&nbsp;number&nbsp;of&nbsp;times&nbsp;the&nbsp;task&nbsp;was&nbsp;attempted&nbsp;prior<br>to&nbsp;the&nbsp;current&nbsp;attempt.<br><br>Returns<br>-------<br>int<br>&nbsp;&nbsp;&nbsp;&nbsp;The&nbsp;retry&nbsp;count.</blockquote></p>\n",
       "</HTMLRemove>\n",
       "<DocSection type=\"property\" name=\"current.retry_count\" module=\"__main__\" show_import=\"False\" heading_level=\"4\">\n",
       "\n",
       "<Description summary=\"The index of the task exeuction attempt.\\n\\nThis property returns 0 for the first attempt to execute the task.\\nIf the @retry decorator is used and the first attempt fails, this\\nproperty returns the number of times the task was attempted prior\\nto the current attempt.\\n\" />\n",
       "<ParamSection name=\"Returns\">\n",
       "<Parameter type=\"int\" desc=\"The retry count.\" />\n",
       "</ParamSection>\n",
       "</DocSection>"
      ],
      "text/plain": [
       "<nbdoc.showdoc.ShowDoc at 0x7fae788cd040>"
      ]
     },
     "execution_count": 7,
     "metadata": {},
     "output_type": "execute_result"
    }
   ],
   "source": [
    "ShowDoc(current.retry_count)"
   ]
  },
  {
   "cell_type": "code",
   "execution_count": 8,
   "id": "b73e163c",
   "metadata": {
    "execution": {
     "iopub.execute_input": "2022-07-23T21:47:15.102434Z",
     "iopub.status.busy": "2022-07-23T21:47:15.100166Z",
     "iopub.status.idle": "2022-07-23T21:47:15.106241Z",
     "shell.execute_reply": "2022-07-23T21:47:15.105068Z"
    }
   },
   "outputs": [
    {
     "data": {
      "text/html": [
       "<HTMLRemove>\n",
       "<h4> <code>property</code> <span style=\"color:Brown\">current.origin_run_id</span> <em></em></h4><p><blockquote>The&nbsp;run&nbsp;ID&nbsp;of&nbsp;the&nbsp;original&nbsp;run&nbsp;this&nbsp;run&nbsp;was&nbsp;resumed&nbsp;from.<br><br>This&nbsp;property&nbsp;returns&nbsp;None&nbsp;for&nbsp;ordinary&nbsp;runs.&nbsp;If&nbsp;the&nbsp;run<br>was&nbsp;started&nbsp;by&nbsp;the&nbsp;resume&nbsp;command,&nbsp;the&nbsp;property&nbsp;returns<br>the&nbsp;ID&nbsp;of&nbsp;the&nbsp;original&nbsp;run.<br><br>You&nbsp;can&nbsp;use&nbsp;this&nbsp;property&nbsp;to&nbsp;detect&nbsp;if&nbsp;the&nbsp;run&nbsp;is&nbsp;resumed<br>or&nbsp;not.<br><br>Returns<br>-------<br>str<br>&nbsp;&nbsp;&nbsp;&nbsp;Run&nbsp;ID&nbsp;of&nbsp;the&nbsp;original&nbsp;run.</blockquote></p>\n",
       "</HTMLRemove>\n",
       "<DocSection type=\"property\" name=\"current.origin_run_id\" module=\"__main__\" show_import=\"False\" heading_level=\"4\">\n",
       "\n",
       "<Description summary=\"The run ID of the original run this run was resumed from.\\n\\nThis property returns None for ordinary runs. If the run\\nwas started by the resume command, the property returns\\nthe ID of the original run.\\n\\nYou can use this property to detect if the run is resumed\\nor not.\\n\" />\n",
       "<ParamSection name=\"Returns\">\n",
       "<Parameter type=\"str\" desc=\"Run ID of the original run.\" />\n",
       "</ParamSection>\n",
       "</DocSection>"
      ],
      "text/plain": [
       "<nbdoc.showdoc.ShowDoc at 0x7fae788cdf40>"
      ]
     },
     "execution_count": 8,
     "metadata": {},
     "output_type": "execute_result"
    }
   ],
   "source": [
    "ShowDoc(current.origin_run_id)"
   ]
  },
  {
   "cell_type": "code",
   "execution_count": 9,
   "id": "16dd0a74",
   "metadata": {
    "execution": {
     "iopub.execute_input": "2022-07-23T21:47:15.112362Z",
     "iopub.status.busy": "2022-07-23T21:47:15.110660Z",
     "iopub.status.idle": "2022-07-23T21:47:15.116832Z",
     "shell.execute_reply": "2022-07-23T21:47:15.115714Z"
    }
   },
   "outputs": [
    {
     "data": {
      "text/html": [
       "<HTMLRemove>\n",
       "<h4> <code>property</code> <span style=\"color:Brown\">current.pathspec</span> <em></em></h4><p><blockquote>Pathspec&nbsp;of&nbsp;the&nbsp;current&nbsp;run,&nbsp;i.e.&nbsp;a&nbsp;unique<br>identifier&nbsp;of&nbsp;the&nbsp;current&nbsp;task.&nbsp;The&nbsp;returned<br>string&nbsp;follows&nbsp;this&nbsp;format:<br>```<br>{flow_name}/{run_id}/{step_name}/{task_id}<br>```<br><br>Returns<br>-------<br>str<br>&nbsp;&nbsp;&nbsp;&nbsp;Pathspec.</blockquote></p>\n",
       "</HTMLRemove>\n",
       "<DocSection type=\"property\" name=\"current.pathspec\" module=\"__main__\" show_import=\"False\" heading_level=\"4\">\n",
       "\n",
       "<Description summary=\"Pathspec of the current run, i.e. a unique\\nidentifier of the current task. The returned\\nstring follows this format:\\n```\\n{flow_name}/{run_id}/{step_name}/{task_id}\\n```\\n\" />\n",
       "<ParamSection name=\"Returns\">\n",
       "<Parameter type=\"str\" desc=\"Pathspec.\" />\n",
       "</ParamSection>\n",
       "</DocSection>"
      ],
      "text/plain": [
       "<nbdoc.showdoc.ShowDoc at 0x7fae788cd0a0>"
      ]
     },
     "execution_count": 9,
     "metadata": {},
     "output_type": "execute_result"
    }
   ],
   "source": [
    "ShowDoc(current.pathspec)"
   ]
  },
  {
   "cell_type": "code",
   "execution_count": 10,
   "id": "8f758f03",
   "metadata": {
    "execution": {
     "iopub.execute_input": "2022-07-23T21:47:15.122853Z",
     "iopub.status.busy": "2022-07-23T21:47:15.121495Z",
     "iopub.status.idle": "2022-07-23T21:47:15.126437Z",
     "shell.execute_reply": "2022-07-23T21:47:15.125469Z"
    }
   },
   "outputs": [
    {
     "data": {
      "text/html": [
       "<HTMLRemove>\n",
       "<h4> <code>property</code> <span style=\"color:Brown\">current.namespace</span> <em></em></h4><p><blockquote>The&nbsp;current&nbsp;namespace.<br><br>Returns<br>-------<br>str<br>&nbsp;&nbsp;&nbsp;&nbsp;Namespace.</blockquote></p>\n",
       "</HTMLRemove>\n",
       "<DocSection type=\"property\" name=\"current.namespace\" module=\"__main__\" show_import=\"False\" heading_level=\"4\">\n",
       "\n",
       "<Description summary=\"The current namespace.\\n\" />\n",
       "<ParamSection name=\"Returns\">\n",
       "<Parameter type=\"str\" desc=\"Namespace.\" />\n",
       "</ParamSection>\n",
       "</DocSection>"
      ],
      "text/plain": [
       "<nbdoc.showdoc.ShowDoc at 0x7fae788cd310>"
      ]
     },
     "execution_count": 10,
     "metadata": {},
     "output_type": "execute_result"
    }
   ],
   "source": [
    "ShowDoc(current.namespace)"
   ]
  },
  {
   "cell_type": "code",
   "execution_count": 11,
   "id": "feaa6830",
   "metadata": {
    "execution": {
     "iopub.execute_input": "2022-07-23T21:47:15.132123Z",
     "iopub.status.busy": "2022-07-23T21:47:15.130900Z",
     "iopub.status.idle": "2022-07-23T21:47:15.136152Z",
     "shell.execute_reply": "2022-07-23T21:47:15.134956Z"
    }
   },
   "outputs": [
    {
     "data": {
      "text/html": [
       "<HTMLRemove>\n",
       "<h4> <code>property</code> <span style=\"color:Brown\">current.username</span> <em></em></h4><p><blockquote>The&nbsp;name&nbsp;of&nbsp;the&nbsp;user&nbsp;who&nbsp;started&nbsp;the&nbsp;run,&nbsp;if&nbsp;available.<br><br>Returns<br>-------<br>str<br>&nbsp;&nbsp;&nbsp;&nbsp;User&nbsp;name.</blockquote></p>\n",
       "</HTMLRemove>\n",
       "<DocSection type=\"property\" name=\"current.username\" module=\"__main__\" show_import=\"False\" heading_level=\"4\">\n",
       "\n",
       "<Description summary=\"The name of the user who started the run, if available.\\n\" />\n",
       "<ParamSection name=\"Returns\">\n",
       "<Parameter type=\"str\" desc=\"User name.\" />\n",
       "</ParamSection>\n",
       "</DocSection>"
      ],
      "text/plain": [
       "<nbdoc.showdoc.ShowDoc at 0x7fae788cdf70>"
      ]
     },
     "execution_count": 11,
     "metadata": {},
     "output_type": "execute_result"
    }
   ],
   "source": [
    "ShowDoc(current.username)"
   ]
  },
  {
   "cell_type": "code",
   "execution_count": 25,
   "id": "d7b320dd",
   "metadata": {},
   "outputs": [
    {
     "data": {
      "text/html": [
       "<HTMLRemove>\n",
       "<h4> <code>property</code> <span style=\"color:Brown\">current.parameter_names</span> <em></em></h4><p><blockquote>The&nbsp;names&nbsp;of&nbsp;the&nbsp;Parameters&nbsp;defined&nbsp;in&nbsp;the&nbsp;current&nbsp;flow.<br><br>Returns<br>-------<br>List[str]<br>&nbsp;&nbsp;&nbsp;&nbsp;Parameter&nbsp;names.</blockquote></p>\n",
       "</HTMLRemove>\n",
       "<DocSection type=\"property\" name=\"current.parameter_names\" module=\"__main__\" show_import=\"False\" heading_level=\"4\">\n",
       "\n",
       "<Description summary=\"The names of the Parameters defined in the current flow.\\n\" />\n",
       "<ParamSection name=\"Returns\">\n",
       "<Parameter type=\"List[str]\" desc=\"Parameter names.\" />\n",
       "</ParamSection>\n",
       "</DocSection>"
      ],
      "text/plain": [
       "<nbdoc.showdoc.ShowDoc at 0x111f191e0>"
      ]
     },
     "execution_count": 25,
     "metadata": {},
     "output_type": "execute_result"
    }
   ],
   "source": [
    "ShowDoc(current.parameter_names)"
   ]
  },
  {
   "cell_type": "markdown",
   "id": "12733ec9",
   "metadata": {},
   "source": [
    "## Decorator-specific attributes\n",
    "\n",
    "These attributes are only available when the decorator is present."
   ]
  },
  {
   "cell_type": "markdown",
   "id": "820a3734",
   "metadata": {},
   "source": [
    "### @project\n",
    "\n",
    "[The @project decorator](/production/coordinating-larger-metaflow-projects) exposes attributes related to the current deployment."
   ]
  },
  {
   "cell_type": "code",
   "execution_count": 12,
   "id": "437b253d",
   "metadata": {
    "execution": {
     "iopub.execute_input": "2022-07-23T21:47:15.141588Z",
     "iopub.status.busy": "2022-07-23T21:47:15.140514Z",
     "iopub.status.idle": "2022-07-23T21:47:15.144568Z",
     "shell.execute_reply": "2022-07-23T21:47:15.145624Z"
    }
   },
   "outputs": [
    {
     "data": {
      "text/html": [
       "<HTMLRemove>\n",
       "<h4> <code>property</code> <span style=\"color:Brown\">current.project_name</span> <em></em></h4><p><blockquote>The&nbsp;name&nbsp;of&nbsp;the&nbsp;project&nbsp;assigned&nbsp;to&nbsp;this&nbsp;flow,<br>i.e.&nbsp;`X`&nbsp;in&nbsp;`@project(name=X)`.<br><br>Returns<br>-------<br>str<br>&nbsp;&nbsp;&nbsp;&nbsp;Project&nbsp;name.</blockquote></p>\n",
       "</HTMLRemove>\n",
       "<DocSection type=\"property\" name=\"current.project_name\" module=\"__main__\" show_import=\"False\" heading_level=\"4\">\n",
       "\n",
       "<Description summary=\"The name of the project assigned to this flow,\\ni.e. `X` in `@project(name=X)`.\\n\" />\n",
       "<ParamSection name=\"Returns\">\n",
       "<Parameter type=\"str\" desc=\"Project name.\" />\n",
       "</ParamSection>\n",
       "</DocSection>"
      ],
      "text/plain": [
       "<nbdoc.showdoc.ShowDoc at 0x7fae788cd340>"
      ]
     },
     "execution_count": 12,
     "metadata": {},
     "output_type": "execute_result"
    }
   ],
   "source": [
    "ShowDoc(current.project_name)"
   ]
  },
  {
   "cell_type": "code",
   "execution_count": 13,
   "id": "fe5e9e0a",
   "metadata": {
    "execution": {
     "iopub.execute_input": "2022-07-23T21:47:15.152143Z",
     "iopub.status.busy": "2022-07-23T21:47:15.150619Z",
     "iopub.status.idle": "2022-07-23T21:47:15.156329Z",
     "shell.execute_reply": "2022-07-23T21:47:15.154706Z"
    }
   },
   "outputs": [
    {
     "data": {
      "text/html": [
       "<HTMLRemove>\n",
       "<h4> <code>property</code> <span style=\"color:Brown\">current.project_flow_name</span> <em></em></h4><p><blockquote>The&nbsp;flow&nbsp;name&nbsp;prefixed&nbsp;with&nbsp;the&nbsp;current&nbsp;project<br>and&nbsp;branch.&nbsp;This&nbsp;name&nbsp;identifies&nbsp;the&nbsp;deployment<br>on&nbsp;a&nbsp;production&nbsp;scheduler.<br><br>Returns<br>-------<br>str<br>&nbsp;&nbsp;&nbsp;&nbsp;Flow&nbsp;name&nbsp;prefixed&nbsp;with&nbsp;project&nbsp;information.</blockquote></p>\n",
       "</HTMLRemove>\n",
       "<DocSection type=\"property\" name=\"current.project_flow_name\" module=\"__main__\" show_import=\"False\" heading_level=\"4\">\n",
       "\n",
       "<Description summary=\"The flow name prefixed with the current project\\nand branch. This name identifies the deployment\\non a production scheduler.\\n\" />\n",
       "<ParamSection name=\"Returns\">\n",
       "<Parameter type=\"str\" desc=\"Flow name prefixed with project information.\" />\n",
       "</ParamSection>\n",
       "</DocSection>"
      ],
      "text/plain": [
       "<nbdoc.showdoc.ShowDoc at 0x7fae788cde20>"
      ]
     },
     "execution_count": 13,
     "metadata": {},
     "output_type": "execute_result"
    }
   ],
   "source": [
    "ShowDoc(current.project_flow_name)"
   ]
  },
  {
   "cell_type": "code",
   "execution_count": 14,
   "id": "1097fb92",
   "metadata": {
    "execution": {
     "iopub.execute_input": "2022-07-23T21:47:15.162060Z",
     "iopub.status.busy": "2022-07-23T21:47:15.160943Z",
     "iopub.status.idle": "2022-07-23T21:47:15.165662Z",
     "shell.execute_reply": "2022-07-23T21:47:15.164766Z"
    }
   },
   "outputs": [
    {
     "data": {
      "text/html": [
       "<HTMLRemove>\n",
       "<h4> <code>property</code> <span style=\"color:Brown\">current.branch_name</span> <em></em></h4><p><blockquote>The&nbsp;current&nbsp;branch,&nbsp;i.e.&nbsp;`X`&nbsp;in<br>`--branch=X`&nbsp;set&nbsp;during&nbsp;deployment.<br><br>Returns<br>-------<br>str<br>&nbsp;&nbsp;&nbsp;&nbsp;Branch&nbsp;name.</blockquote></p>\n",
       "</HTMLRemove>\n",
       "<DocSection type=\"property\" name=\"current.branch_name\" module=\"__main__\" show_import=\"False\" heading_level=\"4\">\n",
       "\n",
       "<Description summary=\"The current branch, i.e. `X` in\\n`--branch=X` set during deployment.\\n\" />\n",
       "<ParamSection name=\"Returns\">\n",
       "<Parameter type=\"str\" desc=\"Branch name.\" />\n",
       "</ParamSection>\n",
       "</DocSection>"
      ],
      "text/plain": [
       "<nbdoc.showdoc.ShowDoc at 0x7fae788cd370>"
      ]
     },
     "execution_count": 14,
     "metadata": {},
     "output_type": "execute_result"
    }
   ],
   "source": [
    "ShowDoc(current.branch_name)"
   ]
  },
  {
   "cell_type": "code",
   "execution_count": 15,
   "id": "836d028b",
   "metadata": {
    "execution": {
     "iopub.execute_input": "2022-07-23T21:47:15.171591Z",
     "iopub.status.busy": "2022-07-23T21:47:15.170490Z",
     "iopub.status.idle": "2022-07-23T21:47:15.175622Z",
     "shell.execute_reply": "2022-07-23T21:47:15.174397Z"
    }
   },
   "outputs": [
    {
     "data": {
      "text/html": [
       "<HTMLRemove>\n",
       "<h4> <code>property</code> <span style=\"color:Brown\">current.is_user_branch</span> <em></em></h4><p><blockquote>True&nbsp;if&nbsp;the&nbsp;flow&nbsp;is&nbsp;deployed&nbsp;without&nbsp;a<br>specific&nbsp;`--branch`&nbsp;or&nbsp;a&nbsp;`--production`&nbsp;flag.<br><br>Returns<br>-------<br>bool<br>&nbsp;&nbsp;&nbsp;&nbsp;True&nbsp;if&nbsp;the&nbsp;deployment&nbsp;does&nbsp;not&nbsp;correspond&nbsp;to&nbsp;a&nbsp;specific&nbsp;branch.</blockquote></p>\n",
       "</HTMLRemove>\n",
       "<DocSection type=\"property\" name=\"current.is_user_branch\" module=\"__main__\" show_import=\"False\" heading_level=\"4\">\n",
       "\n",
       "<Description summary=\"True if the flow is deployed without a\\nspecific `--branch` or a `--production` flag.\\n\" />\n",
       "<ParamSection name=\"Returns\">\n",
       "<Parameter type=\"bool\" desc=\"True if the deployment does not correspond to a specific branch.\" />\n",
       "</ParamSection>\n",
       "</DocSection>"
      ],
      "text/plain": [
       "<nbdoc.showdoc.ShowDoc at 0x7fae788cd730>"
      ]
     },
     "execution_count": 15,
     "metadata": {},
     "output_type": "execute_result"
    }
   ],
   "source": [
    "ShowDoc(current.is_user_branch)"
   ]
  },
  {
   "cell_type": "code",
   "execution_count": 16,
   "id": "96348e52",
   "metadata": {
    "execution": {
     "iopub.execute_input": "2022-07-23T21:47:15.181192Z",
     "iopub.status.busy": "2022-07-23T21:47:15.180121Z",
     "iopub.status.idle": "2022-07-23T21:47:15.184133Z",
     "shell.execute_reply": "2022-07-23T21:47:15.185183Z"
    }
   },
   "outputs": [
    {
     "data": {
      "text/html": [
       "<HTMLRemove>\n",
       "<h4> <code>property</code> <span style=\"color:Brown\">current.is_production</span> <em></em></h4><p><blockquote>True&nbsp;if&nbsp;the&nbsp;flow&nbsp;is&nbsp;deployed&nbsp;with&nbsp;the&nbsp;`--production`<br>flag.<br><br>Returns<br>-------<br>bool<br>&nbsp;&nbsp;&nbsp;&nbsp;True&nbsp;if&nbsp;the&nbsp;flow&nbsp;is&nbsp;deployed&nbsp;in&nbsp;`--production`.</blockquote></p>\n",
       "</HTMLRemove>\n",
       "<DocSection type=\"property\" name=\"current.is_production\" module=\"__main__\" show_import=\"False\" heading_level=\"4\">\n",
       "\n",
       "<Description summary=\"True if the flow is deployed with the `--production`\\nflag.\\n\" />\n",
       "<ParamSection name=\"Returns\">\n",
       "<Parameter type=\"bool\" desc=\"True if the flow is deployed in `--production`.\" />\n",
       "</ParamSection>\n",
       "</DocSection>"
      ],
      "text/plain": [
       "<nbdoc.showdoc.ShowDoc at 0x7fae788cd520>"
      ]
     },
     "execution_count": 16,
     "metadata": {},
     "output_type": "execute_result"
    }
   ],
   "source": [
    "ShowDoc(current.is_production)"
   ]
  },
  {
   "cell_type": "markdown",
   "id": "8a104f49",
   "metadata": {},
   "source": [
    "### @card\n",
    "\n",
    "[The @card decorator](/metaflow/visualizing-results) exposes functions in `current` that allow you to customize\n",
    "the contents of cards using [card components](/api/cards#Card-components). For an overview of card-related APIs, see [the API reference for cards](/api/cards)."
   ]
  },
  {
   "cell_type": "code",
   "execution_count": 17,
   "id": "640602e7",
   "metadata": {
    "execution": {
     "iopub.execute_input": "2022-07-23T21:47:15.192111Z",
     "iopub.status.busy": "2022-07-23T21:47:15.191035Z",
     "iopub.status.idle": "2022-07-23T21:47:15.195118Z",
     "shell.execute_reply": "2022-07-23T21:47:15.195984Z"
    }
   },
   "outputs": [
    {
     "data": {
      "text/html": [
       "<HTMLRemove>\n",
       "<h4> <code>method</code> <span style=\"color:Brown\">current.card.__getitem__</span> <em>(self)</em><a href=\"https://github.com/Netflix/metaflow/tree/master/__main__.py#L27\" style=\"float:right\">[source]</a></h4><p><blockquote>Choose&nbsp;a&nbsp;specific&nbsp;card&nbsp;for&nbsp;manipulation.<br><br>When&nbsp;multiple&nbsp;@card&nbsp;decorators&nbsp;are&nbsp;present,&nbsp;you&nbsp;can&nbsp;add&nbsp;an<br>`ID`&nbsp;to&nbsp;distinguish&nbsp;between&nbsp;them,&nbsp;`@card(id=ID)`.&nbsp;This&nbsp;allows&nbsp;you<br>to&nbsp;add&nbsp;components&nbsp;to&nbsp;a&nbsp;specific&nbsp;card&nbsp;like&nbsp;this:<br>```<br>current.card[ID].append(component)<br>```<br><br>Parameters<br>----------<br>key&nbsp;:&nbsp;str<br>&nbsp;&nbsp;&nbsp;&nbsp;Card&nbsp;ID.<br><br>Returns<br>-------<br>CardComponentCollector<br>&nbsp;&nbsp;&nbsp;&nbsp;An&nbsp;object&nbsp;with&nbsp;`append`&nbsp;and&nbsp;`extend`&nbsp;calls&nbsp;which&nbsp;allow&nbsp;you&nbsp;to<br>&nbsp;&nbsp;&nbsp;&nbsp;add&nbsp;components&nbsp;to&nbsp;the&nbsp;chosen&nbsp;card.</blockquote></p>\n",
       "</HTMLRemove>\n",
       "<DocSection type=\"method\" name=\"current.card.__getitem__\" module=\"metaflow\" show_import=\"False\" heading_level=\"4\" link=\"https://github.com/Netflix/metaflow/tree/master/__main__.py#L27\">\n",
       "<SigArgSection>\n",
       "<SigArg name=\"self\" />\n",
       "</SigArgSection>\n",
       "<Description summary=\"Choose a specific card for manipulation.\" extended_summary=\"When multiple @card decorators are present, you can add an\\n`ID` to distinguish between them, `@card(id=ID)`. This allows you\\nto add components to a specific card like this:\\n```\\ncurrent.card[ID].append(component)\\n```\" />\n",
       "<ParamSection name=\"Parameters\">\n",
       "\t<Parameter name=\"key\" type=\"str\" desc=\"Card ID.\" />\n",
       "</ParamSection>\n",
       "<ParamSection name=\"Returns\">\n",
       "\t<Parameter type=\"CardComponentCollector\" desc=\"An object with `append` and `extend` calls which allow you to\\nadd components to the chosen card.\" />\n",
       "</ParamSection>\n",
       "</DocSection>"
      ],
      "text/plain": [
       "<nbdoc.showdoc.ShowDoc at 0x7fae788cde80>"
      ]
     },
     "execution_count": 17,
     "metadata": {},
     "output_type": "execute_result"
    }
   ],
   "source": [
    "ShowDoc(current.card.__getitem__)"
   ]
  },
  {
   "cell_type": "code",
   "execution_count": 18,
   "id": "0709cf75",
   "metadata": {
    "execution": {
     "iopub.execute_input": "2022-07-23T21:47:15.203240Z",
     "iopub.status.busy": "2022-07-23T21:47:15.201693Z",
     "iopub.status.idle": "2022-07-23T21:47:15.206861Z",
     "shell.execute_reply": "2022-07-23T21:47:15.205967Z"
    }
   },
   "outputs": [
    {
     "data": {
      "text/html": [
       "<HTMLRemove>\n",
       "<h4> <code>method</code> <span style=\"color:Brown\">current.card.__setitem__</span> <em>(self)</em><a href=\"https://github.com/Netflix/metaflow/tree/master/__main__.py#L29\" style=\"float:right\">[source]</a></h4><p><blockquote>Specify&nbsp;components&nbsp;of&nbsp;the&nbsp;chosen&nbsp;card.<br><br>Instead&nbsp;of&nbsp;adding&nbsp;components&nbsp;to&nbsp;a&nbsp;card&nbsp;individually&nbsp;with&nbsp;`current.card[ID].append(component)`,<br>use&nbsp;this&nbsp;method&nbsp;to&nbsp;assign&nbsp;a&nbsp;list&nbsp;of&nbsp;components&nbsp;to&nbsp;a&nbsp;card,&nbsp;replacing&nbsp;the&nbsp;existing&nbsp;components:<br>```<br>current.card[ID]&nbsp;=&nbsp;[FirstComponent,&nbsp;SecondComponent]<br>```<br><br>Parameters<br>----------<br>key:&nbsp;str<br>&nbsp;&nbsp;&nbsp;&nbsp;Card&nbsp;ID.<br><br>value:&nbsp;List[CardComponent]<br>&nbsp;&nbsp;&nbsp;&nbsp;List&nbsp;of&nbsp;card&nbsp;components&nbsp;to&nbsp;assign&nbsp;to&nbsp;this&nbsp;card.</blockquote></p>\n",
       "</HTMLRemove>\n",
       "<DocSection type=\"method\" name=\"current.card.__setitem__\" module=\"metaflow\" show_import=\"False\" heading_level=\"4\" link=\"https://github.com/Netflix/metaflow/tree/master/__main__.py#L29\">\n",
       "<SigArgSection>\n",
       "<SigArg name=\"self\" />\n",
       "</SigArgSection>\n",
       "<Description summary=\"Specify components of the chosen card.\" extended_summary=\"Instead of adding components to a card individually with `current.card[ID].append(component)`,\\nuse this method to assign a list of components to a card, replacing the existing components:\\n```\\ncurrent.card[ID] = [FirstComponent, SecondComponent]\\n```\" />\n",
       "<ParamSection name=\"Parameters\">\n",
       "\t<Parameter name=\"key: str\" desc=\"Card ID.\" />\n",
       "\t<Parameter name=\"value: List[CardComponent]\" desc=\"List of card components to assign to this card.\" />\n",
       "</ParamSection>\n",
       "</DocSection>"
      ],
      "text/plain": [
       "<nbdoc.showdoc.ShowDoc at 0x7fae788cdfa0>"
      ]
     },
     "execution_count": 18,
     "metadata": {},
     "output_type": "execute_result"
    }
   ],
   "source": [
    "ShowDoc(current.card.__setitem__)"
   ]
  },
  {
   "cell_type": "code",
   "execution_count": 19,
   "id": "7ef69ab6",
   "metadata": {
    "execution": {
     "iopub.execute_input": "2022-07-23T21:47:15.212958Z",
     "iopub.status.busy": "2022-07-23T21:47:15.211826Z",
     "iopub.status.idle": "2022-07-23T21:47:15.216875Z",
     "shell.execute_reply": "2022-07-23T21:47:15.215909Z"
    }
   },
   "outputs": [
    {
     "data": {
      "text/html": [
       "<HTMLRemove>\n",
       "<h4> <code>method</code> <span style=\"color:Brown\">current.card.append</span> <em>(self)</em><a href=\"https://github.com/Netflix/metaflow/tree/master/__main__.py#L31\" style=\"float:right\">[source]</a></h4><p><blockquote>Appends&nbsp;a&nbsp;component&nbsp;to&nbsp;the&nbsp;current&nbsp;card.<br><br>Parameters<br>----------<br>component&nbsp;:&nbsp;CardComponent<br>&nbsp;&nbsp;&nbsp;&nbsp;Card&nbsp;component&nbsp;to&nbsp;add&nbsp;to&nbsp;this&nbsp;card.</blockquote></p>\n",
       "</HTMLRemove>\n",
       "<DocSection type=\"method\" name=\"current.card.append\" module=\"metaflow\" show_import=\"False\" heading_level=\"4\" link=\"https://github.com/Netflix/metaflow/tree/master/__main__.py#L31\">\n",
       "<SigArgSection>\n",
       "<SigArg name=\"self\" />\n",
       "</SigArgSection>\n",
       "<Description summary=\"Appends a component to the current card.\" />\n",
       "<ParamSection name=\"Parameters\">\n",
       "\t<Parameter name=\"component\" type=\"CardComponent\" desc=\"Card component to add to this card.\" />\n",
       "</ParamSection>\n",
       "</DocSection>"
      ],
      "text/plain": [
       "<nbdoc.showdoc.ShowDoc at 0x7fae788cd9a0>"
      ]
     },
     "execution_count": 19,
     "metadata": {},
     "output_type": "execute_result"
    }
   ],
   "source": [
    "ShowDoc(current.card.append)"
   ]
  },
  {
   "cell_type": "code",
   "execution_count": 20,
   "id": "f667ebcd",
   "metadata": {
    "execution": {
     "iopub.execute_input": "2022-07-23T21:47:15.223853Z",
     "iopub.status.busy": "2022-07-23T21:47:15.221991Z",
     "iopub.status.idle": "2022-07-23T21:47:15.228194Z",
     "shell.execute_reply": "2022-07-23T21:47:15.227225Z"
    }
   },
   "outputs": [
    {
     "data": {
      "text/html": [
       "<HTMLRemove>\n",
       "<h4> <code>method</code> <span style=\"color:Brown\">current.card.extend</span> <em>(self)</em><a href=\"https://github.com/Netflix/metaflow/tree/master/__main__.py#L33\" style=\"float:right\">[source]</a></h4><p><blockquote>Appends&nbsp;many&nbsp;components&nbsp;to&nbsp;the&nbsp;current&nbsp;card.<br><br>Parameters<br>----------<br>component&nbsp;:&nbsp;Iterator[CardComponent]<br>&nbsp;&nbsp;&nbsp;&nbsp;Card&nbsp;components&nbsp;to&nbsp;add&nbsp;to&nbsp;this&nbsp;card.</blockquote></p>\n",
       "</HTMLRemove>\n",
       "<DocSection type=\"method\" name=\"current.card.extend\" module=\"metaflow\" show_import=\"False\" heading_level=\"4\" link=\"https://github.com/Netflix/metaflow/tree/master/__main__.py#L33\">\n",
       "<SigArgSection>\n",
       "<SigArg name=\"self\" />\n",
       "</SigArgSection>\n",
       "<Description summary=\"Appends many components to the current card.\" />\n",
       "<ParamSection name=\"Parameters\">\n",
       "\t<Parameter name=\"component\" type=\"Iterator[CardComponent]\" desc=\"Card components to add to this card.\" />\n",
       "</ParamSection>\n",
       "</DocSection>"
      ],
      "text/plain": [
       "<nbdoc.showdoc.ShowDoc at 0x7fae788cd5e0>"
      ]
     },
     "execution_count": 20,
     "metadata": {},
     "output_type": "execute_result"
    }
   ],
   "source": [
    "ShowDoc(current.card.extend)"
   ]
  },
  {
   "cell_type": "code",
   "execution_count": null,
   "id": "7bb75366",
   "metadata": {},
   "outputs": [],
   "source": []
  }
 ],
 "metadata": {
  "kernelspec": {
   "display_name": "Python 3",
   "language": "python",
   "name": "python3"
  },
  "language_info": {
   "codemirror_mode": {
    "name": "ipython",
    "version": 3
   },
   "file_extension": ".py",
   "mimetype": "text/x-python",
   "name": "python",
   "nbconvert_exporter": "python",
   "pygments_lexer": "ipython3",
   "version": "3.9.1"
  }
 },
 "nbformat": 4,
 "nbformat_minor": 5
}
