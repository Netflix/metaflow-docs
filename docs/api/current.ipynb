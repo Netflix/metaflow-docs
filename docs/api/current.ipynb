{
 "cells": [
  {
   "cell_type": "markdown",
   "id": "c0ed0370",
   "metadata": {},
   "source": [
    "# Current - Operating a run"
   ]
  },
  {
   "cell_type": "markdown",
   "id": "cc1c501a",
   "metadata": {},
   "source": [
    "The `current` object is used to inspect and manipulate the currently executing run. It is only available during flow execution, i.e. inside a `FlowSpec` class and functions called from its steps. You can access the object simply by importing it: `from metaflow import current`.\n",
    "\n",
    "The attributes available in `current` depend on the decorators assigned to the flow and the step where `current` is used. Attributes that are always available are listed under *Common Attributes* below. Decorator-specific attributes are listed under the decorator name."
   ]
  },
  {
   "cell_type": "code",
   "execution_count": 1,
   "id": "d4c02781",
   "metadata": {
    "execution": {
     "iopub.execute_input": "2024-01-19T07:19:59.588415Z",
     "iopub.status.busy": "2024-01-19T07:19:59.588327Z",
     "iopub.status.idle": "2024-01-19T07:19:59.881017Z",
     "shell.execute_reply": "2024-01-19T07:19:59.880717Z"
    }
   },
   "outputs": [],
   "source": [
    "#meta:tag=hide\n",
    "from functools import partial\n",
    "from nbdoc.showdoc import ShowDoc\n",
    "ShowDoc = partial(ShowDoc, module_nm='metaflow')\n",
    "\n",
    "from metaflow.metaflow_current import Current\n",
    "\n",
    "# Create a fake object to show 'current' instead of 'Current'.\n",
    "# We can't use \"from metaflow import current\" directly as it is\n",
    "# an instance of Current, but ShowDoc needs to refer to a class\n",
    "PROPS = [\n",
    "    'is_running_flow',\n",
    "    'flow_name',\n",
    "    'run_id',\n",
    "    'step_name',\n",
    "    'task_id',\n",
    "    'retry_count',\n",
    "    'origin_run_id',\n",
    "    'pathspec',\n",
    "    'namespace',\n",
    "    'username',\n",
    "    'tempdir'\n",
    "]\n",
    "\n",
    "class current:\n",
    "\n",
    "    class card:\n",
    "        def __getitem__(self):\n",
    "            pass\n",
    "        def __setitem__(self):\n",
    "            pass\n",
    "        def append(self):\n",
    "            pass\n",
    "        def extend(self):\n",
    "            pass\n",
    "        def clear(self):\n",
    "            pass\n",
    "        def refresh(self):\n",
    "            pass\n",
    "\n",
    "    # TODO: Move these docs to project_decorator.py\n",
    "    @property\n",
    "    def project_name(self):\n",
    "        \"\"\"\n",
    "        The name of the project assigned to this flow,\n",
    "        i.e. `X` in `@project(name=X)`.\n",
    "\n",
    "        Returns\n",
    "        -------\n",
    "        str\n",
    "            Project name.\n",
    "        \"\"\"\n",
    "        pass\n",
    "\n",
    "    @property\n",
    "    def project_flow_name(self):\n",
    "        \"\"\"\n",
    "        The flow name prefixed with the current project\n",
    "        and branch. This name identifies the deployment\n",
    "        on a production scheduler.\n",
    "    \n",
    "        Returns\n",
    "        -------\n",
    "        str\n",
    "            Flow name prefixed with project information.\n",
    "        \"\"\"\n",
    "        pass\n",
    "    \n",
    "    @property\n",
    "    def branch_name(self):\n",
    "        \"\"\"\n",
    "        The current branch, i.e. `X` in\n",
    "        `--branch=X` set during deployment.\n",
    "\n",
    "        Returns\n",
    "        -------\n",
    "        str\n",
    "            Branch name.\n",
    "        \"\"\"\n",
    "        pass\n",
    "\n",
    "    @property\n",
    "    def is_user_branch(self):\n",
    "        \"\"\"\n",
    "        True if the flow is deployed without a\n",
    "        specific `--branch` or a `--production` flag.\n",
    "\n",
    "        Returns\n",
    "        -------\n",
    "        bool\n",
    "            True if the deployment does not correspond to a specific branch.\n",
    "        \"\"\"\n",
    "        pass\n",
    "\n",
    "    @property\n",
    "    def is_production(self):\n",
    "        \"\"\"\n",
    "        True if the flow is deployed with the `--production`\n",
    "        flag.\n",
    "        \n",
    "        Returns\n",
    "        -------\n",
    "        bool\n",
    "            True if the flow is deployed in `--production`.\n",
    "        \"\"\"\n",
    "        pass\n",
    "    \n",
    "    @property\n",
    "    def trigger(self):\n",
    "        \"\"\"\n",
    "        Returns `MetaflowTrigger` if the current run is triggered by an event.\n",
    "        \n",
    "        Returns\n",
    "        -------\n",
    "        MetaflowTrigger\n",
    "            `MetaflowTrigger` if triggered by a run.\n",
    "        \"\"\"\n",
    "        pass\n",
    "\n",
    "from metaflow.plugins.cards.component_serializer import CardComponentCollector\n",
    "current.card.__getitem__.__doc__ = CardComponentCollector.__getitem__.__doc__\n",
    "current.card.__setitem__.__doc__ = CardComponentCollector.__setitem__.__doc__\n",
    "current.card.append.__doc__ = CardComponentCollector.append.__doc__\n",
    "current.card.extend.__doc__ = CardComponentCollector.extend.__doc__\n",
    "current.card.clear.__doc__ = CardComponentCollector.clear.__doc__\n",
    "current.card.refresh.__doc__ = CardComponentCollector.refresh.__doc__\n",
    "\n",
    "for n in PROPS:\n",
    "    f = lambda self: None\n",
    "    f.__qualname__ = 'current.' + n\n",
    "    f.__doc__ = getattr(Current, n).__doc__\n",
    "    setattr(current, n, property(f))"
   ]
  },
  {
   "cell_type": "markdown",
   "id": "4e89ee3c",
   "metadata": {},
   "source": [
    "## Common Attributes\n",
    "\n",
    "These attributes are always available in the `current` object."
   ]
  },
  {
   "cell_type": "code",
   "execution_count": 2,
   "id": "7fdb7184",
   "metadata": {
    "execution": {
     "iopub.execute_input": "2024-01-19T07:19:59.883272Z",
     "iopub.status.busy": "2024-01-19T07:19:59.883117Z",
     "iopub.status.idle": "2024-01-19T07:19:59.886891Z",
     "shell.execute_reply": "2024-01-19T07:19:59.886612Z"
    }
   },
   "outputs": [
    {
     "data": {
      "text/html": [
       "<HTMLRemove>\n",
       "<h4> <code>property</code> <span style=\"color:Brown\">current.is_running_flow</span> <em></em></h4><p><blockquote>Returns&nbsp;True&nbsp;if&nbsp;called&nbsp;inside&nbsp;a&nbsp;running&nbsp;Flow,&nbsp;False&nbsp;otherwise.<br><br>You&nbsp;can&nbsp;use&nbsp;this&nbsp;property&nbsp;e.g.&nbsp;inside&nbsp;a&nbsp;library&nbsp;to&nbsp;choose&nbsp;the&nbsp;desired<br>behavior&nbsp;depending&nbsp;on&nbsp;the&nbsp;execution&nbsp;context.<br><br>Returns<br>-------<br>bool<br>&nbsp;&nbsp;&nbsp;&nbsp;True&nbsp;if&nbsp;called&nbsp;inside&nbsp;a&nbsp;run,&nbsp;False&nbsp;otherwise.</blockquote></p>\n",
       "</HTMLRemove>\n",
       "<DocSection type=\"property\" name=\"current.is_running_flow\" module=\"__main__\" show_import=\"False\" heading_level=\"4\">\n",
       "\n",
       "<Description summary=\"Returns True if called inside a running Flow, False otherwise.\\n\\nYou can use this property e.g. inside a library to choose the desired\\nbehavior depending on the execution context.\\n\" />\n",
       "<ParamSection name=\"Returns\">\n",
       "<Parameter type=\"bool\" desc=\"True if called inside a run, False otherwise.\" />\n",
       "</ParamSection>\n",
       "</DocSection>"
      ],
      "text/plain": [
       "<nbdoc.showdoc.ShowDoc at 0x10692d810>"
      ]
     },
     "execution_count": 2,
     "metadata": {},
     "output_type": "execute_result"
    }
   ],
   "source": [
    "ShowDoc(current.is_running_flow)"
   ]
  },
  {
   "cell_type": "code",
   "execution_count": 3,
   "id": "fa61bd9b",
   "metadata": {
    "execution": {
     "iopub.execute_input": "2024-01-19T07:19:59.888677Z",
     "iopub.status.busy": "2024-01-19T07:19:59.888603Z",
     "iopub.status.idle": "2024-01-19T07:19:59.890592Z",
     "shell.execute_reply": "2024-01-19T07:19:59.890365Z"
    }
   },
   "outputs": [
    {
     "data": {
      "text/html": [
       "<HTMLRemove>\n",
       "<h4> <code>property</code> <span style=\"color:Brown\">current.flow_name</span> <em></em></h4><p><blockquote>The&nbsp;name&nbsp;of&nbsp;the&nbsp;currently&nbsp;executing&nbsp;flow.<br><br>Returns<br>-------<br>str,&nbsp;optional<br>&nbsp;&nbsp;&nbsp;&nbsp;Flow&nbsp;name.</blockquote></p>\n",
       "</HTMLRemove>\n",
       "<DocSection type=\"property\" name=\"current.flow_name\" module=\"__main__\" show_import=\"False\" heading_level=\"4\">\n",
       "\n",
       "<Description summary=\"The name of the currently executing flow.\\n\" />\n",
       "<ParamSection name=\"Returns\">\n",
       "<Parameter type=\"str, optional\" desc=\"Flow name.\" />\n",
       "</ParamSection>\n",
       "</DocSection>"
      ],
      "text/plain": [
       "<nbdoc.showdoc.ShowDoc at 0x104e5e390>"
      ]
     },
     "execution_count": 3,
     "metadata": {},
     "output_type": "execute_result"
    }
   ],
   "source": [
    "ShowDoc(current.flow_name)"
   ]
  },
  {
   "cell_type": "code",
   "execution_count": 4,
   "id": "16a90815",
   "metadata": {
    "execution": {
     "iopub.execute_input": "2024-01-19T07:19:59.892890Z",
     "iopub.status.busy": "2024-01-19T07:19:59.892816Z",
     "iopub.status.idle": "2024-01-19T07:19:59.894885Z",
     "shell.execute_reply": "2024-01-19T07:19:59.894643Z"
    }
   },
   "outputs": [
    {
     "data": {
      "text/html": [
       "<HTMLRemove>\n",
       "<h4> <code>property</code> <span style=\"color:Brown\">current.run_id</span> <em></em></h4><p><blockquote>The&nbsp;run&nbsp;ID&nbsp;of&nbsp;the&nbsp;currently&nbsp;executing&nbsp;run.<br><br>Returns<br>-------<br>str,&nbsp;optional<br>&nbsp;&nbsp;&nbsp;&nbsp;Run&nbsp;ID.</blockquote></p>\n",
       "</HTMLRemove>\n",
       "<DocSection type=\"property\" name=\"current.run_id\" module=\"__main__\" show_import=\"False\" heading_level=\"4\">\n",
       "\n",
       "<Description summary=\"The run ID of the currently executing run.\\n\" />\n",
       "<ParamSection name=\"Returns\">\n",
       "<Parameter type=\"str, optional\" desc=\"Run ID.\" />\n",
       "</ParamSection>\n",
       "</DocSection>"
      ],
      "text/plain": [
       "<nbdoc.showdoc.ShowDoc at 0x106f95790>"
      ]
     },
     "execution_count": 4,
     "metadata": {},
     "output_type": "execute_result"
    }
   ],
   "source": [
    "ShowDoc(current.run_id)"
   ]
  },
  {
   "cell_type": "code",
   "execution_count": 5,
   "id": "f278667f",
   "metadata": {
    "execution": {
     "iopub.execute_input": "2024-01-19T07:19:59.897089Z",
     "iopub.status.busy": "2024-01-19T07:19:59.896989Z",
     "iopub.status.idle": "2024-01-19T07:19:59.898835Z",
     "shell.execute_reply": "2024-01-19T07:19:59.898621Z"
    }
   },
   "outputs": [
    {
     "data": {
      "text/html": [
       "<HTMLRemove>\n",
       "<h4> <code>property</code> <span style=\"color:Brown\">current.step_name</span> <em></em></h4><p><blockquote>The&nbsp;name&nbsp;of&nbsp;the&nbsp;currently&nbsp;executing&nbsp;step.<br><br>Returns<br>-------<br>str,&nbsp;optional<br>&nbsp;&nbsp;&nbsp;&nbsp;Step&nbsp;name.</blockquote></p>\n",
       "</HTMLRemove>\n",
       "<DocSection type=\"property\" name=\"current.step_name\" module=\"__main__\" show_import=\"False\" heading_level=\"4\">\n",
       "\n",
       "<Description summary=\"The name of the currently executing step.\\n\" />\n",
       "<ParamSection name=\"Returns\">\n",
       "<Parameter type=\"str, optional\" desc=\"Step name.\" />\n",
       "</ParamSection>\n",
       "</DocSection>"
      ],
      "text/plain": [
       "<nbdoc.showdoc.ShowDoc at 0x106f95610>"
      ]
     },
     "execution_count": 5,
     "metadata": {},
     "output_type": "execute_result"
    }
   ],
   "source": [
    "ShowDoc(current.step_name)"
   ]
  },
  {
   "cell_type": "code",
   "execution_count": 6,
   "id": "f4be98ad",
   "metadata": {
    "execution": {
     "iopub.execute_input": "2024-01-19T07:19:59.901759Z",
     "iopub.status.busy": "2024-01-19T07:19:59.901639Z",
     "iopub.status.idle": "2024-01-19T07:19:59.903763Z",
     "shell.execute_reply": "2024-01-19T07:19:59.903547Z"
    }
   },
   "outputs": [
    {
     "data": {
      "text/html": [
       "<HTMLRemove>\n",
       "<h4> <code>property</code> <span style=\"color:Brown\">current.task_id</span> <em></em></h4><p><blockquote>The&nbsp;task&nbsp;ID&nbsp;of&nbsp;the&nbsp;currently&nbsp;executing&nbsp;task.<br><br>Returns<br>-------<br>str,&nbsp;optional<br>&nbsp;&nbsp;&nbsp;&nbsp;Task&nbsp;ID.</blockquote></p>\n",
       "</HTMLRemove>\n",
       "<DocSection type=\"property\" name=\"current.task_id\" module=\"__main__\" show_import=\"False\" heading_level=\"4\">\n",
       "\n",
       "<Description summary=\"The task ID of the currently executing task.\\n\" />\n",
       "<ParamSection name=\"Returns\">\n",
       "<Parameter type=\"str, optional\" desc=\"Task ID.\" />\n",
       "</ParamSection>\n",
       "</DocSection>"
      ],
      "text/plain": [
       "<nbdoc.showdoc.ShowDoc at 0x106f96e10>"
      ]
     },
     "execution_count": 6,
     "metadata": {},
     "output_type": "execute_result"
    }
   ],
   "source": [
    "ShowDoc(current.task_id)"
   ]
  },
  {
   "cell_type": "code",
   "execution_count": 7,
   "id": "a97ad305",
   "metadata": {
    "execution": {
     "iopub.execute_input": "2024-01-19T07:19:59.906017Z",
     "iopub.status.busy": "2024-01-19T07:19:59.905922Z",
     "iopub.status.idle": "2024-01-19T07:19:59.908089Z",
     "shell.execute_reply": "2024-01-19T07:19:59.907837Z"
    }
   },
   "outputs": [
    {
     "data": {
      "text/html": [
       "<HTMLRemove>\n",
       "<h4> <code>property</code> <span style=\"color:Brown\">current.retry_count</span> <em></em></h4><p><blockquote>The&nbsp;index&nbsp;of&nbsp;the&nbsp;task&nbsp;execution&nbsp;attempt.<br><br>This&nbsp;property&nbsp;returns&nbsp;0&nbsp;for&nbsp;the&nbsp;first&nbsp;attempt&nbsp;to&nbsp;execute&nbsp;the&nbsp;task.<br>If&nbsp;the&nbsp;@retry&nbsp;decorator&nbsp;is&nbsp;used&nbsp;and&nbsp;the&nbsp;first&nbsp;attempt&nbsp;fails,&nbsp;this<br>property&nbsp;returns&nbsp;the&nbsp;number&nbsp;of&nbsp;times&nbsp;the&nbsp;task&nbsp;was&nbsp;attempted&nbsp;prior<br>to&nbsp;the&nbsp;current&nbsp;attempt.<br><br>Returns<br>-------<br>int<br>&nbsp;&nbsp;&nbsp;&nbsp;The&nbsp;retry&nbsp;count.</blockquote></p>\n",
       "</HTMLRemove>\n",
       "<DocSection type=\"property\" name=\"current.retry_count\" module=\"__main__\" show_import=\"False\" heading_level=\"4\">\n",
       "\n",
       "<Description summary=\"The index of the task execution attempt.\\n\\nThis property returns 0 for the first attempt to execute the task.\\nIf the @retry decorator is used and the first attempt fails, this\\nproperty returns the number of times the task was attempted prior\\nto the current attempt.\\n\" />\n",
       "<ParamSection name=\"Returns\">\n",
       "<Parameter type=\"int\" desc=\"The retry count.\" />\n",
       "</ParamSection>\n",
       "</DocSection>"
      ],
      "text/plain": [
       "<nbdoc.showdoc.ShowDoc at 0x106f97890>"
      ]
     },
     "execution_count": 7,
     "metadata": {},
     "output_type": "execute_result"
    }
   ],
   "source": [
    "ShowDoc(current.retry_count)"
   ]
  },
  {
   "cell_type": "code",
   "execution_count": 8,
   "id": "b73e163c",
   "metadata": {
    "execution": {
     "iopub.execute_input": "2024-01-19T07:19:59.910322Z",
     "iopub.status.busy": "2024-01-19T07:19:59.910237Z",
     "iopub.status.idle": "2024-01-19T07:19:59.912188Z",
     "shell.execute_reply": "2024-01-19T07:19:59.911966Z"
    }
   },
   "outputs": [
    {
     "data": {
      "text/html": [
       "<HTMLRemove>\n",
       "<h4> <code>property</code> <span style=\"color:Brown\">current.origin_run_id</span> <em></em></h4><p><blockquote>The&nbsp;run&nbsp;ID&nbsp;of&nbsp;the&nbsp;original&nbsp;run&nbsp;this&nbsp;run&nbsp;was&nbsp;resumed&nbsp;from.<br><br>This&nbsp;property&nbsp;returns&nbsp;None&nbsp;for&nbsp;ordinary&nbsp;runs.&nbsp;If&nbsp;the&nbsp;run<br>was&nbsp;started&nbsp;by&nbsp;the&nbsp;resume&nbsp;command,&nbsp;the&nbsp;property&nbsp;returns<br>the&nbsp;ID&nbsp;of&nbsp;the&nbsp;original&nbsp;run.<br><br>You&nbsp;can&nbsp;use&nbsp;this&nbsp;property&nbsp;to&nbsp;detect&nbsp;if&nbsp;the&nbsp;run&nbsp;is&nbsp;resumed<br>or&nbsp;not.<br><br>Returns<br>-------<br>str,&nbsp;optional<br>&nbsp;&nbsp;&nbsp;&nbsp;Run&nbsp;ID&nbsp;of&nbsp;the&nbsp;original&nbsp;run.</blockquote></p>\n",
       "</HTMLRemove>\n",
       "<DocSection type=\"property\" name=\"current.origin_run_id\" module=\"__main__\" show_import=\"False\" heading_level=\"4\">\n",
       "\n",
       "<Description summary=\"The run ID of the original run this run was resumed from.\\n\\nThis property returns None for ordinary runs. If the run\\nwas started by the resume command, the property returns\\nthe ID of the original run.\\n\\nYou can use this property to detect if the run is resumed\\nor not.\\n\" />\n",
       "<ParamSection name=\"Returns\">\n",
       "<Parameter type=\"str, optional\" desc=\"Run ID of the original run.\" />\n",
       "</ParamSection>\n",
       "</DocSection>"
      ],
      "text/plain": [
       "<nbdoc.showdoc.ShowDoc at 0x104e60f10>"
      ]
     },
     "execution_count": 8,
     "metadata": {},
     "output_type": "execute_result"
    }
   ],
   "source": [
    "ShowDoc(current.origin_run_id)"
   ]
  },
  {
   "cell_type": "code",
   "execution_count": 9,
   "id": "16dd0a74",
   "metadata": {
    "execution": {
     "iopub.execute_input": "2024-01-19T07:19:59.914309Z",
     "iopub.status.busy": "2024-01-19T07:19:59.914228Z",
     "iopub.status.idle": "2024-01-19T07:19:59.916155Z",
     "shell.execute_reply": "2024-01-19T07:19:59.915940Z"
    }
   },
   "outputs": [
    {
     "data": {
      "text/html": [
       "<HTMLRemove>\n",
       "<h4> <code>property</code> <span style=\"color:Brown\">current.pathspec</span> <em></em></h4><p><blockquote>Pathspec&nbsp;of&nbsp;the&nbsp;current&nbsp;task,&nbsp;i.e.&nbsp;a&nbsp;unique<br>identifier&nbsp;of&nbsp;the&nbsp;current&nbsp;task.&nbsp;The&nbsp;returned<br>string&nbsp;follows&nbsp;this&nbsp;format:<br>```<br>{flow_name}/{run_id}/{step_name}/{task_id}<br>```<br><br>This&nbsp;is&nbsp;a&nbsp;shorthand&nbsp;to&nbsp;`current.task.pathspec`.<br><br>Returns<br>-------<br>str,&nbsp;optional<br>&nbsp;&nbsp;&nbsp;&nbsp;Pathspec.</blockquote></p>\n",
       "</HTMLRemove>\n",
       "<DocSection type=\"property\" name=\"current.pathspec\" module=\"__main__\" show_import=\"False\" heading_level=\"4\">\n",
       "\n",
       "<Description summary=\"Pathspec of the current task, i.e. a unique\\nidentifier of the current task. The returned\\nstring follows this format:\\n```\\n{flow_name}/{run_id}/{step_name}/{task_id}\\n```\\n\\nThis is a shorthand to `current.task.pathspec`.\\n\" />\n",
       "<ParamSection name=\"Returns\">\n",
       "<Parameter type=\"str, optional\" desc=\"Pathspec.\" />\n",
       "</ParamSection>\n",
       "</DocSection>"
      ],
      "text/plain": [
       "<nbdoc.showdoc.ShowDoc at 0x106f97850>"
      ]
     },
     "execution_count": 9,
     "metadata": {},
     "output_type": "execute_result"
    }
   ],
   "source": [
    "ShowDoc(current.pathspec)"
   ]
  },
  {
   "cell_type": "code",
   "execution_count": 10,
   "id": "8f758f03",
   "metadata": {
    "execution": {
     "iopub.execute_input": "2024-01-19T07:19:59.918465Z",
     "iopub.status.busy": "2024-01-19T07:19:59.918380Z",
     "iopub.status.idle": "2024-01-19T07:19:59.920345Z",
     "shell.execute_reply": "2024-01-19T07:19:59.920118Z"
    }
   },
   "outputs": [
    {
     "data": {
      "text/html": [
       "<HTMLRemove>\n",
       "<h4> <code>property</code> <span style=\"color:Brown\">current.namespace</span> <em></em></h4><p><blockquote>The&nbsp;current&nbsp;namespace.<br><br>Returns<br>-------<br>str<br>&nbsp;&nbsp;&nbsp;&nbsp;Namespace.</blockquote></p>\n",
       "</HTMLRemove>\n",
       "<DocSection type=\"property\" name=\"current.namespace\" module=\"__main__\" show_import=\"False\" heading_level=\"4\">\n",
       "\n",
       "<Description summary=\"The current namespace.\\n\" />\n",
       "<ParamSection name=\"Returns\">\n",
       "<Parameter type=\"str\" desc=\"Namespace.\" />\n",
       "</ParamSection>\n",
       "</DocSection>"
      ],
      "text/plain": [
       "<nbdoc.showdoc.ShowDoc at 0x104e5c850>"
      ]
     },
     "execution_count": 10,
     "metadata": {},
     "output_type": "execute_result"
    }
   ],
   "source": [
    "ShowDoc(current.namespace)"
   ]
  },
  {
   "cell_type": "code",
   "execution_count": 11,
   "id": "feaa6830",
   "metadata": {
    "execution": {
     "iopub.execute_input": "2024-01-19T07:19:59.923008Z",
     "iopub.status.busy": "2024-01-19T07:19:59.922885Z",
     "iopub.status.idle": "2024-01-19T07:19:59.924953Z",
     "shell.execute_reply": "2024-01-19T07:19:59.924715Z"
    }
   },
   "outputs": [
    {
     "data": {
      "text/html": [
       "<HTMLRemove>\n",
       "<h4> <code>property</code> <span style=\"color:Brown\">current.username</span> <em></em></h4><p><blockquote>The&nbsp;name&nbsp;of&nbsp;the&nbsp;user&nbsp;who&nbsp;started&nbsp;the&nbsp;run,&nbsp;if&nbsp;available.<br><br>Returns<br>-------<br>str,&nbsp;optional<br>&nbsp;&nbsp;&nbsp;&nbsp;User&nbsp;name.</blockquote></p>\n",
       "</HTMLRemove>\n",
       "<DocSection type=\"property\" name=\"current.username\" module=\"__main__\" show_import=\"False\" heading_level=\"4\">\n",
       "\n",
       "<Description summary=\"The name of the user who started the run, if available.\\n\" />\n",
       "<ParamSection name=\"Returns\">\n",
       "<Parameter type=\"str, optional\" desc=\"User name.\" />\n",
       "</ParamSection>\n",
       "</DocSection>"
      ],
      "text/plain": [
       "<nbdoc.showdoc.ShowDoc at 0x106f98b50>"
      ]
     },
     "execution_count": 11,
     "metadata": {},
     "output_type": "execute_result"
    }
   ],
   "source": [
    "ShowDoc(current.username)"
   ]
  },
  {
   "cell_type": "code",
   "execution_count": 12,
   "id": "66c47292",
   "metadata": {
    "execution": {
     "iopub.execute_input": "2024-01-19T07:19:59.927253Z",
     "iopub.status.busy": "2024-01-19T07:19:59.927155Z",
     "iopub.status.idle": "2024-01-19T07:19:59.929160Z",
     "shell.execute_reply": "2024-01-19T07:19:59.928923Z"
    }
   },
   "outputs": [
    {
     "data": {
      "text/html": [
       "<HTMLRemove>\n",
       "<h4> <code>property</code> <span style=\"color:Brown\">current.tempdir</span> <em></em></h4><p><blockquote>Currently&nbsp;configured&nbsp;temporary&nbsp;directory.<br><br>Returns<br>-------<br>str,&nbsp;optional<br>&nbsp;&nbsp;&nbsp;&nbsp;Temporary&nbsp;director.</blockquote></p>\n",
       "</HTMLRemove>\n",
       "<DocSection type=\"property\" name=\"current.tempdir\" module=\"__main__\" show_import=\"False\" heading_level=\"4\">\n",
       "\n",
       "<Description summary=\"Currently configured temporary directory.\\n\" />\n",
       "<ParamSection name=\"Returns\">\n",
       "<Parameter type=\"str, optional\" desc=\"Temporary director.\" />\n",
       "</ParamSection>\n",
       "</DocSection>"
      ],
      "text/plain": [
       "<nbdoc.showdoc.ShowDoc at 0x106f98390>"
      ]
     },
     "execution_count": 12,
     "metadata": {},
     "output_type": "execute_result"
    }
   ],
   "source": [
    "ShowDoc(current.tempdir)"
   ]
  },
  {
   "cell_type": "markdown",
   "id": "12733ec9",
   "metadata": {},
   "source": [
    "## Decorator-specific attributes\n",
    "\n",
    "These attributes are only available when the decorator is present."
   ]
  },
  {
   "cell_type": "markdown",
   "id": "820a3734",
   "metadata": {},
   "source": [
    "### @project\n",
    "\n",
    "[The @project decorator](/production/coordinating-larger-metaflow-projects) exposes attributes related to the current deployment."
   ]
  },
  {
   "cell_type": "code",
   "execution_count": 13,
   "id": "437b253d",
   "metadata": {
    "execution": {
     "iopub.execute_input": "2024-01-19T07:19:59.931621Z",
     "iopub.status.busy": "2024-01-19T07:19:59.931531Z",
     "iopub.status.idle": "2024-01-19T07:19:59.933652Z",
     "shell.execute_reply": "2024-01-19T07:19:59.933397Z"
    }
   },
   "outputs": [
    {
     "data": {
      "text/html": [
       "<HTMLRemove>\n",
       "<h4> <code>property</code> <span style=\"color:Brown\">current.project_name</span> <em></em></h4><p><blockquote>The&nbsp;name&nbsp;of&nbsp;the&nbsp;project&nbsp;assigned&nbsp;to&nbsp;this&nbsp;flow,<br>i.e.&nbsp;`X`&nbsp;in&nbsp;`@project(name=X)`.<br><br>Returns<br>-------<br>str<br>&nbsp;&nbsp;&nbsp;&nbsp;Project&nbsp;name.</blockquote></p>\n",
       "</HTMLRemove>\n",
       "<DocSection type=\"property\" name=\"current.project_name\" module=\"__main__\" show_import=\"False\" heading_level=\"4\">\n",
       "\n",
       "<Description summary=\"The name of the project assigned to this flow,\\ni.e. `X` in `@project(name=X)`.\\n\" />\n",
       "<ParamSection name=\"Returns\">\n",
       "<Parameter type=\"str\" desc=\"Project name.\" />\n",
       "</ParamSection>\n",
       "</DocSection>"
      ],
      "text/plain": [
       "<nbdoc.showdoc.ShowDoc at 0x106f98110>"
      ]
     },
     "execution_count": 13,
     "metadata": {},
     "output_type": "execute_result"
    }
   ],
   "source": [
    "ShowDoc(current.project_name)"
   ]
  },
  {
   "cell_type": "code",
   "execution_count": 14,
   "id": "fe5e9e0a",
   "metadata": {
    "execution": {
     "iopub.execute_input": "2024-01-19T07:19:59.935831Z",
     "iopub.status.busy": "2024-01-19T07:19:59.935737Z",
     "iopub.status.idle": "2024-01-19T07:19:59.937887Z",
     "shell.execute_reply": "2024-01-19T07:19:59.937598Z"
    }
   },
   "outputs": [
    {
     "data": {
      "text/html": [
       "<HTMLRemove>\n",
       "<h4> <code>property</code> <span style=\"color:Brown\">current.project_flow_name</span> <em></em></h4><p><blockquote>The&nbsp;flow&nbsp;name&nbsp;prefixed&nbsp;with&nbsp;the&nbsp;current&nbsp;project<br>and&nbsp;branch.&nbsp;This&nbsp;name&nbsp;identifies&nbsp;the&nbsp;deployment<br>on&nbsp;a&nbsp;production&nbsp;scheduler.<br><br>Returns<br>-------<br>str<br>&nbsp;&nbsp;&nbsp;&nbsp;Flow&nbsp;name&nbsp;prefixed&nbsp;with&nbsp;project&nbsp;information.</blockquote></p>\n",
       "</HTMLRemove>\n",
       "<DocSection type=\"property\" name=\"current.project_flow_name\" module=\"__main__\" show_import=\"False\" heading_level=\"4\">\n",
       "\n",
       "<Description summary=\"The flow name prefixed with the current project\\nand branch. This name identifies the deployment\\non a production scheduler.\\n\" />\n",
       "<ParamSection name=\"Returns\">\n",
       "<Parameter type=\"str\" desc=\"Flow name prefixed with project information.\" />\n",
       "</ParamSection>\n",
       "</DocSection>"
      ],
      "text/plain": [
       "<nbdoc.showdoc.ShowDoc at 0x106f96350>"
      ]
     },
     "execution_count": 14,
     "metadata": {},
     "output_type": "execute_result"
    }
   ],
   "source": [
    "ShowDoc(current.project_flow_name)"
   ]
  },
  {
   "cell_type": "code",
   "execution_count": 15,
   "id": "1097fb92",
   "metadata": {
    "execution": {
     "iopub.execute_input": "2024-01-19T07:19:59.939852Z",
     "iopub.status.busy": "2024-01-19T07:19:59.939765Z",
     "iopub.status.idle": "2024-01-19T07:19:59.941616Z",
     "shell.execute_reply": "2024-01-19T07:19:59.941395Z"
    }
   },
   "outputs": [
    {
     "data": {
      "text/html": [
       "<HTMLRemove>\n",
       "<h4> <code>property</code> <span style=\"color:Brown\">current.branch_name</span> <em></em></h4><p><blockquote>The&nbsp;current&nbsp;branch,&nbsp;i.e.&nbsp;`X`&nbsp;in<br>`--branch=X`&nbsp;set&nbsp;during&nbsp;deployment.<br><br>Returns<br>-------<br>str<br>&nbsp;&nbsp;&nbsp;&nbsp;Branch&nbsp;name.</blockquote></p>\n",
       "</HTMLRemove>\n",
       "<DocSection type=\"property\" name=\"current.branch_name\" module=\"__main__\" show_import=\"False\" heading_level=\"4\">\n",
       "\n",
       "<Description summary=\"The current branch, i.e. `X` in\\n`--branch=X` set during deployment.\\n\" />\n",
       "<ParamSection name=\"Returns\">\n",
       "<Parameter type=\"str\" desc=\"Branch name.\" />\n",
       "</ParamSection>\n",
       "</DocSection>"
      ],
      "text/plain": [
       "<nbdoc.showdoc.ShowDoc at 0x104e47610>"
      ]
     },
     "execution_count": 15,
     "metadata": {},
     "output_type": "execute_result"
    }
   ],
   "source": [
    "ShowDoc(current.branch_name)"
   ]
  },
  {
   "cell_type": "code",
   "execution_count": 16,
   "id": "836d028b",
   "metadata": {
    "execution": {
     "iopub.execute_input": "2024-01-19T07:19:59.943944Z",
     "iopub.status.busy": "2024-01-19T07:19:59.943855Z",
     "iopub.status.idle": "2024-01-19T07:19:59.945894Z",
     "shell.execute_reply": "2024-01-19T07:19:59.945610Z"
    }
   },
   "outputs": [
    {
     "data": {
      "text/html": [
       "<HTMLRemove>\n",
       "<h4> <code>property</code> <span style=\"color:Brown\">current.is_user_branch</span> <em></em></h4><p><blockquote>True&nbsp;if&nbsp;the&nbsp;flow&nbsp;is&nbsp;deployed&nbsp;without&nbsp;a<br>specific&nbsp;`--branch`&nbsp;or&nbsp;a&nbsp;`--production`&nbsp;flag.<br><br>Returns<br>-------<br>bool<br>&nbsp;&nbsp;&nbsp;&nbsp;True&nbsp;if&nbsp;the&nbsp;deployment&nbsp;does&nbsp;not&nbsp;correspond&nbsp;to&nbsp;a&nbsp;specific&nbsp;branch.</blockquote></p>\n",
       "</HTMLRemove>\n",
       "<DocSection type=\"property\" name=\"current.is_user_branch\" module=\"__main__\" show_import=\"False\" heading_level=\"4\">\n",
       "\n",
       "<Description summary=\"True if the flow is deployed without a\\nspecific `--branch` or a `--production` flag.\\n\" />\n",
       "<ParamSection name=\"Returns\">\n",
       "<Parameter type=\"bool\" desc=\"True if the deployment does not correspond to a specific branch.\" />\n",
       "</ParamSection>\n",
       "</DocSection>"
      ],
      "text/plain": [
       "<nbdoc.showdoc.ShowDoc at 0x106f99b90>"
      ]
     },
     "execution_count": 16,
     "metadata": {},
     "output_type": "execute_result"
    }
   ],
   "source": [
    "ShowDoc(current.is_user_branch)"
   ]
  },
  {
   "cell_type": "code",
   "execution_count": 17,
   "id": "96348e52",
   "metadata": {
    "execution": {
     "iopub.execute_input": "2024-01-19T07:19:59.948400Z",
     "iopub.status.busy": "2024-01-19T07:19:59.948307Z",
     "iopub.status.idle": "2024-01-19T07:19:59.950491Z",
     "shell.execute_reply": "2024-01-19T07:19:59.950234Z"
    }
   },
   "outputs": [
    {
     "data": {
      "text/html": [
       "<HTMLRemove>\n",
       "<h4> <code>property</code> <span style=\"color:Brown\">current.is_production</span> <em></em></h4><p><blockquote>True&nbsp;if&nbsp;the&nbsp;flow&nbsp;is&nbsp;deployed&nbsp;with&nbsp;the&nbsp;`--production`<br>flag.<br><br>Returns<br>-------<br>bool<br>&nbsp;&nbsp;&nbsp;&nbsp;True&nbsp;if&nbsp;the&nbsp;flow&nbsp;is&nbsp;deployed&nbsp;in&nbsp;`--production`.</blockquote></p>\n",
       "</HTMLRemove>\n",
       "<DocSection type=\"property\" name=\"current.is_production\" module=\"__main__\" show_import=\"False\" heading_level=\"4\">\n",
       "\n",
       "<Description summary=\"True if the flow is deployed with the `--production`\\nflag.\\n\" />\n",
       "<ParamSection name=\"Returns\">\n",
       "<Parameter type=\"bool\" desc=\"True if the flow is deployed in `--production`.\" />\n",
       "</ParamSection>\n",
       "</DocSection>"
      ],
      "text/plain": [
       "<nbdoc.showdoc.ShowDoc at 0x106f9a390>"
      ]
     },
     "execution_count": 17,
     "metadata": {},
     "output_type": "execute_result"
    }
   ],
   "source": [
    "ShowDoc(current.is_production)"
   ]
  },
  {
   "cell_type": "markdown",
   "id": "8a104f49",
   "metadata": {},
   "source": [
    "### @card\n",
    "\n",
    "[The @card decorator](/metaflow/visualizing-results) exposes functions in `current` that allow you to customize\n",
    "the contents of cards using [card components](/api/cards#Card-components). For an overview of card-related APIs, see [the API reference for cards](/api/cards)."
   ]
  },
  {
   "cell_type": "code",
   "execution_count": 18,
   "id": "640602e7",
   "metadata": {
    "execution": {
     "iopub.execute_input": "2024-01-19T07:19:59.952836Z",
     "iopub.status.busy": "2024-01-19T07:19:59.952747Z",
     "iopub.status.idle": "2024-01-19T07:19:59.955284Z",
     "shell.execute_reply": "2024-01-19T07:19:59.955044Z"
    }
   },
   "outputs": [
    {
     "data": {
      "text/html": [
       "<HTMLRemove>\n",
       "<h4> <code>method</code> <span style=\"color:Brown\">current.card.__getitem__</span> <em>(self)</em><a href=\"https://github.com/Netflix/metaflow/tree/master/__main__.py#L28\" style=\"float:right\">[source]</a></h4><p><blockquote>Choose&nbsp;a&nbsp;specific&nbsp;card&nbsp;for&nbsp;manipulation.<br><br>When&nbsp;multiple&nbsp;@card&nbsp;decorators&nbsp;are&nbsp;present,&nbsp;you&nbsp;can&nbsp;add&nbsp;an<br>`ID`&nbsp;to&nbsp;distinguish&nbsp;between&nbsp;them,&nbsp;`@card(id=ID)`.&nbsp;This&nbsp;allows&nbsp;you<br>to&nbsp;add&nbsp;components&nbsp;to&nbsp;a&nbsp;specific&nbsp;card&nbsp;like&nbsp;this:<br>```<br>current.card[ID].append(component)<br>```<br><br>Parameters<br>----------<br>key&nbsp;:&nbsp;str<br>&nbsp;&nbsp;&nbsp;&nbsp;Card&nbsp;ID.<br><br>Returns<br>-------<br>CardComponentManager<br>&nbsp;&nbsp;&nbsp;&nbsp;An&nbsp;object&nbsp;with&nbsp;`append`&nbsp;and&nbsp;`extend`&nbsp;calls&nbsp;which&nbsp;allow&nbsp;you&nbsp;to<br>&nbsp;&nbsp;&nbsp;&nbsp;add&nbsp;components&nbsp;to&nbsp;the&nbsp;chosen&nbsp;card.</blockquote></p>\n",
       "</HTMLRemove>\n",
       "<DocSection type=\"method\" name=\"current.card.__getitem__\" module=\"metaflow\" show_import=\"False\" heading_level=\"4\" link=\"https://github.com/Netflix/metaflow/tree/master/__main__.py#L28\">\n",
       "<SigArgSection>\n",
       "<SigArg name=\"self\" />\n",
       "</SigArgSection>\n",
       "<Description summary=\"Choose a specific card for manipulation.\" extended_summary=\"When multiple @card decorators are present, you can add an\\n`ID` to distinguish between them, `@card(id=ID)`. This allows you\\nto add components to a specific card like this:\\n```\\ncurrent.card[ID].append(component)\\n```\" />\n",
       "<ParamSection name=\"Parameters\">\n",
       "\t<Parameter name=\"key\" type=\"str\" desc=\"Card ID.\" />\n",
       "</ParamSection>\n",
       "<ParamSection name=\"Returns\">\n",
       "\t<Parameter type=\"CardComponentManager\" desc=\"An object with `append` and `extend` calls which allow you to\\nadd components to the chosen card.\" />\n",
       "</ParamSection>\n",
       "</DocSection>"
      ],
      "text/plain": [
       "<nbdoc.showdoc.ShowDoc at 0x106f9a310>"
      ]
     },
     "execution_count": 18,
     "metadata": {},
     "output_type": "execute_result"
    }
   ],
   "source": [
    "ShowDoc(current.card.__getitem__)"
   ]
  },
  {
   "cell_type": "code",
   "execution_count": 19,
   "id": "0709cf75",
   "metadata": {
    "execution": {
     "iopub.execute_input": "2024-01-19T07:19:59.957557Z",
     "iopub.status.busy": "2024-01-19T07:19:59.957459Z",
     "iopub.status.idle": "2024-01-19T07:19:59.959726Z",
     "shell.execute_reply": "2024-01-19T07:19:59.959463Z"
    }
   },
   "outputs": [
    {
     "data": {
      "text/html": [
       "<HTMLRemove>\n",
       "<h4> <code>method</code> <span style=\"color:Brown\">current.card.__setitem__</span> <em>(self)</em><a href=\"https://github.com/Netflix/metaflow/tree/master/__main__.py#L30\" style=\"float:right\">[source]</a></h4><p><blockquote>Specify&nbsp;components&nbsp;of&nbsp;the&nbsp;chosen&nbsp;card.<br><br>Instead&nbsp;of&nbsp;adding&nbsp;components&nbsp;to&nbsp;a&nbsp;card&nbsp;individually&nbsp;with&nbsp;`current.card[ID].append(component)`,<br>use&nbsp;this&nbsp;method&nbsp;to&nbsp;assign&nbsp;a&nbsp;list&nbsp;of&nbsp;components&nbsp;to&nbsp;a&nbsp;card,&nbsp;replacing&nbsp;the&nbsp;existing&nbsp;components:<br>```<br>current.card[ID]&nbsp;=&nbsp;[FirstComponent,&nbsp;SecondComponent]<br>```<br><br>Parameters<br>----------<br>key:&nbsp;str<br>&nbsp;&nbsp;&nbsp;&nbsp;Card&nbsp;ID.<br><br>value:&nbsp;List[MetaflowCardComponent]<br>&nbsp;&nbsp;&nbsp;&nbsp;List&nbsp;of&nbsp;card&nbsp;components&nbsp;to&nbsp;assign&nbsp;to&nbsp;this&nbsp;card.</blockquote></p>\n",
       "</HTMLRemove>\n",
       "<DocSection type=\"method\" name=\"current.card.__setitem__\" module=\"metaflow\" show_import=\"False\" heading_level=\"4\" link=\"https://github.com/Netflix/metaflow/tree/master/__main__.py#L30\">\n",
       "<SigArgSection>\n",
       "<SigArg name=\"self\" />\n",
       "</SigArgSection>\n",
       "<Description summary=\"Specify components of the chosen card.\" extended_summary=\"Instead of adding components to a card individually with `current.card[ID].append(component)`,\\nuse this method to assign a list of components to a card, replacing the existing components:\\n```\\ncurrent.card[ID] = [FirstComponent, SecondComponent]\\n```\" />\n",
       "<ParamSection name=\"Parameters\">\n",
       "\t<Parameter name=\"key: str\" desc=\"Card ID.\" />\n",
       "\t<Parameter name=\"value: List[MetaflowCardComponent]\" desc=\"List of card components to assign to this card.\" />\n",
       "</ParamSection>\n",
       "</DocSection>"
      ],
      "text/plain": [
       "<nbdoc.showdoc.ShowDoc at 0x104e21510>"
      ]
     },
     "execution_count": 19,
     "metadata": {},
     "output_type": "execute_result"
    }
   ],
   "source": [
    "ShowDoc(current.card.__setitem__)"
   ]
  },
  {
   "cell_type": "code",
   "execution_count": 20,
   "id": "7ef69ab6",
   "metadata": {
    "execution": {
     "iopub.execute_input": "2024-01-19T07:19:59.962159Z",
     "iopub.status.busy": "2024-01-19T07:19:59.962062Z",
     "iopub.status.idle": "2024-01-19T07:19:59.964314Z",
     "shell.execute_reply": "2024-01-19T07:19:59.964024Z"
    }
   },
   "outputs": [
    {
     "data": {
      "text/html": [
       "<HTMLRemove>\n",
       "<h4> <code>method</code> <span style=\"color:Brown\">current.card.append</span> <em>(self)</em><a href=\"https://github.com/Netflix/metaflow/tree/master/__main__.py#L32\" style=\"float:right\">[source]</a></h4><p><blockquote>Appends&nbsp;a&nbsp;component&nbsp;to&nbsp;the&nbsp;current&nbsp;card.<br><br>Parameters<br>----------<br>component&nbsp;:&nbsp;MetaflowCardComponent<br>&nbsp;&nbsp;&nbsp;&nbsp;Card&nbsp;component&nbsp;to&nbsp;add&nbsp;to&nbsp;this&nbsp;card.</blockquote></p>\n",
       "</HTMLRemove>\n",
       "<DocSection type=\"method\" name=\"current.card.append\" module=\"metaflow\" show_import=\"False\" heading_level=\"4\" link=\"https://github.com/Netflix/metaflow/tree/master/__main__.py#L32\">\n",
       "<SigArgSection>\n",
       "<SigArg name=\"self\" />\n",
       "</SigArgSection>\n",
       "<Description summary=\"Appends a component to the current card.\" />\n",
       "<ParamSection name=\"Parameters\">\n",
       "\t<Parameter name=\"component\" type=\"MetaflowCardComponent\" desc=\"Card component to add to this card.\" />\n",
       "</ParamSection>\n",
       "</DocSection>"
      ],
      "text/plain": [
       "<nbdoc.showdoc.ShowDoc at 0x106f96990>"
      ]
     },
     "execution_count": 20,
     "metadata": {},
     "output_type": "execute_result"
    }
   ],
   "source": [
    "ShowDoc(current.card.append)"
   ]
  },
  {
   "cell_type": "code",
   "execution_count": 21,
   "id": "f667ebcd",
   "metadata": {
    "execution": {
     "iopub.execute_input": "2024-01-19T07:19:59.966651Z",
     "iopub.status.busy": "2024-01-19T07:19:59.966550Z",
     "iopub.status.idle": "2024-01-19T07:19:59.968790Z",
     "shell.execute_reply": "2024-01-19T07:19:59.968551Z"
    }
   },
   "outputs": [
    {
     "data": {
      "text/html": [
       "<HTMLRemove>\n",
       "<h4> <code>method</code> <span style=\"color:Brown\">current.card.extend</span> <em>(self)</em><a href=\"https://github.com/Netflix/metaflow/tree/master/__main__.py#L34\" style=\"float:right\">[source]</a></h4><p><blockquote>Appends&nbsp;many&nbsp;components&nbsp;to&nbsp;the&nbsp;current&nbsp;card.<br><br>Parameters<br>----------<br>component&nbsp;:&nbsp;Iterator[MetaflowCardComponent]<br>&nbsp;&nbsp;&nbsp;&nbsp;Card&nbsp;components&nbsp;to&nbsp;add&nbsp;to&nbsp;this&nbsp;card.</blockquote></p>\n",
       "</HTMLRemove>\n",
       "<DocSection type=\"method\" name=\"current.card.extend\" module=\"metaflow\" show_import=\"False\" heading_level=\"4\" link=\"https://github.com/Netflix/metaflow/tree/master/__main__.py#L34\">\n",
       "<SigArgSection>\n",
       "<SigArg name=\"self\" />\n",
       "</SigArgSection>\n",
       "<Description summary=\"Appends many components to the current card.\" />\n",
       "<ParamSection name=\"Parameters\">\n",
       "\t<Parameter name=\"component\" type=\"Iterator[MetaflowCardComponent]\" desc=\"Card components to add to this card.\" />\n",
       "</ParamSection>\n",
       "</DocSection>"
      ],
      "text/plain": [
       "<nbdoc.showdoc.ShowDoc at 0x106f9abd0>"
      ]
     },
     "execution_count": 21,
     "metadata": {},
     "output_type": "execute_result"
    }
   ],
   "source": [
    "ShowDoc(current.card.extend)"
   ]
  },
  {
   "cell_type": "code",
   "execution_count": 22,
   "id": "6d27efa0",
   "metadata": {
    "execution": {
     "iopub.execute_input": "2024-01-19T07:19:59.970851Z",
     "iopub.status.busy": "2024-01-19T07:19:59.970766Z",
     "iopub.status.idle": "2024-01-19T07:19:59.972849Z",
     "shell.execute_reply": "2024-01-19T07:19:59.972593Z"
    }
   },
   "outputs": [
    {
     "data": {
      "text/html": [
       "<HTMLRemove>\n",
       "<h4> <code>method</code> <span style=\"color:Brown\">current.card.clear</span> <em>(self)</em><a href=\"https://github.com/Netflix/metaflow/tree/master/__main__.py#L36\" style=\"float:right\">[source]</a></h4><p><blockquote>Clears&nbsp;the&nbsp;list&nbsp;of&nbsp;components&nbsp;in&nbsp;this&nbsp;card.</blockquote></p>\n",
       "</HTMLRemove>\n",
       "<DocSection type=\"method\" name=\"current.card.clear\" module=\"metaflow\" show_import=\"False\" heading_level=\"4\" link=\"https://github.com/Netflix/metaflow/tree/master/__main__.py#L36\">\n",
       "<SigArgSection>\n",
       "<SigArg name=\"self\" />\n",
       "</SigArgSection>\n",
       "<Description summary=\"Clears the list of components in this card.\" />\n",
       "\n",
       "</DocSection>"
      ],
      "text/plain": [
       "<nbdoc.showdoc.ShowDoc at 0x106f9b010>"
      ]
     },
     "execution_count": 22,
     "metadata": {},
     "output_type": "execute_result"
    }
   ],
   "source": [
    "ShowDoc(current.card.clear)"
   ]
  },
  {
   "cell_type": "code",
   "execution_count": 23,
   "id": "a7914220",
   "metadata": {
    "execution": {
     "iopub.execute_input": "2024-01-19T07:19:59.974967Z",
     "iopub.status.busy": "2024-01-19T07:19:59.974880Z",
     "iopub.status.idle": "2024-01-19T07:19:59.977234Z",
     "shell.execute_reply": "2024-01-19T07:19:59.976971Z"
    }
   },
   "outputs": [
    {
     "data": {
      "text/html": [
       "<HTMLRemove>\n",
       "<h4> <code>method</code> <span style=\"color:Brown\">current.card.refresh</span> <em>(self)</em><a href=\"https://github.com/Netflix/metaflow/tree/master/__main__.py#L38\" style=\"float:right\">[source]</a></h4><p><blockquote>Schedule&nbsp;the&nbsp;contents&nbsp;of&nbsp;this&nbsp;dynamic&nbsp;card&nbsp;to&nbsp;be&nbsp;refreshed&nbsp;soon.<br><br>Call&nbsp;this&nbsp;method&nbsp;after&nbsp;you&nbsp;have&nbsp;modified&nbsp;the&nbsp;list&nbsp;of&nbsp;components&nbsp;or<br>changed&nbsp;their&nbsp;contents&nbsp;with&nbsp;the&nbsp;components'&nbsp;`update`&nbsp;method.&nbsp;This&nbsp;will<br>cause&nbsp;the&nbsp;card&nbsp;to&nbsp;update&nbsp;live&nbsp;while&nbsp;the&nbsp;task&nbsp;is&nbsp;executing.<br><br>Note&nbsp;that&nbsp;this&nbsp;method&nbsp;is&nbsp;rate-limited,&nbsp;determined&nbsp;by&nbsp;the<br>`@card(refresh_interval)`&nbsp;attribute.&nbsp;If&nbsp;you&nbsp;call&nbsp;this&nbsp;method&nbsp;more<br>frequently&nbsp;than&nbsp;what&nbsp;is&nbsp;allowed&nbsp;by&nbsp;`refresh_interval`,&nbsp;some&nbsp;calls<br>are&nbsp;ignored&nbsp;causing&nbsp;the&nbsp;card&nbsp;to&nbsp;update&nbsp;more&nbsp;slowly.<br><br>It&nbsp;is&nbsp;advisable&nbsp;not&nbsp;to&nbsp;call&nbsp;this&nbsp;method&nbsp;more&nbsp;often&nbsp;than&nbsp;once<br>a&nbsp;second,&nbsp;which&nbsp;is&nbsp;the&nbsp;minimum&nbsp;allowed&nbsp;value&nbsp;for&nbsp;`refresh_interval`.<br><br>Parameters<br>----------<br>data&nbsp;:&nbsp;dict,&nbsp;optional<br>&nbsp;&nbsp;&nbsp;&nbsp;Optional&nbsp;user-defined&nbsp;data&nbsp;to&nbsp;be&nbsp;passed&nbsp;to&nbsp;a&nbsp;custom&nbsp;card.<br>force&nbsp;:&nbsp;bool,&nbsp;optional<br>&nbsp;&nbsp;&nbsp;&nbsp;Force&nbsp;a&nbsp;full&nbsp;card&nbsp;re-render,&nbsp;not&nbsp;just&nbsp;a&nbsp;data&nbsp;update.</blockquote></p>\n",
       "</HTMLRemove>\n",
       "<DocSection type=\"method\" name=\"current.card.refresh\" module=\"metaflow\" show_import=\"False\" heading_level=\"4\" link=\"https://github.com/Netflix/metaflow/tree/master/__main__.py#L38\">\n",
       "<SigArgSection>\n",
       "<SigArg name=\"self\" />\n",
       "</SigArgSection>\n",
       "<Description summary=\"Schedule the contents of this dynamic card to be refreshed soon.\" extended_summary=\"Call this method after you have modified the list of components or\\nchanged their contents with the components' `update` method. This will\\ncause the card to update live while the task is executing.\\n\\nNote that this method is rate-limited, determined by the\\n`@card(refresh_interval)` attribute. If you call this method more\\nfrequently than what is allowed by `refresh_interval`, some calls\\nare ignored causing the card to update more slowly.\\n\\nIt is advisable not to call this method more often than once\\na second, which is the minimum allowed value for `refresh_interval`.\" />\n",
       "<ParamSection name=\"Parameters\">\n",
       "\t<Parameter name=\"data\" type=\"dict, optional\" desc=\"Optional user-defined data to be passed to a custom card.\" />\n",
       "\t<Parameter name=\"force\" type=\"bool, optional\" desc=\"Force a full card re-render, not just a data update.\" />\n",
       "</ParamSection>\n",
       "</DocSection>"
      ],
      "text/plain": [
       "<nbdoc.showdoc.ShowDoc at 0x106f98dd0>"
      ]
     },
     "execution_count": 23,
     "metadata": {},
     "output_type": "execute_result"
    }
   ],
   "source": [
    "ShowDoc(current.card.refresh)"
   ]
  },
  {
   "cell_type": "markdown",
   "id": "215a6a4b",
   "metadata": {},
   "source": [
    "### @trigger and @trigger_on_finish\n",
    "\n",
    "You can inspect event(s) that triggered [an event-triggered](/production/event-triggering) run through `current.trigger` which returns a [`MetaflowTrigger`](/api/client#metaflowtrigger) object, if the run was\n",
    "triggered by an event."
   ]
  },
  {
   "cell_type": "code",
   "execution_count": 24,
   "id": "2ad67aa6",
   "metadata": {
    "execution": {
     "iopub.execute_input": "2024-01-19T07:19:59.979373Z",
     "iopub.status.busy": "2024-01-19T07:19:59.979289Z",
     "iopub.status.idle": "2024-01-19T07:19:59.981197Z",
     "shell.execute_reply": "2024-01-19T07:19:59.980976Z"
    }
   },
   "outputs": [
    {
     "data": {
      "text/html": [
       "<HTMLRemove>\n",
       "<h4> <code>property</code> <span style=\"color:Brown\">current.trigger</span> <em></em></h4><p><blockquote>Returns&nbsp;`MetaflowTrigger`&nbsp;if&nbsp;the&nbsp;current&nbsp;run&nbsp;is&nbsp;triggered&nbsp;by&nbsp;an&nbsp;event.<br><br>Returns<br>-------<br>MetaflowTrigger<br>&nbsp;&nbsp;&nbsp;&nbsp;`MetaflowTrigger`&nbsp;if&nbsp;triggered&nbsp;by&nbsp;a&nbsp;run.</blockquote></p>\n",
       "</HTMLRemove>\n",
       "<DocSection type=\"property\" name=\"current.trigger\" module=\"__main__\" show_import=\"False\" heading_level=\"4\">\n",
       "\n",
       "<Description summary=\"Returns `MetaflowTrigger` if the current run is triggered by an event.\\n\" />\n",
       "<ParamSection name=\"Returns\">\n",
       "<Parameter type=\"MetaflowTrigger\" desc=\"`MetaflowTrigger` if triggered by a run.\" />\n",
       "</ParamSection>\n",
       "</DocSection>"
      ],
      "text/plain": [
       "<nbdoc.showdoc.ShowDoc at 0x106fa4fd0>"
      ]
     },
     "execution_count": 24,
     "metadata": {},
     "output_type": "execute_result"
    }
   ],
   "source": [
    "ShowDoc(current.trigger)"
   ]
  },
  {
   "cell_type": "code",
   "execution_count": null,
   "id": "8c61365e",
   "metadata": {},
   "outputs": [],
   "source": []
  }
 ],
 "metadata": {
  "kernelspec": {
   "display_name": "Python 3 (ipykernel)",
   "language": "python",
   "name": "python3"
  },
  "language_info": {
   "codemirror_mode": {
    "name": "ipython",
    "version": 3
   },
   "file_extension": ".py",
   "mimetype": "text/x-python",
   "name": "python",
   "nbconvert_exporter": "python",
   "pygments_lexer": "ipython3",
   "version": "3.11.0"
  }
 },
 "nbformat": 4,
 "nbformat_minor": 5
}
