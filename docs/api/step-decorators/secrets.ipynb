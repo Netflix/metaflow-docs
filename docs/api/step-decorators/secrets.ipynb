{
 "cells": [
  {
   "cell_type": "markdown",
   "id": "4cfff8e2",
   "metadata": {},
   "source": [
    "# @secrets\n",
    "\n",
    "The `@secrets` decorator allows you to access secrets, such as database credentials, securely from a secrets manager. For more details, see [Accessing Secrets](/scaling/secrets)."
   ]
  },
  {
   "cell_type": "code",
   "execution_count": 1,
   "id": "627487a4",
   "metadata": {
    "execution": {
     "iopub.execute_input": "2025-08-30T21:15:39.399793Z",
     "iopub.status.busy": "2025-08-30T21:15:39.399717Z",
     "iopub.status.idle": "2025-08-30T21:15:39.606129Z",
     "shell.execute_reply": "2025-08-30T21:15:39.605815Z"
    }
   },
   "outputs": [],
   "source": [
    "#meta:tag=hide\n",
    "from functools import partial\n",
    "from nbdoc.showdoc import ShowDoc\n",
    "ShowDoc = partial(ShowDoc, module_nm='metaflow')\n",
    "\n",
    "from metaflow import secrets"
   ]
  },
  {
   "cell_type": "code",
   "execution_count": 2,
   "id": "af50a6d2",
   "metadata": {
    "execution": {
     "iopub.execute_input": "2025-08-30T21:15:39.608147Z",
     "iopub.status.busy": "2025-08-30T21:15:39.608009Z",
     "iopub.status.idle": "2025-08-30T21:15:39.613887Z",
     "shell.execute_reply": "2025-08-30T21:15:39.613682Z"
    }
   },
   "outputs": [
    {
     "data": {
      "text/html": [
       "<HTMLRemove>\n",
       "<h3> <code>decorator</code> <span style=\"color:Brown\">@secrets</span> <em>(...)</em><a href=\"https://github.com/Netflix/metaflow/tree/master/metaflow/plugins/secrets/secrets_decorator.py#L16\" style=\"float:right\">[source]</a></h3><strong>metaflow</strong><p><blockquote>Specifies&nbsp;secrets&nbsp;to&nbsp;be&nbsp;retrieved&nbsp;and&nbsp;injected&nbsp;as&nbsp;environment&nbsp;variables&nbsp;prior&nbsp;to<br>the&nbsp;execution&nbsp;of&nbsp;a&nbsp;step.<br><br>Parameters<br>----------<br>sources&nbsp;:&nbsp;List[Union[str,&nbsp;Dict[str,&nbsp;Any]]],&nbsp;default:&nbsp;[]<br>&nbsp;&nbsp;&nbsp;&nbsp;List&nbsp;of&nbsp;secret&nbsp;specs,&nbsp;defining&nbsp;how&nbsp;the&nbsp;secrets&nbsp;are&nbsp;to&nbsp;be&nbsp;retrieved<br>role&nbsp;:&nbsp;str,&nbsp;optional,&nbsp;default:&nbsp;None<br>&nbsp;&nbsp;&nbsp;&nbsp;Role&nbsp;to&nbsp;use&nbsp;for&nbsp;fetching&nbsp;secrets</blockquote></p>\n",
       "</HTMLRemove>\n",
       "<DocSection type=\"decorator\" name=\"secrets\" module=\"metaflow\" show_import=\"True\" heading_level=\"3\" link=\"https://github.com/Netflix/metaflow/tree/master/metaflow/plugins/secrets/secrets_decorator.py#L16\">\n",
       "<SigArgSection>\n",
       "<SigArg name=\"...\" />\n",
       "</SigArgSection>\n",
       "<Description summary=\"Specifies secrets to be retrieved and injected as environment variables prior to\\nthe execution of a step.\" />\n",
       "<ParamSection name=\"Parameters\">\n",
       "\t<Parameter name=\"sources\" type=\"List[Union[str, Dict[str, Any]]], default: []\" desc=\"List of secret specs, defining how the secrets are to be retrieved\" />\n",
       "\t<Parameter name=\"role\" type=\"str, optional, default: None\" desc=\"Role to use for fetching secrets\" />\n",
       "</ParamSection>\n",
       "</DocSection>"
      ],
      "text/plain": [
       "<nbdoc.showdoc.ShowDoc at 0x1093bce90>"
      ]
     },
     "execution_count": 2,
     "metadata": {},
     "output_type": "execute_result"
    }
   ],
   "source": [
    "ShowDoc(secrets, skip_sections='Attributes', show_import=True)"
   ]
  },
  {
   "cell_type": "code",
   "execution_count": null,
   "id": "70b7a22c",
   "metadata": {},
   "outputs": [],
   "source": []
  }
 ],
 "metadata": {
  "kernelspec": {
   "display_name": "Python 3 (ipykernel)",
   "language": "python",
   "name": "python3"
  },
  "language_info": {
   "codemirror_mode": {
    "name": "ipython",
    "version": 3
   },
   "file_extension": ".py",
   "mimetype": "text/x-python",
   "name": "python",
   "nbconvert_exporter": "python",
   "pygments_lexer": "ipython3",
   "version": "3.11.0"
  }
 },
 "nbformat": 4,
 "nbformat_minor": 5
}
