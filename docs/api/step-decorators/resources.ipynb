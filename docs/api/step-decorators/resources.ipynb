{
 "cells": [
  {
   "cell_type": "markdown",
   "id": "f36c7538",
   "metadata": {},
   "source": [
    "# @resources\n",
    "\n",
    "The `@resources` decorator specifies resource requirements for a step.\n",
    "\n",
    "Note that `@resources` takes effect only when combined with another decorator like `@batch` or `@kubernetes` which specifies the compute layer. For more information, see [Executing Tasks Remotely](/scaling/remote-tasks/introduction)."
   ]
  },
  {
   "cell_type": "code",
   "execution_count": 1,
   "id": "c8aea2b0",
   "metadata": {
    "execution": {
     "iopub.execute_input": "2024-11-05T04:49:39.474127Z",
     "iopub.status.busy": "2024-11-05T04:49:39.474004Z",
     "iopub.status.idle": "2024-11-05T04:49:39.768595Z",
     "shell.execute_reply": "2024-11-05T04:49:39.768256Z"
    }
   },
   "outputs": [],
   "source": [
    "#meta:tag=hide\n",
    "from functools import partial\n",
    "from nbdoc.showdoc import ShowDoc\n",
    "ShowDoc = partial(ShowDoc, module_nm='metaflow')\n",
    "\n",
    "from metaflow import resources"
   ]
  },
  {
   "cell_type": "code",
   "execution_count": 2,
   "id": "1d16a1c7",
   "metadata": {
    "execution": {
     "iopub.execute_input": "2024-11-05T04:49:39.771921Z",
     "iopub.status.busy": "2024-11-05T04:49:39.771545Z",
     "iopub.status.idle": "2024-11-05T04:49:39.777938Z",
     "shell.execute_reply": "2024-11-05T04:49:39.777590Z"
    }
   },
   "outputs": [
    {
     "data": {
      "text/html": [
       "<HTMLRemove>\n",
       "<h3> <code>decorator</code> <span style=\"color:Brown\">@resources</span> <em>(...)</em><a href=\"https://github.com/Netflix/metaflow/tree/master/metaflow/plugins/resources_decorator.py#L4\" style=\"float:right\">[source]</a></h3><strong>metaflow</strong><p><blockquote>Specifies&nbsp;the&nbsp;resources&nbsp;needed&nbsp;when&nbsp;executing&nbsp;this&nbsp;step.<br><br>Use&nbsp;`@resources`&nbsp;to&nbsp;specify&nbsp;the&nbsp;resource&nbsp;requirements<br>independently&nbsp;of&nbsp;the&nbsp;specific&nbsp;compute&nbsp;layer&nbsp;(`@batch`,&nbsp;`@kubernetes`).<br><br>You&nbsp;can&nbsp;choose&nbsp;the&nbsp;compute&nbsp;layer&nbsp;on&nbsp;the&nbsp;command&nbsp;line&nbsp;by&nbsp;executing&nbsp;e.g.<br>```<br>python&nbsp;myflow.py&nbsp;run&nbsp;--with&nbsp;batch<br>```<br>or<br>```<br>python&nbsp;myflow.py&nbsp;run&nbsp;--with&nbsp;kubernetes<br>```<br>which&nbsp;executes&nbsp;the&nbsp;flow&nbsp;on&nbsp;the&nbsp;desired&nbsp;system&nbsp;using&nbsp;the<br>requirements&nbsp;specified&nbsp;in&nbsp;`@resources`.<br><br>Parameters<br>----------<br>cpu&nbsp;:&nbsp;int,&nbsp;default&nbsp;1<br>&nbsp;&nbsp;&nbsp;&nbsp;Number&nbsp;of&nbsp;CPUs&nbsp;required&nbsp;for&nbsp;this&nbsp;step.<br>gpu&nbsp;:&nbsp;int,&nbsp;optional,&nbsp;default&nbsp;None<br>&nbsp;&nbsp;&nbsp;&nbsp;Number&nbsp;of&nbsp;GPUs&nbsp;required&nbsp;for&nbsp;this&nbsp;step.<br>disk&nbsp;:&nbsp;int,&nbsp;optional,&nbsp;default&nbsp;None<br>&nbsp;&nbsp;&nbsp;&nbsp;Disk&nbsp;size&nbsp;(in&nbsp;MB)&nbsp;required&nbsp;for&nbsp;this&nbsp;step.&nbsp;Only&nbsp;applies&nbsp;on&nbsp;Kubernetes.<br>memory&nbsp;:&nbsp;int,&nbsp;default&nbsp;4096<br>&nbsp;&nbsp;&nbsp;&nbsp;Memory&nbsp;size&nbsp;(in&nbsp;MB)&nbsp;required&nbsp;for&nbsp;this&nbsp;step.<br>shared_memory&nbsp;:&nbsp;int,&nbsp;optional,&nbsp;default&nbsp;None<br>&nbsp;&nbsp;&nbsp;&nbsp;The&nbsp;value&nbsp;for&nbsp;the&nbsp;size&nbsp;(in&nbsp;MiB)&nbsp;of&nbsp;the&nbsp;/dev/shm&nbsp;volume&nbsp;for&nbsp;this&nbsp;step.<br>&nbsp;&nbsp;&nbsp;&nbsp;This&nbsp;parameter&nbsp;maps&nbsp;to&nbsp;the&nbsp;`--shm-size`&nbsp;option&nbsp;in&nbsp;Docker.</blockquote></p>\n",
       "</HTMLRemove>\n",
       "<DocSection type=\"decorator\" name=\"resources\" module=\"metaflow\" show_import=\"True\" heading_level=\"3\" link=\"https://github.com/Netflix/metaflow/tree/master/metaflow/plugins/resources_decorator.py#L4\">\n",
       "<SigArgSection>\n",
       "<SigArg name=\"...\" />\n",
       "</SigArgSection>\n",
       "<Description summary=\"Specifies the resources needed when executing this step.\" extended_summary=\"Use `@resources` to specify the resource requirements\\nindependently of the specific compute layer (`@batch`, `@kubernetes`).\\n\\nYou can choose the compute layer on the command line by executing e.g.\\n```\\npython myflow.py run --with batch\\n```\\nor\\n```\\npython myflow.py run --with kubernetes\\n```\\nwhich executes the flow on the desired system using the\\nrequirements specified in `@resources`.\" />\n",
       "<ParamSection name=\"Parameters\">\n",
       "\t<Parameter name=\"cpu\" type=\"int, default 1\" desc=\"Number of CPUs required for this step.\" />\n",
       "\t<Parameter name=\"gpu\" type=\"int, optional, default None\" desc=\"Number of GPUs required for this step.\" />\n",
       "\t<Parameter name=\"disk\" type=\"int, optional, default None\" desc=\"Disk size (in MB) required for this step. Only applies on Kubernetes.\" />\n",
       "\t<Parameter name=\"memory\" type=\"int, default 4096\" desc=\"Memory size (in MB) required for this step.\" />\n",
       "\t<Parameter name=\"shared_memory\" type=\"int, optional, default None\" desc=\"The value for the size (in MiB) of the /dev/shm volume for this step.\\nThis parameter maps to the `--shm-size` option in Docker.\" />\n",
       "</ParamSection>\n",
       "</DocSection>"
      ],
      "text/plain": [
       "<nbdoc.showdoc.ShowDoc at 0x112602680>"
      ]
     },
     "execution_count": 2,
     "metadata": {},
     "output_type": "execute_result"
    }
   ],
   "source": [
    "ShowDoc(resources,  skip_sections='Attributes', show_import=True)"
   ]
  },
  {
   "cell_type": "code",
   "execution_count": null,
   "id": "9e4d5454",
   "metadata": {},
   "outputs": [],
   "source": []
  }
 ],
 "metadata": {
  "kernelspec": {
   "display_name": "Python 3",
   "language": "python",
   "name": "python3"
  },
  "language_info": {
   "codemirror_mode": {
    "name": "ipython",
    "version": 3
   },
   "file_extension": ".py",
   "mimetype": "text/x-python",
   "name": "python",
   "nbconvert_exporter": "python",
   "pygments_lexer": "ipython3",
   "version": "3.10.13"
  }
 },
 "nbformat": 4,
 "nbformat_minor": 5
}
