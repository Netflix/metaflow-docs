{
 "cells": [
  {
   "cell_type": "markdown",
   "id": "1bb4599f",
   "metadata": {},
   "source": [
    "# @kubernetes\n",
    "\n",
    "The `@kubernetes` decorator sends a step for execution on a [Kubernetes](https://kubernetes.io) cluster. For more information, see [Executing Tasks Remotely](/scaling/remote-tasks/introduction).\n",
    "\n",
    "For options related to `tmpfs`, see [Using `metaflow.S3` for in-memory processing](/scaling/data#using-metaflows3-for-in-memory-processing)."
   ]
  },
  {
   "cell_type": "code",
   "execution_count": 1,
   "id": "e5133463",
   "metadata": {
    "execution": {
     "iopub.execute_input": "2024-11-05T04:49:45.388766Z",
     "iopub.status.busy": "2024-11-05T04:49:45.388671Z",
     "iopub.status.idle": "2024-11-05T04:49:45.665844Z",
     "shell.execute_reply": "2024-11-05T04:49:45.665436Z"
    }
   },
   "outputs": [],
   "source": [
    "#meta:tag=hide\n",
    "from functools import partial\n",
    "from nbdoc.showdoc import ShowDoc\n",
    "ShowDoc = partial(ShowDoc, module_nm='metaflow')\n",
    "\n",
    "from metaflow import kubernetes"
   ]
  },
  {
   "cell_type": "code",
   "execution_count": 2,
   "id": "d7399f58",
   "metadata": {
    "execution": {
     "iopub.execute_input": "2024-11-05T04:49:45.668997Z",
     "iopub.status.busy": "2024-11-05T04:49:45.668754Z",
     "iopub.status.idle": "2024-11-05T04:49:45.681232Z",
     "shell.execute_reply": "2024-11-05T04:49:45.680965Z"
    }
   },
   "outputs": [
    {
     "data": {
      "text/html": [
       "<HTMLRemove>\n",
       "<h3> <code>decorator</code> <span style=\"color:Brown\">@kubernetes</span> <em>(...)</em><a href=\"https://github.com/Netflix/metaflow/tree/master/metaflow/plugins/kubernetes/kubernetes_decorator.py#L45\" style=\"float:right\">[source]</a></h3><strong>metaflow</strong><p><blockquote>Specifies&nbsp;that&nbsp;this&nbsp;step&nbsp;should&nbsp;execute&nbsp;on&nbsp;Kubernetes.<br><br>Parameters<br>----------<br>cpu&nbsp;:&nbsp;int,&nbsp;default&nbsp;1<br>&nbsp;&nbsp;&nbsp;&nbsp;Number&nbsp;of&nbsp;CPUs&nbsp;required&nbsp;for&nbsp;this&nbsp;step.&nbsp;If&nbsp;`@resources`&nbsp;is<br>&nbsp;&nbsp;&nbsp;&nbsp;also&nbsp;present,&nbsp;the&nbsp;maximum&nbsp;value&nbsp;from&nbsp;all&nbsp;decorators&nbsp;is&nbsp;used.<br>memory&nbsp;:&nbsp;int,&nbsp;default&nbsp;4096<br>&nbsp;&nbsp;&nbsp;&nbsp;Memory&nbsp;size&nbsp;(in&nbsp;MB)&nbsp;required&nbsp;for&nbsp;this&nbsp;step.&nbsp;If<br>&nbsp;&nbsp;&nbsp;&nbsp;`@resources`&nbsp;is&nbsp;also&nbsp;present,&nbsp;the&nbsp;maximum&nbsp;value&nbsp;from&nbsp;all&nbsp;decorators&nbsp;is<br>&nbsp;&nbsp;&nbsp;&nbsp;used.<br>disk&nbsp;:&nbsp;int,&nbsp;default&nbsp;10240<br>&nbsp;&nbsp;&nbsp;&nbsp;Disk&nbsp;size&nbsp;(in&nbsp;MB)&nbsp;required&nbsp;for&nbsp;this&nbsp;step.&nbsp;If<br>&nbsp;&nbsp;&nbsp;&nbsp;`@resources`&nbsp;is&nbsp;also&nbsp;present,&nbsp;the&nbsp;maximum&nbsp;value&nbsp;from&nbsp;all&nbsp;decorators&nbsp;is<br>&nbsp;&nbsp;&nbsp;&nbsp;used.<br>image&nbsp;:&nbsp;str,&nbsp;optional,&nbsp;default&nbsp;None<br>&nbsp;&nbsp;&nbsp;&nbsp;Docker&nbsp;image&nbsp;to&nbsp;use&nbsp;when&nbsp;launching&nbsp;on&nbsp;Kubernetes.&nbsp;If&nbsp;not&nbsp;specified,&nbsp;and<br>&nbsp;&nbsp;&nbsp;&nbsp;METAFLOW_KUBERNETES_CONTAINER_IMAGE&nbsp;is&nbsp;specified,&nbsp;that&nbsp;image&nbsp;is&nbsp;used.&nbsp;If<br>&nbsp;&nbsp;&nbsp;&nbsp;not,&nbsp;a&nbsp;default&nbsp;Docker&nbsp;image&nbsp;mapping&nbsp;to&nbsp;the&nbsp;current&nbsp;version&nbsp;of&nbsp;Python&nbsp;is&nbsp;used.<br>image_pull_policy:&nbsp;str,&nbsp;default&nbsp;KUBERNETES_IMAGE_PULL_POLICY<br>&nbsp;&nbsp;&nbsp;&nbsp;If&nbsp;given,&nbsp;the&nbsp;imagePullPolicy&nbsp;to&nbsp;be&nbsp;applied&nbsp;to&nbsp;the&nbsp;Docker&nbsp;image&nbsp;of&nbsp;the&nbsp;step.<br>service_account&nbsp;:&nbsp;str,&nbsp;default&nbsp;METAFLOW_KUBERNETES_SERVICE_ACCOUNT<br>&nbsp;&nbsp;&nbsp;&nbsp;Kubernetes&nbsp;service&nbsp;account&nbsp;to&nbsp;use&nbsp;when&nbsp;launching&nbsp;pod&nbsp;in&nbsp;Kubernetes.<br>secrets&nbsp;:&nbsp;List[str],&nbsp;optional,&nbsp;default&nbsp;None<br>&nbsp;&nbsp;&nbsp;&nbsp;Kubernetes&nbsp;secrets&nbsp;to&nbsp;use&nbsp;when&nbsp;launching&nbsp;pod&nbsp;in&nbsp;Kubernetes.&nbsp;These<br>&nbsp;&nbsp;&nbsp;&nbsp;secrets&nbsp;are&nbsp;in&nbsp;addition&nbsp;to&nbsp;the&nbsp;ones&nbsp;defined&nbsp;in&nbsp;`METAFLOW_KUBERNETES_SECRETS`<br>&nbsp;&nbsp;&nbsp;&nbsp;in&nbsp;Metaflow&nbsp;configuration.<br>node_selector:&nbsp;Union[Dict[str,str],&nbsp;str],&nbsp;optional,&nbsp;default&nbsp;None<br>&nbsp;&nbsp;&nbsp;&nbsp;Kubernetes&nbsp;node&nbsp;selector(s)&nbsp;to&nbsp;apply&nbsp;to&nbsp;the&nbsp;pod&nbsp;running&nbsp;the&nbsp;task.<br>&nbsp;&nbsp;&nbsp;&nbsp;Can&nbsp;be&nbsp;passed&nbsp;in&nbsp;as&nbsp;a&nbsp;comma&nbsp;separated&nbsp;string&nbsp;of&nbsp;values&nbsp;e.g.<br>&nbsp;&nbsp;&nbsp;&nbsp;'kubernetes.io/os=linux,kubernetes.io/arch=amd64'&nbsp;or&nbsp;as&nbsp;a&nbsp;dictionary<br>&nbsp;&nbsp;&nbsp;&nbsp;{'kubernetes.io/os':&nbsp;'linux',&nbsp;'kubernetes.io/arch':&nbsp;'amd64'}<br>namespace&nbsp;:&nbsp;str,&nbsp;default&nbsp;METAFLOW_KUBERNETES_NAMESPACE<br>&nbsp;&nbsp;&nbsp;&nbsp;Kubernetes&nbsp;namespace&nbsp;to&nbsp;use&nbsp;when&nbsp;launching&nbsp;pod&nbsp;in&nbsp;Kubernetes.<br>gpu&nbsp;:&nbsp;int,&nbsp;optional,&nbsp;default&nbsp;None<br>&nbsp;&nbsp;&nbsp;&nbsp;Number&nbsp;of&nbsp;GPUs&nbsp;required&nbsp;for&nbsp;this&nbsp;step.&nbsp;A&nbsp;value&nbsp;of&nbsp;zero&nbsp;implies&nbsp;that<br>&nbsp;&nbsp;&nbsp;&nbsp;the&nbsp;scheduled&nbsp;node&nbsp;should&nbsp;not&nbsp;have&nbsp;GPUs.<br>gpu_vendor&nbsp;:&nbsp;str,&nbsp;default&nbsp;KUBERNETES_GPU_VENDOR<br>&nbsp;&nbsp;&nbsp;&nbsp;The&nbsp;vendor&nbsp;of&nbsp;the&nbsp;GPUs&nbsp;to&nbsp;be&nbsp;used&nbsp;for&nbsp;this&nbsp;step.<br>tolerations&nbsp;:&nbsp;List[str],&nbsp;default&nbsp;[]<br>&nbsp;&nbsp;&nbsp;&nbsp;The&nbsp;default&nbsp;is&nbsp;extracted&nbsp;from&nbsp;METAFLOW_KUBERNETES_TOLERATIONS.<br>&nbsp;&nbsp;&nbsp;&nbsp;Kubernetes&nbsp;tolerations&nbsp;to&nbsp;use&nbsp;when&nbsp;launching&nbsp;pod&nbsp;in&nbsp;Kubernetes.<br>use_tmpfs&nbsp;:&nbsp;bool,&nbsp;default&nbsp;False<br>&nbsp;&nbsp;&nbsp;&nbsp;This&nbsp;enables&nbsp;an&nbsp;explicit&nbsp;tmpfs&nbsp;mount&nbsp;for&nbsp;this&nbsp;step.<br>tmpfs_tempdir&nbsp;:&nbsp;bool,&nbsp;default&nbsp;True<br>&nbsp;&nbsp;&nbsp;&nbsp;sets&nbsp;METAFLOW_TEMPDIR&nbsp;to&nbsp;tmpfs_path&nbsp;if&nbsp;set&nbsp;for&nbsp;this&nbsp;step.<br>tmpfs_size&nbsp;:&nbsp;int,&nbsp;optional,&nbsp;default:&nbsp;None<br>&nbsp;&nbsp;&nbsp;&nbsp;The&nbsp;value&nbsp;for&nbsp;the&nbsp;size&nbsp;(in&nbsp;MiB)&nbsp;of&nbsp;the&nbsp;tmpfs&nbsp;mount&nbsp;for&nbsp;this&nbsp;step.<br>&nbsp;&nbsp;&nbsp;&nbsp;This&nbsp;parameter&nbsp;maps&nbsp;to&nbsp;the&nbsp;`--tmpfs`&nbsp;option&nbsp;in&nbsp;Docker.&nbsp;Defaults&nbsp;to&nbsp;50%&nbsp;of&nbsp;the<br>&nbsp;&nbsp;&nbsp;&nbsp;memory&nbsp;allocated&nbsp;for&nbsp;this&nbsp;step.<br>tmpfs_path&nbsp;:&nbsp;str,&nbsp;optional,&nbsp;default&nbsp;/metaflow_temp<br>&nbsp;&nbsp;&nbsp;&nbsp;Path&nbsp;to&nbsp;tmpfs&nbsp;mount&nbsp;for&nbsp;this&nbsp;step.<br>persistent_volume_claims&nbsp;:&nbsp;Dict[str,&nbsp;str],&nbsp;optional,&nbsp;default&nbsp;None<br>&nbsp;&nbsp;&nbsp;&nbsp;A&nbsp;map&nbsp;(dictionary)&nbsp;of&nbsp;persistent&nbsp;volumes&nbsp;to&nbsp;be&nbsp;mounted&nbsp;to&nbsp;the&nbsp;pod&nbsp;for&nbsp;this&nbsp;step.&nbsp;The&nbsp;map&nbsp;is&nbsp;from&nbsp;persistent<br>&nbsp;&nbsp;&nbsp;&nbsp;volumes&nbsp;to&nbsp;the&nbsp;path&nbsp;to&nbsp;which&nbsp;the&nbsp;volume&nbsp;is&nbsp;to&nbsp;be&nbsp;mounted,&nbsp;e.g.,&nbsp;`{'pvc-name':&nbsp;'/path/to/mount/on'}`.<br>shared_memory:&nbsp;int,&nbsp;optional<br>&nbsp;&nbsp;&nbsp;&nbsp;Shared&nbsp;memory&nbsp;size&nbsp;(in&nbsp;MiB)&nbsp;required&nbsp;for&nbsp;this&nbsp;step<br>port:&nbsp;int,&nbsp;optional<br>&nbsp;&nbsp;&nbsp;&nbsp;Port&nbsp;number&nbsp;to&nbsp;specify&nbsp;in&nbsp;the&nbsp;Kubernetes&nbsp;job&nbsp;object<br>compute_pool&nbsp;:&nbsp;str,&nbsp;optional,&nbsp;default&nbsp;None<br>&nbsp;&nbsp;&nbsp;&nbsp;Compute&nbsp;pool&nbsp;to&nbsp;be&nbsp;used&nbsp;for&nbsp;for&nbsp;this&nbsp;step.<br>&nbsp;&nbsp;&nbsp;&nbsp;If&nbsp;not&nbsp;specified,&nbsp;any&nbsp;accessible&nbsp;compute&nbsp;pool&nbsp;within&nbsp;the&nbsp;perimeter&nbsp;is&nbsp;used.<br>hostname_resolution_timeout:&nbsp;int,&nbsp;default&nbsp;10&nbsp;*&nbsp;60<br>&nbsp;&nbsp;&nbsp;&nbsp;Timeout&nbsp;in&nbsp;seconds&nbsp;for&nbsp;the&nbsp;workers&nbsp;tasks&nbsp;in&nbsp;the&nbsp;gang&nbsp;scheduled&nbsp;cluster&nbsp;to&nbsp;resolve&nbsp;the&nbsp;hostname&nbsp;of&nbsp;control&nbsp;task.<br>&nbsp;&nbsp;&nbsp;&nbsp;Only&nbsp;applicable&nbsp;when&nbsp;@parallel&nbsp;is&nbsp;used.</blockquote></p>\n",
       "</HTMLRemove>\n",
       "<DocSection type=\"decorator\" name=\"kubernetes\" module=\"metaflow\" show_import=\"True\" heading_level=\"3\" link=\"https://github.com/Netflix/metaflow/tree/master/metaflow/plugins/kubernetes/kubernetes_decorator.py#L45\">\n",
       "<SigArgSection>\n",
       "<SigArg name=\"...\" />\n",
       "</SigArgSection>\n",
       "<Description summary=\"Specifies that this step should execute on Kubernetes.\" />\n",
       "<ParamSection name=\"Parameters\">\n",
       "\t<Parameter name=\"cpu\" type=\"int, default 1\" desc=\"Number of CPUs required for this step. If `@resources` is\\nalso present, the maximum value from all decorators is used.\" />\n",
       "\t<Parameter name=\"memory\" type=\"int, default 4096\" desc=\"Memory size (in MB) required for this step. If\\n`@resources` is also present, the maximum value from all decorators is\\nused.\" />\n",
       "\t<Parameter name=\"disk\" type=\"int, default 10240\" desc=\"Disk size (in MB) required for this step. If\\n`@resources` is also present, the maximum value from all decorators is\\nused.\" />\n",
       "\t<Parameter name=\"image\" type=\"str, optional, default None\" desc=\"Docker image to use when launching on Kubernetes. If not specified, and\\nMETAFLOW_KUBERNETES_CONTAINER_IMAGE is specified, that image is used. If\\nnot, a default Docker image mapping to the current version of Python is used.\" />\n",
       "\t<Parameter name=\"image_pull_policy: str, default KUBERNETES_IMAGE_PULL_POLICY\" desc=\"If given, the imagePullPolicy to be applied to the Docker image of the step.\" />\n",
       "\t<Parameter name=\"service_account\" type=\"str, default METAFLOW_KUBERNETES_SERVICE_ACCOUNT\" desc=\"Kubernetes service account to use when launching pod in Kubernetes.\" />\n",
       "\t<Parameter name=\"secrets\" type=\"List[str], optional, default None\" desc=\"Kubernetes secrets to use when launching pod in Kubernetes. These\\nsecrets are in addition to the ones defined in `METAFLOW_KUBERNETES_SECRETS`\\nin Metaflow configuration.\" />\n",
       "\t<Parameter name=\"node_selector: Union[Dict[str,str], str], optional, default None\" desc=\"Kubernetes node selector(s) to apply to the pod running the task.\\nCan be passed in as a comma separated string of values e.g.\\n'kubernetes.io/os=linux,kubernetes.io/arch=amd64' or as a dictionary\\n{'kubernetes.io/os': 'linux', 'kubernetes.io/arch': 'amd64'}\" />\n",
       "\t<Parameter name=\"namespace\" type=\"str, default METAFLOW_KUBERNETES_NAMESPACE\" desc=\"Kubernetes namespace to use when launching pod in Kubernetes.\" />\n",
       "\t<Parameter name=\"gpu\" type=\"int, optional, default None\" desc=\"Number of GPUs required for this step. A value of zero implies that\\nthe scheduled node should not have GPUs.\" />\n",
       "\t<Parameter name=\"gpu_vendor\" type=\"str, default KUBERNETES_GPU_VENDOR\" desc=\"The vendor of the GPUs to be used for this step.\" />\n",
       "\t<Parameter name=\"tolerations\" type=\"List[str], default []\" desc=\"The default is extracted from METAFLOW_KUBERNETES_TOLERATIONS.\\nKubernetes tolerations to use when launching pod in Kubernetes.\" />\n",
       "\t<Parameter name=\"use_tmpfs\" type=\"bool, default False\" desc=\"This enables an explicit tmpfs mount for this step.\" />\n",
       "\t<Parameter name=\"tmpfs_tempdir\" type=\"bool, default True\" desc=\"sets METAFLOW_TEMPDIR to tmpfs_path if set for this step.\" />\n",
       "\t<Parameter name=\"tmpfs_size\" type=\"int, optional, default: None\" desc=\"The value for the size (in MiB) of the tmpfs mount for this step.\\nThis parameter maps to the `--tmpfs` option in Docker. Defaults to 50% of the\\nmemory allocated for this step.\" />\n",
       "\t<Parameter name=\"tmpfs_path\" type=\"str, optional, default /metaflow_temp\" desc=\"Path to tmpfs mount for this step.\" />\n",
       "\t<Parameter name=\"persistent_volume_claims\" type=\"Dict[str, str], optional, default None\" desc=\"A map (dictionary) of persistent volumes to be mounted to the pod for this step. The map is from persistent\\nvolumes to the path to which the volume is to be mounted, e.g., `{'pvc-name': '/path/to/mount/on'}`.\" />\n",
       "\t<Parameter name=\"shared_memory: int, optional\" desc=\"Shared memory size (in MiB) required for this step\" />\n",
       "\t<Parameter name=\"port: int, optional\" desc=\"Port number to specify in the Kubernetes job object\" />\n",
       "\t<Parameter name=\"compute_pool\" type=\"str, optional, default None\" desc=\"Compute pool to be used for for this step.\\nIf not specified, any accessible compute pool within the perimeter is used.\" />\n",
       "\t<Parameter name=\"hostname_resolution_timeout: int, default 10 * 60\" desc=\"Timeout in seconds for the workers tasks in the gang scheduled cluster to resolve the hostname of control task.\\nOnly applicable when @parallel is used.\" />\n",
       "</ParamSection>\n",
       "</DocSection>"
      ],
      "text/plain": [
       "<nbdoc.showdoc.ShowDoc at 0x113414eb0>"
      ]
     },
     "execution_count": 2,
     "metadata": {},
     "output_type": "execute_result"
    }
   ],
   "source": [
    "ShowDoc(kubernetes,  skip_sections='Attributes', show_import=True)"
   ]
  },
  {
   "cell_type": "code",
   "execution_count": null,
   "id": "a973a231",
   "metadata": {},
   "outputs": [],
   "source": []
  }
 ],
 "metadata": {
  "kernelspec": {
   "display_name": "Python 3 (ipykernel)",
   "language": "python",
   "name": "python3"
  },
  "language_info": {
   "codemirror_mode": {
    "name": "ipython",
    "version": 3
   },
   "file_extension": ".py",
   "mimetype": "text/x-python",
   "name": "python",
   "nbconvert_exporter": "python",
   "pygments_lexer": "ipython3",
   "version": "3.10.13"
  }
 },
 "nbformat": 4,
 "nbformat_minor": 5
}
