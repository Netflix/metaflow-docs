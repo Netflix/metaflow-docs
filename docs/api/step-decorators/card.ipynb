{
 "cells": [
  {
   "cell_type": "markdown",
   "id": "101d172c",
   "metadata": {},
   "source": [
    "# @card\n",
    "\n",
    "Creates a report card after the step completes. For more information, see [Visualizing Results](/metaflow/visualizing-results) and [the main API docs for cards](/api/cards)."
   ]
  },
  {
   "cell_type": "code",
   "execution_count": 1,
   "id": "20310c8b",
   "metadata": {
    "execution": {
     "iopub.execute_input": "2024-11-05T04:49:43.306011Z",
     "iopub.status.busy": "2024-11-05T04:49:43.305899Z",
     "iopub.status.idle": "2024-11-05T04:49:43.587064Z",
     "shell.execute_reply": "2024-11-05T04:49:43.586154Z"
    }
   },
   "outputs": [],
   "source": [
    "#meta:tag=hide\n",
    "from functools import partial\n",
    "from nbdoc.showdoc import ShowDoc\n",
    "ShowDoc = partial(ShowDoc, module_nm='metaflow')\n",
    "\n",
    "from metaflow import card"
   ]
  },
  {
   "cell_type": "code",
   "execution_count": 2,
   "id": "7f2bc67e",
   "metadata": {
    "execution": {
     "iopub.execute_input": "2024-11-05T04:49:43.590804Z",
     "iopub.status.busy": "2024-11-05T04:49:43.590581Z",
     "iopub.status.idle": "2024-11-05T04:49:43.601149Z",
     "shell.execute_reply": "2024-11-05T04:49:43.600544Z"
    }
   },
   "outputs": [
    {
     "name": "stderr",
     "output_type": "stream",
     "text": [
      "/Users/rcledat/mambaforge/envs/metaflow-oss-docs/lib/python3.10/site-packages/numpydoc/docscrape.py:434: UserWarning: potentially wrong underline length... \n",
      "@@ Returns \n",
      "------- in \n",
      "Creates a human-readable report, a Metaflow Card, after this step completes.\n",
      "... in the docstring of CardDecorator in /Users/rcledat/mambaforge/envs/metaflow-oss-docs/lib/python3.10/site-packages/metaflow/plugins/cards/card_decorator.py.\n",
      "  warn(msg)\n",
      "/Users/rcledat/mambaforge/envs/metaflow-oss-docs/lib/python3.10/site-packages/numpydoc/docscrape.py:434: UserWarning: Unknown section Mf Add To Current in the docstring of CardDecorator in /Users/rcledat/mambaforge/envs/metaflow-oss-docs/lib/python3.10/site-packages/metaflow/plugins/cards/card_decorator.py.\n",
      "  warn(msg)\n"
     ]
    },
    {
     "data": {
      "text/html": [
       "<HTMLRemove>\n",
       "<h3> <code>decorator</code> <span style=\"color:Brown\">@card</span> <em>(...)</em><a href=\"https://github.com/Netflix/metaflow/tree/master/metaflow/plugins/cards/card_decorator.py#L22\" style=\"float:right\">[source]</a></h3><strong>metaflow</strong><p><blockquote>Creates&nbsp;a&nbsp;human-readable&nbsp;report,&nbsp;a&nbsp;Metaflow&nbsp;Card,&nbsp;after&nbsp;this&nbsp;step&nbsp;completes.<br><br>Note&nbsp;that&nbsp;you&nbsp;may&nbsp;add&nbsp;multiple&nbsp;`@card`&nbsp;decorators&nbsp;in&nbsp;a&nbsp;step&nbsp;with&nbsp;different&nbsp;parameters.<br><br>Parameters<br>----------<br>type&nbsp;:&nbsp;str,&nbsp;default&nbsp;'default'<br>&nbsp;&nbsp;&nbsp;&nbsp;Card&nbsp;type.<br>id&nbsp;:&nbsp;str,&nbsp;optional,&nbsp;default&nbsp;None<br>&nbsp;&nbsp;&nbsp;&nbsp;If&nbsp;multiple&nbsp;cards&nbsp;are&nbsp;present,&nbsp;use&nbsp;this&nbsp;id&nbsp;to&nbsp;identify&nbsp;this&nbsp;card.<br>options&nbsp;:&nbsp;Dict[str,&nbsp;Any],&nbsp;default&nbsp;{}<br>&nbsp;&nbsp;&nbsp;&nbsp;Options&nbsp;passed&nbsp;to&nbsp;the&nbsp;card.&nbsp;The&nbsp;contents&nbsp;depend&nbsp;on&nbsp;the&nbsp;card&nbsp;type.<br>timeout&nbsp;:&nbsp;int,&nbsp;default&nbsp;45<br>&nbsp;&nbsp;&nbsp;&nbsp;Interrupt&nbsp;reporting&nbsp;if&nbsp;it&nbsp;takes&nbsp;more&nbsp;than&nbsp;this&nbsp;many&nbsp;seconds.<br><br>MF&nbsp;Add&nbsp;To&nbsp;Current<br>-----------------<br>card&nbsp;->&nbsp;metaflow.plugins.cards.component_serializer.CardComponentCollector<br>&nbsp;&nbsp;&nbsp;&nbsp;The&nbsp;`@card`&nbsp;decorator&nbsp;makes&nbsp;the&nbsp;cards&nbsp;available&nbsp;through&nbsp;the&nbsp;`current.card`<br>&nbsp;&nbsp;&nbsp;&nbsp;object.&nbsp;If&nbsp;multiple&nbsp;`@card`&nbsp;decorators&nbsp;are&nbsp;present,&nbsp;you&nbsp;can&nbsp;add&nbsp;an&nbsp;`ID`&nbsp;to<br>&nbsp;&nbsp;&nbsp;&nbsp;distinguish&nbsp;between&nbsp;them&nbsp;using&nbsp;`@card(id=ID)`&nbsp;as&nbsp;the&nbsp;decorator.&nbsp;You&nbsp;will&nbsp;then<br>&nbsp;&nbsp;&nbsp;&nbsp;be&nbsp;able&nbsp;to&nbsp;access&nbsp;that&nbsp;specific&nbsp;card&nbsp;using&nbsp;`current.card[ID].<br><br>&nbsp;&nbsp;&nbsp;&nbsp;Methods&nbsp;available&nbsp;are&nbsp;`append`&nbsp;and&nbsp;`extend`<br><br>&nbsp;&nbsp;&nbsp;&nbsp;@@&nbsp;Returns<br>&nbsp;&nbsp;&nbsp;&nbsp;-------<br>&nbsp;&nbsp;&nbsp;&nbsp;CardComponentCollector<br>&nbsp;&nbsp;&nbsp;&nbsp;&nbsp;&nbsp;&nbsp;&nbsp;The&nbsp;or&nbsp;one&nbsp;of&nbsp;the&nbsp;cards&nbsp;attached&nbsp;to&nbsp;this&nbsp;step.</blockquote></p>\n",
       "</HTMLRemove>\n",
       "<DocSection type=\"decorator\" name=\"card\" module=\"metaflow\" show_import=\"True\" heading_level=\"3\" link=\"https://github.com/Netflix/metaflow/tree/master/metaflow/plugins/cards/card_decorator.py#L22\">\n",
       "<SigArgSection>\n",
       "<SigArg name=\"...\" />\n",
       "</SigArgSection>\n",
       "<Description summary=\"Creates a human-readable report, a Metaflow Card, after this step completes.\" extended_summary=\"Note that you may add multiple `@card` decorators in a step with different parameters.\" />\n",
       "<ParamSection name=\"Parameters\">\n",
       "\t<Parameter name=\"type\" type=\"str, default 'default'\" desc=\"Card type.\" />\n",
       "\t<Parameter name=\"id\" type=\"str, optional, default None\" desc=\"If multiple cards are present, use this id to identify this card.\" />\n",
       "\t<Parameter name=\"options\" type=\"Dict[str, Any], default {}\" desc=\"Options passed to the card. The contents depend on the card type.\" />\n",
       "\t<Parameter name=\"timeout\" type=\"int, default 45\" desc=\"Interrupt reporting if it takes more than this many seconds.\" />\n",
       "</ParamSection>\n",
       "</DocSection>"
      ],
      "text/plain": [
       "<nbdoc.showdoc.ShowDoc at 0x114202950>"
      ]
     },
     "execution_count": 2,
     "metadata": {},
     "output_type": "execute_result"
    }
   ],
   "source": [
    "ShowDoc(card, skip_sections='Attributes', show_import=True)"
   ]
  },
  {
   "cell_type": "code",
   "execution_count": null,
   "id": "20cf2b07",
   "metadata": {},
   "outputs": [],
   "source": []
  }
 ],
 "metadata": {
  "kernelspec": {
   "display_name": "Python 3 (ipykernel)",
   "language": "python",
   "name": "python3"
  },
  "language_info": {
   "codemirror_mode": {
    "name": "ipython",
    "version": 3
   },
   "file_extension": ".py",
   "mimetype": "text/x-python",
   "name": "python",
   "nbconvert_exporter": "python",
   "pygments_lexer": "ipython3",
   "version": "3.10.13"
  }
 },
 "nbformat": 4,
 "nbformat_minor": 5
}
