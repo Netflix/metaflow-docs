{
 "cells": [
  {
   "cell_type": "markdown",
   "id": "4cfff8e2",
   "metadata": {},
   "source": [
    "# @environment\n",
    "\n",
    "The `@environment` decorator specifies environment variables for a step.\n",
    "\n",
    "Note that `@environment` is mainly useful for setting special environment variables that need to be present when a container launched by `@batch` or `@kubernetes` starts, which happens before any user code is executed. Variables that are needed after the user code has started can be set as usual in Python:\n",
    "```\n",
    "import os\n",
    "os.environ['SOME_VAL'] = \"some value\"\n",
    "```\n",
    "\n",
    "To set credentials and other secret as environment variables, [see the `@secrets` decorator](/api/step-decorators/secrets)."
   ]
  },
  {
   "cell_type": "code",
   "execution_count": 1,
   "id": "627487a4",
   "metadata": {
    "execution": {
     "iopub.execute_input": "2024-11-05T04:49:44.631238Z",
     "iopub.status.busy": "2024-11-05T04:49:44.631127Z",
     "iopub.status.idle": "2024-11-05T04:49:44.910489Z",
     "shell.execute_reply": "2024-11-05T04:49:44.910128Z"
    }
   },
   "outputs": [],
   "source": [
    "#meta:tag=hide\n",
    "from functools import partial\n",
    "from nbdoc.showdoc import ShowDoc\n",
    "ShowDoc = partial(ShowDoc, module_nm='metaflow')\n",
    "\n",
    "from metaflow import environment"
   ]
  },
  {
   "cell_type": "code",
   "execution_count": 2,
   "id": "af50a6d2",
   "metadata": {
    "execution": {
     "iopub.execute_input": "2024-11-05T04:49:44.921719Z",
     "iopub.status.busy": "2024-11-05T04:49:44.915068Z",
     "iopub.status.idle": "2024-11-05T04:49:44.928343Z",
     "shell.execute_reply": "2024-11-05T04:49:44.928101Z"
    }
   },
   "outputs": [
    {
     "data": {
      "text/html": [
       "<HTMLRemove>\n",
       "<h3> <code>decorator</code> <span style=\"color:Brown\">@environment</span> <em>(...)</em><a href=\"https://github.com/Netflix/metaflow/tree/master/metaflow/plugins/environment_decorator.py#L4\" style=\"float:right\">[source]</a></h3><strong>metaflow</strong><p><blockquote>Specifies&nbsp;environment&nbsp;variables&nbsp;to&nbsp;be&nbsp;set&nbsp;prior&nbsp;to&nbsp;the&nbsp;execution&nbsp;of&nbsp;a&nbsp;step.<br><br>Parameters<br>----------<br>vars&nbsp;:&nbsp;Dict[str,&nbsp;str],&nbsp;default&nbsp;{}<br>&nbsp;&nbsp;&nbsp;&nbsp;Dictionary&nbsp;of&nbsp;environment&nbsp;variables&nbsp;to&nbsp;set.</blockquote></p>\n",
       "</HTMLRemove>\n",
       "<DocSection type=\"decorator\" name=\"environment\" module=\"metaflow\" show_import=\"True\" heading_level=\"3\" link=\"https://github.com/Netflix/metaflow/tree/master/metaflow/plugins/environment_decorator.py#L4\">\n",
       "<SigArgSection>\n",
       "<SigArg name=\"...\" />\n",
       "</SigArgSection>\n",
       "<Description summary=\"Specifies environment variables to be set prior to the execution of a step.\" />\n",
       "<ParamSection name=\"Parameters\">\n",
       "\t<Parameter name=\"vars\" type=\"Dict[str, str], default {}\" desc=\"Dictionary of environment variables to set.\" />\n",
       "</ParamSection>\n",
       "</DocSection>"
      ],
      "text/plain": [
       "<nbdoc.showdoc.ShowDoc at 0x1087027d0>"
      ]
     },
     "execution_count": 2,
     "metadata": {},
     "output_type": "execute_result"
    }
   ],
   "source": [
    "ShowDoc(environment, skip_sections='Attributes', show_import=True)"
   ]
  },
  {
   "cell_type": "code",
   "execution_count": null,
   "id": "70b7a22c",
   "metadata": {},
   "outputs": [],
   "source": []
  }
 ],
 "metadata": {
  "kernelspec": {
   "display_name": "Python 3 (ipykernel)",
   "language": "python",
   "name": "python3"
  },
  "language_info": {
   "codemirror_mode": {
    "name": "ipython",
    "version": 3
   },
   "file_extension": ".py",
   "mimetype": "text/x-python",
   "name": "python",
   "nbconvert_exporter": "python",
   "pygments_lexer": "ipython3",
   "version": "3.10.13"
  }
 },
 "nbformat": 4,
 "nbformat_minor": 5
}
