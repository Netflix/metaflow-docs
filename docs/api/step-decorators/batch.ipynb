{
 "cells": [
  {
   "cell_type": "markdown",
   "id": "eb7388b6",
   "metadata": {},
   "source": [
    "# @batch"
   ]
  },
  {
   "cell_type": "markdown",
   "id": "576777f8",
   "metadata": {},
   "source": [
    "The `@batch` decorator sends a step for execution on the [AWS Batch](https://aws.amazon.com/batch/) compute layer. For more information, see [Executing Tasks Remotely](/scaling/remote-tasks/introduction).\n",
    "\n",
    "Note that while `@batch` doesn't allow mounting arbitrary disk volumes on the fly, you can create in-memory filesystems easily with `tmpfs` options. For more details, see [using `metaflow.S3` for in-memory processing](/scaling/data#using-metaflows3-for-in-memory-processing)."
   ]
  },
  {
   "cell_type": "code",
   "execution_count": 1,
   "id": "a5ef9454",
   "metadata": {
    "execution": {
     "iopub.execute_input": "2024-11-05T04:49:40.485114Z",
     "iopub.status.busy": "2024-11-05T04:49:40.484953Z",
     "iopub.status.idle": "2024-11-05T04:49:40.776181Z",
     "shell.execute_reply": "2024-11-05T04:49:40.775830Z"
    }
   },
   "outputs": [],
   "source": [
    "#meta:tag=hide\n",
    "from functools import partial\n",
    "from nbdoc.showdoc import ShowDoc\n",
    "ShowDoc = partial(ShowDoc, module_nm='metaflow')\n",
    "\n",
    "from metaflow import batch"
   ]
  },
  {
   "cell_type": "code",
   "execution_count": 2,
   "id": "09970e68",
   "metadata": {
    "execution": {
     "iopub.execute_input": "2024-11-05T04:49:40.779461Z",
     "iopub.status.busy": "2024-11-05T04:49:40.779165Z",
     "iopub.status.idle": "2024-11-05T04:49:40.789651Z",
     "shell.execute_reply": "2024-11-05T04:49:40.789388Z"
    }
   },
   "outputs": [
    {
     "data": {
      "text/html": [
       "<HTMLRemove>\n",
       "<h3> <code>decorator</code> <span style=\"color:Brown\">@batch</span> <em>(...)</em><a href=\"https://github.com/Netflix/metaflow/tree/master/metaflow/plugins/aws/batch/batch_decorator.py#L34\" style=\"float:right\">[source]</a></h3><strong>metaflow</strong><p><blockquote>Specifies&nbsp;that&nbsp;this&nbsp;step&nbsp;should&nbsp;execute&nbsp;on&nbsp;[AWS&nbsp;Batch](https://aws.amazon.com/batch/).<br><br>Parameters<br>----------<br>cpu&nbsp;:&nbsp;int,&nbsp;default&nbsp;1<br>&nbsp;&nbsp;&nbsp;&nbsp;Number&nbsp;of&nbsp;CPUs&nbsp;required&nbsp;for&nbsp;this&nbsp;step.&nbsp;If&nbsp;`@resources`&nbsp;is<br>&nbsp;&nbsp;&nbsp;&nbsp;also&nbsp;present,&nbsp;the&nbsp;maximum&nbsp;value&nbsp;from&nbsp;all&nbsp;decorators&nbsp;is&nbsp;used.<br>gpu&nbsp;:&nbsp;int,&nbsp;default&nbsp;0<br>&nbsp;&nbsp;&nbsp;&nbsp;Number&nbsp;of&nbsp;GPUs&nbsp;required&nbsp;for&nbsp;this&nbsp;step.&nbsp;If&nbsp;`@resources`&nbsp;is<br>&nbsp;&nbsp;&nbsp;&nbsp;also&nbsp;present,&nbsp;the&nbsp;maximum&nbsp;value&nbsp;from&nbsp;all&nbsp;decorators&nbsp;is&nbsp;used.<br>memory&nbsp;:&nbsp;int,&nbsp;default&nbsp;4096<br>&nbsp;&nbsp;&nbsp;&nbsp;Memory&nbsp;size&nbsp;(in&nbsp;MB)&nbsp;required&nbsp;for&nbsp;this&nbsp;step.&nbsp;If<br>&nbsp;&nbsp;&nbsp;&nbsp;`@resources`&nbsp;is&nbsp;also&nbsp;present,&nbsp;the&nbsp;maximum&nbsp;value&nbsp;from&nbsp;all&nbsp;decorators&nbsp;is<br>&nbsp;&nbsp;&nbsp;&nbsp;used.<br>image&nbsp;:&nbsp;str,&nbsp;optional,&nbsp;default&nbsp;None<br>&nbsp;&nbsp;&nbsp;&nbsp;Docker&nbsp;image&nbsp;to&nbsp;use&nbsp;when&nbsp;launching&nbsp;on&nbsp;AWS&nbsp;Batch.&nbsp;If&nbsp;not&nbsp;specified,&nbsp;and<br>&nbsp;&nbsp;&nbsp;&nbsp;METAFLOW_BATCH_CONTAINER_IMAGE&nbsp;is&nbsp;specified,&nbsp;that&nbsp;image&nbsp;is&nbsp;used.&nbsp;If<br>&nbsp;&nbsp;&nbsp;&nbsp;not,&nbsp;a&nbsp;default&nbsp;Docker&nbsp;image&nbsp;mapping&nbsp;to&nbsp;the&nbsp;current&nbsp;version&nbsp;of&nbsp;Python&nbsp;is&nbsp;used.<br>queue&nbsp;:&nbsp;str,&nbsp;default&nbsp;METAFLOW_BATCH_JOB_QUEUE<br>&nbsp;&nbsp;&nbsp;&nbsp;AWS&nbsp;Batch&nbsp;Job&nbsp;Queue&nbsp;to&nbsp;submit&nbsp;the&nbsp;job&nbsp;to.<br>iam_role&nbsp;:&nbsp;str,&nbsp;default&nbsp;METAFLOW_ECS_S3_ACCESS_IAM_ROLE<br>&nbsp;&nbsp;&nbsp;&nbsp;AWS&nbsp;IAM&nbsp;role&nbsp;that&nbsp;AWS&nbsp;Batch&nbsp;container&nbsp;uses&nbsp;to&nbsp;access&nbsp;AWS&nbsp;cloud&nbsp;resources.<br>execution_role&nbsp;:&nbsp;str,&nbsp;default&nbsp;METAFLOW_ECS_FARGATE_EXECUTION_ROLE<br>&nbsp;&nbsp;&nbsp;&nbsp;AWS&nbsp;IAM&nbsp;role&nbsp;that&nbsp;AWS&nbsp;Batch&nbsp;can&nbsp;use&nbsp;[to&nbsp;trigger&nbsp;AWS&nbsp;Fargate&nbsp;tasks]<br>&nbsp;&nbsp;&nbsp;&nbsp;(https://docs.aws.amazon.com/batch/latest/userguide/execution-IAM-role.html).<br>shared_memory&nbsp;:&nbsp;int,&nbsp;optional,&nbsp;default&nbsp;None<br>&nbsp;&nbsp;&nbsp;&nbsp;The&nbsp;value&nbsp;for&nbsp;the&nbsp;size&nbsp;(in&nbsp;MiB)&nbsp;of&nbsp;the&nbsp;/dev/shm&nbsp;volume&nbsp;for&nbsp;this&nbsp;step.<br>&nbsp;&nbsp;&nbsp;&nbsp;This&nbsp;parameter&nbsp;maps&nbsp;to&nbsp;the&nbsp;`--shm-size`&nbsp;option&nbsp;in&nbsp;Docker.<br>max_swap&nbsp;:&nbsp;int,&nbsp;optional,&nbsp;default&nbsp;None<br>&nbsp;&nbsp;&nbsp;&nbsp;The&nbsp;total&nbsp;amount&nbsp;of&nbsp;swap&nbsp;memory&nbsp;(in&nbsp;MiB)&nbsp;a&nbsp;container&nbsp;can&nbsp;use&nbsp;for&nbsp;this<br>&nbsp;&nbsp;&nbsp;&nbsp;step.&nbsp;This&nbsp;parameter&nbsp;is&nbsp;translated&nbsp;to&nbsp;the&nbsp;`--memory-swap`&nbsp;option&nbsp;in<br>&nbsp;&nbsp;&nbsp;&nbsp;Docker&nbsp;where&nbsp;the&nbsp;value&nbsp;is&nbsp;the&nbsp;sum&nbsp;of&nbsp;the&nbsp;container&nbsp;memory&nbsp;plus&nbsp;the<br>&nbsp;&nbsp;&nbsp;&nbsp;`max_swap`&nbsp;value.<br>swappiness&nbsp;:&nbsp;int,&nbsp;optional,&nbsp;default&nbsp;None<br>&nbsp;&nbsp;&nbsp;&nbsp;This&nbsp;allows&nbsp;you&nbsp;to&nbsp;tune&nbsp;memory&nbsp;swappiness&nbsp;behavior&nbsp;for&nbsp;this&nbsp;step.<br>&nbsp;&nbsp;&nbsp;&nbsp;A&nbsp;swappiness&nbsp;value&nbsp;of&nbsp;0&nbsp;causes&nbsp;swapping&nbsp;not&nbsp;to&nbsp;happen&nbsp;unless&nbsp;absolutely<br>&nbsp;&nbsp;&nbsp;&nbsp;necessary.&nbsp;A&nbsp;swappiness&nbsp;value&nbsp;of&nbsp;100&nbsp;causes&nbsp;pages&nbsp;to&nbsp;be&nbsp;swapped&nbsp;very<br>&nbsp;&nbsp;&nbsp;&nbsp;aggressively.&nbsp;Accepted&nbsp;values&nbsp;are&nbsp;whole&nbsp;numbers&nbsp;between&nbsp;0&nbsp;and&nbsp;100.<br>use_tmpfs&nbsp;:&nbsp;bool,&nbsp;default&nbsp;False<br>&nbsp;&nbsp;&nbsp;&nbsp;This&nbsp;enables&nbsp;an&nbsp;explicit&nbsp;tmpfs&nbsp;mount&nbsp;for&nbsp;this&nbsp;step.&nbsp;Note&nbsp;that&nbsp;tmpfs&nbsp;is<br>&nbsp;&nbsp;&nbsp;&nbsp;not&nbsp;available&nbsp;on&nbsp;Fargate&nbsp;compute&nbsp;environments<br>tmpfs_tempdir&nbsp;:&nbsp;bool,&nbsp;default&nbsp;True<br>&nbsp;&nbsp;&nbsp;&nbsp;sets&nbsp;METAFLOW_TEMPDIR&nbsp;to&nbsp;tmpfs_path&nbsp;if&nbsp;set&nbsp;for&nbsp;this&nbsp;step.<br>tmpfs_size&nbsp;:&nbsp;int,&nbsp;optional,&nbsp;default&nbsp;None<br>&nbsp;&nbsp;&nbsp;&nbsp;The&nbsp;value&nbsp;for&nbsp;the&nbsp;size&nbsp;(in&nbsp;MiB)&nbsp;of&nbsp;the&nbsp;tmpfs&nbsp;mount&nbsp;for&nbsp;this&nbsp;step.<br>&nbsp;&nbsp;&nbsp;&nbsp;This&nbsp;parameter&nbsp;maps&nbsp;to&nbsp;the&nbsp;`--tmpfs`&nbsp;option&nbsp;in&nbsp;Docker.&nbsp;Defaults&nbsp;to&nbsp;50%&nbsp;of&nbsp;the<br>&nbsp;&nbsp;&nbsp;&nbsp;memory&nbsp;allocated&nbsp;for&nbsp;this&nbsp;step.<br>tmpfs_path&nbsp;:&nbsp;str,&nbsp;optional,&nbsp;default&nbsp;None<br>&nbsp;&nbsp;&nbsp;&nbsp;Path&nbsp;to&nbsp;tmpfs&nbsp;mount&nbsp;for&nbsp;this&nbsp;step.&nbsp;Defaults&nbsp;to&nbsp;/metaflow_temp.<br>inferentia&nbsp;:&nbsp;int,&nbsp;default&nbsp;0<br>&nbsp;&nbsp;&nbsp;&nbsp;Number&nbsp;of&nbsp;Inferentia&nbsp;chips&nbsp;required&nbsp;for&nbsp;this&nbsp;step.<br>trainium&nbsp;:&nbsp;int,&nbsp;default&nbsp;None<br>&nbsp;&nbsp;&nbsp;&nbsp;Alias&nbsp;for&nbsp;inferentia.&nbsp;Use&nbsp;only&nbsp;one&nbsp;of&nbsp;the&nbsp;two.<br>efa&nbsp;:&nbsp;int,&nbsp;default&nbsp;0<br>&nbsp;&nbsp;&nbsp;&nbsp;Number&nbsp;of&nbsp;elastic&nbsp;fabric&nbsp;adapter&nbsp;network&nbsp;devices&nbsp;to&nbsp;attach&nbsp;to&nbsp;container<br>ephemeral_storage&nbsp;:&nbsp;int,&nbsp;default&nbsp;None<br>&nbsp;&nbsp;&nbsp;&nbsp;The&nbsp;total&nbsp;amount,&nbsp;in&nbsp;GiB,&nbsp;of&nbsp;ephemeral&nbsp;storage&nbsp;to&nbsp;set&nbsp;for&nbsp;the&nbsp;task,&nbsp;21-200GiB.<br>&nbsp;&nbsp;&nbsp;&nbsp;This&nbsp;is&nbsp;only&nbsp;relevant&nbsp;for&nbsp;Fargate&nbsp;compute&nbsp;environments<br>log_driver:&nbsp;str,&nbsp;optional,&nbsp;default&nbsp;None<br>&nbsp;&nbsp;&nbsp;&nbsp;The&nbsp;log&nbsp;driver&nbsp;to&nbsp;use&nbsp;for&nbsp;the&nbsp;Amazon&nbsp;ECS&nbsp;container.<br>log_options:&nbsp;List[str],&nbsp;optional,&nbsp;default&nbsp;None<br>&nbsp;&nbsp;&nbsp;&nbsp;List&nbsp;of&nbsp;strings&nbsp;containing&nbsp;options&nbsp;for&nbsp;the&nbsp;chosen&nbsp;log&nbsp;driver.&nbsp;The&nbsp;configurable&nbsp;values<br>&nbsp;&nbsp;&nbsp;&nbsp;depend&nbsp;on&nbsp;the&nbsp;`log&nbsp;driver`&nbsp;chosen.&nbsp;Validation&nbsp;of&nbsp;these&nbsp;options&nbsp;is&nbsp;not&nbsp;supported&nbsp;yet.<br>&nbsp;&nbsp;&nbsp;&nbsp;Example:&nbsp;[`awslogs-group:aws/batch/job`]</blockquote></p>\n",
       "</HTMLRemove>\n",
       "<DocSection type=\"decorator\" name=\"batch\" module=\"metaflow\" show_import=\"True\" heading_level=\"3\" link=\"https://github.com/Netflix/metaflow/tree/master/metaflow/plugins/aws/batch/batch_decorator.py#L34\">\n",
       "<SigArgSection>\n",
       "<SigArg name=\"...\" />\n",
       "</SigArgSection>\n",
       "<Description summary=\"Specifies that this step should execute on [AWS Batch](https://aws.amazon.com/batch/).\" />\n",
       "<ParamSection name=\"Parameters\">\n",
       "\t<Parameter name=\"cpu\" type=\"int, default 1\" desc=\"Number of CPUs required for this step. If `@resources` is\\nalso present, the maximum value from all decorators is used.\" />\n",
       "\t<Parameter name=\"gpu\" type=\"int, default 0\" desc=\"Number of GPUs required for this step. If `@resources` is\\nalso present, the maximum value from all decorators is used.\" />\n",
       "\t<Parameter name=\"memory\" type=\"int, default 4096\" desc=\"Memory size (in MB) required for this step. If\\n`@resources` is also present, the maximum value from all decorators is\\nused.\" />\n",
       "\t<Parameter name=\"image\" type=\"str, optional, default None\" desc=\"Docker image to use when launching on AWS Batch. If not specified, and\\nMETAFLOW_BATCH_CONTAINER_IMAGE is specified, that image is used. If\\nnot, a default Docker image mapping to the current version of Python is used.\" />\n",
       "\t<Parameter name=\"queue\" type=\"str, default METAFLOW_BATCH_JOB_QUEUE\" desc=\"AWS Batch Job Queue to submit the job to.\" />\n",
       "\t<Parameter name=\"iam_role\" type=\"str, default METAFLOW_ECS_S3_ACCESS_IAM_ROLE\" desc=\"AWS IAM role that AWS Batch container uses to access AWS cloud resources.\" />\n",
       "\t<Parameter name=\"execution_role\" type=\"str, default METAFLOW_ECS_FARGATE_EXECUTION_ROLE\" desc=\"AWS IAM role that AWS Batch can use [to trigger AWS Fargate tasks]\\n(https://docs.aws.amazon.com/batch/latest/userguide/execution-IAM-role.html).\" />\n",
       "\t<Parameter name=\"shared_memory\" type=\"int, optional, default None\" desc=\"The value for the size (in MiB) of the /dev/shm volume for this step.\\nThis parameter maps to the `--shm-size` option in Docker.\" />\n",
       "\t<Parameter name=\"max_swap\" type=\"int, optional, default None\" desc=\"The total amount of swap memory (in MiB) a container can use for this\\nstep. This parameter is translated to the `--memory-swap` option in\\nDocker where the value is the sum of the container memory plus the\\n`max_swap` value.\" />\n",
       "\t<Parameter name=\"swappiness\" type=\"int, optional, default None\" desc=\"This allows you to tune memory swappiness behavior for this step.\\nA swappiness value of 0 causes swapping not to happen unless absolutely\\nnecessary. A swappiness value of 100 causes pages to be swapped very\\naggressively. Accepted values are whole numbers between 0 and 100.\" />\n",
       "\t<Parameter name=\"use_tmpfs\" type=\"bool, default False\" desc=\"This enables an explicit tmpfs mount for this step. Note that tmpfs is\\nnot available on Fargate compute environments\" />\n",
       "\t<Parameter name=\"tmpfs_tempdir\" type=\"bool, default True\" desc=\"sets METAFLOW_TEMPDIR to tmpfs_path if set for this step.\" />\n",
       "\t<Parameter name=\"tmpfs_size\" type=\"int, optional, default None\" desc=\"The value for the size (in MiB) of the tmpfs mount for this step.\\nThis parameter maps to the `--tmpfs` option in Docker. Defaults to 50% of the\\nmemory allocated for this step.\" />\n",
       "\t<Parameter name=\"tmpfs_path\" type=\"str, optional, default None\" desc=\"Path to tmpfs mount for this step. Defaults to /metaflow_temp.\" />\n",
       "\t<Parameter name=\"inferentia\" type=\"int, default 0\" desc=\"Number of Inferentia chips required for this step.\" />\n",
       "\t<Parameter name=\"trainium\" type=\"int, default None\" desc=\"Alias for inferentia. Use only one of the two.\" />\n",
       "\t<Parameter name=\"efa\" type=\"int, default 0\" desc=\"Number of elastic fabric adapter network devices to attach to container\" />\n",
       "\t<Parameter name=\"ephemeral_storage\" type=\"int, default None\" desc=\"The total amount, in GiB, of ephemeral storage to set for the task, 21-200GiB.\\nThis is only relevant for Fargate compute environments\" />\n",
       "\t<Parameter name=\"log_driver: str, optional, default None\" desc=\"The log driver to use for the Amazon ECS container.\" />\n",
       "\t<Parameter name=\"log_options: List[str], optional, default None\" desc=\"List of strings containing options for the chosen log driver. The configurable values\\ndepend on the `log driver` chosen. Validation of these options is not supported yet.\\nExample: [`awslogs-group:aws/batch/job`]\" />\n",
       "</ParamSection>\n",
       "</DocSection>"
      ],
      "text/plain": [
       "<nbdoc.showdoc.ShowDoc at 0x112306440>"
      ]
     },
     "execution_count": 2,
     "metadata": {},
     "output_type": "execute_result"
    }
   ],
   "source": [
    "ShowDoc(batch,  skip_sections='Attributes', show_import=True)"
   ]
  },
  {
   "cell_type": "code",
   "execution_count": null,
   "id": "c2ee5564",
   "metadata": {},
   "outputs": [],
   "source": []
  }
 ],
 "metadata": {
  "kernelspec": {
   "display_name": "Python 3 (ipykernel)",
   "language": "python",
   "name": "python3"
  },
  "language_info": {
   "codemirror_mode": {
    "name": "ipython",
    "version": 3
   },
   "file_extension": ".py",
   "mimetype": "text/x-python",
   "name": "python",
   "nbconvert_exporter": "python",
   "pygments_lexer": "ipython3",
   "version": "3.10.13"
  }
 },
 "nbformat": 4,
 "nbformat_minor": 5
}
