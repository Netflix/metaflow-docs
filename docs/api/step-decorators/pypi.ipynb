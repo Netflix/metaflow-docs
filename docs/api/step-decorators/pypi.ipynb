{
 "cells": [
  {
   "cell_type": "markdown",
   "id": "d1023227",
   "metadata": {},
   "source": [
    "# @pypi\n",
    "\n",
    "The `@pypi` decorator specifies what packages should be made available for a step.\n",
    "\n",
    "The packages are installed from [PyPI repositories](https://pypi.org/).  Packages must be a wheel. For more information, see [Managing External Libraries](/scaling/dependencies)."
   ]
  },
  {
   "cell_type": "code",
   "execution_count": 1,
   "id": "8d5bb116",
   "metadata": {
    "execution": {
     "iopub.execute_input": "2024-11-05T04:49:43.669520Z",
     "iopub.status.busy": "2024-11-05T04:49:43.669419Z",
     "iopub.status.idle": "2024-11-05T04:49:43.963356Z",
     "shell.execute_reply": "2024-11-05T04:49:43.963036Z"
    }
   },
   "outputs": [],
   "source": [
    "#meta:tag=hide\n",
    "from functools import partial\n",
    "from nbdoc.showdoc import ShowDoc\n",
    "ShowDoc = partial(ShowDoc, module_nm='metaflow')\n",
    "\n",
    "from metaflow import pypi"
   ]
  },
  {
   "cell_type": "code",
   "execution_count": 2,
   "id": "29af6ee3",
   "metadata": {
    "execution": {
     "iopub.execute_input": "2024-11-05T04:49:43.966696Z",
     "iopub.status.busy": "2024-11-05T04:49:43.966506Z",
     "iopub.status.idle": "2024-11-05T04:49:43.973782Z",
     "shell.execute_reply": "2024-11-05T04:49:43.973459Z"
    }
   },
   "outputs": [
    {
     "data": {
      "text/html": [
       "<HTMLRemove>\n",
       "<h3> <code>decorator</code> <span style=\"color:Brown\">@pypi</span> <em>(...)</em><a href=\"https://github.com/Netflix/metaflow/tree/master/metaflow/plugins/pypi/pypi_decorator.py#L5\" style=\"float:right\">[source]</a></h3><strong>metaflow</strong><p><blockquote>Specifies&nbsp;the&nbsp;PyPI&nbsp;packages&nbsp;for&nbsp;the&nbsp;step.<br><br>Information&nbsp;in&nbsp;this&nbsp;decorator&nbsp;will&nbsp;augment&nbsp;any<br>attributes&nbsp;set&nbsp;in&nbsp;the&nbsp;`@pyi_base`&nbsp;flow-level&nbsp;decorator.&nbsp;Hence,<br>you&nbsp;can&nbsp;use&nbsp;`@pypi_base`&nbsp;to&nbsp;set&nbsp;packages&nbsp;required&nbsp;by&nbsp;all<br>steps&nbsp;and&nbsp;use&nbsp;`@pypi`&nbsp;to&nbsp;specify&nbsp;step-specific&nbsp;overrides.<br><br>Parameters<br>----------<br>packages&nbsp;:&nbsp;Dict[str,&nbsp;str],&nbsp;default:&nbsp;{}<br>&nbsp;&nbsp;&nbsp;&nbsp;Packages&nbsp;to&nbsp;use&nbsp;for&nbsp;this&nbsp;step.&nbsp;The&nbsp;key&nbsp;is&nbsp;the&nbsp;name&nbsp;of&nbsp;the&nbsp;package<br>&nbsp;&nbsp;&nbsp;&nbsp;and&nbsp;the&nbsp;value&nbsp;is&nbsp;the&nbsp;version&nbsp;to&nbsp;use.<br>python&nbsp;:&nbsp;str,&nbsp;optional,&nbsp;default:&nbsp;None<br>&nbsp;&nbsp;&nbsp;&nbsp;Version&nbsp;of&nbsp;Python&nbsp;to&nbsp;use,&nbsp;e.g.&nbsp;'3.7.4'.&nbsp;A&nbsp;default&nbsp;value&nbsp;of&nbsp;None&nbsp;implies<br>&nbsp;&nbsp;&nbsp;&nbsp;that&nbsp;the&nbsp;version&nbsp;used&nbsp;will&nbsp;correspond&nbsp;to&nbsp;the&nbsp;version&nbsp;of&nbsp;the&nbsp;Python&nbsp;interpreter&nbsp;used&nbsp;to&nbsp;start&nbsp;the&nbsp;run.</blockquote></p>\n",
       "</HTMLRemove>\n",
       "<DocSection type=\"decorator\" name=\"pypi\" module=\"metaflow\" show_import=\"True\" heading_level=\"3\" link=\"https://github.com/Netflix/metaflow/tree/master/metaflow/plugins/pypi/pypi_decorator.py#L5\">\n",
       "<SigArgSection>\n",
       "<SigArg name=\"...\" />\n",
       "</SigArgSection>\n",
       "<Description summary=\"Specifies the PyPI packages for the step.\" extended_summary=\"Information in this decorator will augment any\\nattributes set in the `@pyi_base` flow-level decorator. Hence,\\nyou can use `@pypi_base` to set packages required by all\\nsteps and use `@pypi` to specify step-specific overrides.\" />\n",
       "<ParamSection name=\"Parameters\">\n",
       "\t<Parameter name=\"packages\" type=\"Dict[str, str], default: {}\" desc=\"Packages to use for this step. The key is the name of the package\\nand the value is the version to use.\" />\n",
       "\t<Parameter name=\"python\" type=\"str, optional, default: None\" desc=\"Version of Python to use, e.g. '3.7.4'. A default value of None implies\\nthat the version used will correspond to the version of the Python interpreter used to start the run.\" />\n",
       "</ParamSection>\n",
       "</DocSection>"
      ],
      "text/plain": [
       "<nbdoc.showdoc.ShowDoc at 0x105b14eb0>"
      ]
     },
     "execution_count": 2,
     "metadata": {},
     "output_type": "execute_result"
    }
   ],
   "source": [
    "ShowDoc(pypi,  skip_sections='Attributes', show_import=True)"
   ]
  },
  {
   "cell_type": "code",
   "execution_count": null,
   "id": "0a84d95f",
   "metadata": {},
   "outputs": [],
   "source": []
  }
 ],
 "metadata": {
  "kernelspec": {
   "display_name": "Python 3",
   "language": "python",
   "name": "python3"
  },
  "language_info": {
   "codemirror_mode": {
    "name": "ipython",
    "version": 3
   },
   "file_extension": ".py",
   "mimetype": "text/x-python",
   "name": "python",
   "nbconvert_exporter": "python",
   "pygments_lexer": "ipython3",
   "version": "3.10.13"
  }
 },
 "nbformat": 4,
 "nbformat_minor": 5
}
