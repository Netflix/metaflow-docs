{
 "cells": [
  {
   "cell_type": "markdown",
   "id": "4cfff8e2",
   "metadata": {},
   "source": [
    "# @timeout\n",
    "\n",
    "The `@timeout` decorator specifies for how long a step should execute before it is interrupted.\n",
    "\n",
    "You can use it to handle tasks that may get stuck, or to set a time-budget for a step. For more information, see [Dealing with Failures](/scaling/failures)."
   ]
  },
  {
   "cell_type": "code",
   "execution_count": 1,
   "id": "627487a4",
   "metadata": {
    "execution": {
     "iopub.execute_input": "2024-11-05T04:49:44.386067Z",
     "iopub.status.busy": "2024-11-05T04:49:44.385950Z",
     "iopub.status.idle": "2024-11-05T04:49:44.658942Z",
     "shell.execute_reply": "2024-11-05T04:49:44.658553Z"
    }
   },
   "outputs": [],
   "source": [
    "#meta:tag=hide\n",
    "from functools import partial\n",
    "from nbdoc.showdoc import ShowDoc\n",
    "ShowDoc = partial(ShowDoc, module_nm='metaflow')\n",
    "\n",
    "from metaflow import timeout"
   ]
  },
  {
   "cell_type": "code",
   "execution_count": 2,
   "id": "af50a6d2",
   "metadata": {
    "execution": {
     "iopub.execute_input": "2024-11-05T04:49:44.662232Z",
     "iopub.status.busy": "2024-11-05T04:49:44.662042Z",
     "iopub.status.idle": "2024-11-05T04:49:44.668610Z",
     "shell.execute_reply": "2024-11-05T04:49:44.668335Z"
    }
   },
   "outputs": [
    {
     "data": {
      "text/html": [
       "<HTMLRemove>\n",
       "<h3> <code>decorator</code> <span style=\"color:Brown\">@timeout</span> <em>(...)</em><a href=\"https://github.com/Netflix/metaflow/tree/master/metaflow/plugins/timeout_decorator.py#L14\" style=\"float:right\">[source]</a></h3><strong>metaflow</strong><p><blockquote>Specifies&nbsp;a&nbsp;timeout&nbsp;for&nbsp;your&nbsp;step.<br><br>This&nbsp;decorator&nbsp;is&nbsp;useful&nbsp;if&nbsp;this&nbsp;step&nbsp;may&nbsp;hang&nbsp;indefinitely.<br><br>This&nbsp;can&nbsp;be&nbsp;used&nbsp;in&nbsp;conjunction&nbsp;with&nbsp;the&nbsp;`@retry`&nbsp;decorator&nbsp;as&nbsp;well&nbsp;as&nbsp;the&nbsp;`@catch`&nbsp;decorator.<br>A&nbsp;timeout&nbsp;is&nbsp;considered&nbsp;to&nbsp;be&nbsp;an&nbsp;exception&nbsp;thrown&nbsp;by&nbsp;the&nbsp;step.&nbsp;It&nbsp;will&nbsp;cause&nbsp;the&nbsp;step&nbsp;to&nbsp;be<br>retried&nbsp;if&nbsp;needed&nbsp;and&nbsp;the&nbsp;exception&nbsp;will&nbsp;be&nbsp;caught&nbsp;by&nbsp;the&nbsp;`@catch`&nbsp;decorator,&nbsp;if&nbsp;present.<br><br>Note&nbsp;that&nbsp;all&nbsp;the&nbsp;values&nbsp;specified&nbsp;in&nbsp;parameters&nbsp;are&nbsp;added&nbsp;together&nbsp;so&nbsp;if&nbsp;you&nbsp;specify<br>60&nbsp;seconds&nbsp;and&nbsp;1&nbsp;hour,&nbsp;the&nbsp;decorator&nbsp;will&nbsp;have&nbsp;an&nbsp;effective&nbsp;timeout&nbsp;of&nbsp;1&nbsp;hour&nbsp;and&nbsp;1&nbsp;minute.<br><br>Parameters<br>----------<br>seconds&nbsp;:&nbsp;int,&nbsp;default&nbsp;0<br>&nbsp;&nbsp;&nbsp;&nbsp;Number&nbsp;of&nbsp;seconds&nbsp;to&nbsp;wait&nbsp;prior&nbsp;to&nbsp;timing&nbsp;out.<br>minutes&nbsp;:&nbsp;int,&nbsp;default&nbsp;0<br>&nbsp;&nbsp;&nbsp;&nbsp;Number&nbsp;of&nbsp;minutes&nbsp;to&nbsp;wait&nbsp;prior&nbsp;to&nbsp;timing&nbsp;out.<br>hours&nbsp;:&nbsp;int,&nbsp;default&nbsp;0<br>&nbsp;&nbsp;&nbsp;&nbsp;Number&nbsp;of&nbsp;hours&nbsp;to&nbsp;wait&nbsp;prior&nbsp;to&nbsp;timing&nbsp;out.</blockquote></p>\n",
       "</HTMLRemove>\n",
       "<DocSection type=\"decorator\" name=\"timeout\" module=\"metaflow\" show_import=\"True\" heading_level=\"3\" link=\"https://github.com/Netflix/metaflow/tree/master/metaflow/plugins/timeout_decorator.py#L14\">\n",
       "<SigArgSection>\n",
       "<SigArg name=\"...\" />\n",
       "</SigArgSection>\n",
       "<Description summary=\"Specifies a timeout for your step.\" extended_summary=\"This decorator is useful if this step may hang indefinitely.\\n\\nThis can be used in conjunction with the `@retry` decorator as well as the `@catch` decorator.\\nA timeout is considered to be an exception thrown by the step. It will cause the step to be\\nretried if needed and the exception will be caught by the `@catch` decorator, if present.\\n\\nNote that all the values specified in parameters are added together so if you specify\\n60 seconds and 1 hour, the decorator will have an effective timeout of 1 hour and 1 minute.\" />\n",
       "<ParamSection name=\"Parameters\">\n",
       "\t<Parameter name=\"seconds\" type=\"int, default 0\" desc=\"Number of seconds to wait prior to timing out.\" />\n",
       "\t<Parameter name=\"minutes\" type=\"int, default 0\" desc=\"Number of minutes to wait prior to timing out.\" />\n",
       "\t<Parameter name=\"hours\" type=\"int, default 0\" desc=\"Number of hours to wait prior to timing out.\" />\n",
       "</ParamSection>\n",
       "</DocSection>"
      ],
      "text/plain": [
       "<nbdoc.showdoc.ShowDoc at 0x10ac02950>"
      ]
     },
     "execution_count": 2,
     "metadata": {},
     "output_type": "execute_result"
    }
   ],
   "source": [
    "ShowDoc(timeout, skip_sections='Attributes', show_import=True)"
   ]
  },
  {
   "cell_type": "code",
   "execution_count": null,
   "id": "70b7a22c",
   "metadata": {},
   "outputs": [],
   "source": []
  }
 ],
 "metadata": {
  "kernelspec": {
   "display_name": "Python 3",
   "language": "python",
   "name": "python3"
  },
  "language_info": {
   "codemirror_mode": {
    "name": "ipython",
    "version": 3
   },
   "file_extension": ".py",
   "mimetype": "text/x-python",
   "name": "python",
   "nbconvert_exporter": "python",
   "pygments_lexer": "ipython3",
   "version": "3.10.13"
  }
 },
 "nbformat": 4,
 "nbformat_minor": 5
}
