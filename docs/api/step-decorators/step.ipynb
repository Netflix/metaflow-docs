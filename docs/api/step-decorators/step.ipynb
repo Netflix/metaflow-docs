{
 "cells": [
  {
   "cell_type": "markdown",
   "id": "4cfff8e2",
   "metadata": {},
   "source": [
    "# @step\n",
    "\n",
    "The `@step` decorator converts a method to a step of a flow.\n",
    "\n",
    "Use `@step` to construct Metaflow workflows. For more information, see [Basics of Metaflow](/metaflow/basics)."
   ]
  },
  {
   "cell_type": "code",
   "execution_count": 1,
   "id": "627487a4",
   "metadata": {
    "execution": {
     "iopub.execute_input": "2024-11-05T04:49:41.673320Z",
     "iopub.status.busy": "2024-11-05T04:49:41.673180Z",
     "iopub.status.idle": "2024-11-05T04:49:41.967655Z",
     "shell.execute_reply": "2024-11-05T04:49:41.966880Z"
    }
   },
   "outputs": [],
   "source": [
    "#meta:tag=hide\n",
    "from functools import partial\n",
    "from nbdoc.showdoc import ShowDoc\n",
    "ShowDoc = partial(ShowDoc, module_nm='metaflow')\n",
    "\n",
    "from metaflow import step"
   ]
  },
  {
   "cell_type": "code",
   "execution_count": 2,
   "id": "af50a6d2",
   "metadata": {
    "execution": {
     "iopub.execute_input": "2024-11-05T04:49:41.970863Z",
     "iopub.status.busy": "2024-11-05T04:49:41.970615Z",
     "iopub.status.idle": "2024-11-05T04:49:41.976739Z",
     "shell.execute_reply": "2024-11-05T04:49:41.976329Z"
    }
   },
   "outputs": [
    {
     "data": {
      "text/html": [
       "<HTMLRemove>\n",
       "<h3> <code>function</code> <span style=\"color:Brown\">step</span> <em></em><a href=\"https://github.com/Netflix/metaflow/tree/master/metaflow/decorators.py#L587\" style=\"float:right\">[source]</a></h3><strong>metaflow</strong><p><blockquote>Marks&nbsp;a&nbsp;method&nbsp;in&nbsp;a&nbsp;FlowSpec&nbsp;as&nbsp;a&nbsp;Metaflow&nbsp;Step.&nbsp;Note&nbsp;that&nbsp;this<br>decorator&nbsp;needs&nbsp;to&nbsp;be&nbsp;placed&nbsp;as&nbsp;close&nbsp;to&nbsp;the&nbsp;method&nbsp;as&nbsp;possible&nbsp;(ie:<br>before&nbsp;other&nbsp;decorators).<br><br>In&nbsp;other&nbsp;words,&nbsp;this&nbsp;is&nbsp;valid:<br>```<br>@batch<br>@step<br>def&nbsp;foo(self):<br>&nbsp;&nbsp;&nbsp;&nbsp;pass<br>```<br><br>whereas&nbsp;this&nbsp;is&nbsp;not:<br>```<br>@step<br>@batch<br>def&nbsp;foo(self):<br>&nbsp;&nbsp;&nbsp;&nbsp;pass<br>```<br><br>Parameters<br>----------<br>f&nbsp;:&nbsp;Union[Callable[[FlowSpecDerived],&nbsp;None],&nbsp;Callable[[FlowSpecDerived,&nbsp;Any],&nbsp;None]]<br>&nbsp;&nbsp;&nbsp;&nbsp;Function&nbsp;to&nbsp;make&nbsp;into&nbsp;a&nbsp;Metaflow&nbsp;Step<br><br>Returns<br>-------<br>Union[Callable[[FlowSpecDerived,&nbsp;StepFlag],&nbsp;None],&nbsp;Callable[[FlowSpecDerived,&nbsp;Any,&nbsp;StepFlag],&nbsp;None]]<br>&nbsp;&nbsp;&nbsp;&nbsp;Function&nbsp;that&nbsp;is&nbsp;a&nbsp;Metaflow&nbsp;Step</blockquote></p>\n",
       "</HTMLRemove>\n",
       "<DocSection type=\"function\" name=\"step\" module=\"metaflow\" show_import=\"True\" heading_level=\"3\" link=\"https://github.com/Netflix/metaflow/tree/master/metaflow/decorators.py#L587\">\n",
       "<SigArgSection>\n",
       "<SigArg name=\"\" />\n",
       "</SigArgSection>\n",
       "<Description summary=\"Marks a method in a FlowSpec as a Metaflow Step. Note that this\\ndecorator needs to be placed as close to the method as possible (ie:\\nbefore other decorators).\" extended_summary=\"In other words, this is valid:\\n```\\n@batch\\n@step\\ndef foo(self):\\n    pass\\n```\\n\\nwhereas this is not:\\n```\\n@step\\n@batch\\ndef foo(self):\\n    pass\\n```\" />\n",
       "<ParamSection name=\"Parameters\">\n",
       "\t<Parameter name=\"f\" type=\"Union[Callable[[FlowSpecDerived], None], Callable[[FlowSpecDerived, Any], None]]\" desc=\"Function to make into a Metaflow Step\" />\n",
       "</ParamSection>\n",
       "<ParamSection name=\"Returns\">\n",
       "\t<Parameter type=\"Union[Callable[[FlowSpecDerived, StepFlag], None], Callable[[FlowSpecDerived, Any, StepFlag], None]]\" desc=\"Function that is a Metaflow Step\" />\n",
       "</ParamSection>\n",
       "</DocSection>"
      ],
      "text/plain": [
       "<nbdoc.showdoc.ShowDoc at 0x110306350>"
      ]
     },
     "execution_count": 2,
     "metadata": {},
     "output_type": "execute_result"
    }
   ],
   "source": [
    "ShowDoc(step, spoofstr='', skip_sections='Attributes', show_import=True)"
   ]
  },
  {
   "cell_type": "code",
   "execution_count": null,
   "id": "70b7a22c",
   "metadata": {},
   "outputs": [],
   "source": []
  }
 ],
 "metadata": {
  "kernelspec": {
   "display_name": "Python 3",
   "language": "python",
   "name": "python3"
  },
  "language_info": {
   "codemirror_mode": {
    "name": "ipython",
    "version": 3
   },
   "file_extension": ".py",
   "mimetype": "text/x-python",
   "name": "python",
   "nbconvert_exporter": "python",
   "pygments_lexer": "ipython3",
   "version": "3.10.13"
  }
 },
 "nbformat": 4,
 "nbformat_minor": 5
}
