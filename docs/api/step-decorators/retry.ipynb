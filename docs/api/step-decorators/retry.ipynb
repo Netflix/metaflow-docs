{
 "cells": [
  {
   "cell_type": "markdown",
   "id": "4cfff8e2",
   "metadata": {},
   "source": [
    "# @retry\n",
    "\n",
    "The `@retry` decorator specifies how many times the task(s) corresponding to a step should be retried before failing the flow.\n",
    "\n",
    "For more information, see [Dealing with Failures](/scaling/failures)."
   ]
  },
  {
   "cell_type": "code",
   "execution_count": 1,
   "id": "627487a4",
   "metadata": {
    "execution": {
     "iopub.execute_input": "2024-11-05T04:49:40.978454Z",
     "iopub.status.busy": "2024-11-05T04:49:40.978322Z",
     "iopub.status.idle": "2024-11-05T04:49:41.269776Z",
     "shell.execute_reply": "2024-11-05T04:49:41.269450Z"
    }
   },
   "outputs": [],
   "source": [
    "#meta:tag=hide\n",
    "from functools import partial\n",
    "from nbdoc.showdoc import ShowDoc\n",
    "ShowDoc = partial(ShowDoc, module_nm='metaflow')\n",
    "\n",
    "from metaflow import retry"
   ]
  },
  {
   "cell_type": "code",
   "execution_count": 2,
   "id": "af50a6d2",
   "metadata": {
    "execution": {
     "iopub.execute_input": "2024-11-05T04:49:41.273139Z",
     "iopub.status.busy": "2024-11-05T04:49:41.272942Z",
     "iopub.status.idle": "2024-11-05T04:49:41.278607Z",
     "shell.execute_reply": "2024-11-05T04:49:41.278380Z"
    }
   },
   "outputs": [
    {
     "data": {
      "text/html": [
       "<HTMLRemove>\n",
       "<h3> <code>decorator</code> <span style=\"color:Brown\">@retry</span> <em>(...)</em><a href=\"https://github.com/Netflix/metaflow/tree/master/metaflow/plugins/retry_decorator.py#L6\" style=\"float:right\">[source]</a></h3><strong>metaflow</strong><p><blockquote>Specifies&nbsp;the&nbsp;number&nbsp;of&nbsp;times&nbsp;the&nbsp;task&nbsp;corresponding<br>to&nbsp;a&nbsp;step&nbsp;needs&nbsp;to&nbsp;be&nbsp;retried.<br><br>This&nbsp;decorator&nbsp;is&nbsp;useful&nbsp;for&nbsp;handling&nbsp;transient&nbsp;errors,&nbsp;such&nbsp;as&nbsp;networking&nbsp;issues.<br>If&nbsp;your&nbsp;task&nbsp;contains&nbsp;operations&nbsp;that&nbsp;can't&nbsp;be&nbsp;retried&nbsp;safely,&nbsp;e.g.&nbsp;database&nbsp;updates,<br>it&nbsp;is&nbsp;advisable&nbsp;to&nbsp;annotate&nbsp;it&nbsp;with&nbsp;`@retry(times=0)`.<br><br>This&nbsp;can&nbsp;be&nbsp;used&nbsp;in&nbsp;conjunction&nbsp;with&nbsp;the&nbsp;`@catch`&nbsp;decorator.&nbsp;The&nbsp;`@catch`<br>decorator&nbsp;will&nbsp;execute&nbsp;a&nbsp;no-op&nbsp;task&nbsp;after&nbsp;all&nbsp;retries&nbsp;have&nbsp;been&nbsp;exhausted,<br>ensuring&nbsp;that&nbsp;the&nbsp;flow&nbsp;execution&nbsp;can&nbsp;continue.<br><br>Parameters<br>----------<br>times&nbsp;:&nbsp;int,&nbsp;default&nbsp;3<br>&nbsp;&nbsp;&nbsp;&nbsp;Number&nbsp;of&nbsp;times&nbsp;to&nbsp;retry&nbsp;this&nbsp;task.<br>minutes_between_retries&nbsp;:&nbsp;int,&nbsp;default&nbsp;2<br>&nbsp;&nbsp;&nbsp;&nbsp;Number&nbsp;of&nbsp;minutes&nbsp;between&nbsp;retries.</blockquote></p>\n",
       "</HTMLRemove>\n",
       "<DocSection type=\"decorator\" name=\"retry\" module=\"metaflow\" show_import=\"True\" heading_level=\"3\" link=\"https://github.com/Netflix/metaflow/tree/master/metaflow/plugins/retry_decorator.py#L6\">\n",
       "<SigArgSection>\n",
       "<SigArg name=\"...\" />\n",
       "</SigArgSection>\n",
       "<Description summary=\"Specifies the number of times the task corresponding\\nto a step needs to be retried.\" extended_summary=\"This decorator is useful for handling transient errors, such as networking issues.\\nIf your task contains operations that can't be retried safely, e.g. database updates,\\nit is advisable to annotate it with `@retry(times=0)`.\\n\\nThis can be used in conjunction with the `@catch` decorator. The `@catch`\\ndecorator will execute a no-op task after all retries have been exhausted,\\nensuring that the flow execution can continue.\" />\n",
       "<ParamSection name=\"Parameters\">\n",
       "\t<Parameter name=\"times\" type=\"int, default 3\" desc=\"Number of times to retry this task.\" />\n",
       "\t<Parameter name=\"minutes_between_retries\" type=\"int, default 2\" desc=\"Number of minutes between retries.\" />\n",
       "</ParamSection>\n",
       "</DocSection>"
      ],
      "text/plain": [
       "<nbdoc.showdoc.ShowDoc at 0x110d02710>"
      ]
     },
     "execution_count": 2,
     "metadata": {},
     "output_type": "execute_result"
    }
   ],
   "source": [
    "ShowDoc(retry, skip_sections='Attributes', show_import=True)"
   ]
  },
  {
   "cell_type": "code",
   "execution_count": null,
   "id": "70b7a22c",
   "metadata": {},
   "outputs": [],
   "source": []
  }
 ],
 "metadata": {
  "kernelspec": {
   "display_name": "Python 3",
   "language": "python",
   "name": "python3"
  },
  "language_info": {
   "codemirror_mode": {
    "name": "ipython",
    "version": 3
   },
   "file_extension": ".py",
   "mimetype": "text/x-python",
   "name": "python",
   "nbconvert_exporter": "python",
   "pygments_lexer": "ipython3",
   "version": "3.10.13"
  }
 },
 "nbformat": 4,
 "nbformat_minor": 5
}
