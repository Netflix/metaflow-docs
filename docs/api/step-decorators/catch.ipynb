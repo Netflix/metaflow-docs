{
 "cells": [
  {
   "cell_type": "markdown",
   "id": "4cfff8e2",
   "metadata": {},
   "source": [
    "# @catch\n",
    "\n",
    "The `@catch` decorator ensures that a step will succeed, despite any errors in the user code or transient platform issues.\n",
    "\n",
    "It is best used in conjunction with the `@retry` decorator: After all retries have been exhausted, `@catch` executes a no-op task that allows the run to continue. For more information, see [Dealing with Failures](/scaling/failures)."
   ]
  },
  {
   "cell_type": "code",
   "execution_count": 1,
   "id": "627487a4",
   "metadata": {
    "execution": {
     "iopub.execute_input": "2024-11-05T04:49:42.168151Z",
     "iopub.status.busy": "2024-11-05T04:49:42.168052Z",
     "iopub.status.idle": "2024-11-05T04:49:42.448742Z",
     "shell.execute_reply": "2024-11-05T04:49:42.448433Z"
    }
   },
   "outputs": [],
   "source": [
    "#meta:tag=hide\n",
    "from functools import partial\n",
    "from nbdoc.showdoc import ShowDoc\n",
    "ShowDoc = partial(ShowDoc, module_nm='metaflow')\n",
    "\n",
    "from metaflow import catch"
   ]
  },
  {
   "cell_type": "code",
   "execution_count": 2,
   "id": "af50a6d2",
   "metadata": {
    "execution": {
     "iopub.execute_input": "2024-11-05T04:49:42.452347Z",
     "iopub.status.busy": "2024-11-05T04:49:42.452164Z",
     "iopub.status.idle": "2024-11-05T04:49:42.458855Z",
     "shell.execute_reply": "2024-11-05T04:49:42.458494Z"
    }
   },
   "outputs": [
    {
     "data": {
      "text/html": [
       "<HTMLRemove>\n",
       "<h3> <code>decorator</code> <span style=\"color:Brown\">@catch</span> <em>(...)</em><a href=\"https://github.com/Netflix/metaflow/tree/master/metaflow/plugins/catch_decorator.py#L22\" style=\"float:right\">[source]</a></h3><strong>metaflow</strong><p><blockquote>Specifies&nbsp;that&nbsp;the&nbsp;step&nbsp;will&nbsp;success&nbsp;under&nbsp;all&nbsp;circumstances.<br><br>The&nbsp;decorator&nbsp;will&nbsp;create&nbsp;an&nbsp;optional&nbsp;artifact,&nbsp;specified&nbsp;by&nbsp;`var`,&nbsp;which<br>contains&nbsp;the&nbsp;exception&nbsp;raised.&nbsp;You&nbsp;can&nbsp;use&nbsp;it&nbsp;to&nbsp;detect&nbsp;the&nbsp;presence<br>of&nbsp;errors,&nbsp;indicating&nbsp;that&nbsp;all&nbsp;happy-path&nbsp;artifacts&nbsp;produced&nbsp;by&nbsp;the&nbsp;step<br>are&nbsp;missing.<br><br>Parameters<br>----------<br>var&nbsp;:&nbsp;str,&nbsp;optional,&nbsp;default&nbsp;None<br>&nbsp;&nbsp;&nbsp;&nbsp;Name&nbsp;of&nbsp;the&nbsp;artifact&nbsp;in&nbsp;which&nbsp;to&nbsp;store&nbsp;the&nbsp;caught&nbsp;exception.<br>&nbsp;&nbsp;&nbsp;&nbsp;If&nbsp;not&nbsp;specified,&nbsp;the&nbsp;exception&nbsp;is&nbsp;not&nbsp;stored.<br>print_exception&nbsp;:&nbsp;bool,&nbsp;default&nbsp;True<br>&nbsp;&nbsp;&nbsp;&nbsp;Determines&nbsp;whether&nbsp;or&nbsp;not&nbsp;the&nbsp;exception&nbsp;is&nbsp;printed&nbsp;to<br>&nbsp;&nbsp;&nbsp;&nbsp;stdout&nbsp;when&nbsp;caught.</blockquote></p>\n",
       "</HTMLRemove>\n",
       "<DocSection type=\"decorator\" name=\"catch\" module=\"metaflow\" show_import=\"True\" heading_level=\"3\" link=\"https://github.com/Netflix/metaflow/tree/master/metaflow/plugins/catch_decorator.py#L22\">\n",
       "<SigArgSection>\n",
       "<SigArg name=\"...\" />\n",
       "</SigArgSection>\n",
       "<Description summary=\"Specifies that the step will success under all circumstances.\" extended_summary=\"The decorator will create an optional artifact, specified by `var`, which\\ncontains the exception raised. You can use it to detect the presence\\nof errors, indicating that all happy-path artifacts produced by the step\\nare missing.\" />\n",
       "<ParamSection name=\"Parameters\">\n",
       "\t<Parameter name=\"var\" type=\"str, optional, default None\" desc=\"Name of the artifact in which to store the caught exception.\\nIf not specified, the exception is not stored.\" />\n",
       "\t<Parameter name=\"print_exception\" type=\"bool, default True\" desc=\"Determines whether or not the exception is printed to\\nstdout when caught.\" />\n",
       "</ParamSection>\n",
       "</DocSection>"
      ],
      "text/plain": [
       "<nbdoc.showdoc.ShowDoc at 0x106102770>"
      ]
     },
     "execution_count": 2,
     "metadata": {},
     "output_type": "execute_result"
    }
   ],
   "source": [
    "ShowDoc(catch, skip_sections='Attributes', show_import=True)"
   ]
  },
  {
   "cell_type": "code",
   "execution_count": null,
   "id": "70b7a22c",
   "metadata": {},
   "outputs": [],
   "source": []
  }
 ],
 "metadata": {
  "kernelspec": {
   "display_name": "Python 3",
   "language": "python",
   "name": "python3"
  },
  "language_info": {
   "codemirror_mode": {
    "name": "ipython",
    "version": 3
   },
   "file_extension": ".py",
   "mimetype": "text/x-python",
   "name": "python",
   "nbconvert_exporter": "python",
   "pygments_lexer": "ipython3",
   "version": "3.10.13"
  }
 },
 "nbformat": 4,
 "nbformat_minor": 5
}
